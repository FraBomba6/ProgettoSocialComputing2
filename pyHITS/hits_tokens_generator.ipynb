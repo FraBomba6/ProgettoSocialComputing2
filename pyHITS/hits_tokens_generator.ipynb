{
 "cells": [
  {
   "cell_type": "code",
   "execution_count": 21,
   "metadata": {},
   "outputs": [],
   "source": [
    "import pandas as pd\n",
    "from IPython.display import display\n",
    "import random\n",
    "import itertools\n",
    "import json"
   ]
  },
  {
   "cell_type": "code",
   "execution_count": 22,
   "metadata": {},
   "outputs": [
    {
     "data": {
      "text/plain": "                                               title                  type  \\\n0  Le cronache di Narnia - Il leone, la strega e ...  Copertina flessibile   \n1  Le cronache di Narnia - Il leone, la strega e ...                Kindle   \n2  The Chronicles of Narnia - The Lion, the Witch...  Copertina flessibile   \n3                     Assassinio sull'Orient Express  Copertina flessibile   \n4                     Assassinio sull'Orient Express                Kindle   \n\n            author  pages  language   publisher  price  \\\n0       C.S. Lewis    180  Italiano   Mondadori  10,45   \n1       C.S. Lewis    148  Italiano   Mondadori   4,99   \n2       C.S. Lewis    206   Inglese  Harper USA   11,5   \n3  Agatha Christie    216  Italiano   Mondadori  12,82   \n4  Agatha Christie    239  Italiano   Mondadori   4,99   \n\n                                               cover  year  \n0  https://images-na.ssl-images-amazon.com/images...  2018  \n1  https://images-na.ssl-images-amazon.com/images...  2018  \n2  https://images-na.ssl-images-amazon.com/images...  2005  \n3  https://images-na.ssl-images-amazon.com/images...  2020  \n4  https://m.media-amazon.com/images/I/51fz-a0daG...  2014  ",
      "text/html": "<div>\n<style scoped>\n    .dataframe tbody tr th:only-of-type {\n        vertical-align: middle;\n    }\n\n    .dataframe tbody tr th {\n        vertical-align: top;\n    }\n\n    .dataframe thead th {\n        text-align: right;\n    }\n</style>\n<table border=\"1\" class=\"dataframe\">\n  <thead>\n    <tr style=\"text-align: right;\">\n      <th></th>\n      <th>title</th>\n      <th>type</th>\n      <th>author</th>\n      <th>pages</th>\n      <th>language</th>\n      <th>publisher</th>\n      <th>price</th>\n      <th>cover</th>\n      <th>year</th>\n    </tr>\n  </thead>\n  <tbody>\n    <tr>\n      <th>0</th>\n      <td>Le cronache di Narnia - Il leone, la strega e ...</td>\n      <td>Copertina flessibile</td>\n      <td>C.S. Lewis</td>\n      <td>180</td>\n      <td>Italiano</td>\n      <td>Mondadori</td>\n      <td>10,45</td>\n      <td>https://images-na.ssl-images-amazon.com/images...</td>\n      <td>2018</td>\n    </tr>\n    <tr>\n      <th>1</th>\n      <td>Le cronache di Narnia - Il leone, la strega e ...</td>\n      <td>Kindle</td>\n      <td>C.S. Lewis</td>\n      <td>148</td>\n      <td>Italiano</td>\n      <td>Mondadori</td>\n      <td>4,99</td>\n      <td>https://images-na.ssl-images-amazon.com/images...</td>\n      <td>2018</td>\n    </tr>\n    <tr>\n      <th>2</th>\n      <td>The Chronicles of Narnia - The Lion, the Witch...</td>\n      <td>Copertina flessibile</td>\n      <td>C.S. Lewis</td>\n      <td>206</td>\n      <td>Inglese</td>\n      <td>Harper USA</td>\n      <td>11,5</td>\n      <td>https://images-na.ssl-images-amazon.com/images...</td>\n      <td>2005</td>\n    </tr>\n    <tr>\n      <th>3</th>\n      <td>Assassinio sull'Orient Express</td>\n      <td>Copertina flessibile</td>\n      <td>Agatha Christie</td>\n      <td>216</td>\n      <td>Italiano</td>\n      <td>Mondadori</td>\n      <td>12,82</td>\n      <td>https://images-na.ssl-images-amazon.com/images...</td>\n      <td>2020</td>\n    </tr>\n    <tr>\n      <th>4</th>\n      <td>Assassinio sull'Orient Express</td>\n      <td>Kindle</td>\n      <td>Agatha Christie</td>\n      <td>239</td>\n      <td>Italiano</td>\n      <td>Mondadori</td>\n      <td>4,99</td>\n      <td>https://m.media-amazon.com/images/I/51fz-a0daG...</td>\n      <td>2014</td>\n    </tr>\n  </tbody>\n</table>\n</div>"
     },
     "metadata": {},
     "output_type": "display_data"
    }
   ],
   "source": [
    "df = pd.read_csv('./libri.csv', sep=';')\n",
    "display(df.head())"
   ]
  },
  {
   "cell_type": "code",
   "execution_count": 23,
   "outputs": [],
   "source": [
    "units = []\n",
    "for index, row in df.iterrows():\n",
    "    unit = {\n",
    "        \"title\": row['title'],\n",
    "        \"author\": row['author'],\n",
    "        \"type\": row['type'],\n",
    "        \"pages\": row[\"pages\"],\n",
    "        \"language\": row[\"language\"],\n",
    "        \"publisher\": row[\"publisher\"],\n",
    "        \"price\": row[\"price\"],\n",
    "        \"cover\": row[\"cover\"],\n",
    "        \"year\": row[\"year\"]\n",
    "    }\n",
    "    units.append(unit)"
   ],
   "metadata": {
    "collapsed": false,
    "pycharm": {
     "name": "#%%\n"
    }
   }
  },
  {
   "cell_type": "code",
   "execution_count": 24,
   "metadata": {},
   "outputs": [],
   "source": [
    "n_hits = 6\n",
    "# arrangements = list(itertools.product(list(range(3)), repeat=3))\n",
    "arrangements = list(itertools.permutations(range(3)))\n",
    "random.shuffle(arrangements)\n",
    "# arrangements = random.sample(arrangements, n_hits)"
   ]
  },
  {
   "cell_type": "code",
   "execution_count": 25,
   "metadata": {
    "scrolled": true
   },
   "outputs": [],
   "source": [
    "def serialize_json(filename, data):\n",
    "        with open(f\"{filename}\", \"w\", encoding=\"utf8\") as f:\n",
    "            json.dump(data, f, ensure_ascii=False, indent=4)\n",
    "            print(f\"Data serialized to path: {filename}\")"
   ]
  },
  {
   "cell_type": "code",
   "execution_count": 26,
   "outputs": [],
   "source": [
    "import string\n",
    "def randomString(stringLength=10):\n",
    "    \"\"\"Generate a random string of fixed length \"\"\"\n",
    "    letters = string.ascii_uppercase\n",
    "    return ''.join(random.choice(letters) for i in range(stringLength))"
   ],
   "metadata": {
    "collapsed": false,
    "pycharm": {
     "name": "#%%\n"
    }
   }
  },
  {
   "cell_type": "code",
   "execution_count": 27,
   "outputs": [
    {
     "name": "stdout",
     "output_type": "stream",
     "text": [
      "Data serialized to path: ./hits.json\n",
      "Data serialized to path: ./tokens.json\n"
     ]
    }
   ],
   "source": [
    "tokens = []\n",
    "hits = []\n",
    "for i in range(0, n_hits):\n",
    "    tin = randomString()\n",
    "    tout = randomString()\n",
    "    hit = {\n",
    "        \"unit_id\": f\"unit_{i}\",\n",
    "        \"token_input\": tin,\n",
    "        \"token_output\": tout,\n",
    "        \"documents\": [units[arrangements[i][0]*3], units[arrangements[i][1]*3 + 1], units[arrangements[i][2]*3 + 2]]\n",
    "    }\n",
    "    hits.append(hit)\n",
    "    token = {\n",
    "        \"token_input\": tin,\n",
    "        \"token_output\": tout\n",
    "    }\n",
    "    tokens.append(token)\n",
    "\n",
    "serialize_json(\"./hits.json\", hits)\n",
    "serialize_json(\"./tokens.json\", tokens)"
   ],
   "metadata": {
    "collapsed": false,
    "pycharm": {
     "name": "#%%\n"
    }
   }
  }
 ],
 "metadata": {
  "kernelspec": {
   "display_name": "Python 3",
   "language": "python",
   "name": "python3"
  },
  "language_info": {
   "codemirror_mode": {
    "name": "ipython",
    "version": 3
   },
   "file_extension": ".py",
   "mimetype": "text/x-python",
   "name": "python",
   "nbconvert_exporter": "python",
   "pygments_lexer": "ipython3",
   "version": "3.7.3"
  }
 },
 "nbformat": 4,
 "nbformat_minor": 2
}