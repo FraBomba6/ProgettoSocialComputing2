{
 "cells": [
  {
   "cell_type": "code",
   "execution_count": 2,
   "metadata": {},
   "outputs": [],
   "source": [
    "import pandas as pd\n",
    "from IPython.display import display\n",
    "import random\n",
    "import itertools\n",
    "import json"
   ]
  },
  {
   "cell_type": "code",
   "execution_count": 13,
   "metadata": {},
   "outputs": [
    {
     "data": {
      "text/plain": "                                               title          author  pages  \\\n0                              The Lord of the Rings  J.R.R. Tolkien   1031   \n1                              The Lord of the Rings  J.R.R. Tolkien   1664   \n2              The Lord of the Rings(Kindle Edition)  J.R.R. Tolkien   1220   \n3  Harry Potter and the Sorcerer's Stone(Kindle E...    J.K. Rowling    256   \n4             Harry Potter and the Sorcerer's Stone     J.K. Rowling    223   \n\n                      publisher     price  \\\n0                Harper Collins   $28.91    \n1                Harper Collins   $99.99    \n2     Houghton Mifflin Harcourt   $16.99    \n3  Pottermore from J.K. Rowling    $9.99    \n4         Bloomsbury Publishing    $7.85    \n\n                                               cover  year  \n0  https://i.gr-assets.com/images/S/compressed.ph...  2004  \n1  https://i.gr-assets.com/images/S/compressed.ph...  2012  \n2  https://i.gr-assets.com/images/S/compressed.ph...  2012  \n3  https://i.gr-assets.com/images/S/compressed.ph...  2017  \n4  https://i.gr-assets.com/images/S/compressed.ph...  2000  ",
      "text/html": "<div>\n<style scoped>\n    .dataframe tbody tr th:only-of-type {\n        vertical-align: middle;\n    }\n\n    .dataframe tbody tr th {\n        vertical-align: top;\n    }\n\n    .dataframe thead th {\n        text-align: right;\n    }\n</style>\n<table border=\"1\" class=\"dataframe\">\n  <thead>\n    <tr style=\"text-align: right;\">\n      <th></th>\n      <th>title</th>\n      <th>author</th>\n      <th>pages</th>\n      <th>publisher</th>\n      <th>price</th>\n      <th>cover</th>\n      <th>year</th>\n    </tr>\n  </thead>\n  <tbody>\n    <tr>\n      <th>0</th>\n      <td>The Lord of the Rings</td>\n      <td>J.R.R. Tolkien</td>\n      <td>1031</td>\n      <td>Harper Collins</td>\n      <td>$28.91</td>\n      <td>https://i.gr-assets.com/images/S/compressed.ph...</td>\n      <td>2004</td>\n    </tr>\n    <tr>\n      <th>1</th>\n      <td>The Lord of the Rings</td>\n      <td>J.R.R. Tolkien</td>\n      <td>1664</td>\n      <td>Harper Collins</td>\n      <td>$99.99</td>\n      <td>https://i.gr-assets.com/images/S/compressed.ph...</td>\n      <td>2012</td>\n    </tr>\n    <tr>\n      <th>2</th>\n      <td>The Lord of the Rings(Kindle Edition)</td>\n      <td>J.R.R. Tolkien</td>\n      <td>1220</td>\n      <td>Houghton Mifflin Harcourt</td>\n      <td>$16.99</td>\n      <td>https://i.gr-assets.com/images/S/compressed.ph...</td>\n      <td>2012</td>\n    </tr>\n    <tr>\n      <th>3</th>\n      <td>Harry Potter and the Sorcerer's Stone(Kindle E...</td>\n      <td>J.K. Rowling</td>\n      <td>256</td>\n      <td>Pottermore from J.K. Rowling</td>\n      <td>$9.99</td>\n      <td>https://i.gr-assets.com/images/S/compressed.ph...</td>\n      <td>2017</td>\n    </tr>\n    <tr>\n      <th>4</th>\n      <td>Harry Potter and the Sorcerer's Stone</td>\n      <td>J.K. Rowling</td>\n      <td>223</td>\n      <td>Bloomsbury Publishing</td>\n      <td>$7.85</td>\n      <td>https://i.gr-assets.com/images/S/compressed.ph...</td>\n      <td>2000</td>\n    </tr>\n  </tbody>\n</table>\n</div>"
     },
     "metadata": {},
     "output_type": "display_data"
    }
   ],
   "source": [
    "df = pd.read_csv('./libri.csv', sep=',')\n",
    "display(df.head())"
   ]
  },
  {
   "cell_type": "code",
   "execution_count": 33,
   "outputs": [],
   "source": [
    "units = []\n",
    "for index, row in df.iterrows():\n",
    "    unit = {\n",
    "        \"title\": row['title'],\n",
    "        \"author\": row['author'],\n",
    "        \"pages\": row[\"pages\"],\n",
    "        \"publisher\": row[\"publisher\"],\n",
    "        \"price\": row[\"price\"],\n",
    "        \"cover\": row[\"cover\"],\n",
    "        \"year\": row[\"year\"]\n",
    "    }\n",
    "    units.append(unit)"
   ],
   "metadata": {
    "collapsed": false,
    "pycharm": {
     "name": "#%%\n"
    }
   }
  },
  {
   "cell_type": "code",
   "execution_count": 29,
   "metadata": {},
   "outputs": [],
   "source": [
    "n_hits = 6\n",
    "arrangements = list(itertools.product(list(range(3)), repeat=3))\n",
    "random.shuffle(arrangements)\n",
    "arrangements = random.sample(arrangements, n_hits)"
   ]
  },
  {
   "cell_type": "code",
   "execution_count": 30,
   "metadata": {
    "scrolled": true
   },
   "outputs": [],
   "source": [
    "def serialize_json(filename, data):\n",
    "        with open(f\"{filename}\", \"w\", encoding=\"utf8\") as f:\n",
    "            json.dump(data, f, ensure_ascii=False, indent=4)\n",
    "            print(f\"Data serialized to path: {filename}\")"
   ]
  },
  {
   "cell_type": "code",
   "execution_count": 31,
   "outputs": [],
   "source": [
    "import string\n",
    "def randomString(stringLength=10):\n",
    "    \"\"\"Generate a random string of fixed length \"\"\"\n",
    "    letters = string.ascii_uppercase\n",
    "    return ''.join(random.choice(letters) for i in range(stringLength))"
   ],
   "metadata": {
    "collapsed": false,
    "pycharm": {
     "name": "#%%\n"
    }
   }
  },
  {
   "cell_type": "code",
   "execution_count": 36,
   "outputs": [
    {
     "name": "stdout",
     "output_type": "stream",
     "text": [
      "Data serialized to path: ./hits.json\n",
      "Data serialized to path: ./tokens.json\n"
     ]
    }
   ],
   "source": [
    "tokens = []\n",
    "hits = []\n",
    "for i in range(0, n_hits):\n",
    "    tin = randomString()\n",
    "    tout = randomString()\n",
    "    hit = {\n",
    "        \"unit_id\": f\"unit_{i}\",\n",
    "        \"token_input\": tin,\n",
    "        \"token_output\": tout,\n",
    "        \"documents\": [units[arrangements[i][0]], units[arrangements[i][1]+3], units[arrangements[i][2]+6]]\n",
    "    }\n",
    "    hits.append(hit)\n",
    "    token = {\n",
    "        \"token_input\": tin,\n",
    "        \"token_output\": tout\n",
    "    }\n",
    "    tokens.append(token)\n",
    "\n",
    "serialize_json(\"./hits.json\", hits)\n",
    "serialize_json(\"./tokens.json\", tokens)"
   ],
   "metadata": {
    "collapsed": false,
    "pycharm": {
     "name": "#%%\n"
    }
   }
  }
 ],
 "metadata": {
  "kernelspec": {
   "display_name": "Python 3",
   "language": "python",
   "name": "python3"
  },
  "language_info": {
   "codemirror_mode": {
    "name": "ipython",
    "version": 3
   },
   "file_extension": ".py",
   "mimetype": "text/x-python",
   "name": "python",
   "nbconvert_exporter": "python",
   "pygments_lexer": "ipython3",
   "version": "3.7.3"
  }
 },
 "nbformat": 4,
 "nbformat_minor": 2
}