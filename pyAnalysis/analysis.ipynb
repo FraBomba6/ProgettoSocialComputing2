{
 "cells": [
  {
   "cell_type": "code",
   "execution_count": 16,
   "metadata": {
    "collapsed": true
   },
   "outputs": [
    {
     "name": "stdout",
     "output_type": "stream",
     "text": [
      "Modules imported!\n"
     ]
    }
   ],
   "source": [
    "import json\n",
    "import os\n",
    "print(\"Modules imported!\")"
   ]
  },
  {
   "cell_type": "code",
   "execution_count": 17,
   "outputs": [
    {
     "name": "stdout",
     "output_type": "stream",
     "text": [
      "Functions ready!\n"
     ]
    }
   ],
   "source": [
    "def read_json(file_path):\n",
    "    if os.path.exists(file_path):\n",
    "        with open(file_path, \"r\", encoding=\"utf8\") as file:\n",
    "            data = json.load(file)\n",
    "        print(f\"Data read from path: {file_path}\")\n",
    "        return data\n",
    "    else:\n",
    "        print(f\"No data found at path: {file_path}\")\n",
    "        return {}\n",
    "\n",
    "def serialize_json(filename, data):\n",
    "    with open(filename, \"w\", encoding=\"utf8\") as f:\n",
    "        json.dump(data, f, ensure_ascii=False, indent=4)\n",
    "        print(f\"Data serialized to path: {filename}\")\n",
    "\n",
    "print(\"Functions ready!\")"
   ],
   "metadata": {
    "collapsed": false,
    "pycharm": {
     "name": "#%%\n"
    }
   }
  },
  {
   "cell_type": "code",
   "execution_count": 18,
   "outputs": [
    {
     "name": "stdout",
     "output_type": "stream",
     "text": [
      "Data read from path: ../Data/ATCOU/data_try_1.json\n",
      "Data read from path: ../Data/ATCOU\\doc_1_try_1_acc_1_seq_1.json\n",
      "Data read from path: ../Data/ATCOU\\doc_2_try_1_acc_1_seq_2.json\n",
      "Data read from path: ../Data/ATCOU\\doc_2_try_1_acc_2_seq_5.json\n",
      "Data read from path: ../Data/ATCOU\\doc_3_try_1_acc_1_seq_3.json\n",
      "Data read from path: ../Data/ATCOU\\doc_3_try_1_acc_2_seq_6.json\n",
      "Data read from path: ../Data/ATCOU\\quest_0_try_1_acc_1_seq_0.json\n",
      "Data serialized to path: ../Data/ATCOU/data_try_1.json\n",
      "Data read from path: ../Data/BOJHZ/data_try_1.json\n",
      "Data read from path: ../Data/BOJHZ\\doc_1_try_1_acc_1_seq_1.json\n",
      "Data read from path: ../Data/BOJHZ\\doc_2_try_1_acc_1_seq_2.json\n",
      "Data read from path: ../Data/BOJHZ\\doc_3_try_1_acc_1_seq_3.json\n",
      "Data read from path: ../Data/BOJHZ\\quest_0_try_1_acc_1_seq_0.json\n",
      "Data serialized to path: ../Data/BOJHZ/data_try_1.json\n",
      "Data read from path: ../Data/DJTWC/data_try_1.json\n",
      "Data read from path: ../Data/DJTWC\\doc_1_try_1_acc_1_seq_1.json\n",
      "Data read from path: ../Data/DJTWC\\doc_2_try_1_acc_1_seq_2.json\n",
      "Data read from path: ../Data/DJTWC\\doc_3_try_1_acc_1_seq_3.json\n",
      "Data read from path: ../Data/DJTWC\\quest_0_try_1_acc_1_seq_0.json\n",
      "Data serialized to path: ../Data/DJTWC/data_try_1.json\n",
      "Data read from path: ../Data/EOTDA/data_try_1.json\n",
      "Data read from path: ../Data/EOTDA\\doc_1_try_1_acc_1_seq_1.json\n",
      "Data read from path: ../Data/EOTDA\\doc_2_try_1_acc_1_seq_2.json\n",
      "Data read from path: ../Data/EOTDA\\doc_3_try_1_acc_1_seq_3.json\n",
      "Data read from path: ../Data/EOTDA\\quest_0_try_1_acc_1_seq_0.json\n",
      "Data serialized to path: ../Data/EOTDA/data_try_1.json\n",
      "Data read from path: ../Data/FLXYV/data_try_1.json\n",
      "Data read from path: ../Data/FLXYV\\doc_1_try_1_acc_1_seq_1.json\n",
      "Data read from path: ../Data/FLXYV\\doc_2_try_1_acc_1_seq_2.json\n",
      "Data read from path: ../Data/FLXYV\\doc_3_try_1_acc_1_seq_3.json\n",
      "Data read from path: ../Data/FLXYV\\quest_0_try_1_acc_1_seq_0.json\n",
      "Data serialized to path: ../Data/FLXYV/data_try_1.json\n",
      "Data read from path: ../Data/HQWLU/data_try_1.json\n",
      "Data read from path: ../Data/HQWLU\\doc_1_try_1_acc_1_seq_1.json\n",
      "Data read from path: ../Data/HQWLU\\doc_1_try_1_acc_2_seq_6.json\n",
      "Data read from path: ../Data/HQWLU\\doc_1_try_1_acc_3_seq_11.json\n",
      "Data read from path: ../Data/HQWLU\\doc_2_try_1_acc_1_seq_2.json\n",
      "Data read from path: ../Data/HQWLU\\doc_2_try_1_acc_2_seq_5.json\n",
      "Data read from path: ../Data/HQWLU\\doc_2_try_1_acc_3_seq_7.json\n",
      "Data read from path: ../Data/HQWLU\\doc_2_try_1_acc_4_seq_10.json\n",
      "Data read from path: ../Data/HQWLU\\doc_2_try_1_acc_5_seq_12.json\n",
      "Data read from path: ../Data/HQWLU\\doc_3_try_1_acc_1_seq_3.json\n",
      "Data read from path: ../Data/HQWLU\\doc_3_try_1_acc_2_seq_8.json\n",
      "Data read from path: ../Data/HQWLU\\doc_3_try_1_acc_3_seq_13.json\n",
      "Data read from path: ../Data/HQWLU\\quest_0_try_1_acc_1_seq_0.json\n",
      "Data serialized to path: ../Data/HQWLU/data_try_1.json\n",
      "Data read from path: ../Data/JQJWV/data_try_1.json\n",
      "Data read from path: ../Data/JQJWV\\doc_1_try_1_acc_1_seq_1.json\n",
      "Data read from path: ../Data/JQJWV\\doc_2_try_1_acc_1_seq_2.json\n",
      "Data read from path: ../Data/JQJWV\\doc_3_try_1_acc_1_seq_3.json\n",
      "Data read from path: ../Data/JQJWV\\quest_0_try_1_acc_1_seq_0.json\n",
      "Data serialized to path: ../Data/JQJWV/data_try_1.json\n",
      "Data read from path: ../Data/KAHOD/data_try_1.json\n",
      "Data read from path: ../Data/KAHOD\\doc_1_try_1_acc_1_seq_1.json\n",
      "Data read from path: ../Data/KAHOD\\doc_2_try_1_acc_1_seq_2.json\n",
      "Data read from path: ../Data/KAHOD\\doc_3_try_1_acc_1_seq_3.json\n",
      "Data read from path: ../Data/KAHOD\\quest_0_try_1_acc_1_seq_0.json\n",
      "Data serialized to path: ../Data/KAHOD/data_try_1.json\n",
      "Data read from path: ../Data/KDOFG/data_try_1.json\n",
      "Data read from path: ../Data/KDOFG\\doc_1_try_1_acc_1_seq_1.json\n",
      "Data read from path: ../Data/KDOFG\\doc_2_try_1_acc_1_seq_2.json\n",
      "Data read from path: ../Data/KDOFG\\doc_3_try_1_acc_1_seq_3.json\n",
      "Data read from path: ../Data/KDOFG\\quest_0_try_1_acc_1_seq_0.json\n",
      "Data serialized to path: ../Data/KDOFG/data_try_1.json\n",
      "Data read from path: ../Data/LZZBM/data_try_1.json\n",
      "Data read from path: ../Data/LZZBM\\doc_1_try_1_acc_1_seq_1.json\n",
      "Data read from path: ../Data/LZZBM\\doc_2_try_1_acc_1_seq_2.json\n",
      "Data read from path: ../Data/LZZBM\\doc_3_try_1_acc_1_seq_3.json\n",
      "Data read from path: ../Data/LZZBM\\quest_0_try_1_acc_1_seq_0.json\n",
      "Data serialized to path: ../Data/LZZBM/data_try_1.json\n",
      "Data read from path: ../Data/MLENI/data_try_1.json\n",
      "Data read from path: ../Data/MLENI\\doc_1_try_1_acc_1_seq_1.json\n",
      "Data read from path: ../Data/MLENI\\doc_2_try_1_acc_1_seq_2.json\n",
      "Data read from path: ../Data/MLENI\\doc_3_try_1_acc_1_seq_3.json\n",
      "Data read from path: ../Data/MLENI\\quest_0_try_1_acc_1_seq_0.json\n",
      "Data serialized to path: ../Data/MLENI/data_try_1.json\n",
      "Data read from path: ../Data/UPVVU/data_try_1.json\n",
      "Data read from path: ../Data/UPVVU\\doc_1_try_1_acc_1_seq_1.json\n",
      "Data read from path: ../Data/UPVVU\\doc_2_try_1_acc_1_seq_2.json\n",
      "Data read from path: ../Data/UPVVU\\doc_3_try_1_acc_1_seq_3.json\n",
      "Data read from path: ../Data/UPVVU\\quest_0_try_1_acc_1_seq_0.json\n",
      "Data serialized to path: ../Data/UPVVU/data_try_1.json\n",
      "Data read from path: ../Data/VKFXZ/data_try_1.json\n",
      "Data read from path: ../Data/VKFXZ\\doc_1_try_1_acc_1_seq_1.json\n",
      "Data read from path: ../Data/VKFXZ\\doc_2_try_1_acc_1_seq_2.json\n",
      "Data read from path: ../Data/VKFXZ\\doc_2_try_1_acc_2_seq_5.json\n",
      "Data read from path: ../Data/VKFXZ\\doc_3_try_1_acc_1_seq_3.json\n",
      "Data read from path: ../Data/VKFXZ\\doc_3_try_1_acc_2_seq_6.json\n",
      "Data read from path: ../Data/VKFXZ\\quest_0_try_1_acc_1_seq_0.json\n",
      "Data serialized to path: ../Data/VKFXZ/data_try_1.json\n",
      "Data read from path: ../Data/VNPSK/data_try_1.json\n",
      "Data read from path: ../Data/VNPSK\\doc_1_try_1_acc_1_seq_1.json\n",
      "Data read from path: ../Data/VNPSK\\doc_2_try_1_acc_1_seq_2.json\n",
      "Data read from path: ../Data/VNPSK\\doc_3_try_1_acc_1_seq_3.json\n",
      "Data read from path: ../Data/VNPSK\\quest_0_try_1_acc_1_seq_0.json\n",
      "Data serialized to path: ../Data/VNPSK/data_try_1.json\n",
      "Data read from path: ../Data/VXCGS/data_try_1.json\n",
      "Data read from path: ../Data/VXCGS\\doc_1_try_1_acc_1_seq_1.json\n",
      "Data read from path: ../Data/VXCGS\\doc_1_try_1_acc_2_seq_6.json\n",
      "Data read from path: ../Data/VXCGS\\doc_2_try_1_acc_1_seq_2.json\n",
      "Data read from path: ../Data/VXCGS\\doc_2_try_1_acc_2_seq_5.json\n",
      "Data read from path: ../Data/VXCGS\\doc_2_try_1_acc_3_seq_7.json\n",
      "Data read from path: ../Data/VXCGS\\doc_3_try_1_acc_1_seq_3.json\n",
      "Data read from path: ../Data/VXCGS\\doc_3_try_1_acc_2_seq_8.json\n",
      "Data read from path: ../Data/VXCGS\\quest_0_try_1_acc_1_seq_0.json\n",
      "Data serialized to path: ../Data/VXCGS/data_try_1.json\n",
      "Data read from path: ../Data/ZLAXX/data_try_1.json\n",
      "Data read from path: ../Data/ZLAXX\\doc_1_try_1_acc_1_seq_1.json\n",
      "Data read from path: ../Data/ZLAXX\\doc_2_try_1_acc_1_seq_2.json\n",
      "Data read from path: ../Data/ZLAXX\\doc_3_try_1_acc_1_seq_3.json\n",
      "Data read from path: ../Data/ZLAXX\\quest_0_try_1_acc_1_seq_0.json\n",
      "Data serialized to path: ../Data/ZLAXX/data_try_1.json\n"
     ]
    }
   ],
   "source": [
    "# Data correction: there was a bug in the given framework causing timestamps in data_try_{n}.json to be wrong\n",
    "\n",
    "for workerDir in os.scandir('../Data/'):\n",
    "    data_try = read_json(workerDir.path + \"/data_try_1.json\")\n",
    "    for workerJson in os.scandir(workerDir.path):\n",
    "        if workerJson.name.startswith('quest') or workerJson.name.startswith('doc'):\n",
    "            sourceJson = read_json(workerJson.path)\n",
    "            if workerJson.name.startswith('quest'):\n",
    "                data_try['timestamps_end'][0][0] = sourceJson['timestamps_end'][0]\n",
    "                data_try['timestamps_elapsed'][0][0] = sourceJson['timestamps_elapsed']\n",
    "            else:\n",
    "                workerJson_split = workerJson.name.split('_')\n",
    "                docIndex = int(workerJson_split[1])\n",
    "                docTry = int(workerJson_split[5])\n",
    "                data_try['timestamps_end'][docIndex][docTry - 1] = sourceJson['timestamps_end'][docTry - 1]\n",
    "                data_try['timestamps_elapsed'][docIndex][docTry - 1] = sourceJson['timestamps_elapsed']\n",
    "    serialize_json(workerDir.path + \"/data_try_1.json\", data_try)"
   ],
   "metadata": {
    "collapsed": false,
    "pycharm": {
     "name": "#%%\n"
    }
   }
  },
  {
   "cell_type": "code",
   "execution_count": 24,
   "outputs": [
    {
     "name": "stdout",
     "output_type": "stream",
     "text": [
      "Data read from path: ../Data/ATCOU/task_data.json\n",
      "Data read from path: ../Data/ATCOU/data_try_1.json\n"
     ]
    },
    {
     "ename": "ValueError",
     "evalue": "too many values to unpack (expected 2)",
     "output_type": "error",
     "traceback": [
      "\u001B[1;31m---------------------------------------------------------------------------\u001B[0m",
      "\u001B[1;31mValueError\u001B[0m                                Traceback (most recent call last)",
      "\u001B[1;32m<ipython-input-24-4794c7508cad>\u001B[0m in \u001B[0;36m<module>\u001B[1;34m\u001B[0m\n\u001B[0;32m     12\u001B[0m         \u001B[0mdevice\u001B[0m \u001B[1;33m=\u001B[0m \u001B[0mtask_data\u001B[0m\u001B[1;33m[\u001B[0m\u001B[1;34m\"worker\"\u001B[0m\u001B[1;33m]\u001B[0m\u001B[1;33m[\u001B[0m\u001B[1;34m'ngxDeviceDetectorProperties'\u001B[0m\u001B[1;33m]\u001B[0m\u001B[1;33m[\u001B[0m\u001B[1;34m\"os\"\u001B[0m\u001B[1;33m]\u001B[0m\u001B[1;33m\u001B[0m\u001B[1;33m\u001B[0m\u001B[0m\n\u001B[0;32m     13\u001B[0m     \u001B[0mworkerInfo\u001B[0m \u001B[1;33m=\u001B[0m \u001B[1;33m{\u001B[0m\u001B[1;33m}\u001B[0m\u001B[1;33m\u001B[0m\u001B[1;33m\u001B[0m\u001B[0m\n\u001B[1;32m---> 14\u001B[1;33m     \u001B[1;32mfor\u001B[0m \u001B[0mkey\u001B[0m\u001B[1;33m,\u001B[0m \u001B[0mvalue\u001B[0m \u001B[1;32min\u001B[0m \u001B[0mdata_try\u001B[0m\u001B[1;33m[\u001B[0m\u001B[1;34m'questionnaires_answers'\u001B[0m\u001B[1;33m]\u001B[0m\u001B[1;33m[\u001B[0m\u001B[1;36m0\u001B[0m\u001B[1;33m]\u001B[0m\u001B[1;33m:\u001B[0m\u001B[1;33m\u001B[0m\u001B[1;33m\u001B[0m\u001B[0m\n\u001B[0m\u001B[0;32m     15\u001B[0m         \u001B[0mworkerInfo\u001B[0m\u001B[1;33m[\u001B[0m\u001B[0mkey\u001B[0m\u001B[1;33m]\u001B[0m \u001B[1;33m=\u001B[0m \u001B[0mreformatQuest\u001B[0m\u001B[1;33m[\u001B[0m\u001B[0mkey\u001B[0m\u001B[1;33m]\u001B[0m\u001B[1;33m[\u001B[0m\u001B[0mvalue\u001B[0m\u001B[1;33m]\u001B[0m\u001B[1;33m\u001B[0m\u001B[1;33m\u001B[0m\u001B[0m\n\u001B[0;32m     16\u001B[0m     \u001B[0mworkerInfoList\u001B[0m\u001B[1;33m.\u001B[0m\u001B[0mappend\u001B[0m\u001B[1;33m(\u001B[0m\u001B[0mworkerInfo\u001B[0m\u001B[1;33m)\u001B[0m\u001B[1;33m\u001B[0m\u001B[1;33m\u001B[0m\u001B[0m\n",
      "\u001B[1;31mValueError\u001B[0m: too many values to unpack (expected 2)"
     ]
    }
   ],
   "source": [
    "# Worker analysis\n",
    "workerInfoList = []\n",
    "for workerDir in os.scandir('../Data/'):\n",
    "    task_data = read_json(workerDir.path + \"/task_data.json\")\n",
    "    data_try = read_json(workerDir.path + \"/data_try_1.json\")\n",
    "    questionnaire = task_data['questionnaires'][0]['questions']\n",
    "    reformatQuest = {}\n",
    "    for question in questionnaire:\n",
    "        reformatQuest[question['name']] = question['answers']\n",
    "    device = task_data[\"worker\"]['ngxDeviceDetectorProperties'][\"device\"]\n",
    "    if device == 'Unknown':\n",
    "        device = task_data[\"worker\"]['ngxDeviceDetectorProperties'][\"os\"]\n",
    "    workerInfo = {}\n",
    "    for key, value in data_try['questionnaires_answers'][0]:\n",
    "        workerInfo[key] = reformatQuest[key][value]\n",
    "    workerInfoList.append(workerInfo)"
   ],
   "metadata": {
    "collapsed": false,
    "pycharm": {
     "name": "#%%\n"
    }
   }
  }
 ],
 "metadata": {
  "kernelspec": {
   "display_name": "Python 3",
   "language": "python",
   "name": "python3"
  },
  "language_info": {
   "codemirror_mode": {
    "name": "ipython",
    "version": 2
   },
   "file_extension": ".py",
   "mimetype": "text/x-python",
   "name": "python",
   "nbconvert_exporter": "python",
   "pygments_lexer": "ipython2",
   "version": "2.7.6"
  }
 },
 "nbformat": 4,
 "nbformat_minor": 0
}