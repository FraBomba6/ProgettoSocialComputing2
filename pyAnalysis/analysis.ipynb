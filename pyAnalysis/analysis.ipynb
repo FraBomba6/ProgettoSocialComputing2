{
 "cells": [
  {
   "cell_type": "code",
   "execution_count": 56,
   "metadata": {},
   "outputs": [
    {
     "output_type": "stream",
     "name": "stdout",
     "text": [
      "Modules imported!\n"
     ]
    }
   ],
   "source": [
    "import pandas as pd\n",
    "import plotly.express as px\n",
    "import plotly.graph_objects as go\n",
    "from collections import Counter\n",
    "#import matplotlib.pyplot as plt\n",
    "import numpy as np\n",
    "import json\n",
    "import os\n",
    "from IPython.core.display import display\n",
    "print(\"Modules imported!\")"
   ]
  },
  {
   "cell_type": "code",
   "execution_count": 57,
   "metadata": {
    "collapsed": false,
    "jupyter": {
     "outputs_hidden": false
    },
    "pycharm": {
     "name": "#%%\n"
    }
   },
   "outputs": [],
   "source": [
    "def read_json(file_path):\n",
    "    if os.path.exists(file_path):\n",
    "        with open(file_path, \"r\", encoding=\"utf8\") as file:\n",
    "            data = json.load(file)\n",
    "        # print(f\"Data read from path: {file_path}\")\n",
    "        return data\n",
    "    else:\n",
    "        print(f\"No data found at path: {file_path}\")\n",
    "        return {}\n",
    "\n",
    "def serialize_json(filename, data):\n",
    "    with open(filename, \"w\", encoding=\"utf8\") as f:\n",
    "        json.dump(data, f, ensure_ascii=False, indent=4)\n",
    "        #print(f\"Data serialized to path: {filename}\")"
   ]
  },
  {
   "cell_type": "code",
   "execution_count": 58,
   "metadata": {
    "collapsed": false,
    "jupyter": {
     "outputs_hidden": false
    },
    "pycharm": {
     "name": "#%%\n"
    }
   },
   "outputs": [],
   "source": [
    "# Data correction: there was a bug in the given framework causing timestamps in data_try_{n}.json to be wrong\n",
    "\n",
    "# for workerDir in os.scandir('../Data/'):\n",
    "#     if workerDir.name in ['ATCOU', 'BOJHZ', 'DJTWC', 'EOTDA', 'FLXYV', 'HQWLU', 'JQJWV', 'KAHOD', 'KDOFG', 'LZZBM', 'MLENI', 'UPVVU', 'VKFXZ', 'VNPSK', 'VXCGS', 'ZLAXX']:\n",
    "#         data_try = read_json(workerDir.path + \"/data_try_1.json\")\n",
    "#         for workerJson in os.scandir(workerDir.path):\n",
    "#             if workerJson.name.startswith('quest') or workerJson.name.startswith('doc'):\n",
    "#                 sourceJson = read_json(workerJson.path)\n",
    "#                 if workerJson.name.startswith('quest'):\n",
    "#                     data_try['timestamps_end'][0][0] = sourceJson['timestamps_end'][0]\n",
    "#                     data_try['timestamps_elapsed'][0][0] = sourceJson['timestamps_elapsed']\n",
    "#                 else:\n",
    "#                     workerJson_split = workerJson.name.split('_')\n",
    "#                     docIndex = int(workerJson_split[1])\n",
    "#                     docTry = int(workerJson_split[5])\n",
    "#                     data_try['timestamps_end'][docIndex][docTry - 1] = sourceJson['timestamps_end'][docTry - 1]\n",
    "#                     data_try['timestamps_elapsed'][docIndex][docTry - 1] = sourceJson['timestamps_elapsed']\n",
    "#         serialize_json(workerDir.path + \"/data_try_1.json\", data_try)\n",
    "# for workerDir in os.scandir('../Data/'):\n",
    "#     if workerDir.name in ['ATCOU', 'BOJHZ', 'DJTWC', 'EOTDA', 'FLXYV', 'HQWLU', 'JQJWV', 'KAHOD', 'KDOFG', 'LZZBM', 'MLENI', 'UPVVU', 'VKFXZ', 'VNPSK', 'VXCGS', 'ZLAXX']:\n",
    "#         data_try = read_json(workerDir.path + \"/data_try_1.json\")\n",
    "#         elapsed = []\n",
    "#         for time in data_try['timestamps_elapsed']:\n",
    "#             elapsed.append(time[-1])\n",
    "#         data_try['timestamps_elapsed'] = elapsed\n",
    "#         serialize_json(workerDir.path + \"/data_try_1.json\", data_try)"
   ]
  },
  {
   "cell_type": "code",
   "execution_count": 76,
   "metadata": {
    "collapsed": false,
    "jupyter": {
     "outputs_hidden": false
    },
    "pycharm": {
     "name": "#%%\n"
    }
   },
   "outputs": [
    {
     "output_type": "display_data",
     "data": {
      "text/plain": "      Età        Lavoro Genere letterario preferito kindle    Importanza  \\\n0   36-45    Dipendente                   Biografia     No        Scarsa   \n1   46-55    Freelancer                  Formazione     No      Discreta   \n2   18-25      Studente                        Rosa     Si  Fondamentale   \n3   18-25      Studente                 Psicologico     Si  Fondamentale   \n4   18-25      Studente                      Giallo     Si      Discreta   \n5   18-25      Studente                      Giallo     Si      Discreta   \n6   18-25      Studente                   Biografia     No  Fondamentale   \n7   18-25      Studente                    Commedia     No  Fondamentale   \n8   18-25      Studente                      Sci-Fi     Si        Scarsa   \n9   18-25      Studente                   Avventura     No  Fondamentale   \n10  18-25      Studente                     Fantasy     No        Scarsa   \n11    56+    Pensionato                     Storico     No      Discreta   \n12  26-35    Dipendente             Azione/Thriller     No      Discreta   \n13  26-35    Freelancer                   Avventura     No      Discreta   \n14  18-25      Studente                  Formazione     No         Nulla   \n15  18-25      Studente                 Psicologico     No        Scarsa   \n16  18-25      Studente                     Fantasy     Si      Discreta   \n17  18-25      Studente                     Fantasy     Si      Discreta   \n18    56+    Pensionato                  Formazione     Si        Scarsa   \n19  18-25      Studente                  Formazione     Si  Fondamentale   \n20  46-55   Disoccupato                      Giallo     No        Scarsa   \n21  26-35    Dipendente                     Fantasy     No        Scarsa   \n22  18-25      Studente                      Giallo     Si      Discreta   \n23  46-55    Dipendente                      Giallo     No        Scarsa   \n24  18-25      Studente                     Fantasy     No  Fondamentale   \n25  18-25      Studente                   Avventura     No  Fondamentale   \n26  18-25      Studente                  Formazione     No        Scarsa   \n27  18-25      Studente                  Formazione     No        Scarsa   \n28  46-55  Imprenditore                 Psicologico     No        Scarsa   \n29  26-35   Disoccupato                  Formazione     Si      Discreta   \n30  18-25      Studente                 Psicologico     No        Scarsa   \n31  18-25      Studente                Storiografia     No        Scarsa   \n32    56+  Imprenditore                     Fantasy     No         Nulla   \n33  46-55  Imprenditore                        Rosa     No      Discreta   \n34  26-35    Dipendente                 Psicologico     No      Discreta   \n35  36-45    Dipendente                  Formazione     No      Discreta   \n36  18-25      Studente             Azione/Thriller     No        Scarsa   \n37  46-55    Dipendente                     Storico     Si        Scarsa   \n38  46-55    Pensionato                      Giallo     No        Scarsa   \n39  18-25    Dipendente                     Fantasy     Si        Scarsa   \n40  18-25      Studente                Storiografia     No      Discreta   \n41  26-35  Imprenditore                 Psicologico     No        Scarsa   \n42  18-25      Studente                     Fantasy     Si      Discreta   \n43  18-25      Studente                      Giallo     Si        Scarsa   \n44  18-25      Studente                      Giallo     No        Scarsa   \n45  18-25      Studente                     Fantasy     Si      Discreta   \n46  18-25      Studente                  Formazione     No  Fondamentale   \n47  18-25      Studente                     Fantasy     No        Scarsa   \n48    56+    Pensionato                     Storico     Si        Scarsa   \n49  18-25      Studente                   Biografia     No        Scarsa   \n50  18-25      Studente                  Formazione     Si      Discreta   \n51  46-55    Freelancer                  Formazione     Si      Discreta   \n52    56+    Dipendente                     Storico     No      Discreta   \n\n   Quanti libri   device  \n0           3-5      Mac  \n1           3-5  Windows  \n2             0   iPhone  \n3           11+  Android  \n4           1-2  Android  \n5          6-10  Windows  \n6          6-10  Windows  \n7          6-10   iPhone  \n8           1-2    Linux  \n9          6-10  Android  \n10          1-2  Android  \n11          3-5  Windows  \n12         6-10  Android  \n13          11+  Windows  \n14          1-2  Android  \n15          1-2   iPhone  \n16          1-2  Android  \n17            0  Windows  \n18          3-5  Android  \n19          1-2  Android  \n20          1-2  Android  \n21            0   iPhone  \n22          1-2      Mac  \n23          1-2  Android  \n24          1-2   iPhone  \n25          1-2  Windows  \n26          1-2  Android  \n27          3-5   iPhone  \n28          1-2  Android  \n29          11+  Android  \n30          1-2  Windows  \n31          1-2  Android  \n32            0  Android  \n33         6-10  Android  \n34          3-5  Android  \n35          3-5  Windows  \n36          3-5   iPhone  \n37          1-2  Android  \n38          3-5  Android  \n39          1-2   iPhone  \n40          3-5  Android  \n41         6-10  Android  \n42         6-10  Android  \n43          1-2  Android  \n44          11+  Android  \n45          11+  Android  \n46            0   iPhone  \n47          1-2      Mac  \n48          3-5   iPhone  \n49          1-2   iPhone  \n50         6-10   iPhone  \n51          3-5  Windows  \n52         6-10   iPhone  ",
      "text/html": "<div>\n<style scoped>\n    .dataframe tbody tr th:only-of-type {\n        vertical-align: middle;\n    }\n\n    .dataframe tbody tr th {\n        vertical-align: top;\n    }\n\n    .dataframe thead th {\n        text-align: right;\n    }\n</style>\n<table border=\"1\" class=\"dataframe\">\n  <thead>\n    <tr style=\"text-align: right;\">\n      <th></th>\n      <th>Età</th>\n      <th>Lavoro</th>\n      <th>Genere letterario preferito</th>\n      <th>kindle</th>\n      <th>Importanza</th>\n      <th>Quanti libri</th>\n      <th>device</th>\n    </tr>\n  </thead>\n  <tbody>\n    <tr>\n      <th>0</th>\n      <td>36-45</td>\n      <td>Dipendente</td>\n      <td>Biografia</td>\n      <td>No</td>\n      <td>Scarsa</td>\n      <td>3-5</td>\n      <td>Mac</td>\n    </tr>\n    <tr>\n      <th>1</th>\n      <td>46-55</td>\n      <td>Freelancer</td>\n      <td>Formazione</td>\n      <td>No</td>\n      <td>Discreta</td>\n      <td>3-5</td>\n      <td>Windows</td>\n    </tr>\n    <tr>\n      <th>2</th>\n      <td>18-25</td>\n      <td>Studente</td>\n      <td>Rosa</td>\n      <td>Si</td>\n      <td>Fondamentale</td>\n      <td>0</td>\n      <td>iPhone</td>\n    </tr>\n    <tr>\n      <th>3</th>\n      <td>18-25</td>\n      <td>Studente</td>\n      <td>Psicologico</td>\n      <td>Si</td>\n      <td>Fondamentale</td>\n      <td>11+</td>\n      <td>Android</td>\n    </tr>\n    <tr>\n      <th>4</th>\n      <td>18-25</td>\n      <td>Studente</td>\n      <td>Giallo</td>\n      <td>Si</td>\n      <td>Discreta</td>\n      <td>1-2</td>\n      <td>Android</td>\n    </tr>\n    <tr>\n      <th>5</th>\n      <td>18-25</td>\n      <td>Studente</td>\n      <td>Giallo</td>\n      <td>Si</td>\n      <td>Discreta</td>\n      <td>6-10</td>\n      <td>Windows</td>\n    </tr>\n    <tr>\n      <th>6</th>\n      <td>18-25</td>\n      <td>Studente</td>\n      <td>Biografia</td>\n      <td>No</td>\n      <td>Fondamentale</td>\n      <td>6-10</td>\n      <td>Windows</td>\n    </tr>\n    <tr>\n      <th>7</th>\n      <td>18-25</td>\n      <td>Studente</td>\n      <td>Commedia</td>\n      <td>No</td>\n      <td>Fondamentale</td>\n      <td>6-10</td>\n      <td>iPhone</td>\n    </tr>\n    <tr>\n      <th>8</th>\n      <td>18-25</td>\n      <td>Studente</td>\n      <td>Sci-Fi</td>\n      <td>Si</td>\n      <td>Scarsa</td>\n      <td>1-2</td>\n      <td>Linux</td>\n    </tr>\n    <tr>\n      <th>9</th>\n      <td>18-25</td>\n      <td>Studente</td>\n      <td>Avventura</td>\n      <td>No</td>\n      <td>Fondamentale</td>\n      <td>6-10</td>\n      <td>Android</td>\n    </tr>\n    <tr>\n      <th>10</th>\n      <td>18-25</td>\n      <td>Studente</td>\n      <td>Fantasy</td>\n      <td>No</td>\n      <td>Scarsa</td>\n      <td>1-2</td>\n      <td>Android</td>\n    </tr>\n    <tr>\n      <th>11</th>\n      <td>56+</td>\n      <td>Pensionato</td>\n      <td>Storico</td>\n      <td>No</td>\n      <td>Discreta</td>\n      <td>3-5</td>\n      <td>Windows</td>\n    </tr>\n    <tr>\n      <th>12</th>\n      <td>26-35</td>\n      <td>Dipendente</td>\n      <td>Azione/Thriller</td>\n      <td>No</td>\n      <td>Discreta</td>\n      <td>6-10</td>\n      <td>Android</td>\n    </tr>\n    <tr>\n      <th>13</th>\n      <td>26-35</td>\n      <td>Freelancer</td>\n      <td>Avventura</td>\n      <td>No</td>\n      <td>Discreta</td>\n      <td>11+</td>\n      <td>Windows</td>\n    </tr>\n    <tr>\n      <th>14</th>\n      <td>18-25</td>\n      <td>Studente</td>\n      <td>Formazione</td>\n      <td>No</td>\n      <td>Nulla</td>\n      <td>1-2</td>\n      <td>Android</td>\n    </tr>\n    <tr>\n      <th>15</th>\n      <td>18-25</td>\n      <td>Studente</td>\n      <td>Psicologico</td>\n      <td>No</td>\n      <td>Scarsa</td>\n      <td>1-2</td>\n      <td>iPhone</td>\n    </tr>\n    <tr>\n      <th>16</th>\n      <td>18-25</td>\n      <td>Studente</td>\n      <td>Fantasy</td>\n      <td>Si</td>\n      <td>Discreta</td>\n      <td>1-2</td>\n      <td>Android</td>\n    </tr>\n    <tr>\n      <th>17</th>\n      <td>18-25</td>\n      <td>Studente</td>\n      <td>Fantasy</td>\n      <td>Si</td>\n      <td>Discreta</td>\n      <td>0</td>\n      <td>Windows</td>\n    </tr>\n    <tr>\n      <th>18</th>\n      <td>56+</td>\n      <td>Pensionato</td>\n      <td>Formazione</td>\n      <td>Si</td>\n      <td>Scarsa</td>\n      <td>3-5</td>\n      <td>Android</td>\n    </tr>\n    <tr>\n      <th>19</th>\n      <td>18-25</td>\n      <td>Studente</td>\n      <td>Formazione</td>\n      <td>Si</td>\n      <td>Fondamentale</td>\n      <td>1-2</td>\n      <td>Android</td>\n    </tr>\n    <tr>\n      <th>20</th>\n      <td>46-55</td>\n      <td>Disoccupato</td>\n      <td>Giallo</td>\n      <td>No</td>\n      <td>Scarsa</td>\n      <td>1-2</td>\n      <td>Android</td>\n    </tr>\n    <tr>\n      <th>21</th>\n      <td>26-35</td>\n      <td>Dipendente</td>\n      <td>Fantasy</td>\n      <td>No</td>\n      <td>Scarsa</td>\n      <td>0</td>\n      <td>iPhone</td>\n    </tr>\n    <tr>\n      <th>22</th>\n      <td>18-25</td>\n      <td>Studente</td>\n      <td>Giallo</td>\n      <td>Si</td>\n      <td>Discreta</td>\n      <td>1-2</td>\n      <td>Mac</td>\n    </tr>\n    <tr>\n      <th>23</th>\n      <td>46-55</td>\n      <td>Dipendente</td>\n      <td>Giallo</td>\n      <td>No</td>\n      <td>Scarsa</td>\n      <td>1-2</td>\n      <td>Android</td>\n    </tr>\n    <tr>\n      <th>24</th>\n      <td>18-25</td>\n      <td>Studente</td>\n      <td>Fantasy</td>\n      <td>No</td>\n      <td>Fondamentale</td>\n      <td>1-2</td>\n      <td>iPhone</td>\n    </tr>\n    <tr>\n      <th>25</th>\n      <td>18-25</td>\n      <td>Studente</td>\n      <td>Avventura</td>\n      <td>No</td>\n      <td>Fondamentale</td>\n      <td>1-2</td>\n      <td>Windows</td>\n    </tr>\n    <tr>\n      <th>26</th>\n      <td>18-25</td>\n      <td>Studente</td>\n      <td>Formazione</td>\n      <td>No</td>\n      <td>Scarsa</td>\n      <td>1-2</td>\n      <td>Android</td>\n    </tr>\n    <tr>\n      <th>27</th>\n      <td>18-25</td>\n      <td>Studente</td>\n      <td>Formazione</td>\n      <td>No</td>\n      <td>Scarsa</td>\n      <td>3-5</td>\n      <td>iPhone</td>\n    </tr>\n    <tr>\n      <th>28</th>\n      <td>46-55</td>\n      <td>Imprenditore</td>\n      <td>Psicologico</td>\n      <td>No</td>\n      <td>Scarsa</td>\n      <td>1-2</td>\n      <td>Android</td>\n    </tr>\n    <tr>\n      <th>29</th>\n      <td>26-35</td>\n      <td>Disoccupato</td>\n      <td>Formazione</td>\n      <td>Si</td>\n      <td>Discreta</td>\n      <td>11+</td>\n      <td>Android</td>\n    </tr>\n    <tr>\n      <th>30</th>\n      <td>18-25</td>\n      <td>Studente</td>\n      <td>Psicologico</td>\n      <td>No</td>\n      <td>Scarsa</td>\n      <td>1-2</td>\n      <td>Windows</td>\n    </tr>\n    <tr>\n      <th>31</th>\n      <td>18-25</td>\n      <td>Studente</td>\n      <td>Storiografia</td>\n      <td>No</td>\n      <td>Scarsa</td>\n      <td>1-2</td>\n      <td>Android</td>\n    </tr>\n    <tr>\n      <th>32</th>\n      <td>56+</td>\n      <td>Imprenditore</td>\n      <td>Fantasy</td>\n      <td>No</td>\n      <td>Nulla</td>\n      <td>0</td>\n      <td>Android</td>\n    </tr>\n    <tr>\n      <th>33</th>\n      <td>46-55</td>\n      <td>Imprenditore</td>\n      <td>Rosa</td>\n      <td>No</td>\n      <td>Discreta</td>\n      <td>6-10</td>\n      <td>Android</td>\n    </tr>\n    <tr>\n      <th>34</th>\n      <td>26-35</td>\n      <td>Dipendente</td>\n      <td>Psicologico</td>\n      <td>No</td>\n      <td>Discreta</td>\n      <td>3-5</td>\n      <td>Android</td>\n    </tr>\n    <tr>\n      <th>35</th>\n      <td>36-45</td>\n      <td>Dipendente</td>\n      <td>Formazione</td>\n      <td>No</td>\n      <td>Discreta</td>\n      <td>3-5</td>\n      <td>Windows</td>\n    </tr>\n    <tr>\n      <th>36</th>\n      <td>18-25</td>\n      <td>Studente</td>\n      <td>Azione/Thriller</td>\n      <td>No</td>\n      <td>Scarsa</td>\n      <td>3-5</td>\n      <td>iPhone</td>\n    </tr>\n    <tr>\n      <th>37</th>\n      <td>46-55</td>\n      <td>Dipendente</td>\n      <td>Storico</td>\n      <td>Si</td>\n      <td>Scarsa</td>\n      <td>1-2</td>\n      <td>Android</td>\n    </tr>\n    <tr>\n      <th>38</th>\n      <td>46-55</td>\n      <td>Pensionato</td>\n      <td>Giallo</td>\n      <td>No</td>\n      <td>Scarsa</td>\n      <td>3-5</td>\n      <td>Android</td>\n    </tr>\n    <tr>\n      <th>39</th>\n      <td>18-25</td>\n      <td>Dipendente</td>\n      <td>Fantasy</td>\n      <td>Si</td>\n      <td>Scarsa</td>\n      <td>1-2</td>\n      <td>iPhone</td>\n    </tr>\n    <tr>\n      <th>40</th>\n      <td>18-25</td>\n      <td>Studente</td>\n      <td>Storiografia</td>\n      <td>No</td>\n      <td>Discreta</td>\n      <td>3-5</td>\n      <td>Android</td>\n    </tr>\n    <tr>\n      <th>41</th>\n      <td>26-35</td>\n      <td>Imprenditore</td>\n      <td>Psicologico</td>\n      <td>No</td>\n      <td>Scarsa</td>\n      <td>6-10</td>\n      <td>Android</td>\n    </tr>\n    <tr>\n      <th>42</th>\n      <td>18-25</td>\n      <td>Studente</td>\n      <td>Fantasy</td>\n      <td>Si</td>\n      <td>Discreta</td>\n      <td>6-10</td>\n      <td>Android</td>\n    </tr>\n    <tr>\n      <th>43</th>\n      <td>18-25</td>\n      <td>Studente</td>\n      <td>Giallo</td>\n      <td>Si</td>\n      <td>Scarsa</td>\n      <td>1-2</td>\n      <td>Android</td>\n    </tr>\n    <tr>\n      <th>44</th>\n      <td>18-25</td>\n      <td>Studente</td>\n      <td>Giallo</td>\n      <td>No</td>\n      <td>Scarsa</td>\n      <td>11+</td>\n      <td>Android</td>\n    </tr>\n    <tr>\n      <th>45</th>\n      <td>18-25</td>\n      <td>Studente</td>\n      <td>Fantasy</td>\n      <td>Si</td>\n      <td>Discreta</td>\n      <td>11+</td>\n      <td>Android</td>\n    </tr>\n    <tr>\n      <th>46</th>\n      <td>18-25</td>\n      <td>Studente</td>\n      <td>Formazione</td>\n      <td>No</td>\n      <td>Fondamentale</td>\n      <td>0</td>\n      <td>iPhone</td>\n    </tr>\n    <tr>\n      <th>47</th>\n      <td>18-25</td>\n      <td>Studente</td>\n      <td>Fantasy</td>\n      <td>No</td>\n      <td>Scarsa</td>\n      <td>1-2</td>\n      <td>Mac</td>\n    </tr>\n    <tr>\n      <th>48</th>\n      <td>56+</td>\n      <td>Pensionato</td>\n      <td>Storico</td>\n      <td>Si</td>\n      <td>Scarsa</td>\n      <td>3-5</td>\n      <td>iPhone</td>\n    </tr>\n    <tr>\n      <th>49</th>\n      <td>18-25</td>\n      <td>Studente</td>\n      <td>Biografia</td>\n      <td>No</td>\n      <td>Scarsa</td>\n      <td>1-2</td>\n      <td>iPhone</td>\n    </tr>\n    <tr>\n      <th>50</th>\n      <td>18-25</td>\n      <td>Studente</td>\n      <td>Formazione</td>\n      <td>Si</td>\n      <td>Discreta</td>\n      <td>6-10</td>\n      <td>iPhone</td>\n    </tr>\n    <tr>\n      <th>51</th>\n      <td>46-55</td>\n      <td>Freelancer</td>\n      <td>Formazione</td>\n      <td>Si</td>\n      <td>Discreta</td>\n      <td>3-5</td>\n      <td>Windows</td>\n    </tr>\n    <tr>\n      <th>52</th>\n      <td>56+</td>\n      <td>Dipendente</td>\n      <td>Storico</td>\n      <td>No</td>\n      <td>Discreta</td>\n      <td>6-10</td>\n      <td>iPhone</td>\n    </tr>\n  </tbody>\n</table>\n</div>"
     },
     "metadata": {}
    }
   ],
   "source": [
    "# Worker analysis\n",
    "workerInfoList = []\n",
    "for workerDir in os.scandir('../Data/'):\n",
    "    task_data = read_json(workerDir.path + \"/task_data.json\")\n",
    "    data_try = read_json(workerDir.path + \"/data_try_1.json\")\n",
    "    questionnaire = task_data['questionnaires'][0]['questions']\n",
    "    reformatQuest = {}\n",
    "    for question in questionnaire:\n",
    "        reformatQuest[question['name']] = question['answers']\n",
    "    device = task_data[\"worker\"]['ngxDeviceDetectorProperties'][\"device\"]\n",
    "    if device == 'Unknown':\n",
    "        device = task_data[\"worker\"]['ngxDeviceDetectorProperties'][\"os\"]\n",
    "    workerInfo = {}\n",
    "    for key, value in data_try['questionnaires_answers'][0].items():\n",
    "        workerInfo[key] = reformatQuest[key][int(value)]\n",
    "    workerInfo['device'] = device\n",
    "    workerInfoList.append(workerInfo)\n",
    "\n",
    "df = pd.DataFrame.from_dict(workerInfoList)\n",
    "display(df)\n",
    "\n",
    "# Save the dataframe to json\n",
    "df.to_json(\"dataframes/questionnaire.json\")"
   ]
  },
  {
   "cell_type": "code",
   "execution_count": 60,
   "metadata": {
    "collapsed": false,
    "jupyter": {
     "outputs_hidden": false
    },
    "pycharm": {
     "name": "#%%\n"
    }
   },
   "outputs": [
    {
     "output_type": "display_data",
     "data": {
      "application/vnd.plotly.v1+json": {
       "config": {
        "plotlyServerURL": "https://plot.ly"
       },
       "data": [
        {
         "branchvalues": "total",
         "domain": {
          "x": [
           0,
           1
          ],
          "y": [
           0,
           1
          ]
         },
         "hovertemplate": "labels=%{label}<br>count=%{value}<br>parent=%{parent}<br>id=%{id}<extra></extra>",
         "ids": [
          "46-55/Dipendente/Android/Ha un<br>eReader",
          "26-35/Disoccupato/Android/Ha un<br>eReader",
          "56+/Pensionato/Android/Ha un<br>eReader",
          "18-25/Studente/Android/Ha un<br>eReader",
          "18-25/Studente/Linux/Ha un<br>eReader",
          "18-25/Studente/Mac/Ha un<br>eReader",
          "46-55/Freelancer/Windows/Ha un<br>eReader",
          "18-25/Studente/Windows/Ha un<br>eReader",
          "18-25/Dipendente/iPhone/Ha un<br>eReader",
          "56+/Pensionato/iPhone/Ha un<br>eReader",
          "18-25/Studente/iPhone/Ha un<br>eReader",
          "26-35/Dipendente/Android/Non ha un<br>eReader",
          "46-55/Dipendente/Android/Non ha un<br>eReader",
          "46-55/Disoccupato/Android/Non ha un<br>eReader",
          "26-35/Imprenditore/Android/Non ha un<br>eReader",
          "46-55/Imprenditore/Android/Non ha un<br>eReader",
          "56+/Imprenditore/Android/Non ha un<br>eReader",
          "46-55/Pensionato/Android/Non ha un<br>eReader",
          "18-25/Studente/Android/Non ha un<br>eReader",
          "36-45/Dipendente/Mac/Non ha un<br>eReader",
          "18-25/Studente/Mac/Non ha un<br>eReader",
          "36-45/Dipendente/Windows/Non ha un<br>eReader",
          "26-35/Freelancer/Windows/Non ha un<br>eReader",
          "46-55/Freelancer/Windows/Non ha un<br>eReader",
          "56+/Pensionato/Windows/Non ha un<br>eReader",
          "18-25/Studente/Windows/Non ha un<br>eReader",
          "26-35/Dipendente/iPhone/Non ha un<br>eReader",
          "56+/Dipendente/iPhone/Non ha un<br>eReader",
          "18-25/Studente/iPhone/Non ha un<br>eReader",
          "26-35/Dipendente/Android",
          "46-55/Dipendente/Android",
          "26-35/Disoccupato/Android",
          "46-55/Disoccupato/Android",
          "26-35/Imprenditore/Android",
          "46-55/Imprenditore/Android",
          "56+/Imprenditore/Android",
          "46-55/Pensionato/Android",
          "56+/Pensionato/Android",
          "18-25/Studente/Android",
          "18-25/Studente/Linux",
          "36-45/Dipendente/Mac",
          "18-25/Studente/Mac",
          "36-45/Dipendente/Windows",
          "26-35/Freelancer/Windows",
          "46-55/Freelancer/Windows",
          "56+/Pensionato/Windows",
          "18-25/Studente/Windows",
          "18-25/Dipendente/iPhone",
          "26-35/Dipendente/iPhone",
          "56+/Dipendente/iPhone",
          "56+/Pensionato/iPhone",
          "18-25/Studente/iPhone",
          "18-25/Dipendente",
          "26-35/Dipendente",
          "36-45/Dipendente",
          "46-55/Dipendente",
          "56+/Dipendente",
          "26-35/Disoccupato",
          "46-55/Disoccupato",
          "26-35/Freelancer",
          "46-55/Freelancer",
          "26-35/Imprenditore",
          "46-55/Imprenditore",
          "56+/Imprenditore",
          "46-55/Pensionato",
          "56+/Pensionato",
          "18-25/Studente",
          "18-25",
          "26-35",
          "36-45",
          "46-55",
          "56+"
         ],
         "labels": [
          "Ha un<br>eReader",
          "Ha un<br>eReader",
          "Ha un<br>eReader",
          "Ha un<br>eReader",
          "Ha un<br>eReader",
          "Ha un<br>eReader",
          "Ha un<br>eReader",
          "Ha un<br>eReader",
          "Ha un<br>eReader",
          "Ha un<br>eReader",
          "Ha un<br>eReader",
          "Non ha un<br>eReader",
          "Non ha un<br>eReader",
          "Non ha un<br>eReader",
          "Non ha un<br>eReader",
          "Non ha un<br>eReader",
          "Non ha un<br>eReader",
          "Non ha un<br>eReader",
          "Non ha un<br>eReader",
          "Non ha un<br>eReader",
          "Non ha un<br>eReader",
          "Non ha un<br>eReader",
          "Non ha un<br>eReader",
          "Non ha un<br>eReader",
          "Non ha un<br>eReader",
          "Non ha un<br>eReader",
          "Non ha un<br>eReader",
          "Non ha un<br>eReader",
          "Non ha un<br>eReader",
          "Android",
          "Android",
          "Android",
          "Android",
          "Android",
          "Android",
          "Android",
          "Android",
          "Android",
          "Android",
          "Linux",
          "Mac",
          "Mac",
          "Windows",
          "Windows",
          "Windows",
          "Windows",
          "Windows",
          "iPhone",
          "iPhone",
          "iPhone",
          "iPhone",
          "iPhone",
          "Dipendente",
          "Dipendente",
          "Dipendente",
          "Dipendente",
          "Dipendente",
          "Disoccupato",
          "Disoccupato",
          "Freelancer",
          "Freelancer",
          "Imprenditore",
          "Imprenditore",
          "Imprenditore",
          "Pensionato",
          "Pensionato",
          "Studente",
          "18-25",
          "26-35",
          "36-45",
          "46-55",
          "56+"
         ],
         "name": "",
         "parents": [
          "46-55/Dipendente/Android",
          "26-35/Disoccupato/Android",
          "56+/Pensionato/Android",
          "18-25/Studente/Android",
          "18-25/Studente/Linux",
          "18-25/Studente/Mac",
          "46-55/Freelancer/Windows",
          "18-25/Studente/Windows",
          "18-25/Dipendente/iPhone",
          "56+/Pensionato/iPhone",
          "18-25/Studente/iPhone",
          "26-35/Dipendente/Android",
          "46-55/Dipendente/Android",
          "46-55/Disoccupato/Android",
          "26-35/Imprenditore/Android",
          "46-55/Imprenditore/Android",
          "56+/Imprenditore/Android",
          "46-55/Pensionato/Android",
          "18-25/Studente/Android",
          "36-45/Dipendente/Mac",
          "18-25/Studente/Mac",
          "36-45/Dipendente/Windows",
          "26-35/Freelancer/Windows",
          "46-55/Freelancer/Windows",
          "56+/Pensionato/Windows",
          "18-25/Studente/Windows",
          "26-35/Dipendente/iPhone",
          "56+/Dipendente/iPhone",
          "18-25/Studente/iPhone",
          "26-35/Dipendente",
          "46-55/Dipendente",
          "26-35/Disoccupato",
          "46-55/Disoccupato",
          "26-35/Imprenditore",
          "46-55/Imprenditore",
          "56+/Imprenditore",
          "46-55/Pensionato",
          "56+/Pensionato",
          "18-25/Studente",
          "18-25/Studente",
          "36-45/Dipendente",
          "18-25/Studente",
          "36-45/Dipendente",
          "26-35/Freelancer",
          "46-55/Freelancer",
          "56+/Pensionato",
          "18-25/Studente",
          "18-25/Dipendente",
          "26-35/Dipendente",
          "56+/Dipendente",
          "56+/Pensionato",
          "18-25/Studente",
          "18-25",
          "26-35",
          "36-45",
          "46-55",
          "56+",
          "26-35",
          "46-55",
          "26-35",
          "46-55",
          "26-35",
          "46-55",
          "56+",
          "46-55",
          "56+",
          "18-25",
          "",
          "",
          "",
          "",
          ""
         ],
         "type": "sunburst",
         "values": [
          1,
          1,
          1,
          7,
          1,
          1,
          1,
          2,
          1,
          1,
          2,
          2,
          1,
          1,
          1,
          2,
          1,
          1,
          7,
          1,
          1,
          1,
          1,
          1,
          1,
          3,
          1,
          1,
          7,
          2,
          2,
          1,
          1,
          1,
          2,
          1,
          1,
          1,
          14,
          1,
          1,
          2,
          1,
          1,
          2,
          1,
          5,
          1,
          1,
          1,
          1,
          9,
          1,
          3,
          2,
          2,
          1,
          1,
          1,
          1,
          2,
          1,
          2,
          1,
          1,
          3,
          31,
          32,
          6,
          2,
          8,
          5
         ]
        }
       ],
       "layout": {
        "legend": {
         "tracegroupgap": 0
        },
        "margin": {
         "t": 60
        },
        "template": {
         "data": {
          "bar": [
           {
            "error_x": {
             "color": "#2a3f5f"
            },
            "error_y": {
             "color": "#2a3f5f"
            },
            "marker": {
             "line": {
              "color": "#E5ECF6",
              "width": 0.5
             }
            },
            "type": "bar"
           }
          ],
          "barpolar": [
           {
            "marker": {
             "line": {
              "color": "#E5ECF6",
              "width": 0.5
             }
            },
            "type": "barpolar"
           }
          ],
          "carpet": [
           {
            "aaxis": {
             "endlinecolor": "#2a3f5f",
             "gridcolor": "white",
             "linecolor": "white",
             "minorgridcolor": "white",
             "startlinecolor": "#2a3f5f"
            },
            "baxis": {
             "endlinecolor": "#2a3f5f",
             "gridcolor": "white",
             "linecolor": "white",
             "minorgridcolor": "white",
             "startlinecolor": "#2a3f5f"
            },
            "type": "carpet"
           }
          ],
          "choropleth": [
           {
            "colorbar": {
             "outlinewidth": 0,
             "ticks": ""
            },
            "type": "choropleth"
           }
          ],
          "contour": [
           {
            "colorbar": {
             "outlinewidth": 0,
             "ticks": ""
            },
            "colorscale": [
             [
              0,
              "#0d0887"
             ],
             [
              0.1111111111111111,
              "#46039f"
             ],
             [
              0.2222222222222222,
              "#7201a8"
             ],
             [
              0.3333333333333333,
              "#9c179e"
             ],
             [
              0.4444444444444444,
              "#bd3786"
             ],
             [
              0.5555555555555556,
              "#d8576b"
             ],
             [
              0.6666666666666666,
              "#ed7953"
             ],
             [
              0.7777777777777778,
              "#fb9f3a"
             ],
             [
              0.8888888888888888,
              "#fdca26"
             ],
             [
              1,
              "#f0f921"
             ]
            ],
            "type": "contour"
           }
          ],
          "contourcarpet": [
           {
            "colorbar": {
             "outlinewidth": 0,
             "ticks": ""
            },
            "type": "contourcarpet"
           }
          ],
          "heatmap": [
           {
            "colorbar": {
             "outlinewidth": 0,
             "ticks": ""
            },
            "colorscale": [
             [
              0,
              "#0d0887"
             ],
             [
              0.1111111111111111,
              "#46039f"
             ],
             [
              0.2222222222222222,
              "#7201a8"
             ],
             [
              0.3333333333333333,
              "#9c179e"
             ],
             [
              0.4444444444444444,
              "#bd3786"
             ],
             [
              0.5555555555555556,
              "#d8576b"
             ],
             [
              0.6666666666666666,
              "#ed7953"
             ],
             [
              0.7777777777777778,
              "#fb9f3a"
             ],
             [
              0.8888888888888888,
              "#fdca26"
             ],
             [
              1,
              "#f0f921"
             ]
            ],
            "type": "heatmap"
           }
          ],
          "heatmapgl": [
           {
            "colorbar": {
             "outlinewidth": 0,
             "ticks": ""
            },
            "colorscale": [
             [
              0,
              "#0d0887"
             ],
             [
              0.1111111111111111,
              "#46039f"
             ],
             [
              0.2222222222222222,
              "#7201a8"
             ],
             [
              0.3333333333333333,
              "#9c179e"
             ],
             [
              0.4444444444444444,
              "#bd3786"
             ],
             [
              0.5555555555555556,
              "#d8576b"
             ],
             [
              0.6666666666666666,
              "#ed7953"
             ],
             [
              0.7777777777777778,
              "#fb9f3a"
             ],
             [
              0.8888888888888888,
              "#fdca26"
             ],
             [
              1,
              "#f0f921"
             ]
            ],
            "type": "heatmapgl"
           }
          ],
          "histogram": [
           {
            "marker": {
             "colorbar": {
              "outlinewidth": 0,
              "ticks": ""
             }
            },
            "type": "histogram"
           }
          ],
          "histogram2d": [
           {
            "colorbar": {
             "outlinewidth": 0,
             "ticks": ""
            },
            "colorscale": [
             [
              0,
              "#0d0887"
             ],
             [
              0.1111111111111111,
              "#46039f"
             ],
             [
              0.2222222222222222,
              "#7201a8"
             ],
             [
              0.3333333333333333,
              "#9c179e"
             ],
             [
              0.4444444444444444,
              "#bd3786"
             ],
             [
              0.5555555555555556,
              "#d8576b"
             ],
             [
              0.6666666666666666,
              "#ed7953"
             ],
             [
              0.7777777777777778,
              "#fb9f3a"
             ],
             [
              0.8888888888888888,
              "#fdca26"
             ],
             [
              1,
              "#f0f921"
             ]
            ],
            "type": "histogram2d"
           }
          ],
          "histogram2dcontour": [
           {
            "colorbar": {
             "outlinewidth": 0,
             "ticks": ""
            },
            "colorscale": [
             [
              0,
              "#0d0887"
             ],
             [
              0.1111111111111111,
              "#46039f"
             ],
             [
              0.2222222222222222,
              "#7201a8"
             ],
             [
              0.3333333333333333,
              "#9c179e"
             ],
             [
              0.4444444444444444,
              "#bd3786"
             ],
             [
              0.5555555555555556,
              "#d8576b"
             ],
             [
              0.6666666666666666,
              "#ed7953"
             ],
             [
              0.7777777777777778,
              "#fb9f3a"
             ],
             [
              0.8888888888888888,
              "#fdca26"
             ],
             [
              1,
              "#f0f921"
             ]
            ],
            "type": "histogram2dcontour"
           }
          ],
          "mesh3d": [
           {
            "colorbar": {
             "outlinewidth": 0,
             "ticks": ""
            },
            "type": "mesh3d"
           }
          ],
          "parcoords": [
           {
            "line": {
             "colorbar": {
              "outlinewidth": 0,
              "ticks": ""
             }
            },
            "type": "parcoords"
           }
          ],
          "pie": [
           {
            "automargin": true,
            "type": "pie"
           }
          ],
          "scatter": [
           {
            "marker": {
             "colorbar": {
              "outlinewidth": 0,
              "ticks": ""
             }
            },
            "type": "scatter"
           }
          ],
          "scatter3d": [
           {
            "line": {
             "colorbar": {
              "outlinewidth": 0,
              "ticks": ""
             }
            },
            "marker": {
             "colorbar": {
              "outlinewidth": 0,
              "ticks": ""
             }
            },
            "type": "scatter3d"
           }
          ],
          "scattercarpet": [
           {
            "marker": {
             "colorbar": {
              "outlinewidth": 0,
              "ticks": ""
             }
            },
            "type": "scattercarpet"
           }
          ],
          "scattergeo": [
           {
            "marker": {
             "colorbar": {
              "outlinewidth": 0,
              "ticks": ""
             }
            },
            "type": "scattergeo"
           }
          ],
          "scattergl": [
           {
            "marker": {
             "colorbar": {
              "outlinewidth": 0,
              "ticks": ""
             }
            },
            "type": "scattergl"
           }
          ],
          "scattermapbox": [
           {
            "marker": {
             "colorbar": {
              "outlinewidth": 0,
              "ticks": ""
             }
            },
            "type": "scattermapbox"
           }
          ],
          "scatterpolar": [
           {
            "marker": {
             "colorbar": {
              "outlinewidth": 0,
              "ticks": ""
             }
            },
            "type": "scatterpolar"
           }
          ],
          "scatterpolargl": [
           {
            "marker": {
             "colorbar": {
              "outlinewidth": 0,
              "ticks": ""
             }
            },
            "type": "scatterpolargl"
           }
          ],
          "scatterternary": [
           {
            "marker": {
             "colorbar": {
              "outlinewidth": 0,
              "ticks": ""
             }
            },
            "type": "scatterternary"
           }
          ],
          "surface": [
           {
            "colorbar": {
             "outlinewidth": 0,
             "ticks": ""
            },
            "colorscale": [
             [
              0,
              "#0d0887"
             ],
             [
              0.1111111111111111,
              "#46039f"
             ],
             [
              0.2222222222222222,
              "#7201a8"
             ],
             [
              0.3333333333333333,
              "#9c179e"
             ],
             [
              0.4444444444444444,
              "#bd3786"
             ],
             [
              0.5555555555555556,
              "#d8576b"
             ],
             [
              0.6666666666666666,
              "#ed7953"
             ],
             [
              0.7777777777777778,
              "#fb9f3a"
             ],
             [
              0.8888888888888888,
              "#fdca26"
             ],
             [
              1,
              "#f0f921"
             ]
            ],
            "type": "surface"
           }
          ],
          "table": [
           {
            "cells": {
             "fill": {
              "color": "#EBF0F8"
             },
             "line": {
              "color": "white"
             }
            },
            "header": {
             "fill": {
              "color": "#C8D4E3"
             },
             "line": {
              "color": "white"
             }
            },
            "type": "table"
           }
          ]
         },
         "layout": {
          "annotationdefaults": {
           "arrowcolor": "#2a3f5f",
           "arrowhead": 0,
           "arrowwidth": 1
          },
          "autotypenumbers": "strict",
          "coloraxis": {
           "colorbar": {
            "outlinewidth": 0,
            "ticks": ""
           }
          },
          "colorscale": {
           "diverging": [
            [
             0,
             "#8e0152"
            ],
            [
             0.1,
             "#c51b7d"
            ],
            [
             0.2,
             "#de77ae"
            ],
            [
             0.3,
             "#f1b6da"
            ],
            [
             0.4,
             "#fde0ef"
            ],
            [
             0.5,
             "#f7f7f7"
            ],
            [
             0.6,
             "#e6f5d0"
            ],
            [
             0.7,
             "#b8e186"
            ],
            [
             0.8,
             "#7fbc41"
            ],
            [
             0.9,
             "#4d9221"
            ],
            [
             1,
             "#276419"
            ]
           ],
           "sequential": [
            [
             0,
             "#0d0887"
            ],
            [
             0.1111111111111111,
             "#46039f"
            ],
            [
             0.2222222222222222,
             "#7201a8"
            ],
            [
             0.3333333333333333,
             "#9c179e"
            ],
            [
             0.4444444444444444,
             "#bd3786"
            ],
            [
             0.5555555555555556,
             "#d8576b"
            ],
            [
             0.6666666666666666,
             "#ed7953"
            ],
            [
             0.7777777777777778,
             "#fb9f3a"
            ],
            [
             0.8888888888888888,
             "#fdca26"
            ],
            [
             1,
             "#f0f921"
            ]
           ],
           "sequentialminus": [
            [
             0,
             "#0d0887"
            ],
            [
             0.1111111111111111,
             "#46039f"
            ],
            [
             0.2222222222222222,
             "#7201a8"
            ],
            [
             0.3333333333333333,
             "#9c179e"
            ],
            [
             0.4444444444444444,
             "#bd3786"
            ],
            [
             0.5555555555555556,
             "#d8576b"
            ],
            [
             0.6666666666666666,
             "#ed7953"
            ],
            [
             0.7777777777777778,
             "#fb9f3a"
            ],
            [
             0.8888888888888888,
             "#fdca26"
            ],
            [
             1,
             "#f0f921"
            ]
           ]
          },
          "colorway": [
           "#636efa",
           "#EF553B",
           "#00cc96",
           "#ab63fa",
           "#FFA15A",
           "#19d3f3",
           "#FF6692",
           "#B6E880",
           "#FF97FF",
           "#FECB52"
          ],
          "font": {
           "color": "#2a3f5f"
          },
          "geo": {
           "bgcolor": "white",
           "lakecolor": "white",
           "landcolor": "#E5ECF6",
           "showlakes": true,
           "showland": true,
           "subunitcolor": "white"
          },
          "hoverlabel": {
           "align": "left"
          },
          "hovermode": "closest",
          "mapbox": {
           "style": "light"
          },
          "paper_bgcolor": "white",
          "plot_bgcolor": "#E5ECF6",
          "polar": {
           "angularaxis": {
            "gridcolor": "white",
            "linecolor": "white",
            "ticks": ""
           },
           "bgcolor": "#E5ECF6",
           "radialaxis": {
            "gridcolor": "white",
            "linecolor": "white",
            "ticks": ""
           }
          },
          "scene": {
           "xaxis": {
            "backgroundcolor": "#E5ECF6",
            "gridcolor": "white",
            "gridwidth": 2,
            "linecolor": "white",
            "showbackground": true,
            "ticks": "",
            "zerolinecolor": "white"
           },
           "yaxis": {
            "backgroundcolor": "#E5ECF6",
            "gridcolor": "white",
            "gridwidth": 2,
            "linecolor": "white",
            "showbackground": true,
            "ticks": "",
            "zerolinecolor": "white"
           },
           "zaxis": {
            "backgroundcolor": "#E5ECF6",
            "gridcolor": "white",
            "gridwidth": 2,
            "linecolor": "white",
            "showbackground": true,
            "ticks": "",
            "zerolinecolor": "white"
           }
          },
          "shapedefaults": {
           "line": {
            "color": "#2a3f5f"
           }
          },
          "ternary": {
           "aaxis": {
            "gridcolor": "white",
            "linecolor": "white",
            "ticks": ""
           },
           "baxis": {
            "gridcolor": "white",
            "linecolor": "white",
            "ticks": ""
           },
           "bgcolor": "#E5ECF6",
           "caxis": {
            "gridcolor": "white",
            "linecolor": "white",
            "ticks": ""
           }
          },
          "title": {
           "x": 0.05
          },
          "xaxis": {
           "automargin": true,
           "gridcolor": "white",
           "linecolor": "white",
           "ticks": "",
           "title": {
            "standoff": 15
           },
           "zerolinecolor": "white",
           "zerolinewidth": 2
          },
          "yaxis": {
           "automargin": true,
           "gridcolor": "white",
           "linecolor": "white",
           "ticks": "",
           "title": {
            "standoff": 15
           },
           "zerolinecolor": "white",
           "zerolinewidth": 2
          }
         }
        }
       }
      }
     },
     "metadata": {}
    },
    {
     "output_type": "display_data",
     "data": {
      "application/vnd.plotly.v1+json": {
       "config": {
        "plotlyServerURL": "https://plot.ly"
       },
       "data": [
        {
         "branchvalues": "total",
         "domain": {
          "x": [
           0,
           1
          ],
          "y": [
           0,
           1
          ]
         },
         "hovertemplate": "labels=%{label}<br>count=%{value}<br>parent=%{parent}<br>id=%{id}<extra></extra>",
         "ids": [
          "26-35/Freelancer/Avventura",
          "18-25/Studente/Avventura",
          "26-35/Dipendente/Azione/Thriller",
          "18-25/Studente/Azione/Thriller",
          "36-45/Dipendente/Biografia",
          "18-25/Studente/Biografia",
          "18-25/Studente/Commedia",
          "18-25/Dipendente/Fantasy",
          "26-35/Dipendente/Fantasy",
          "56+/Imprenditore/Fantasy",
          "18-25/Studente/Fantasy",
          "36-45/Dipendente/Formazione",
          "26-35/Disoccupato/Formazione",
          "46-55/Freelancer/Formazione",
          "56+/Pensionato/Formazione",
          "18-25/Studente/Formazione",
          "46-55/Dipendente/Giallo",
          "46-55/Disoccupato/Giallo",
          "46-55/Pensionato/Giallo",
          "18-25/Studente/Giallo",
          "26-35/Dipendente/Psicologico",
          "26-35/Imprenditore/Psicologico",
          "46-55/Imprenditore/Psicologico",
          "18-25/Studente/Psicologico",
          "46-55/Imprenditore/Rosa",
          "18-25/Studente/Rosa",
          "18-25/Studente/Sci-Fi",
          "46-55/Dipendente/Storico",
          "56+/Dipendente/Storico",
          "56+/Pensionato/Storico",
          "18-25/Studente/Storiografia",
          "18-25/Dipendente",
          "26-35/Dipendente",
          "36-45/Dipendente",
          "46-55/Dipendente",
          "56+/Dipendente",
          "26-35/Disoccupato",
          "46-55/Disoccupato",
          "26-35/Freelancer",
          "46-55/Freelancer",
          "26-35/Imprenditore",
          "46-55/Imprenditore",
          "56+/Imprenditore",
          "46-55/Pensionato",
          "56+/Pensionato",
          "18-25/Studente",
          "18-25",
          "26-35",
          "36-45",
          "46-55",
          "56+"
         ],
         "labels": [
          "Avventura",
          "Avventura",
          "Azione/Thriller",
          "Azione/Thriller",
          "Biografia",
          "Biografia",
          "Commedia",
          "Fantasy",
          "Fantasy",
          "Fantasy",
          "Fantasy",
          "Formazione",
          "Formazione",
          "Formazione",
          "Formazione",
          "Formazione",
          "Giallo",
          "Giallo",
          "Giallo",
          "Giallo",
          "Psicologico",
          "Psicologico",
          "Psicologico",
          "Psicologico",
          "Rosa",
          "Rosa",
          "Sci-Fi",
          "Storico",
          "Storico",
          "Storico",
          "Storiografia",
          "Dipendente",
          "Dipendente",
          "Dipendente",
          "Dipendente",
          "Dipendente",
          "Disoccupato",
          "Disoccupato",
          "Freelancer",
          "Freelancer",
          "Imprenditore",
          "Imprenditore",
          "Imprenditore",
          "Pensionato",
          "Pensionato",
          "Studente",
          "18-25",
          "26-35",
          "36-45",
          "46-55",
          "56+"
         ],
         "name": "",
         "parents": [
          "26-35/Freelancer",
          "18-25/Studente",
          "26-35/Dipendente",
          "18-25/Studente",
          "36-45/Dipendente",
          "18-25/Studente",
          "18-25/Studente",
          "18-25/Dipendente",
          "26-35/Dipendente",
          "56+/Imprenditore",
          "18-25/Studente",
          "36-45/Dipendente",
          "26-35/Disoccupato",
          "46-55/Freelancer",
          "56+/Pensionato",
          "18-25/Studente",
          "46-55/Dipendente",
          "46-55/Disoccupato",
          "46-55/Pensionato",
          "18-25/Studente",
          "26-35/Dipendente",
          "26-35/Imprenditore",
          "46-55/Imprenditore",
          "18-25/Studente",
          "46-55/Imprenditore",
          "18-25/Studente",
          "18-25/Studente",
          "46-55/Dipendente",
          "56+/Dipendente",
          "56+/Pensionato",
          "18-25/Studente",
          "18-25",
          "26-35",
          "36-45",
          "46-55",
          "56+",
          "26-35",
          "46-55",
          "26-35",
          "46-55",
          "26-35",
          "46-55",
          "56+",
          "46-55",
          "56+",
          "18-25",
          "",
          "",
          "",
          "",
          ""
         ],
         "type": "sunburst",
         "values": [
          1,
          2,
          1,
          1,
          1,
          2,
          1,
          1,
          1,
          1,
          7,
          1,
          1,
          2,
          1,
          6,
          1,
          1,
          1,
          5,
          1,
          1,
          1,
          3,
          1,
          1,
          1,
          1,
          1,
          2,
          2,
          1,
          3,
          2,
          2,
          1,
          1,
          1,
          1,
          2,
          1,
          2,
          1,
          1,
          3,
          31,
          32,
          6,
          2,
          8,
          5
         ]
        }
       ],
       "layout": {
        "legend": {
         "tracegroupgap": 0
        },
        "margin": {
         "t": 60
        },
        "template": {
         "data": {
          "bar": [
           {
            "error_x": {
             "color": "#2a3f5f"
            },
            "error_y": {
             "color": "#2a3f5f"
            },
            "marker": {
             "line": {
              "color": "#E5ECF6",
              "width": 0.5
             }
            },
            "type": "bar"
           }
          ],
          "barpolar": [
           {
            "marker": {
             "line": {
              "color": "#E5ECF6",
              "width": 0.5
             }
            },
            "type": "barpolar"
           }
          ],
          "carpet": [
           {
            "aaxis": {
             "endlinecolor": "#2a3f5f",
             "gridcolor": "white",
             "linecolor": "white",
             "minorgridcolor": "white",
             "startlinecolor": "#2a3f5f"
            },
            "baxis": {
             "endlinecolor": "#2a3f5f",
             "gridcolor": "white",
             "linecolor": "white",
             "minorgridcolor": "white",
             "startlinecolor": "#2a3f5f"
            },
            "type": "carpet"
           }
          ],
          "choropleth": [
           {
            "colorbar": {
             "outlinewidth": 0,
             "ticks": ""
            },
            "type": "choropleth"
           }
          ],
          "contour": [
           {
            "colorbar": {
             "outlinewidth": 0,
             "ticks": ""
            },
            "colorscale": [
             [
              0,
              "#0d0887"
             ],
             [
              0.1111111111111111,
              "#46039f"
             ],
             [
              0.2222222222222222,
              "#7201a8"
             ],
             [
              0.3333333333333333,
              "#9c179e"
             ],
             [
              0.4444444444444444,
              "#bd3786"
             ],
             [
              0.5555555555555556,
              "#d8576b"
             ],
             [
              0.6666666666666666,
              "#ed7953"
             ],
             [
              0.7777777777777778,
              "#fb9f3a"
             ],
             [
              0.8888888888888888,
              "#fdca26"
             ],
             [
              1,
              "#f0f921"
             ]
            ],
            "type": "contour"
           }
          ],
          "contourcarpet": [
           {
            "colorbar": {
             "outlinewidth": 0,
             "ticks": ""
            },
            "type": "contourcarpet"
           }
          ],
          "heatmap": [
           {
            "colorbar": {
             "outlinewidth": 0,
             "ticks": ""
            },
            "colorscale": [
             [
              0,
              "#0d0887"
             ],
             [
              0.1111111111111111,
              "#46039f"
             ],
             [
              0.2222222222222222,
              "#7201a8"
             ],
             [
              0.3333333333333333,
              "#9c179e"
             ],
             [
              0.4444444444444444,
              "#bd3786"
             ],
             [
              0.5555555555555556,
              "#d8576b"
             ],
             [
              0.6666666666666666,
              "#ed7953"
             ],
             [
              0.7777777777777778,
              "#fb9f3a"
             ],
             [
              0.8888888888888888,
              "#fdca26"
             ],
             [
              1,
              "#f0f921"
             ]
            ],
            "type": "heatmap"
           }
          ],
          "heatmapgl": [
           {
            "colorbar": {
             "outlinewidth": 0,
             "ticks": ""
            },
            "colorscale": [
             [
              0,
              "#0d0887"
             ],
             [
              0.1111111111111111,
              "#46039f"
             ],
             [
              0.2222222222222222,
              "#7201a8"
             ],
             [
              0.3333333333333333,
              "#9c179e"
             ],
             [
              0.4444444444444444,
              "#bd3786"
             ],
             [
              0.5555555555555556,
              "#d8576b"
             ],
             [
              0.6666666666666666,
              "#ed7953"
             ],
             [
              0.7777777777777778,
              "#fb9f3a"
             ],
             [
              0.8888888888888888,
              "#fdca26"
             ],
             [
              1,
              "#f0f921"
             ]
            ],
            "type": "heatmapgl"
           }
          ],
          "histogram": [
           {
            "marker": {
             "colorbar": {
              "outlinewidth": 0,
              "ticks": ""
             }
            },
            "type": "histogram"
           }
          ],
          "histogram2d": [
           {
            "colorbar": {
             "outlinewidth": 0,
             "ticks": ""
            },
            "colorscale": [
             [
              0,
              "#0d0887"
             ],
             [
              0.1111111111111111,
              "#46039f"
             ],
             [
              0.2222222222222222,
              "#7201a8"
             ],
             [
              0.3333333333333333,
              "#9c179e"
             ],
             [
              0.4444444444444444,
              "#bd3786"
             ],
             [
              0.5555555555555556,
              "#d8576b"
             ],
             [
              0.6666666666666666,
              "#ed7953"
             ],
             [
              0.7777777777777778,
              "#fb9f3a"
             ],
             [
              0.8888888888888888,
              "#fdca26"
             ],
             [
              1,
              "#f0f921"
             ]
            ],
            "type": "histogram2d"
           }
          ],
          "histogram2dcontour": [
           {
            "colorbar": {
             "outlinewidth": 0,
             "ticks": ""
            },
            "colorscale": [
             [
              0,
              "#0d0887"
             ],
             [
              0.1111111111111111,
              "#46039f"
             ],
             [
              0.2222222222222222,
              "#7201a8"
             ],
             [
              0.3333333333333333,
              "#9c179e"
             ],
             [
              0.4444444444444444,
              "#bd3786"
             ],
             [
              0.5555555555555556,
              "#d8576b"
             ],
             [
              0.6666666666666666,
              "#ed7953"
             ],
             [
              0.7777777777777778,
              "#fb9f3a"
             ],
             [
              0.8888888888888888,
              "#fdca26"
             ],
             [
              1,
              "#f0f921"
             ]
            ],
            "type": "histogram2dcontour"
           }
          ],
          "mesh3d": [
           {
            "colorbar": {
             "outlinewidth": 0,
             "ticks": ""
            },
            "type": "mesh3d"
           }
          ],
          "parcoords": [
           {
            "line": {
             "colorbar": {
              "outlinewidth": 0,
              "ticks": ""
             }
            },
            "type": "parcoords"
           }
          ],
          "pie": [
           {
            "automargin": true,
            "type": "pie"
           }
          ],
          "scatter": [
           {
            "marker": {
             "colorbar": {
              "outlinewidth": 0,
              "ticks": ""
             }
            },
            "type": "scatter"
           }
          ],
          "scatter3d": [
           {
            "line": {
             "colorbar": {
              "outlinewidth": 0,
              "ticks": ""
             }
            },
            "marker": {
             "colorbar": {
              "outlinewidth": 0,
              "ticks": ""
             }
            },
            "type": "scatter3d"
           }
          ],
          "scattercarpet": [
           {
            "marker": {
             "colorbar": {
              "outlinewidth": 0,
              "ticks": ""
             }
            },
            "type": "scattercarpet"
           }
          ],
          "scattergeo": [
           {
            "marker": {
             "colorbar": {
              "outlinewidth": 0,
              "ticks": ""
             }
            },
            "type": "scattergeo"
           }
          ],
          "scattergl": [
           {
            "marker": {
             "colorbar": {
              "outlinewidth": 0,
              "ticks": ""
             }
            },
            "type": "scattergl"
           }
          ],
          "scattermapbox": [
           {
            "marker": {
             "colorbar": {
              "outlinewidth": 0,
              "ticks": ""
             }
            },
            "type": "scattermapbox"
           }
          ],
          "scatterpolar": [
           {
            "marker": {
             "colorbar": {
              "outlinewidth": 0,
              "ticks": ""
             }
            },
            "type": "scatterpolar"
           }
          ],
          "scatterpolargl": [
           {
            "marker": {
             "colorbar": {
              "outlinewidth": 0,
              "ticks": ""
             }
            },
            "type": "scatterpolargl"
           }
          ],
          "scatterternary": [
           {
            "marker": {
             "colorbar": {
              "outlinewidth": 0,
              "ticks": ""
             }
            },
            "type": "scatterternary"
           }
          ],
          "surface": [
           {
            "colorbar": {
             "outlinewidth": 0,
             "ticks": ""
            },
            "colorscale": [
             [
              0,
              "#0d0887"
             ],
             [
              0.1111111111111111,
              "#46039f"
             ],
             [
              0.2222222222222222,
              "#7201a8"
             ],
             [
              0.3333333333333333,
              "#9c179e"
             ],
             [
              0.4444444444444444,
              "#bd3786"
             ],
             [
              0.5555555555555556,
              "#d8576b"
             ],
             [
              0.6666666666666666,
              "#ed7953"
             ],
             [
              0.7777777777777778,
              "#fb9f3a"
             ],
             [
              0.8888888888888888,
              "#fdca26"
             ],
             [
              1,
              "#f0f921"
             ]
            ],
            "type": "surface"
           }
          ],
          "table": [
           {
            "cells": {
             "fill": {
              "color": "#EBF0F8"
             },
             "line": {
              "color": "white"
             }
            },
            "header": {
             "fill": {
              "color": "#C8D4E3"
             },
             "line": {
              "color": "white"
             }
            },
            "type": "table"
           }
          ]
         },
         "layout": {
          "annotationdefaults": {
           "arrowcolor": "#2a3f5f",
           "arrowhead": 0,
           "arrowwidth": 1
          },
          "autotypenumbers": "strict",
          "coloraxis": {
           "colorbar": {
            "outlinewidth": 0,
            "ticks": ""
           }
          },
          "colorscale": {
           "diverging": [
            [
             0,
             "#8e0152"
            ],
            [
             0.1,
             "#c51b7d"
            ],
            [
             0.2,
             "#de77ae"
            ],
            [
             0.3,
             "#f1b6da"
            ],
            [
             0.4,
             "#fde0ef"
            ],
            [
             0.5,
             "#f7f7f7"
            ],
            [
             0.6,
             "#e6f5d0"
            ],
            [
             0.7,
             "#b8e186"
            ],
            [
             0.8,
             "#7fbc41"
            ],
            [
             0.9,
             "#4d9221"
            ],
            [
             1,
             "#276419"
            ]
           ],
           "sequential": [
            [
             0,
             "#0d0887"
            ],
            [
             0.1111111111111111,
             "#46039f"
            ],
            [
             0.2222222222222222,
             "#7201a8"
            ],
            [
             0.3333333333333333,
             "#9c179e"
            ],
            [
             0.4444444444444444,
             "#bd3786"
            ],
            [
             0.5555555555555556,
             "#d8576b"
            ],
            [
             0.6666666666666666,
             "#ed7953"
            ],
            [
             0.7777777777777778,
             "#fb9f3a"
            ],
            [
             0.8888888888888888,
             "#fdca26"
            ],
            [
             1,
             "#f0f921"
            ]
           ],
           "sequentialminus": [
            [
             0,
             "#0d0887"
            ],
            [
             0.1111111111111111,
             "#46039f"
            ],
            [
             0.2222222222222222,
             "#7201a8"
            ],
            [
             0.3333333333333333,
             "#9c179e"
            ],
            [
             0.4444444444444444,
             "#bd3786"
            ],
            [
             0.5555555555555556,
             "#d8576b"
            ],
            [
             0.6666666666666666,
             "#ed7953"
            ],
            [
             0.7777777777777778,
             "#fb9f3a"
            ],
            [
             0.8888888888888888,
             "#fdca26"
            ],
            [
             1,
             "#f0f921"
            ]
           ]
          },
          "colorway": [
           "#636efa",
           "#EF553B",
           "#00cc96",
           "#ab63fa",
           "#FFA15A",
           "#19d3f3",
           "#FF6692",
           "#B6E880",
           "#FF97FF",
           "#FECB52"
          ],
          "font": {
           "color": "#2a3f5f"
          },
          "geo": {
           "bgcolor": "white",
           "lakecolor": "white",
           "landcolor": "#E5ECF6",
           "showlakes": true,
           "showland": true,
           "subunitcolor": "white"
          },
          "hoverlabel": {
           "align": "left"
          },
          "hovermode": "closest",
          "mapbox": {
           "style": "light"
          },
          "paper_bgcolor": "white",
          "plot_bgcolor": "#E5ECF6",
          "polar": {
           "angularaxis": {
            "gridcolor": "white",
            "linecolor": "white",
            "ticks": ""
           },
           "bgcolor": "#E5ECF6",
           "radialaxis": {
            "gridcolor": "white",
            "linecolor": "white",
            "ticks": ""
           }
          },
          "scene": {
           "xaxis": {
            "backgroundcolor": "#E5ECF6",
            "gridcolor": "white",
            "gridwidth": 2,
            "linecolor": "white",
            "showbackground": true,
            "ticks": "",
            "zerolinecolor": "white"
           },
           "yaxis": {
            "backgroundcolor": "#E5ECF6",
            "gridcolor": "white",
            "gridwidth": 2,
            "linecolor": "white",
            "showbackground": true,
            "ticks": "",
            "zerolinecolor": "white"
           },
           "zaxis": {
            "backgroundcolor": "#E5ECF6",
            "gridcolor": "white",
            "gridwidth": 2,
            "linecolor": "white",
            "showbackground": true,
            "ticks": "",
            "zerolinecolor": "white"
           }
          },
          "shapedefaults": {
           "line": {
            "color": "#2a3f5f"
           }
          },
          "ternary": {
           "aaxis": {
            "gridcolor": "white",
            "linecolor": "white",
            "ticks": ""
           },
           "baxis": {
            "gridcolor": "white",
            "linecolor": "white",
            "ticks": ""
           },
           "bgcolor": "#E5ECF6",
           "caxis": {
            "gridcolor": "white",
            "linecolor": "white",
            "ticks": ""
           }
          },
          "title": {
           "x": 0.05
          },
          "xaxis": {
           "automargin": true,
           "gridcolor": "white",
           "linecolor": "white",
           "ticks": "",
           "title": {
            "standoff": 15
           },
           "zerolinecolor": "white",
           "zerolinewidth": 2
          },
          "yaxis": {
           "automargin": true,
           "gridcolor": "white",
           "linecolor": "white",
           "ticks": "",
           "title": {
            "standoff": 15
           },
           "zerolinecolor": "white",
           "zerolinewidth": 2
          }
         }
        }
       }
      }
     },
     "metadata": {}
    }
   ],
   "source": [
    "sunburst_df = df.copy()\n",
    "sunburst_df[\"kindle\"] = sunburst_df[\"kindle\"].apply({'Si': 'Ha un<br>eReader', 'No': 'Non ha un<br>eReader'}.get)\n",
    "sunburst_device = px.sunburst(sunburst_df, path=['Età', 'Lavoro', 'device', 'kindle'])\n",
    "sunburst_device.show()\n",
    "force = False\n",
    "if not os.path.isfile('./plot/sunburst_device.html') or force:\n",
    "    sunburst_device.write_html('./plot/sunburst_device.html')\n",
    "    sunburst_device.write_image('./plot/sunburst_device.png')\n",
    "sunburst_genre = px.sunburst(sunburst_df, path=['Età', 'Lavoro', 'Genere letterario preferito'])\n",
    "sunburst_genre.show()\n",
    "force = False\n",
    "if not os.path.isfile('./plot/sunburst_genre.html') or force:\n",
    "    sunburst_genre.write_html('./plot/sunburst_genre.html')\n",
    "    sunburst_genre.write_image('./plot/sunburst_genre.png')\n"
   ]
  },
  {
   "cell_type": "code",
   "execution_count": 75,
   "metadata": {},
   "outputs": [],
   "source": [
    "# -- ABSOLUTE AND RELATIVE FOR ALL QUEST PARAMETERS IN JSON -- \n",
    "\n",
    "# Count occourences\n",
    "counter = {key:dict(Counter(df[key])) for key in df}\n",
    "\n",
    "reformatQuestCount = {}\n",
    "reformatQuestCountRel = {}\n",
    "\n",
    "# Absolute frequencies for each option of each parameter\n",
    "for key, value in reformatQuest.items():\n",
    "    reformatQuestCount[key] = {label:counter[key].get(label, 0) for label in value}\n",
    "    \n",
    "# Relative frequencies for each option of each parameter \n",
    "for key, value in reformatQuestCount.items():\n",
    "    total = sum(value.values())\n",
    "    if total != 0:\n",
    "        reformatQuestCountRel[key] = {label:counter[key].get(label, 0)/total for label in value.keys()}\n",
    "    else:\n",
    "        reformatQuestCountRel[key] = {label:0 for label in value.keys()}\n",
    "\n",
    "# You can call this functions to save counts in json format on the current path\n",
    "def serialize_count():\n",
    "    serialize_json(\"dataframes/quest_count.json\", reformatQuestCount)\n",
    "    serialize_json(\"dataframes/quest_count_rel.json\", reformatQuestCount)\n",
    "\n",
    "serialize_count()"
   ]
  },
  {
   "cell_type": "code",
   "execution_count": 62,
   "metadata": {},
   "outputs": [],
   "source": [
    "def get_freq(df, column):\n",
    "    out_df = df\\\n",
    "        .groupby(by=column)\\\n",
    "        .count()[['device']]\\\n",
    "        .reset_index()\\\n",
    "        .rename(columns={'device':'f'})\\\n",
    "        .sort_values(by=['f'], ascending=False)\n",
    "\n",
    "    return out_df\n",
    "\n",
    "def to_relative_freq(df, column='f'):\n",
    "    total_amount = df['f'].sum()\n",
    "    df['f'] = df['f'] / total_amount\n",
    "    \n",
    "    return df\n",
    "\n",
    "def save_plot(figure, name, force=False):\n",
    "    if not os.path.isfile(f'./plot/{name}.html') or force:\n",
    "        figure.write_html(f'./plot/{name}.html')\n",
    "        figure.write_image(f'./plot/{name}.png')"
   ]
  },
  {
   "cell_type": "code",
   "execution_count": 63,
   "metadata": {},
   "outputs": [
    {
     "output_type": "display_data",
     "data": {
      "application/vnd.plotly.v1+json": {
       "config": {
        "plotlyServerURL": "https://plot.ly"
       },
       "data": [
        {
         "alignmentgroup": "True",
         "hovertemplate": "Genere letterario preferito=%{x}<br>Frequenza=%{y}<extra></extra>",
         "legendgroup": "Formazione",
         "marker": {
          "color": "#636efa"
         },
         "name": "Formazione",
         "offsetgroup": "Formazione",
         "orientation": "v",
         "showlegend": true,
         "textposition": "auto",
         "type": "bar",
         "x": [
          "Formazione"
         ],
         "xaxis": "x",
         "y": [
          0.20754716981132076
         ],
         "yaxis": "y"
        },
        {
         "alignmentgroup": "True",
         "hovertemplate": "Genere letterario preferito=%{x}<br>Frequenza=%{y}<extra></extra>",
         "legendgroup": "Fantasy",
         "marker": {
          "color": "#EF553B"
         },
         "name": "Fantasy",
         "offsetgroup": "Fantasy",
         "orientation": "v",
         "showlegend": true,
         "textposition": "auto",
         "type": "bar",
         "x": [
          "Fantasy"
         ],
         "xaxis": "x",
         "y": [
          0.18867924528301888
         ],
         "yaxis": "y"
        },
        {
         "alignmentgroup": "True",
         "hovertemplate": "Genere letterario preferito=%{x}<br>Frequenza=%{y}<extra></extra>",
         "legendgroup": "Giallo",
         "marker": {
          "color": "#00cc96"
         },
         "name": "Giallo",
         "offsetgroup": "Giallo",
         "orientation": "v",
         "showlegend": true,
         "textposition": "auto",
         "type": "bar",
         "x": [
          "Giallo"
         ],
         "xaxis": "x",
         "y": [
          0.1509433962264151
         ],
         "yaxis": "y"
        },
        {
         "alignmentgroup": "True",
         "hovertemplate": "Genere letterario preferito=%{x}<br>Frequenza=%{y}<extra></extra>",
         "legendgroup": "Psicologico",
         "marker": {
          "color": "#ab63fa"
         },
         "name": "Psicologico",
         "offsetgroup": "Psicologico",
         "orientation": "v",
         "showlegend": true,
         "textposition": "auto",
         "type": "bar",
         "x": [
          "Psicologico"
         ],
         "xaxis": "x",
         "y": [
          0.11320754716981132
         ],
         "yaxis": "y"
        },
        {
         "alignmentgroup": "True",
         "hovertemplate": "Genere letterario preferito=%{x}<br>Frequenza=%{y}<extra></extra>",
         "legendgroup": "Storico",
         "marker": {
          "color": "#FFA15A"
         },
         "name": "Storico",
         "offsetgroup": "Storico",
         "orientation": "v",
         "showlegend": true,
         "textposition": "auto",
         "type": "bar",
         "x": [
          "Storico"
         ],
         "xaxis": "x",
         "y": [
          0.07547169811320754
         ],
         "yaxis": "y"
        },
        {
         "alignmentgroup": "True",
         "hovertemplate": "Genere letterario preferito=%{x}<br>Frequenza=%{y}<extra></extra>",
         "legendgroup": "Avventura",
         "marker": {
          "color": "#19d3f3"
         },
         "name": "Avventura",
         "offsetgroup": "Avventura",
         "orientation": "v",
         "showlegend": true,
         "textposition": "auto",
         "type": "bar",
         "x": [
          "Avventura"
         ],
         "xaxis": "x",
         "y": [
          0.05660377358490566
         ],
         "yaxis": "y"
        },
        {
         "alignmentgroup": "True",
         "hovertemplate": "Genere letterario preferito=%{x}<br>Frequenza=%{y}<extra></extra>",
         "legendgroup": "Biografia",
         "marker": {
          "color": "#FF6692"
         },
         "name": "Biografia",
         "offsetgroup": "Biografia",
         "orientation": "v",
         "showlegend": true,
         "textposition": "auto",
         "type": "bar",
         "x": [
          "Biografia"
         ],
         "xaxis": "x",
         "y": [
          0.05660377358490566
         ],
         "yaxis": "y"
        },
        {
         "alignmentgroup": "True",
         "hovertemplate": "Genere letterario preferito=%{x}<br>Frequenza=%{y}<extra></extra>",
         "legendgroup": "Azione/Thriller",
         "marker": {
          "color": "#B6E880"
         },
         "name": "Azione/Thriller",
         "offsetgroup": "Azione/Thriller",
         "orientation": "v",
         "showlegend": true,
         "textposition": "auto",
         "type": "bar",
         "x": [
          "Azione/Thriller"
         ],
         "xaxis": "x",
         "y": [
          0.03773584905660377
         ],
         "yaxis": "y"
        },
        {
         "alignmentgroup": "True",
         "hovertemplate": "Genere letterario preferito=%{x}<br>Frequenza=%{y}<extra></extra>",
         "legendgroup": "Rosa",
         "marker": {
          "color": "#FF97FF"
         },
         "name": "Rosa",
         "offsetgroup": "Rosa",
         "orientation": "v",
         "showlegend": true,
         "textposition": "auto",
         "type": "bar",
         "x": [
          "Rosa"
         ],
         "xaxis": "x",
         "y": [
          0.03773584905660377
         ],
         "yaxis": "y"
        },
        {
         "alignmentgroup": "True",
         "hovertemplate": "Genere letterario preferito=%{x}<br>Frequenza=%{y}<extra></extra>",
         "legendgroup": "Storiografia",
         "marker": {
          "color": "#FECB52"
         },
         "name": "Storiografia",
         "offsetgroup": "Storiografia",
         "orientation": "v",
         "showlegend": true,
         "textposition": "auto",
         "type": "bar",
         "x": [
          "Storiografia"
         ],
         "xaxis": "x",
         "y": [
          0.03773584905660377
         ],
         "yaxis": "y"
        },
        {
         "alignmentgroup": "True",
         "hovertemplate": "Genere letterario preferito=%{x}<br>Frequenza=%{y}<extra></extra>",
         "legendgroup": "Sci-Fi",
         "marker": {
          "color": "#636efa"
         },
         "name": "Sci-Fi",
         "offsetgroup": "Sci-Fi",
         "orientation": "v",
         "showlegend": true,
         "textposition": "auto",
         "type": "bar",
         "x": [
          "Sci-Fi"
         ],
         "xaxis": "x",
         "y": [
          0.018867924528301886
         ],
         "yaxis": "y"
        },
        {
         "alignmentgroup": "True",
         "hovertemplate": "Genere letterario preferito=%{x}<br>Frequenza=%{y}<extra></extra>",
         "legendgroup": "Commedia",
         "marker": {
          "color": "#EF553B"
         },
         "name": "Commedia",
         "offsetgroup": "Commedia",
         "orientation": "v",
         "showlegend": true,
         "textposition": "auto",
         "type": "bar",
         "x": [
          "Commedia"
         ],
         "xaxis": "x",
         "y": [
          0.018867924528301886
         ],
         "yaxis": "y"
        },
        {
         "alignmentgroup": "True",
         "hovertemplate": "Genere letterario preferito=%{x}<br>Frequenza=%{y}<extra></extra>",
         "legendgroup": "Horror",
         "marker": {
          "color": "#00cc96"
         },
         "name": "Horror",
         "offsetgroup": "Horror",
         "orientation": "v",
         "showlegend": true,
         "textposition": "auto",
         "type": "bar",
         "x": [
          "Horror"
         ],
         "xaxis": "x",
         "y": [
          0
         ],
         "yaxis": "y"
        }
       ],
       "layout": {
        "barmode": "relative",
        "legend": {
         "title": {
          "text": "Genere letterario preferito"
         },
         "tracegroupgap": 0
        },
        "margin": {
         "t": 60
        },
        "template": {
         "data": {
          "bar": [
           {
            "error_x": {
             "color": "#2a3f5f"
            },
            "error_y": {
             "color": "#2a3f5f"
            },
            "marker": {
             "line": {
              "color": "#E5ECF6",
              "width": 0.5
             }
            },
            "type": "bar"
           }
          ],
          "barpolar": [
           {
            "marker": {
             "line": {
              "color": "#E5ECF6",
              "width": 0.5
             }
            },
            "type": "barpolar"
           }
          ],
          "carpet": [
           {
            "aaxis": {
             "endlinecolor": "#2a3f5f",
             "gridcolor": "white",
             "linecolor": "white",
             "minorgridcolor": "white",
             "startlinecolor": "#2a3f5f"
            },
            "baxis": {
             "endlinecolor": "#2a3f5f",
             "gridcolor": "white",
             "linecolor": "white",
             "minorgridcolor": "white",
             "startlinecolor": "#2a3f5f"
            },
            "type": "carpet"
           }
          ],
          "choropleth": [
           {
            "colorbar": {
             "outlinewidth": 0,
             "ticks": ""
            },
            "type": "choropleth"
           }
          ],
          "contour": [
           {
            "colorbar": {
             "outlinewidth": 0,
             "ticks": ""
            },
            "colorscale": [
             [
              0,
              "#0d0887"
             ],
             [
              0.1111111111111111,
              "#46039f"
             ],
             [
              0.2222222222222222,
              "#7201a8"
             ],
             [
              0.3333333333333333,
              "#9c179e"
             ],
             [
              0.4444444444444444,
              "#bd3786"
             ],
             [
              0.5555555555555556,
              "#d8576b"
             ],
             [
              0.6666666666666666,
              "#ed7953"
             ],
             [
              0.7777777777777778,
              "#fb9f3a"
             ],
             [
              0.8888888888888888,
              "#fdca26"
             ],
             [
              1,
              "#f0f921"
             ]
            ],
            "type": "contour"
           }
          ],
          "contourcarpet": [
           {
            "colorbar": {
             "outlinewidth": 0,
             "ticks": ""
            },
            "type": "contourcarpet"
           }
          ],
          "heatmap": [
           {
            "colorbar": {
             "outlinewidth": 0,
             "ticks": ""
            },
            "colorscale": [
             [
              0,
              "#0d0887"
             ],
             [
              0.1111111111111111,
              "#46039f"
             ],
             [
              0.2222222222222222,
              "#7201a8"
             ],
             [
              0.3333333333333333,
              "#9c179e"
             ],
             [
              0.4444444444444444,
              "#bd3786"
             ],
             [
              0.5555555555555556,
              "#d8576b"
             ],
             [
              0.6666666666666666,
              "#ed7953"
             ],
             [
              0.7777777777777778,
              "#fb9f3a"
             ],
             [
              0.8888888888888888,
              "#fdca26"
             ],
             [
              1,
              "#f0f921"
             ]
            ],
            "type": "heatmap"
           }
          ],
          "heatmapgl": [
           {
            "colorbar": {
             "outlinewidth": 0,
             "ticks": ""
            },
            "colorscale": [
             [
              0,
              "#0d0887"
             ],
             [
              0.1111111111111111,
              "#46039f"
             ],
             [
              0.2222222222222222,
              "#7201a8"
             ],
             [
              0.3333333333333333,
              "#9c179e"
             ],
             [
              0.4444444444444444,
              "#bd3786"
             ],
             [
              0.5555555555555556,
              "#d8576b"
             ],
             [
              0.6666666666666666,
              "#ed7953"
             ],
             [
              0.7777777777777778,
              "#fb9f3a"
             ],
             [
              0.8888888888888888,
              "#fdca26"
             ],
             [
              1,
              "#f0f921"
             ]
            ],
            "type": "heatmapgl"
           }
          ],
          "histogram": [
           {
            "marker": {
             "colorbar": {
              "outlinewidth": 0,
              "ticks": ""
             }
            },
            "type": "histogram"
           }
          ],
          "histogram2d": [
           {
            "colorbar": {
             "outlinewidth": 0,
             "ticks": ""
            },
            "colorscale": [
             [
              0,
              "#0d0887"
             ],
             [
              0.1111111111111111,
              "#46039f"
             ],
             [
              0.2222222222222222,
              "#7201a8"
             ],
             [
              0.3333333333333333,
              "#9c179e"
             ],
             [
              0.4444444444444444,
              "#bd3786"
             ],
             [
              0.5555555555555556,
              "#d8576b"
             ],
             [
              0.6666666666666666,
              "#ed7953"
             ],
             [
              0.7777777777777778,
              "#fb9f3a"
             ],
             [
              0.8888888888888888,
              "#fdca26"
             ],
             [
              1,
              "#f0f921"
             ]
            ],
            "type": "histogram2d"
           }
          ],
          "histogram2dcontour": [
           {
            "colorbar": {
             "outlinewidth": 0,
             "ticks": ""
            },
            "colorscale": [
             [
              0,
              "#0d0887"
             ],
             [
              0.1111111111111111,
              "#46039f"
             ],
             [
              0.2222222222222222,
              "#7201a8"
             ],
             [
              0.3333333333333333,
              "#9c179e"
             ],
             [
              0.4444444444444444,
              "#bd3786"
             ],
             [
              0.5555555555555556,
              "#d8576b"
             ],
             [
              0.6666666666666666,
              "#ed7953"
             ],
             [
              0.7777777777777778,
              "#fb9f3a"
             ],
             [
              0.8888888888888888,
              "#fdca26"
             ],
             [
              1,
              "#f0f921"
             ]
            ],
            "type": "histogram2dcontour"
           }
          ],
          "mesh3d": [
           {
            "colorbar": {
             "outlinewidth": 0,
             "ticks": ""
            },
            "type": "mesh3d"
           }
          ],
          "parcoords": [
           {
            "line": {
             "colorbar": {
              "outlinewidth": 0,
              "ticks": ""
             }
            },
            "type": "parcoords"
           }
          ],
          "pie": [
           {
            "automargin": true,
            "type": "pie"
           }
          ],
          "scatter": [
           {
            "marker": {
             "colorbar": {
              "outlinewidth": 0,
              "ticks": ""
             }
            },
            "type": "scatter"
           }
          ],
          "scatter3d": [
           {
            "line": {
             "colorbar": {
              "outlinewidth": 0,
              "ticks": ""
             }
            },
            "marker": {
             "colorbar": {
              "outlinewidth": 0,
              "ticks": ""
             }
            },
            "type": "scatter3d"
           }
          ],
          "scattercarpet": [
           {
            "marker": {
             "colorbar": {
              "outlinewidth": 0,
              "ticks": ""
             }
            },
            "type": "scattercarpet"
           }
          ],
          "scattergeo": [
           {
            "marker": {
             "colorbar": {
              "outlinewidth": 0,
              "ticks": ""
             }
            },
            "type": "scattergeo"
           }
          ],
          "scattergl": [
           {
            "marker": {
             "colorbar": {
              "outlinewidth": 0,
              "ticks": ""
             }
            },
            "type": "scattergl"
           }
          ],
          "scattermapbox": [
           {
            "marker": {
             "colorbar": {
              "outlinewidth": 0,
              "ticks": ""
             }
            },
            "type": "scattermapbox"
           }
          ],
          "scatterpolar": [
           {
            "marker": {
             "colorbar": {
              "outlinewidth": 0,
              "ticks": ""
             }
            },
            "type": "scatterpolar"
           }
          ],
          "scatterpolargl": [
           {
            "marker": {
             "colorbar": {
              "outlinewidth": 0,
              "ticks": ""
             }
            },
            "type": "scatterpolargl"
           }
          ],
          "scatterternary": [
           {
            "marker": {
             "colorbar": {
              "outlinewidth": 0,
              "ticks": ""
             }
            },
            "type": "scatterternary"
           }
          ],
          "surface": [
           {
            "colorbar": {
             "outlinewidth": 0,
             "ticks": ""
            },
            "colorscale": [
             [
              0,
              "#0d0887"
             ],
             [
              0.1111111111111111,
              "#46039f"
             ],
             [
              0.2222222222222222,
              "#7201a8"
             ],
             [
              0.3333333333333333,
              "#9c179e"
             ],
             [
              0.4444444444444444,
              "#bd3786"
             ],
             [
              0.5555555555555556,
              "#d8576b"
             ],
             [
              0.6666666666666666,
              "#ed7953"
             ],
             [
              0.7777777777777778,
              "#fb9f3a"
             ],
             [
              0.8888888888888888,
              "#fdca26"
             ],
             [
              1,
              "#f0f921"
             ]
            ],
            "type": "surface"
           }
          ],
          "table": [
           {
            "cells": {
             "fill": {
              "color": "#EBF0F8"
             },
             "line": {
              "color": "white"
             }
            },
            "header": {
             "fill": {
              "color": "#C8D4E3"
             },
             "line": {
              "color": "white"
             }
            },
            "type": "table"
           }
          ]
         },
         "layout": {
          "annotationdefaults": {
           "arrowcolor": "#2a3f5f",
           "arrowhead": 0,
           "arrowwidth": 1
          },
          "autotypenumbers": "strict",
          "coloraxis": {
           "colorbar": {
            "outlinewidth": 0,
            "ticks": ""
           }
          },
          "colorscale": {
           "diverging": [
            [
             0,
             "#8e0152"
            ],
            [
             0.1,
             "#c51b7d"
            ],
            [
             0.2,
             "#de77ae"
            ],
            [
             0.3,
             "#f1b6da"
            ],
            [
             0.4,
             "#fde0ef"
            ],
            [
             0.5,
             "#f7f7f7"
            ],
            [
             0.6,
             "#e6f5d0"
            ],
            [
             0.7,
             "#b8e186"
            ],
            [
             0.8,
             "#7fbc41"
            ],
            [
             0.9,
             "#4d9221"
            ],
            [
             1,
             "#276419"
            ]
           ],
           "sequential": [
            [
             0,
             "#0d0887"
            ],
            [
             0.1111111111111111,
             "#46039f"
            ],
            [
             0.2222222222222222,
             "#7201a8"
            ],
            [
             0.3333333333333333,
             "#9c179e"
            ],
            [
             0.4444444444444444,
             "#bd3786"
            ],
            [
             0.5555555555555556,
             "#d8576b"
            ],
            [
             0.6666666666666666,
             "#ed7953"
            ],
            [
             0.7777777777777778,
             "#fb9f3a"
            ],
            [
             0.8888888888888888,
             "#fdca26"
            ],
            [
             1,
             "#f0f921"
            ]
           ],
           "sequentialminus": [
            [
             0,
             "#0d0887"
            ],
            [
             0.1111111111111111,
             "#46039f"
            ],
            [
             0.2222222222222222,
             "#7201a8"
            ],
            [
             0.3333333333333333,
             "#9c179e"
            ],
            [
             0.4444444444444444,
             "#bd3786"
            ],
            [
             0.5555555555555556,
             "#d8576b"
            ],
            [
             0.6666666666666666,
             "#ed7953"
            ],
            [
             0.7777777777777778,
             "#fb9f3a"
            ],
            [
             0.8888888888888888,
             "#fdca26"
            ],
            [
             1,
             "#f0f921"
            ]
           ]
          },
          "colorway": [
           "#636efa",
           "#EF553B",
           "#00cc96",
           "#ab63fa",
           "#FFA15A",
           "#19d3f3",
           "#FF6692",
           "#B6E880",
           "#FF97FF",
           "#FECB52"
          ],
          "font": {
           "color": "#2a3f5f"
          },
          "geo": {
           "bgcolor": "white",
           "lakecolor": "white",
           "landcolor": "#E5ECF6",
           "showlakes": true,
           "showland": true,
           "subunitcolor": "white"
          },
          "hoverlabel": {
           "align": "left"
          },
          "hovermode": "closest",
          "mapbox": {
           "style": "light"
          },
          "paper_bgcolor": "white",
          "plot_bgcolor": "#E5ECF6",
          "polar": {
           "angularaxis": {
            "gridcolor": "white",
            "linecolor": "white",
            "ticks": ""
           },
           "bgcolor": "#E5ECF6",
           "radialaxis": {
            "gridcolor": "white",
            "linecolor": "white",
            "ticks": ""
           }
          },
          "scene": {
           "xaxis": {
            "backgroundcolor": "#E5ECF6",
            "gridcolor": "white",
            "gridwidth": 2,
            "linecolor": "white",
            "showbackground": true,
            "ticks": "",
            "zerolinecolor": "white"
           },
           "yaxis": {
            "backgroundcolor": "#E5ECF6",
            "gridcolor": "white",
            "gridwidth": 2,
            "linecolor": "white",
            "showbackground": true,
            "ticks": "",
            "zerolinecolor": "white"
           },
           "zaxis": {
            "backgroundcolor": "#E5ECF6",
            "gridcolor": "white",
            "gridwidth": 2,
            "linecolor": "white",
            "showbackground": true,
            "ticks": "",
            "zerolinecolor": "white"
           }
          },
          "shapedefaults": {
           "line": {
            "color": "#2a3f5f"
           }
          },
          "ternary": {
           "aaxis": {
            "gridcolor": "white",
            "linecolor": "white",
            "ticks": ""
           },
           "baxis": {
            "gridcolor": "white",
            "linecolor": "white",
            "ticks": ""
           },
           "bgcolor": "#E5ECF6",
           "caxis": {
            "gridcolor": "white",
            "linecolor": "white",
            "ticks": ""
           }
          },
          "title": {
           "x": 0.05
          },
          "xaxis": {
           "automargin": true,
           "gridcolor": "white",
           "linecolor": "white",
           "ticks": "",
           "title": {
            "standoff": 15
           },
           "zerolinecolor": "white",
           "zerolinewidth": 2
          },
          "yaxis": {
           "automargin": true,
           "gridcolor": "white",
           "linecolor": "white",
           "ticks": "",
           "title": {
            "standoff": 15
           },
           "zerolinecolor": "white",
           "zerolinewidth": 2
          }
         }
        },
        "xaxis": {
         "anchor": "y",
         "categoryarray": [
          "Formazione",
          "Fantasy",
          "Giallo",
          "Psicologico",
          "Storico",
          "Avventura",
          "Biografia",
          "Azione/Thriller",
          "Rosa",
          "Storiografia",
          "Sci-Fi",
          "Commedia",
          "Horror"
         ],
         "categoryorder": "array",
         "domain": [
          0,
          1
         ],
         "title": {
          "text": "Genere letterario preferito"
         }
        },
        "yaxis": {
         "anchor": "x",
         "domain": [
          0,
          1
         ],
         "tickformat": "%",
         "title": {
          "text": "Frequenza"
         }
        }
       }
      }
     },
     "metadata": {}
    }
   ],
   "source": [
    "# Convert the genre list into a df\n",
    "df_genre = pd.DataFrame(reformatQuest['Genere letterario preferito'], columns=['Genere letterario preferito'])\n",
    "\n",
    "# Count occurrences, transform in a df and rename\n",
    "counts = df['Genere letterario preferito']\\\n",
    "    .value_counts()\\\n",
    "    .to_frame()\\\n",
    "    .rename(columns={'Genere letterario preferito': 'f'})\n",
    "\n",
    "# Join the previous two, replace NaN with 0s and sort everything for better view\n",
    "df_genre = df_genre\\\n",
    "    .join(counts, on='Genere letterario preferito')\\\n",
    "    .replace(np.NaN, 0)\\\n",
    "    .sort_values(by='f', ascending=False)\n",
    "\n",
    "# From float to int\n",
    "df_genre['f'] = df_genre['f'].astype(int)\n",
    "\n",
    "# Relative freq\n",
    "total_amount = df_genre['f'].sum()\n",
    "df_genre['f'] = df_genre['f'] / total_amount\n",
    "\n",
    "# Plot everything\n",
    "bar_genre = px.bar(df_genre, x = 'Genere letterario preferito', y = 'f', labels={'f': 'Frequenza'}, color='Genere letterario preferito')\n",
    "\n",
    "# Add % sign to the ticks\n",
    "bar_genre.update_layout(yaxis_tickformat = '%')\n",
    "bar_genre.show()\n",
    "save_plot(bar_genre, 'bar_genre')"
   ]
  },
  {
   "cell_type": "code",
   "execution_count": 64,
   "metadata": {
    "collapsed": false,
    "jupyter": {
     "outputs_hidden": false
    },
    "pycharm": {
     "name": "#%%\n"
    }
   },
   "outputs": [
    {
     "output_type": "display_data",
     "data": {
      "application/vnd.plotly.v1+json": {
       "config": {
        "plotlyServerURL": "https://plot.ly"
       },
       "data": [
        {
         "alignmentgroup": "True",
         "hovertemplate": "Età=18-25<br>Genere letterario preferito=%{x}<br>Frequenza=%{y}<extra></extra>",
         "legendgroup": "18-25",
         "marker": {
          "color": "#636efa"
         },
         "name": "18-25",
         "offsetgroup": "18-25",
         "orientation": "v",
         "showlegend": true,
         "textposition": "auto",
         "type": "bar",
         "x": [
          "Fantasy",
          "Formazione",
          "Giallo",
          "Psicologico",
          "Avventura",
          "Biografia",
          "Storiografia",
          "Commedia",
          "Rosa",
          "Sci-Fi",
          "Azione/Thriller"
         ],
         "xaxis": "x",
         "y": [
          0.1509433962264151,
          0.11320754716981132,
          0.09433962264150944,
          0.05660377358490566,
          0.03773584905660377,
          0.03773584905660377,
          0.03773584905660377,
          0.018867924528301886,
          0.018867924528301886,
          0.018867924528301886,
          0.018867924528301886
         ],
         "yaxis": "y"
        },
        {
         "alignmentgroup": "True",
         "hovertemplate": "Età=56+<br>Genere letterario preferito=%{x}<br>Frequenza=%{y}<extra></extra>",
         "legendgroup": "56+",
         "marker": {
          "color": "#EF553B"
         },
         "name": "56+",
         "offsetgroup": "56+",
         "orientation": "v",
         "showlegend": true,
         "textposition": "auto",
         "type": "bar",
         "x": [
          "Storico",
          "Formazione",
          "Fantasy"
         ],
         "xaxis": "x",
         "y": [
          0.05660377358490566,
          0.018867924528301886,
          0.018867924528301886
         ],
         "yaxis": "y"
        },
        {
         "alignmentgroup": "True",
         "hovertemplate": "Età=46-55<br>Genere letterario preferito=%{x}<br>Frequenza=%{y}<extra></extra>",
         "legendgroup": "46-55",
         "marker": {
          "color": "#00cc96"
         },
         "name": "46-55",
         "offsetgroup": "46-55",
         "orientation": "v",
         "showlegend": true,
         "textposition": "auto",
         "type": "bar",
         "x": [
          "Giallo",
          "Formazione",
          "Psicologico",
          "Rosa",
          "Storico"
         ],
         "xaxis": "x",
         "y": [
          0.05660377358490566,
          0.03773584905660377,
          0.018867924528301886,
          0.018867924528301886,
          0.018867924528301886
         ],
         "yaxis": "y"
        },
        {
         "alignmentgroup": "True",
         "hovertemplate": "Età=26-35<br>Genere letterario preferito=%{x}<br>Frequenza=%{y}<extra></extra>",
         "legendgroup": "26-35",
         "marker": {
          "color": "#ab63fa"
         },
         "name": "26-35",
         "offsetgroup": "26-35",
         "orientation": "v",
         "showlegend": true,
         "textposition": "auto",
         "type": "bar",
         "x": [
          "Psicologico",
          "Formazione",
          "Avventura",
          "Fantasy",
          "Azione/Thriller"
         ],
         "xaxis": "x",
         "y": [
          0.03773584905660377,
          0.018867924528301886,
          0.018867924528301886,
          0.018867924528301886,
          0.018867924528301886
         ],
         "yaxis": "y"
        },
        {
         "alignmentgroup": "True",
         "hovertemplate": "Età=36-45<br>Genere letterario preferito=%{x}<br>Frequenza=%{y}<extra></extra>",
         "legendgroup": "36-45",
         "marker": {
          "color": "#FFA15A"
         },
         "name": "36-45",
         "offsetgroup": "36-45",
         "orientation": "v",
         "showlegend": true,
         "textposition": "auto",
         "type": "bar",
         "x": [
          "Formazione",
          "Biografia"
         ],
         "xaxis": "x",
         "y": [
          0.018867924528301886,
          0.018867924528301886
         ],
         "yaxis": "y"
        }
       ],
       "layout": {
        "barmode": "relative",
        "legend": {
         "title": {
          "text": "Età"
         },
         "tracegroupgap": 0
        },
        "margin": {
         "t": 60
        },
        "template": {
         "data": {
          "bar": [
           {
            "error_x": {
             "color": "#2a3f5f"
            },
            "error_y": {
             "color": "#2a3f5f"
            },
            "marker": {
             "line": {
              "color": "#E5ECF6",
              "width": 0.5
             }
            },
            "type": "bar"
           }
          ],
          "barpolar": [
           {
            "marker": {
             "line": {
              "color": "#E5ECF6",
              "width": 0.5
             }
            },
            "type": "barpolar"
           }
          ],
          "carpet": [
           {
            "aaxis": {
             "endlinecolor": "#2a3f5f",
             "gridcolor": "white",
             "linecolor": "white",
             "minorgridcolor": "white",
             "startlinecolor": "#2a3f5f"
            },
            "baxis": {
             "endlinecolor": "#2a3f5f",
             "gridcolor": "white",
             "linecolor": "white",
             "minorgridcolor": "white",
             "startlinecolor": "#2a3f5f"
            },
            "type": "carpet"
           }
          ],
          "choropleth": [
           {
            "colorbar": {
             "outlinewidth": 0,
             "ticks": ""
            },
            "type": "choropleth"
           }
          ],
          "contour": [
           {
            "colorbar": {
             "outlinewidth": 0,
             "ticks": ""
            },
            "colorscale": [
             [
              0,
              "#0d0887"
             ],
             [
              0.1111111111111111,
              "#46039f"
             ],
             [
              0.2222222222222222,
              "#7201a8"
             ],
             [
              0.3333333333333333,
              "#9c179e"
             ],
             [
              0.4444444444444444,
              "#bd3786"
             ],
             [
              0.5555555555555556,
              "#d8576b"
             ],
             [
              0.6666666666666666,
              "#ed7953"
             ],
             [
              0.7777777777777778,
              "#fb9f3a"
             ],
             [
              0.8888888888888888,
              "#fdca26"
             ],
             [
              1,
              "#f0f921"
             ]
            ],
            "type": "contour"
           }
          ],
          "contourcarpet": [
           {
            "colorbar": {
             "outlinewidth": 0,
             "ticks": ""
            },
            "type": "contourcarpet"
           }
          ],
          "heatmap": [
           {
            "colorbar": {
             "outlinewidth": 0,
             "ticks": ""
            },
            "colorscale": [
             [
              0,
              "#0d0887"
             ],
             [
              0.1111111111111111,
              "#46039f"
             ],
             [
              0.2222222222222222,
              "#7201a8"
             ],
             [
              0.3333333333333333,
              "#9c179e"
             ],
             [
              0.4444444444444444,
              "#bd3786"
             ],
             [
              0.5555555555555556,
              "#d8576b"
             ],
             [
              0.6666666666666666,
              "#ed7953"
             ],
             [
              0.7777777777777778,
              "#fb9f3a"
             ],
             [
              0.8888888888888888,
              "#fdca26"
             ],
             [
              1,
              "#f0f921"
             ]
            ],
            "type": "heatmap"
           }
          ],
          "heatmapgl": [
           {
            "colorbar": {
             "outlinewidth": 0,
             "ticks": ""
            },
            "colorscale": [
             [
              0,
              "#0d0887"
             ],
             [
              0.1111111111111111,
              "#46039f"
             ],
             [
              0.2222222222222222,
              "#7201a8"
             ],
             [
              0.3333333333333333,
              "#9c179e"
             ],
             [
              0.4444444444444444,
              "#bd3786"
             ],
             [
              0.5555555555555556,
              "#d8576b"
             ],
             [
              0.6666666666666666,
              "#ed7953"
             ],
             [
              0.7777777777777778,
              "#fb9f3a"
             ],
             [
              0.8888888888888888,
              "#fdca26"
             ],
             [
              1,
              "#f0f921"
             ]
            ],
            "type": "heatmapgl"
           }
          ],
          "histogram": [
           {
            "marker": {
             "colorbar": {
              "outlinewidth": 0,
              "ticks": ""
             }
            },
            "type": "histogram"
           }
          ],
          "histogram2d": [
           {
            "colorbar": {
             "outlinewidth": 0,
             "ticks": ""
            },
            "colorscale": [
             [
              0,
              "#0d0887"
             ],
             [
              0.1111111111111111,
              "#46039f"
             ],
             [
              0.2222222222222222,
              "#7201a8"
             ],
             [
              0.3333333333333333,
              "#9c179e"
             ],
             [
              0.4444444444444444,
              "#bd3786"
             ],
             [
              0.5555555555555556,
              "#d8576b"
             ],
             [
              0.6666666666666666,
              "#ed7953"
             ],
             [
              0.7777777777777778,
              "#fb9f3a"
             ],
             [
              0.8888888888888888,
              "#fdca26"
             ],
             [
              1,
              "#f0f921"
             ]
            ],
            "type": "histogram2d"
           }
          ],
          "histogram2dcontour": [
           {
            "colorbar": {
             "outlinewidth": 0,
             "ticks": ""
            },
            "colorscale": [
             [
              0,
              "#0d0887"
             ],
             [
              0.1111111111111111,
              "#46039f"
             ],
             [
              0.2222222222222222,
              "#7201a8"
             ],
             [
              0.3333333333333333,
              "#9c179e"
             ],
             [
              0.4444444444444444,
              "#bd3786"
             ],
             [
              0.5555555555555556,
              "#d8576b"
             ],
             [
              0.6666666666666666,
              "#ed7953"
             ],
             [
              0.7777777777777778,
              "#fb9f3a"
             ],
             [
              0.8888888888888888,
              "#fdca26"
             ],
             [
              1,
              "#f0f921"
             ]
            ],
            "type": "histogram2dcontour"
           }
          ],
          "mesh3d": [
           {
            "colorbar": {
             "outlinewidth": 0,
             "ticks": ""
            },
            "type": "mesh3d"
           }
          ],
          "parcoords": [
           {
            "line": {
             "colorbar": {
              "outlinewidth": 0,
              "ticks": ""
             }
            },
            "type": "parcoords"
           }
          ],
          "pie": [
           {
            "automargin": true,
            "type": "pie"
           }
          ],
          "scatter": [
           {
            "marker": {
             "colorbar": {
              "outlinewidth": 0,
              "ticks": ""
             }
            },
            "type": "scatter"
           }
          ],
          "scatter3d": [
           {
            "line": {
             "colorbar": {
              "outlinewidth": 0,
              "ticks": ""
             }
            },
            "marker": {
             "colorbar": {
              "outlinewidth": 0,
              "ticks": ""
             }
            },
            "type": "scatter3d"
           }
          ],
          "scattercarpet": [
           {
            "marker": {
             "colorbar": {
              "outlinewidth": 0,
              "ticks": ""
             }
            },
            "type": "scattercarpet"
           }
          ],
          "scattergeo": [
           {
            "marker": {
             "colorbar": {
              "outlinewidth": 0,
              "ticks": ""
             }
            },
            "type": "scattergeo"
           }
          ],
          "scattergl": [
           {
            "marker": {
             "colorbar": {
              "outlinewidth": 0,
              "ticks": ""
             }
            },
            "type": "scattergl"
           }
          ],
          "scattermapbox": [
           {
            "marker": {
             "colorbar": {
              "outlinewidth": 0,
              "ticks": ""
             }
            },
            "type": "scattermapbox"
           }
          ],
          "scatterpolar": [
           {
            "marker": {
             "colorbar": {
              "outlinewidth": 0,
              "ticks": ""
             }
            },
            "type": "scatterpolar"
           }
          ],
          "scatterpolargl": [
           {
            "marker": {
             "colorbar": {
              "outlinewidth": 0,
              "ticks": ""
             }
            },
            "type": "scatterpolargl"
           }
          ],
          "scatterternary": [
           {
            "marker": {
             "colorbar": {
              "outlinewidth": 0,
              "ticks": ""
             }
            },
            "type": "scatterternary"
           }
          ],
          "surface": [
           {
            "colorbar": {
             "outlinewidth": 0,
             "ticks": ""
            },
            "colorscale": [
             [
              0,
              "#0d0887"
             ],
             [
              0.1111111111111111,
              "#46039f"
             ],
             [
              0.2222222222222222,
              "#7201a8"
             ],
             [
              0.3333333333333333,
              "#9c179e"
             ],
             [
              0.4444444444444444,
              "#bd3786"
             ],
             [
              0.5555555555555556,
              "#d8576b"
             ],
             [
              0.6666666666666666,
              "#ed7953"
             ],
             [
              0.7777777777777778,
              "#fb9f3a"
             ],
             [
              0.8888888888888888,
              "#fdca26"
             ],
             [
              1,
              "#f0f921"
             ]
            ],
            "type": "surface"
           }
          ],
          "table": [
           {
            "cells": {
             "fill": {
              "color": "#EBF0F8"
             },
             "line": {
              "color": "white"
             }
            },
            "header": {
             "fill": {
              "color": "#C8D4E3"
             },
             "line": {
              "color": "white"
             }
            },
            "type": "table"
           }
          ]
         },
         "layout": {
          "annotationdefaults": {
           "arrowcolor": "#2a3f5f",
           "arrowhead": 0,
           "arrowwidth": 1
          },
          "autotypenumbers": "strict",
          "coloraxis": {
           "colorbar": {
            "outlinewidth": 0,
            "ticks": ""
           }
          },
          "colorscale": {
           "diverging": [
            [
             0,
             "#8e0152"
            ],
            [
             0.1,
             "#c51b7d"
            ],
            [
             0.2,
             "#de77ae"
            ],
            [
             0.3,
             "#f1b6da"
            ],
            [
             0.4,
             "#fde0ef"
            ],
            [
             0.5,
             "#f7f7f7"
            ],
            [
             0.6,
             "#e6f5d0"
            ],
            [
             0.7,
             "#b8e186"
            ],
            [
             0.8,
             "#7fbc41"
            ],
            [
             0.9,
             "#4d9221"
            ],
            [
             1,
             "#276419"
            ]
           ],
           "sequential": [
            [
             0,
             "#0d0887"
            ],
            [
             0.1111111111111111,
             "#46039f"
            ],
            [
             0.2222222222222222,
             "#7201a8"
            ],
            [
             0.3333333333333333,
             "#9c179e"
            ],
            [
             0.4444444444444444,
             "#bd3786"
            ],
            [
             0.5555555555555556,
             "#d8576b"
            ],
            [
             0.6666666666666666,
             "#ed7953"
            ],
            [
             0.7777777777777778,
             "#fb9f3a"
            ],
            [
             0.8888888888888888,
             "#fdca26"
            ],
            [
             1,
             "#f0f921"
            ]
           ],
           "sequentialminus": [
            [
             0,
             "#0d0887"
            ],
            [
             0.1111111111111111,
             "#46039f"
            ],
            [
             0.2222222222222222,
             "#7201a8"
            ],
            [
             0.3333333333333333,
             "#9c179e"
            ],
            [
             0.4444444444444444,
             "#bd3786"
            ],
            [
             0.5555555555555556,
             "#d8576b"
            ],
            [
             0.6666666666666666,
             "#ed7953"
            ],
            [
             0.7777777777777778,
             "#fb9f3a"
            ],
            [
             0.8888888888888888,
             "#fdca26"
            ],
            [
             1,
             "#f0f921"
            ]
           ]
          },
          "colorway": [
           "#636efa",
           "#EF553B",
           "#00cc96",
           "#ab63fa",
           "#FFA15A",
           "#19d3f3",
           "#FF6692",
           "#B6E880",
           "#FF97FF",
           "#FECB52"
          ],
          "font": {
           "color": "#2a3f5f"
          },
          "geo": {
           "bgcolor": "white",
           "lakecolor": "white",
           "landcolor": "#E5ECF6",
           "showlakes": true,
           "showland": true,
           "subunitcolor": "white"
          },
          "hoverlabel": {
           "align": "left"
          },
          "hovermode": "closest",
          "mapbox": {
           "style": "light"
          },
          "paper_bgcolor": "white",
          "plot_bgcolor": "#E5ECF6",
          "polar": {
           "angularaxis": {
            "gridcolor": "white",
            "linecolor": "white",
            "ticks": ""
           },
           "bgcolor": "#E5ECF6",
           "radialaxis": {
            "gridcolor": "white",
            "linecolor": "white",
            "ticks": ""
           }
          },
          "scene": {
           "xaxis": {
            "backgroundcolor": "#E5ECF6",
            "gridcolor": "white",
            "gridwidth": 2,
            "linecolor": "white",
            "showbackground": true,
            "ticks": "",
            "zerolinecolor": "white"
           },
           "yaxis": {
            "backgroundcolor": "#E5ECF6",
            "gridcolor": "white",
            "gridwidth": 2,
            "linecolor": "white",
            "showbackground": true,
            "ticks": "",
            "zerolinecolor": "white"
           },
           "zaxis": {
            "backgroundcolor": "#E5ECF6",
            "gridcolor": "white",
            "gridwidth": 2,
            "linecolor": "white",
            "showbackground": true,
            "ticks": "",
            "zerolinecolor": "white"
           }
          },
          "shapedefaults": {
           "line": {
            "color": "#2a3f5f"
           }
          },
          "ternary": {
           "aaxis": {
            "gridcolor": "white",
            "linecolor": "white",
            "ticks": ""
           },
           "baxis": {
            "gridcolor": "white",
            "linecolor": "white",
            "ticks": ""
           },
           "bgcolor": "#E5ECF6",
           "caxis": {
            "gridcolor": "white",
            "linecolor": "white",
            "ticks": ""
           }
          },
          "title": {
           "x": 0.05
          },
          "xaxis": {
           "automargin": true,
           "gridcolor": "white",
           "linecolor": "white",
           "ticks": "",
           "title": {
            "standoff": 15
           },
           "zerolinecolor": "white",
           "zerolinewidth": 2
          },
          "yaxis": {
           "automargin": true,
           "gridcolor": "white",
           "linecolor": "white",
           "ticks": "",
           "title": {
            "standoff": 15
           },
           "zerolinecolor": "white",
           "zerolinewidth": 2
          }
         }
        },
        "xaxis": {
         "anchor": "y",
         "domain": [
          0,
          1
         ],
         "title": {
          "text": "Genere letterario preferito"
         }
        },
        "yaxis": {
         "anchor": "x",
         "domain": [
          0,
          1
         ],
         "tickformat": "%",
         "title": {
          "text": "Frequenza"
         }
        }
       }
      }
     },
     "metadata": {}
    }
   ],
   "source": [
    "# Plot based on genre and age\n",
    "df_genre_age = get_freq(df, ['Genere letterario preferito', 'Età'])\n",
    "\n",
    "# Relative freq\n",
    "df_genre_age = to_relative_freq(df_genre_age)\n",
    "\n",
    "bar_genre_age = px.bar(df_genre_age, x = 'Genere letterario preferito', labels = {'f': 'Frequenza'}, y = 'f', color='Età')\n",
    "\n",
    "# Add % sign to the ticks\n",
    "bar_genre_age.update_layout(yaxis_tickformat = '%')\n",
    "\n",
    "bar_genre_age.show()\n",
    "save_plot(bar_genre_age, 'bar_genre_age')"
   ]
  },
  {
   "cell_type": "code",
   "execution_count": 65,
   "metadata": {},
   "outputs": [
    {
     "output_type": "display_data",
     "data": {
      "application/vnd.plotly.v1+json": {
       "config": {
        "plotlyServerURL": "https://plot.ly"
       },
       "data": [
        {
         "alignmentgroup": "True",
         "bingroup": "x",
         "histnorm": "probability",
         "hovertemplate": "variable=0<br>Età=%{x}<br>count=%{y}<extra></extra>",
         "legendgroup": "0",
         "marker": {
          "color": "#636efa"
         },
         "name": "0",
         "offsetgroup": "0",
         "orientation": "v",
         "showlegend": true,
         "type": "histogram",
         "x": [
          36,
          46,
          18,
          18,
          18,
          18,
          18,
          18,
          18,
          18,
          18,
          56,
          26,
          26,
          18,
          18,
          18,
          18,
          56,
          18,
          46,
          26,
          18,
          46,
          18,
          18,
          18,
          18,
          46,
          26,
          18,
          18,
          56,
          46,
          26,
          36,
          18,
          46,
          46,
          18,
          18,
          26,
          18,
          18,
          18,
          18,
          18,
          18,
          56,
          18,
          18,
          46,
          56
         ],
         "xaxis": "x",
         "xbins": {
          "end": 80,
          "size": 10,
          "start": 16
         },
         "yaxis": "y"
        }
       ],
       "layout": {
        "barmode": "relative",
        "legend": {
         "title": {
          "text": "variable"
         },
         "tracegroupgap": 0
        },
        "margin": {
         "t": 60
        },
        "showlegend": false,
        "template": {
         "data": {
          "bar": [
           {
            "error_x": {
             "color": "#2a3f5f"
            },
            "error_y": {
             "color": "#2a3f5f"
            },
            "marker": {
             "line": {
              "color": "#E5ECF6",
              "width": 0.5
             }
            },
            "type": "bar"
           }
          ],
          "barpolar": [
           {
            "marker": {
             "line": {
              "color": "#E5ECF6",
              "width": 0.5
             }
            },
            "type": "barpolar"
           }
          ],
          "carpet": [
           {
            "aaxis": {
             "endlinecolor": "#2a3f5f",
             "gridcolor": "white",
             "linecolor": "white",
             "minorgridcolor": "white",
             "startlinecolor": "#2a3f5f"
            },
            "baxis": {
             "endlinecolor": "#2a3f5f",
             "gridcolor": "white",
             "linecolor": "white",
             "minorgridcolor": "white",
             "startlinecolor": "#2a3f5f"
            },
            "type": "carpet"
           }
          ],
          "choropleth": [
           {
            "colorbar": {
             "outlinewidth": 0,
             "ticks": ""
            },
            "type": "choropleth"
           }
          ],
          "contour": [
           {
            "colorbar": {
             "outlinewidth": 0,
             "ticks": ""
            },
            "colorscale": [
             [
              0,
              "#0d0887"
             ],
             [
              0.1111111111111111,
              "#46039f"
             ],
             [
              0.2222222222222222,
              "#7201a8"
             ],
             [
              0.3333333333333333,
              "#9c179e"
             ],
             [
              0.4444444444444444,
              "#bd3786"
             ],
             [
              0.5555555555555556,
              "#d8576b"
             ],
             [
              0.6666666666666666,
              "#ed7953"
             ],
             [
              0.7777777777777778,
              "#fb9f3a"
             ],
             [
              0.8888888888888888,
              "#fdca26"
             ],
             [
              1,
              "#f0f921"
             ]
            ],
            "type": "contour"
           }
          ],
          "contourcarpet": [
           {
            "colorbar": {
             "outlinewidth": 0,
             "ticks": ""
            },
            "type": "contourcarpet"
           }
          ],
          "heatmap": [
           {
            "colorbar": {
             "outlinewidth": 0,
             "ticks": ""
            },
            "colorscale": [
             [
              0,
              "#0d0887"
             ],
             [
              0.1111111111111111,
              "#46039f"
             ],
             [
              0.2222222222222222,
              "#7201a8"
             ],
             [
              0.3333333333333333,
              "#9c179e"
             ],
             [
              0.4444444444444444,
              "#bd3786"
             ],
             [
              0.5555555555555556,
              "#d8576b"
             ],
             [
              0.6666666666666666,
              "#ed7953"
             ],
             [
              0.7777777777777778,
              "#fb9f3a"
             ],
             [
              0.8888888888888888,
              "#fdca26"
             ],
             [
              1,
              "#f0f921"
             ]
            ],
            "type": "heatmap"
           }
          ],
          "heatmapgl": [
           {
            "colorbar": {
             "outlinewidth": 0,
             "ticks": ""
            },
            "colorscale": [
             [
              0,
              "#0d0887"
             ],
             [
              0.1111111111111111,
              "#46039f"
             ],
             [
              0.2222222222222222,
              "#7201a8"
             ],
             [
              0.3333333333333333,
              "#9c179e"
             ],
             [
              0.4444444444444444,
              "#bd3786"
             ],
             [
              0.5555555555555556,
              "#d8576b"
             ],
             [
              0.6666666666666666,
              "#ed7953"
             ],
             [
              0.7777777777777778,
              "#fb9f3a"
             ],
             [
              0.8888888888888888,
              "#fdca26"
             ],
             [
              1,
              "#f0f921"
             ]
            ],
            "type": "heatmapgl"
           }
          ],
          "histogram": [
           {
            "marker": {
             "colorbar": {
              "outlinewidth": 0,
              "ticks": ""
             }
            },
            "type": "histogram"
           }
          ],
          "histogram2d": [
           {
            "colorbar": {
             "outlinewidth": 0,
             "ticks": ""
            },
            "colorscale": [
             [
              0,
              "#0d0887"
             ],
             [
              0.1111111111111111,
              "#46039f"
             ],
             [
              0.2222222222222222,
              "#7201a8"
             ],
             [
              0.3333333333333333,
              "#9c179e"
             ],
             [
              0.4444444444444444,
              "#bd3786"
             ],
             [
              0.5555555555555556,
              "#d8576b"
             ],
             [
              0.6666666666666666,
              "#ed7953"
             ],
             [
              0.7777777777777778,
              "#fb9f3a"
             ],
             [
              0.8888888888888888,
              "#fdca26"
             ],
             [
              1,
              "#f0f921"
             ]
            ],
            "type": "histogram2d"
           }
          ],
          "histogram2dcontour": [
           {
            "colorbar": {
             "outlinewidth": 0,
             "ticks": ""
            },
            "colorscale": [
             [
              0,
              "#0d0887"
             ],
             [
              0.1111111111111111,
              "#46039f"
             ],
             [
              0.2222222222222222,
              "#7201a8"
             ],
             [
              0.3333333333333333,
              "#9c179e"
             ],
             [
              0.4444444444444444,
              "#bd3786"
             ],
             [
              0.5555555555555556,
              "#d8576b"
             ],
             [
              0.6666666666666666,
              "#ed7953"
             ],
             [
              0.7777777777777778,
              "#fb9f3a"
             ],
             [
              0.8888888888888888,
              "#fdca26"
             ],
             [
              1,
              "#f0f921"
             ]
            ],
            "type": "histogram2dcontour"
           }
          ],
          "mesh3d": [
           {
            "colorbar": {
             "outlinewidth": 0,
             "ticks": ""
            },
            "type": "mesh3d"
           }
          ],
          "parcoords": [
           {
            "line": {
             "colorbar": {
              "outlinewidth": 0,
              "ticks": ""
             }
            },
            "type": "parcoords"
           }
          ],
          "pie": [
           {
            "automargin": true,
            "type": "pie"
           }
          ],
          "scatter": [
           {
            "marker": {
             "colorbar": {
              "outlinewidth": 0,
              "ticks": ""
             }
            },
            "type": "scatter"
           }
          ],
          "scatter3d": [
           {
            "line": {
             "colorbar": {
              "outlinewidth": 0,
              "ticks": ""
             }
            },
            "marker": {
             "colorbar": {
              "outlinewidth": 0,
              "ticks": ""
             }
            },
            "type": "scatter3d"
           }
          ],
          "scattercarpet": [
           {
            "marker": {
             "colorbar": {
              "outlinewidth": 0,
              "ticks": ""
             }
            },
            "type": "scattercarpet"
           }
          ],
          "scattergeo": [
           {
            "marker": {
             "colorbar": {
              "outlinewidth": 0,
              "ticks": ""
             }
            },
            "type": "scattergeo"
           }
          ],
          "scattergl": [
           {
            "marker": {
             "colorbar": {
              "outlinewidth": 0,
              "ticks": ""
             }
            },
            "type": "scattergl"
           }
          ],
          "scattermapbox": [
           {
            "marker": {
             "colorbar": {
              "outlinewidth": 0,
              "ticks": ""
             }
            },
            "type": "scattermapbox"
           }
          ],
          "scatterpolar": [
           {
            "marker": {
             "colorbar": {
              "outlinewidth": 0,
              "ticks": ""
             }
            },
            "type": "scatterpolar"
           }
          ],
          "scatterpolargl": [
           {
            "marker": {
             "colorbar": {
              "outlinewidth": 0,
              "ticks": ""
             }
            },
            "type": "scatterpolargl"
           }
          ],
          "scatterternary": [
           {
            "marker": {
             "colorbar": {
              "outlinewidth": 0,
              "ticks": ""
             }
            },
            "type": "scatterternary"
           }
          ],
          "surface": [
           {
            "colorbar": {
             "outlinewidth": 0,
             "ticks": ""
            },
            "colorscale": [
             [
              0,
              "#0d0887"
             ],
             [
              0.1111111111111111,
              "#46039f"
             ],
             [
              0.2222222222222222,
              "#7201a8"
             ],
             [
              0.3333333333333333,
              "#9c179e"
             ],
             [
              0.4444444444444444,
              "#bd3786"
             ],
             [
              0.5555555555555556,
              "#d8576b"
             ],
             [
              0.6666666666666666,
              "#ed7953"
             ],
             [
              0.7777777777777778,
              "#fb9f3a"
             ],
             [
              0.8888888888888888,
              "#fdca26"
             ],
             [
              1,
              "#f0f921"
             ]
            ],
            "type": "surface"
           }
          ],
          "table": [
           {
            "cells": {
             "fill": {
              "color": "#EBF0F8"
             },
             "line": {
              "color": "white"
             }
            },
            "header": {
             "fill": {
              "color": "#C8D4E3"
             },
             "line": {
              "color": "white"
             }
            },
            "type": "table"
           }
          ]
         },
         "layout": {
          "annotationdefaults": {
           "arrowcolor": "#2a3f5f",
           "arrowhead": 0,
           "arrowwidth": 1
          },
          "autotypenumbers": "strict",
          "coloraxis": {
           "colorbar": {
            "outlinewidth": 0,
            "ticks": ""
           }
          },
          "colorscale": {
           "diverging": [
            [
             0,
             "#8e0152"
            ],
            [
             0.1,
             "#c51b7d"
            ],
            [
             0.2,
             "#de77ae"
            ],
            [
             0.3,
             "#f1b6da"
            ],
            [
             0.4,
             "#fde0ef"
            ],
            [
             0.5,
             "#f7f7f7"
            ],
            [
             0.6,
             "#e6f5d0"
            ],
            [
             0.7,
             "#b8e186"
            ],
            [
             0.8,
             "#7fbc41"
            ],
            [
             0.9,
             "#4d9221"
            ],
            [
             1,
             "#276419"
            ]
           ],
           "sequential": [
            [
             0,
             "#0d0887"
            ],
            [
             0.1111111111111111,
             "#46039f"
            ],
            [
             0.2222222222222222,
             "#7201a8"
            ],
            [
             0.3333333333333333,
             "#9c179e"
            ],
            [
             0.4444444444444444,
             "#bd3786"
            ],
            [
             0.5555555555555556,
             "#d8576b"
            ],
            [
             0.6666666666666666,
             "#ed7953"
            ],
            [
             0.7777777777777778,
             "#fb9f3a"
            ],
            [
             0.8888888888888888,
             "#fdca26"
            ],
            [
             1,
             "#f0f921"
            ]
           ],
           "sequentialminus": [
            [
             0,
             "#0d0887"
            ],
            [
             0.1111111111111111,
             "#46039f"
            ],
            [
             0.2222222222222222,
             "#7201a8"
            ],
            [
             0.3333333333333333,
             "#9c179e"
            ],
            [
             0.4444444444444444,
             "#bd3786"
            ],
            [
             0.5555555555555556,
             "#d8576b"
            ],
            [
             0.6666666666666666,
             "#ed7953"
            ],
            [
             0.7777777777777778,
             "#fb9f3a"
            ],
            [
             0.8888888888888888,
             "#fdca26"
            ],
            [
             1,
             "#f0f921"
            ]
           ]
          },
          "colorway": [
           "#636efa",
           "#EF553B",
           "#00cc96",
           "#ab63fa",
           "#FFA15A",
           "#19d3f3",
           "#FF6692",
           "#B6E880",
           "#FF97FF",
           "#FECB52"
          ],
          "font": {
           "color": "#2a3f5f"
          },
          "geo": {
           "bgcolor": "white",
           "lakecolor": "white",
           "landcolor": "#E5ECF6",
           "showlakes": true,
           "showland": true,
           "subunitcolor": "white"
          },
          "hoverlabel": {
           "align": "left"
          },
          "hovermode": "closest",
          "mapbox": {
           "style": "light"
          },
          "paper_bgcolor": "white",
          "plot_bgcolor": "#E5ECF6",
          "polar": {
           "angularaxis": {
            "gridcolor": "white",
            "linecolor": "white",
            "ticks": ""
           },
           "bgcolor": "#E5ECF6",
           "radialaxis": {
            "gridcolor": "white",
            "linecolor": "white",
            "ticks": ""
           }
          },
          "scene": {
           "xaxis": {
            "backgroundcolor": "#E5ECF6",
            "gridcolor": "white",
            "gridwidth": 2,
            "linecolor": "white",
            "showbackground": true,
            "ticks": "",
            "zerolinecolor": "white"
           },
           "yaxis": {
            "backgroundcolor": "#E5ECF6",
            "gridcolor": "white",
            "gridwidth": 2,
            "linecolor": "white",
            "showbackground": true,
            "ticks": "",
            "zerolinecolor": "white"
           },
           "zaxis": {
            "backgroundcolor": "#E5ECF6",
            "gridcolor": "white",
            "gridwidth": 2,
            "linecolor": "white",
            "showbackground": true,
            "ticks": "",
            "zerolinecolor": "white"
           }
          },
          "shapedefaults": {
           "line": {
            "color": "#2a3f5f"
           }
          },
          "ternary": {
           "aaxis": {
            "gridcolor": "white",
            "linecolor": "white",
            "ticks": ""
           },
           "baxis": {
            "gridcolor": "white",
            "linecolor": "white",
            "ticks": ""
           },
           "bgcolor": "#E5ECF6",
           "caxis": {
            "gridcolor": "white",
            "linecolor": "white",
            "ticks": ""
           }
          },
          "title": {
           "x": 0.05
          },
          "xaxis": {
           "automargin": true,
           "gridcolor": "white",
           "linecolor": "white",
           "ticks": "",
           "title": {
            "standoff": 15
           },
           "zerolinecolor": "white",
           "zerolinewidth": 2
          },
          "yaxis": {
           "automargin": true,
           "gridcolor": "white",
           "linecolor": "white",
           "ticks": "",
           "title": {
            "standoff": 15
           },
           "zerolinecolor": "white",
           "zerolinewidth": 2
          }
         }
        },
        "xaxis": {
         "anchor": "y",
         "domain": [
          0,
          1
         ],
         "range": [
          18,
          66
         ],
         "title": {
          "text": "Età"
         }
        },
        "yaxis": {
         "anchor": "x",
         "domain": [
          0,
          1
         ],
         "tickformat": "%",
         "title": {
          "text": "Frequenza"
         }
        }
       }
      }
     },
     "metadata": {}
    }
   ],
   "source": [
    "# Create dataframe\n",
    "df_age = df[['Età']]\n",
    "\n",
    "# Normalize ages to create a \n",
    "age_normalized = []\n",
    "for _, row in df_age.iterrows():\n",
    "    key = row['Età']\n",
    "    if key == '18-25':\n",
    "        age_normalized.append(18)\n",
    "    elif key == '26-35':\n",
    "        age_normalized.append(26)\n",
    "    elif key == '36-45':\n",
    "        age_normalized.append(36)\n",
    "    elif key == '46-55':\n",
    "        age_normalized.append(46)\n",
    "    else:\n",
    "        age_normalized.append(56)\n",
    "\n",
    "df_age_normalized = pd.DataFrame(age_normalized)\n",
    "\n",
    "# plt.hist(df_age_normalized, bins=[18,26,36,46,56,100], density=True)\n",
    "hist_age = px.histogram(df_age_normalized, histnorm='probability', range_x=[18,66], labels={'value':'Età'})\n",
    "\n",
    "hist_age.update_traces(\n",
    "    xbins=dict( # bins used for histogram\n",
    "        start=16,\n",
    "        end=80,\n",
    "        size=10\n",
    "    )\n",
    ")\n",
    "\n",
    "hist_age.update_layout(\n",
    "    showlegend=False,\n",
    "    yaxis_title='Frequenza',\n",
    "    yaxis_tickformat = '%'\n",
    ")\n",
    "\n",
    "hist_age.show()\n",
    "\n",
    "save_plot(hist_age, 'hist_age')"
   ]
  },
  {
   "cell_type": "code",
   "execution_count": 66,
   "metadata": {},
   "outputs": [
    {
     "output_type": "display_data",
     "data": {
      "application/vnd.plotly.v1+json": {
       "config": {
        "plotlyServerURL": "https://plot.ly"
       },
       "data": [
        {
         "alignmentgroup": "True",
         "hovertemplate": "Fascia d'età=%{x}<br>Frequenza=%{y}<extra></extra>",
         "legendgroup": "18-25",
         "marker": {
          "color": "#636efa"
         },
         "name": "18-25",
         "offsetgroup": "18-25",
         "orientation": "v",
         "showlegend": true,
         "textposition": "auto",
         "type": "bar",
         "x": [
          "18-25"
         ],
         "xaxis": "x",
         "y": [
          0.6037735849056604
         ],
         "yaxis": "y"
        },
        {
         "alignmentgroup": "True",
         "hovertemplate": "Fascia d'età=%{x}<br>Frequenza=%{y}<extra></extra>",
         "legendgroup": "26-35",
         "marker": {
          "color": "#EF553B"
         },
         "name": "26-35",
         "offsetgroup": "26-35",
         "orientation": "v",
         "showlegend": true,
         "textposition": "auto",
         "type": "bar",
         "x": [
          "26-35"
         ],
         "xaxis": "x",
         "y": [
          0.11320754716981132
         ],
         "yaxis": "y"
        },
        {
         "alignmentgroup": "True",
         "hovertemplate": "Fascia d'età=%{x}<br>Frequenza=%{y}<extra></extra>",
         "legendgroup": "36-45",
         "marker": {
          "color": "#00cc96"
         },
         "name": "36-45",
         "offsetgroup": "36-45",
         "orientation": "v",
         "showlegend": true,
         "textposition": "auto",
         "type": "bar",
         "x": [
          "36-45"
         ],
         "xaxis": "x",
         "y": [
          0.03773584905660377
         ],
         "yaxis": "y"
        },
        {
         "alignmentgroup": "True",
         "hovertemplate": "Fascia d'età=%{x}<br>Frequenza=%{y}<extra></extra>",
         "legendgroup": "46-55",
         "marker": {
          "color": "#ab63fa"
         },
         "name": "46-55",
         "offsetgroup": "46-55",
         "orientation": "v",
         "showlegend": true,
         "textposition": "auto",
         "type": "bar",
         "x": [
          "46-55"
         ],
         "xaxis": "x",
         "y": [
          0.1509433962264151
         ],
         "yaxis": "y"
        },
        {
         "alignmentgroup": "True",
         "hovertemplate": "Fascia d'età=%{x}<br>Frequenza=%{y}<extra></extra>",
         "legendgroup": "56+",
         "marker": {
          "color": "#FFA15A"
         },
         "name": "56+",
         "offsetgroup": "56+",
         "orientation": "v",
         "showlegend": true,
         "textposition": "auto",
         "type": "bar",
         "x": [
          "56+"
         ],
         "xaxis": "x",
         "y": [
          0.09433962264150944
         ],
         "yaxis": "y"
        }
       ],
       "layout": {
        "barmode": "relative",
        "legend": {
         "title": {
          "text": "Fascia d'età"
         },
         "tracegroupgap": 0
        },
        "margin": {
         "t": 60
        },
        "showlegend": false,
        "template": {
         "data": {
          "bar": [
           {
            "error_x": {
             "color": "#2a3f5f"
            },
            "error_y": {
             "color": "#2a3f5f"
            },
            "marker": {
             "line": {
              "color": "#E5ECF6",
              "width": 0.5
             }
            },
            "type": "bar"
           }
          ],
          "barpolar": [
           {
            "marker": {
             "line": {
              "color": "#E5ECF6",
              "width": 0.5
             }
            },
            "type": "barpolar"
           }
          ],
          "carpet": [
           {
            "aaxis": {
             "endlinecolor": "#2a3f5f",
             "gridcolor": "white",
             "linecolor": "white",
             "minorgridcolor": "white",
             "startlinecolor": "#2a3f5f"
            },
            "baxis": {
             "endlinecolor": "#2a3f5f",
             "gridcolor": "white",
             "linecolor": "white",
             "minorgridcolor": "white",
             "startlinecolor": "#2a3f5f"
            },
            "type": "carpet"
           }
          ],
          "choropleth": [
           {
            "colorbar": {
             "outlinewidth": 0,
             "ticks": ""
            },
            "type": "choropleth"
           }
          ],
          "contour": [
           {
            "colorbar": {
             "outlinewidth": 0,
             "ticks": ""
            },
            "colorscale": [
             [
              0,
              "#0d0887"
             ],
             [
              0.1111111111111111,
              "#46039f"
             ],
             [
              0.2222222222222222,
              "#7201a8"
             ],
             [
              0.3333333333333333,
              "#9c179e"
             ],
             [
              0.4444444444444444,
              "#bd3786"
             ],
             [
              0.5555555555555556,
              "#d8576b"
             ],
             [
              0.6666666666666666,
              "#ed7953"
             ],
             [
              0.7777777777777778,
              "#fb9f3a"
             ],
             [
              0.8888888888888888,
              "#fdca26"
             ],
             [
              1,
              "#f0f921"
             ]
            ],
            "type": "contour"
           }
          ],
          "contourcarpet": [
           {
            "colorbar": {
             "outlinewidth": 0,
             "ticks": ""
            },
            "type": "contourcarpet"
           }
          ],
          "heatmap": [
           {
            "colorbar": {
             "outlinewidth": 0,
             "ticks": ""
            },
            "colorscale": [
             [
              0,
              "#0d0887"
             ],
             [
              0.1111111111111111,
              "#46039f"
             ],
             [
              0.2222222222222222,
              "#7201a8"
             ],
             [
              0.3333333333333333,
              "#9c179e"
             ],
             [
              0.4444444444444444,
              "#bd3786"
             ],
             [
              0.5555555555555556,
              "#d8576b"
             ],
             [
              0.6666666666666666,
              "#ed7953"
             ],
             [
              0.7777777777777778,
              "#fb9f3a"
             ],
             [
              0.8888888888888888,
              "#fdca26"
             ],
             [
              1,
              "#f0f921"
             ]
            ],
            "type": "heatmap"
           }
          ],
          "heatmapgl": [
           {
            "colorbar": {
             "outlinewidth": 0,
             "ticks": ""
            },
            "colorscale": [
             [
              0,
              "#0d0887"
             ],
             [
              0.1111111111111111,
              "#46039f"
             ],
             [
              0.2222222222222222,
              "#7201a8"
             ],
             [
              0.3333333333333333,
              "#9c179e"
             ],
             [
              0.4444444444444444,
              "#bd3786"
             ],
             [
              0.5555555555555556,
              "#d8576b"
             ],
             [
              0.6666666666666666,
              "#ed7953"
             ],
             [
              0.7777777777777778,
              "#fb9f3a"
             ],
             [
              0.8888888888888888,
              "#fdca26"
             ],
             [
              1,
              "#f0f921"
             ]
            ],
            "type": "heatmapgl"
           }
          ],
          "histogram": [
           {
            "marker": {
             "colorbar": {
              "outlinewidth": 0,
              "ticks": ""
             }
            },
            "type": "histogram"
           }
          ],
          "histogram2d": [
           {
            "colorbar": {
             "outlinewidth": 0,
             "ticks": ""
            },
            "colorscale": [
             [
              0,
              "#0d0887"
             ],
             [
              0.1111111111111111,
              "#46039f"
             ],
             [
              0.2222222222222222,
              "#7201a8"
             ],
             [
              0.3333333333333333,
              "#9c179e"
             ],
             [
              0.4444444444444444,
              "#bd3786"
             ],
             [
              0.5555555555555556,
              "#d8576b"
             ],
             [
              0.6666666666666666,
              "#ed7953"
             ],
             [
              0.7777777777777778,
              "#fb9f3a"
             ],
             [
              0.8888888888888888,
              "#fdca26"
             ],
             [
              1,
              "#f0f921"
             ]
            ],
            "type": "histogram2d"
           }
          ],
          "histogram2dcontour": [
           {
            "colorbar": {
             "outlinewidth": 0,
             "ticks": ""
            },
            "colorscale": [
             [
              0,
              "#0d0887"
             ],
             [
              0.1111111111111111,
              "#46039f"
             ],
             [
              0.2222222222222222,
              "#7201a8"
             ],
             [
              0.3333333333333333,
              "#9c179e"
             ],
             [
              0.4444444444444444,
              "#bd3786"
             ],
             [
              0.5555555555555556,
              "#d8576b"
             ],
             [
              0.6666666666666666,
              "#ed7953"
             ],
             [
              0.7777777777777778,
              "#fb9f3a"
             ],
             [
              0.8888888888888888,
              "#fdca26"
             ],
             [
              1,
              "#f0f921"
             ]
            ],
            "type": "histogram2dcontour"
           }
          ],
          "mesh3d": [
           {
            "colorbar": {
             "outlinewidth": 0,
             "ticks": ""
            },
            "type": "mesh3d"
           }
          ],
          "parcoords": [
           {
            "line": {
             "colorbar": {
              "outlinewidth": 0,
              "ticks": ""
             }
            },
            "type": "parcoords"
           }
          ],
          "pie": [
           {
            "automargin": true,
            "type": "pie"
           }
          ],
          "scatter": [
           {
            "marker": {
             "colorbar": {
              "outlinewidth": 0,
              "ticks": ""
             }
            },
            "type": "scatter"
           }
          ],
          "scatter3d": [
           {
            "line": {
             "colorbar": {
              "outlinewidth": 0,
              "ticks": ""
             }
            },
            "marker": {
             "colorbar": {
              "outlinewidth": 0,
              "ticks": ""
             }
            },
            "type": "scatter3d"
           }
          ],
          "scattercarpet": [
           {
            "marker": {
             "colorbar": {
              "outlinewidth": 0,
              "ticks": ""
             }
            },
            "type": "scattercarpet"
           }
          ],
          "scattergeo": [
           {
            "marker": {
             "colorbar": {
              "outlinewidth": 0,
              "ticks": ""
             }
            },
            "type": "scattergeo"
           }
          ],
          "scattergl": [
           {
            "marker": {
             "colorbar": {
              "outlinewidth": 0,
              "ticks": ""
             }
            },
            "type": "scattergl"
           }
          ],
          "scattermapbox": [
           {
            "marker": {
             "colorbar": {
              "outlinewidth": 0,
              "ticks": ""
             }
            },
            "type": "scattermapbox"
           }
          ],
          "scatterpolar": [
           {
            "marker": {
             "colorbar": {
              "outlinewidth": 0,
              "ticks": ""
             }
            },
            "type": "scatterpolar"
           }
          ],
          "scatterpolargl": [
           {
            "marker": {
             "colorbar": {
              "outlinewidth": 0,
              "ticks": ""
             }
            },
            "type": "scatterpolargl"
           }
          ],
          "scatterternary": [
           {
            "marker": {
             "colorbar": {
              "outlinewidth": 0,
              "ticks": ""
             }
            },
            "type": "scatterternary"
           }
          ],
          "surface": [
           {
            "colorbar": {
             "outlinewidth": 0,
             "ticks": ""
            },
            "colorscale": [
             [
              0,
              "#0d0887"
             ],
             [
              0.1111111111111111,
              "#46039f"
             ],
             [
              0.2222222222222222,
              "#7201a8"
             ],
             [
              0.3333333333333333,
              "#9c179e"
             ],
             [
              0.4444444444444444,
              "#bd3786"
             ],
             [
              0.5555555555555556,
              "#d8576b"
             ],
             [
              0.6666666666666666,
              "#ed7953"
             ],
             [
              0.7777777777777778,
              "#fb9f3a"
             ],
             [
              0.8888888888888888,
              "#fdca26"
             ],
             [
              1,
              "#f0f921"
             ]
            ],
            "type": "surface"
           }
          ],
          "table": [
           {
            "cells": {
             "fill": {
              "color": "#EBF0F8"
             },
             "line": {
              "color": "white"
             }
            },
            "header": {
             "fill": {
              "color": "#C8D4E3"
             },
             "line": {
              "color": "white"
             }
            },
            "type": "table"
           }
          ]
         },
         "layout": {
          "annotationdefaults": {
           "arrowcolor": "#2a3f5f",
           "arrowhead": 0,
           "arrowwidth": 1
          },
          "autotypenumbers": "strict",
          "coloraxis": {
           "colorbar": {
            "outlinewidth": 0,
            "ticks": ""
           }
          },
          "colorscale": {
           "diverging": [
            [
             0,
             "#8e0152"
            ],
            [
             0.1,
             "#c51b7d"
            ],
            [
             0.2,
             "#de77ae"
            ],
            [
             0.3,
             "#f1b6da"
            ],
            [
             0.4,
             "#fde0ef"
            ],
            [
             0.5,
             "#f7f7f7"
            ],
            [
             0.6,
             "#e6f5d0"
            ],
            [
             0.7,
             "#b8e186"
            ],
            [
             0.8,
             "#7fbc41"
            ],
            [
             0.9,
             "#4d9221"
            ],
            [
             1,
             "#276419"
            ]
           ],
           "sequential": [
            [
             0,
             "#0d0887"
            ],
            [
             0.1111111111111111,
             "#46039f"
            ],
            [
             0.2222222222222222,
             "#7201a8"
            ],
            [
             0.3333333333333333,
             "#9c179e"
            ],
            [
             0.4444444444444444,
             "#bd3786"
            ],
            [
             0.5555555555555556,
             "#d8576b"
            ],
            [
             0.6666666666666666,
             "#ed7953"
            ],
            [
             0.7777777777777778,
             "#fb9f3a"
            ],
            [
             0.8888888888888888,
             "#fdca26"
            ],
            [
             1,
             "#f0f921"
            ]
           ],
           "sequentialminus": [
            [
             0,
             "#0d0887"
            ],
            [
             0.1111111111111111,
             "#46039f"
            ],
            [
             0.2222222222222222,
             "#7201a8"
            ],
            [
             0.3333333333333333,
             "#9c179e"
            ],
            [
             0.4444444444444444,
             "#bd3786"
            ],
            [
             0.5555555555555556,
             "#d8576b"
            ],
            [
             0.6666666666666666,
             "#ed7953"
            ],
            [
             0.7777777777777778,
             "#fb9f3a"
            ],
            [
             0.8888888888888888,
             "#fdca26"
            ],
            [
             1,
             "#f0f921"
            ]
           ]
          },
          "colorway": [
           "#636efa",
           "#EF553B",
           "#00cc96",
           "#ab63fa",
           "#FFA15A",
           "#19d3f3",
           "#FF6692",
           "#B6E880",
           "#FF97FF",
           "#FECB52"
          ],
          "font": {
           "color": "#2a3f5f"
          },
          "geo": {
           "bgcolor": "white",
           "lakecolor": "white",
           "landcolor": "#E5ECF6",
           "showlakes": true,
           "showland": true,
           "subunitcolor": "white"
          },
          "hoverlabel": {
           "align": "left"
          },
          "hovermode": "closest",
          "mapbox": {
           "style": "light"
          },
          "paper_bgcolor": "white",
          "plot_bgcolor": "#E5ECF6",
          "polar": {
           "angularaxis": {
            "gridcolor": "white",
            "linecolor": "white",
            "ticks": ""
           },
           "bgcolor": "#E5ECF6",
           "radialaxis": {
            "gridcolor": "white",
            "linecolor": "white",
            "ticks": ""
           }
          },
          "scene": {
           "xaxis": {
            "backgroundcolor": "#E5ECF6",
            "gridcolor": "white",
            "gridwidth": 2,
            "linecolor": "white",
            "showbackground": true,
            "ticks": "",
            "zerolinecolor": "white"
           },
           "yaxis": {
            "backgroundcolor": "#E5ECF6",
            "gridcolor": "white",
            "gridwidth": 2,
            "linecolor": "white",
            "showbackground": true,
            "ticks": "",
            "zerolinecolor": "white"
           },
           "zaxis": {
            "backgroundcolor": "#E5ECF6",
            "gridcolor": "white",
            "gridwidth": 2,
            "linecolor": "white",
            "showbackground": true,
            "ticks": "",
            "zerolinecolor": "white"
           }
          },
          "shapedefaults": {
           "line": {
            "color": "#2a3f5f"
           }
          },
          "ternary": {
           "aaxis": {
            "gridcolor": "white",
            "linecolor": "white",
            "ticks": ""
           },
           "baxis": {
            "gridcolor": "white",
            "linecolor": "white",
            "ticks": ""
           },
           "bgcolor": "#E5ECF6",
           "caxis": {
            "gridcolor": "white",
            "linecolor": "white",
            "ticks": ""
           }
          },
          "title": {
           "x": 0.05
          },
          "xaxis": {
           "automargin": true,
           "gridcolor": "white",
           "linecolor": "white",
           "ticks": "",
           "title": {
            "standoff": 15
           },
           "zerolinecolor": "white",
           "zerolinewidth": 2
          },
          "yaxis": {
           "automargin": true,
           "gridcolor": "white",
           "linecolor": "white",
           "ticks": "",
           "title": {
            "standoff": 15
           },
           "zerolinecolor": "white",
           "zerolinewidth": 2
          }
         }
        },
        "xaxis": {
         "anchor": "y",
         "categoryarray": [
          "18-25",
          "26-35",
          "36-45",
          "46-55",
          "56+"
         ],
         "categoryorder": "array",
         "domain": [
          0,
          1
         ],
         "title": {
          "text": "Fascia d'età"
         }
        },
        "yaxis": {
         "anchor": "x",
         "domain": [
          0,
          1
         ],
         "tickformat": "%",
         "title": {
          "text": "Frequenza"
         }
        }
       }
      }
     },
     "metadata": {}
    }
   ],
   "source": [
    "# Barplot for ages instead of histogram, if needed at all\n",
    "df_age2 = get_freq(df, \"Età\")\n",
    "df_age2 = to_relative_freq(df_age2)\n",
    "\n",
    "df_age2 = df_age2.reindex([0,1,2,3,4])\n",
    "\n",
    "bar_age = px.bar(df_age2, x='Età', y='f', color='Età', labels={'Età': 'Fascia d\\'età','f': 'Frequenza'})\n",
    "\n",
    "bar_age.update_layout(\n",
    "    showlegend=False,\n",
    "    yaxis_tickformat = '%'\n",
    ")\n",
    "\n",
    "bar_age.show()\n",
    "save_plot(bar_age, 'bar_age')"
   ]
  },
  {
   "cell_type": "code",
   "execution_count": 67,
   "metadata": {},
   "outputs": [
    {
     "output_type": "display_data",
     "data": {
      "application/vnd.plotly.v1+json": {
       "config": {
        "plotlyServerURL": "https://plot.ly"
       },
       "data": [
        {
         "alignmentgroup": "True",
         "hovertemplate": "Possessori di kindle=%{x}<br>Frequenza=%{y}<extra></extra>",
         "legendgroup": "No",
         "marker": {
          "color": "#636efa"
         },
         "name": "No",
         "offsetgroup": "No",
         "orientation": "v",
         "showlegend": true,
         "textposition": "auto",
         "type": "bar",
         "x": [
          "No"
         ],
         "xaxis": "x",
         "y": [
          0.6415094339622641
         ],
         "yaxis": "y"
        },
        {
         "alignmentgroup": "True",
         "hovertemplate": "Possessori di kindle=%{x}<br>Frequenza=%{y}<extra></extra>",
         "legendgroup": "Si",
         "marker": {
          "color": "#EF553B"
         },
         "name": "Si",
         "offsetgroup": "Si",
         "orientation": "v",
         "showlegend": true,
         "textposition": "auto",
         "type": "bar",
         "x": [
          "Si"
         ],
         "xaxis": "x",
         "y": [
          0.3584905660377358
         ],
         "yaxis": "y"
        }
       ],
       "layout": {
        "barmode": "relative",
        "legend": {
         "title": {
          "text": "Possessori di kindle"
         },
         "tracegroupgap": 0
        },
        "margin": {
         "t": 60
        },
        "showlegend": false,
        "template": {
         "data": {
          "bar": [
           {
            "error_x": {
             "color": "#2a3f5f"
            },
            "error_y": {
             "color": "#2a3f5f"
            },
            "marker": {
             "line": {
              "color": "#E5ECF6",
              "width": 0.5
             }
            },
            "type": "bar"
           }
          ],
          "barpolar": [
           {
            "marker": {
             "line": {
              "color": "#E5ECF6",
              "width": 0.5
             }
            },
            "type": "barpolar"
           }
          ],
          "carpet": [
           {
            "aaxis": {
             "endlinecolor": "#2a3f5f",
             "gridcolor": "white",
             "linecolor": "white",
             "minorgridcolor": "white",
             "startlinecolor": "#2a3f5f"
            },
            "baxis": {
             "endlinecolor": "#2a3f5f",
             "gridcolor": "white",
             "linecolor": "white",
             "minorgridcolor": "white",
             "startlinecolor": "#2a3f5f"
            },
            "type": "carpet"
           }
          ],
          "choropleth": [
           {
            "colorbar": {
             "outlinewidth": 0,
             "ticks": ""
            },
            "type": "choropleth"
           }
          ],
          "contour": [
           {
            "colorbar": {
             "outlinewidth": 0,
             "ticks": ""
            },
            "colorscale": [
             [
              0,
              "#0d0887"
             ],
             [
              0.1111111111111111,
              "#46039f"
             ],
             [
              0.2222222222222222,
              "#7201a8"
             ],
             [
              0.3333333333333333,
              "#9c179e"
             ],
             [
              0.4444444444444444,
              "#bd3786"
             ],
             [
              0.5555555555555556,
              "#d8576b"
             ],
             [
              0.6666666666666666,
              "#ed7953"
             ],
             [
              0.7777777777777778,
              "#fb9f3a"
             ],
             [
              0.8888888888888888,
              "#fdca26"
             ],
             [
              1,
              "#f0f921"
             ]
            ],
            "type": "contour"
           }
          ],
          "contourcarpet": [
           {
            "colorbar": {
             "outlinewidth": 0,
             "ticks": ""
            },
            "type": "contourcarpet"
           }
          ],
          "heatmap": [
           {
            "colorbar": {
             "outlinewidth": 0,
             "ticks": ""
            },
            "colorscale": [
             [
              0,
              "#0d0887"
             ],
             [
              0.1111111111111111,
              "#46039f"
             ],
             [
              0.2222222222222222,
              "#7201a8"
             ],
             [
              0.3333333333333333,
              "#9c179e"
             ],
             [
              0.4444444444444444,
              "#bd3786"
             ],
             [
              0.5555555555555556,
              "#d8576b"
             ],
             [
              0.6666666666666666,
              "#ed7953"
             ],
             [
              0.7777777777777778,
              "#fb9f3a"
             ],
             [
              0.8888888888888888,
              "#fdca26"
             ],
             [
              1,
              "#f0f921"
             ]
            ],
            "type": "heatmap"
           }
          ],
          "heatmapgl": [
           {
            "colorbar": {
             "outlinewidth": 0,
             "ticks": ""
            },
            "colorscale": [
             [
              0,
              "#0d0887"
             ],
             [
              0.1111111111111111,
              "#46039f"
             ],
             [
              0.2222222222222222,
              "#7201a8"
             ],
             [
              0.3333333333333333,
              "#9c179e"
             ],
             [
              0.4444444444444444,
              "#bd3786"
             ],
             [
              0.5555555555555556,
              "#d8576b"
             ],
             [
              0.6666666666666666,
              "#ed7953"
             ],
             [
              0.7777777777777778,
              "#fb9f3a"
             ],
             [
              0.8888888888888888,
              "#fdca26"
             ],
             [
              1,
              "#f0f921"
             ]
            ],
            "type": "heatmapgl"
           }
          ],
          "histogram": [
           {
            "marker": {
             "colorbar": {
              "outlinewidth": 0,
              "ticks": ""
             }
            },
            "type": "histogram"
           }
          ],
          "histogram2d": [
           {
            "colorbar": {
             "outlinewidth": 0,
             "ticks": ""
            },
            "colorscale": [
             [
              0,
              "#0d0887"
             ],
             [
              0.1111111111111111,
              "#46039f"
             ],
             [
              0.2222222222222222,
              "#7201a8"
             ],
             [
              0.3333333333333333,
              "#9c179e"
             ],
             [
              0.4444444444444444,
              "#bd3786"
             ],
             [
              0.5555555555555556,
              "#d8576b"
             ],
             [
              0.6666666666666666,
              "#ed7953"
             ],
             [
              0.7777777777777778,
              "#fb9f3a"
             ],
             [
              0.8888888888888888,
              "#fdca26"
             ],
             [
              1,
              "#f0f921"
             ]
            ],
            "type": "histogram2d"
           }
          ],
          "histogram2dcontour": [
           {
            "colorbar": {
             "outlinewidth": 0,
             "ticks": ""
            },
            "colorscale": [
             [
              0,
              "#0d0887"
             ],
             [
              0.1111111111111111,
              "#46039f"
             ],
             [
              0.2222222222222222,
              "#7201a8"
             ],
             [
              0.3333333333333333,
              "#9c179e"
             ],
             [
              0.4444444444444444,
              "#bd3786"
             ],
             [
              0.5555555555555556,
              "#d8576b"
             ],
             [
              0.6666666666666666,
              "#ed7953"
             ],
             [
              0.7777777777777778,
              "#fb9f3a"
             ],
             [
              0.8888888888888888,
              "#fdca26"
             ],
             [
              1,
              "#f0f921"
             ]
            ],
            "type": "histogram2dcontour"
           }
          ],
          "mesh3d": [
           {
            "colorbar": {
             "outlinewidth": 0,
             "ticks": ""
            },
            "type": "mesh3d"
           }
          ],
          "parcoords": [
           {
            "line": {
             "colorbar": {
              "outlinewidth": 0,
              "ticks": ""
             }
            },
            "type": "parcoords"
           }
          ],
          "pie": [
           {
            "automargin": true,
            "type": "pie"
           }
          ],
          "scatter": [
           {
            "marker": {
             "colorbar": {
              "outlinewidth": 0,
              "ticks": ""
             }
            },
            "type": "scatter"
           }
          ],
          "scatter3d": [
           {
            "line": {
             "colorbar": {
              "outlinewidth": 0,
              "ticks": ""
             }
            },
            "marker": {
             "colorbar": {
              "outlinewidth": 0,
              "ticks": ""
             }
            },
            "type": "scatter3d"
           }
          ],
          "scattercarpet": [
           {
            "marker": {
             "colorbar": {
              "outlinewidth": 0,
              "ticks": ""
             }
            },
            "type": "scattercarpet"
           }
          ],
          "scattergeo": [
           {
            "marker": {
             "colorbar": {
              "outlinewidth": 0,
              "ticks": ""
             }
            },
            "type": "scattergeo"
           }
          ],
          "scattergl": [
           {
            "marker": {
             "colorbar": {
              "outlinewidth": 0,
              "ticks": ""
             }
            },
            "type": "scattergl"
           }
          ],
          "scattermapbox": [
           {
            "marker": {
             "colorbar": {
              "outlinewidth": 0,
              "ticks": ""
             }
            },
            "type": "scattermapbox"
           }
          ],
          "scatterpolar": [
           {
            "marker": {
             "colorbar": {
              "outlinewidth": 0,
              "ticks": ""
             }
            },
            "type": "scatterpolar"
           }
          ],
          "scatterpolargl": [
           {
            "marker": {
             "colorbar": {
              "outlinewidth": 0,
              "ticks": ""
             }
            },
            "type": "scatterpolargl"
           }
          ],
          "scatterternary": [
           {
            "marker": {
             "colorbar": {
              "outlinewidth": 0,
              "ticks": ""
             }
            },
            "type": "scatterternary"
           }
          ],
          "surface": [
           {
            "colorbar": {
             "outlinewidth": 0,
             "ticks": ""
            },
            "colorscale": [
             [
              0,
              "#0d0887"
             ],
             [
              0.1111111111111111,
              "#46039f"
             ],
             [
              0.2222222222222222,
              "#7201a8"
             ],
             [
              0.3333333333333333,
              "#9c179e"
             ],
             [
              0.4444444444444444,
              "#bd3786"
             ],
             [
              0.5555555555555556,
              "#d8576b"
             ],
             [
              0.6666666666666666,
              "#ed7953"
             ],
             [
              0.7777777777777778,
              "#fb9f3a"
             ],
             [
              0.8888888888888888,
              "#fdca26"
             ],
             [
              1,
              "#f0f921"
             ]
            ],
            "type": "surface"
           }
          ],
          "table": [
           {
            "cells": {
             "fill": {
              "color": "#EBF0F8"
             },
             "line": {
              "color": "white"
             }
            },
            "header": {
             "fill": {
              "color": "#C8D4E3"
             },
             "line": {
              "color": "white"
             }
            },
            "type": "table"
           }
          ]
         },
         "layout": {
          "annotationdefaults": {
           "arrowcolor": "#2a3f5f",
           "arrowhead": 0,
           "arrowwidth": 1
          },
          "autotypenumbers": "strict",
          "coloraxis": {
           "colorbar": {
            "outlinewidth": 0,
            "ticks": ""
           }
          },
          "colorscale": {
           "diverging": [
            [
             0,
             "#8e0152"
            ],
            [
             0.1,
             "#c51b7d"
            ],
            [
             0.2,
             "#de77ae"
            ],
            [
             0.3,
             "#f1b6da"
            ],
            [
             0.4,
             "#fde0ef"
            ],
            [
             0.5,
             "#f7f7f7"
            ],
            [
             0.6,
             "#e6f5d0"
            ],
            [
             0.7,
             "#b8e186"
            ],
            [
             0.8,
             "#7fbc41"
            ],
            [
             0.9,
             "#4d9221"
            ],
            [
             1,
             "#276419"
            ]
           ],
           "sequential": [
            [
             0,
             "#0d0887"
            ],
            [
             0.1111111111111111,
             "#46039f"
            ],
            [
             0.2222222222222222,
             "#7201a8"
            ],
            [
             0.3333333333333333,
             "#9c179e"
            ],
            [
             0.4444444444444444,
             "#bd3786"
            ],
            [
             0.5555555555555556,
             "#d8576b"
            ],
            [
             0.6666666666666666,
             "#ed7953"
            ],
            [
             0.7777777777777778,
             "#fb9f3a"
            ],
            [
             0.8888888888888888,
             "#fdca26"
            ],
            [
             1,
             "#f0f921"
            ]
           ],
           "sequentialminus": [
            [
             0,
             "#0d0887"
            ],
            [
             0.1111111111111111,
             "#46039f"
            ],
            [
             0.2222222222222222,
             "#7201a8"
            ],
            [
             0.3333333333333333,
             "#9c179e"
            ],
            [
             0.4444444444444444,
             "#bd3786"
            ],
            [
             0.5555555555555556,
             "#d8576b"
            ],
            [
             0.6666666666666666,
             "#ed7953"
            ],
            [
             0.7777777777777778,
             "#fb9f3a"
            ],
            [
             0.8888888888888888,
             "#fdca26"
            ],
            [
             1,
             "#f0f921"
            ]
           ]
          },
          "colorway": [
           "#636efa",
           "#EF553B",
           "#00cc96",
           "#ab63fa",
           "#FFA15A",
           "#19d3f3",
           "#FF6692",
           "#B6E880",
           "#FF97FF",
           "#FECB52"
          ],
          "font": {
           "color": "#2a3f5f"
          },
          "geo": {
           "bgcolor": "white",
           "lakecolor": "white",
           "landcolor": "#E5ECF6",
           "showlakes": true,
           "showland": true,
           "subunitcolor": "white"
          },
          "hoverlabel": {
           "align": "left"
          },
          "hovermode": "closest",
          "mapbox": {
           "style": "light"
          },
          "paper_bgcolor": "white",
          "plot_bgcolor": "#E5ECF6",
          "polar": {
           "angularaxis": {
            "gridcolor": "white",
            "linecolor": "white",
            "ticks": ""
           },
           "bgcolor": "#E5ECF6",
           "radialaxis": {
            "gridcolor": "white",
            "linecolor": "white",
            "ticks": ""
           }
          },
          "scene": {
           "xaxis": {
            "backgroundcolor": "#E5ECF6",
            "gridcolor": "white",
            "gridwidth": 2,
            "linecolor": "white",
            "showbackground": true,
            "ticks": "",
            "zerolinecolor": "white"
           },
           "yaxis": {
            "backgroundcolor": "#E5ECF6",
            "gridcolor": "white",
            "gridwidth": 2,
            "linecolor": "white",
            "showbackground": true,
            "ticks": "",
            "zerolinecolor": "white"
           },
           "zaxis": {
            "backgroundcolor": "#E5ECF6",
            "gridcolor": "white",
            "gridwidth": 2,
            "linecolor": "white",
            "showbackground": true,
            "ticks": "",
            "zerolinecolor": "white"
           }
          },
          "shapedefaults": {
           "line": {
            "color": "#2a3f5f"
           }
          },
          "ternary": {
           "aaxis": {
            "gridcolor": "white",
            "linecolor": "white",
            "ticks": ""
           },
           "baxis": {
            "gridcolor": "white",
            "linecolor": "white",
            "ticks": ""
           },
           "bgcolor": "#E5ECF6",
           "caxis": {
            "gridcolor": "white",
            "linecolor": "white",
            "ticks": ""
           }
          },
          "title": {
           "x": 0.05
          },
          "xaxis": {
           "automargin": true,
           "gridcolor": "white",
           "linecolor": "white",
           "ticks": "",
           "title": {
            "standoff": 15
           },
           "zerolinecolor": "white",
           "zerolinewidth": 2
          },
          "yaxis": {
           "automargin": true,
           "gridcolor": "white",
           "linecolor": "white",
           "ticks": "",
           "title": {
            "standoff": 15
           },
           "zerolinecolor": "white",
           "zerolinewidth": 2
          }
         }
        },
        "xaxis": {
         "anchor": "y",
         "categoryarray": [
          "No",
          "Si"
         ],
         "categoryorder": "array",
         "domain": [
          0,
          1
         ],
         "title": {
          "text": "Possessori di kindle"
         }
        },
        "yaxis": {
         "anchor": "x",
         "domain": [
          0,
          1
         ],
         "tickformat": "%",
         "title": {
          "text": "Frequenza"
         }
        }
       }
      }
     },
     "metadata": {}
    }
   ],
   "source": [
    "# Kindle\n",
    "\n",
    "df_kindle = get_freq(df, 'kindle')\n",
    "\n",
    "# Relative freq\n",
    "df_kindle = to_relative_freq(df_kindle)\n",
    "\n",
    "bar_kindle = px.bar(df_kindle, x='kindle', y='f', color='kindle', labels={'kindle': 'Possessori di kindle', 'f': 'Frequenza'})\n",
    "\n",
    "bar_kindle.update_layout(\n",
    "    showlegend=False,\n",
    "    yaxis_tickformat = '%'\n",
    ")\n",
    "\n",
    "bar_kindle.show()\n",
    "\n",
    "save_plot(bar_kindle, 'bar_kindle')"
   ]
  },
  {
   "cell_type": "code",
   "execution_count": 68,
   "metadata": {},
   "outputs": [
    {
     "output_type": "display_data",
     "data": {
      "application/vnd.plotly.v1+json": {
       "config": {
        "plotlyServerURL": "https://plot.ly"
       },
       "data": [
        {
         "alignmentgroup": "True",
         "hovertemplate": "Importanza della lettura=%{x}<br>Frequenza=%{y}<extra></extra>",
         "legendgroup": "Nulla",
         "marker": {
          "color": "#636efa"
         },
         "name": "Nulla",
         "offsetgroup": "Nulla",
         "orientation": "v",
         "showlegend": true,
         "textposition": "auto",
         "type": "bar",
         "x": [
          "Nulla"
         ],
         "xaxis": "x",
         "y": [
          0.03773584905660377
         ],
         "yaxis": "y"
        },
        {
         "alignmentgroup": "True",
         "hovertemplate": "Importanza della lettura=%{x}<br>Frequenza=%{y}<extra></extra>",
         "legendgroup": "Scarsa",
         "marker": {
          "color": "#EF553B"
         },
         "name": "Scarsa",
         "offsetgroup": "Scarsa",
         "orientation": "v",
         "showlegend": true,
         "textposition": "auto",
         "type": "bar",
         "x": [
          "Scarsa"
         ],
         "xaxis": "x",
         "y": [
          0.4339622641509434
         ],
         "yaxis": "y"
        },
        {
         "alignmentgroup": "True",
         "hovertemplate": "Importanza della lettura=%{x}<br>Frequenza=%{y}<extra></extra>",
         "legendgroup": "Discreta",
         "marker": {
          "color": "#00cc96"
         },
         "name": "Discreta",
         "offsetgroup": "Discreta",
         "orientation": "v",
         "showlegend": true,
         "textposition": "auto",
         "type": "bar",
         "x": [
          "Discreta"
         ],
         "xaxis": "x",
         "y": [
          0.3584905660377358
         ],
         "yaxis": "y"
        },
        {
         "alignmentgroup": "True",
         "hovertemplate": "Importanza della lettura=%{x}<br>Frequenza=%{y}<extra></extra>",
         "legendgroup": "Fondamentale",
         "marker": {
          "color": "#ab63fa"
         },
         "name": "Fondamentale",
         "offsetgroup": "Fondamentale",
         "orientation": "v",
         "showlegend": true,
         "textposition": "auto",
         "type": "bar",
         "x": [
          "Fondamentale"
         ],
         "xaxis": "x",
         "y": [
          0.16981132075471697
         ],
         "yaxis": "y"
        }
       ],
       "layout": {
        "barmode": "relative",
        "legend": {
         "title": {
          "text": "Importanza della lettura"
         },
         "tracegroupgap": 0
        },
        "margin": {
         "t": 60
        },
        "showlegend": false,
        "template": {
         "data": {
          "bar": [
           {
            "error_x": {
             "color": "#2a3f5f"
            },
            "error_y": {
             "color": "#2a3f5f"
            },
            "marker": {
             "line": {
              "color": "#E5ECF6",
              "width": 0.5
             }
            },
            "type": "bar"
           }
          ],
          "barpolar": [
           {
            "marker": {
             "line": {
              "color": "#E5ECF6",
              "width": 0.5
             }
            },
            "type": "barpolar"
           }
          ],
          "carpet": [
           {
            "aaxis": {
             "endlinecolor": "#2a3f5f",
             "gridcolor": "white",
             "linecolor": "white",
             "minorgridcolor": "white",
             "startlinecolor": "#2a3f5f"
            },
            "baxis": {
             "endlinecolor": "#2a3f5f",
             "gridcolor": "white",
             "linecolor": "white",
             "minorgridcolor": "white",
             "startlinecolor": "#2a3f5f"
            },
            "type": "carpet"
           }
          ],
          "choropleth": [
           {
            "colorbar": {
             "outlinewidth": 0,
             "ticks": ""
            },
            "type": "choropleth"
           }
          ],
          "contour": [
           {
            "colorbar": {
             "outlinewidth": 0,
             "ticks": ""
            },
            "colorscale": [
             [
              0,
              "#0d0887"
             ],
             [
              0.1111111111111111,
              "#46039f"
             ],
             [
              0.2222222222222222,
              "#7201a8"
             ],
             [
              0.3333333333333333,
              "#9c179e"
             ],
             [
              0.4444444444444444,
              "#bd3786"
             ],
             [
              0.5555555555555556,
              "#d8576b"
             ],
             [
              0.6666666666666666,
              "#ed7953"
             ],
             [
              0.7777777777777778,
              "#fb9f3a"
             ],
             [
              0.8888888888888888,
              "#fdca26"
             ],
             [
              1,
              "#f0f921"
             ]
            ],
            "type": "contour"
           }
          ],
          "contourcarpet": [
           {
            "colorbar": {
             "outlinewidth": 0,
             "ticks": ""
            },
            "type": "contourcarpet"
           }
          ],
          "heatmap": [
           {
            "colorbar": {
             "outlinewidth": 0,
             "ticks": ""
            },
            "colorscale": [
             [
              0,
              "#0d0887"
             ],
             [
              0.1111111111111111,
              "#46039f"
             ],
             [
              0.2222222222222222,
              "#7201a8"
             ],
             [
              0.3333333333333333,
              "#9c179e"
             ],
             [
              0.4444444444444444,
              "#bd3786"
             ],
             [
              0.5555555555555556,
              "#d8576b"
             ],
             [
              0.6666666666666666,
              "#ed7953"
             ],
             [
              0.7777777777777778,
              "#fb9f3a"
             ],
             [
              0.8888888888888888,
              "#fdca26"
             ],
             [
              1,
              "#f0f921"
             ]
            ],
            "type": "heatmap"
           }
          ],
          "heatmapgl": [
           {
            "colorbar": {
             "outlinewidth": 0,
             "ticks": ""
            },
            "colorscale": [
             [
              0,
              "#0d0887"
             ],
             [
              0.1111111111111111,
              "#46039f"
             ],
             [
              0.2222222222222222,
              "#7201a8"
             ],
             [
              0.3333333333333333,
              "#9c179e"
             ],
             [
              0.4444444444444444,
              "#bd3786"
             ],
             [
              0.5555555555555556,
              "#d8576b"
             ],
             [
              0.6666666666666666,
              "#ed7953"
             ],
             [
              0.7777777777777778,
              "#fb9f3a"
             ],
             [
              0.8888888888888888,
              "#fdca26"
             ],
             [
              1,
              "#f0f921"
             ]
            ],
            "type": "heatmapgl"
           }
          ],
          "histogram": [
           {
            "marker": {
             "colorbar": {
              "outlinewidth": 0,
              "ticks": ""
             }
            },
            "type": "histogram"
           }
          ],
          "histogram2d": [
           {
            "colorbar": {
             "outlinewidth": 0,
             "ticks": ""
            },
            "colorscale": [
             [
              0,
              "#0d0887"
             ],
             [
              0.1111111111111111,
              "#46039f"
             ],
             [
              0.2222222222222222,
              "#7201a8"
             ],
             [
              0.3333333333333333,
              "#9c179e"
             ],
             [
              0.4444444444444444,
              "#bd3786"
             ],
             [
              0.5555555555555556,
              "#d8576b"
             ],
             [
              0.6666666666666666,
              "#ed7953"
             ],
             [
              0.7777777777777778,
              "#fb9f3a"
             ],
             [
              0.8888888888888888,
              "#fdca26"
             ],
             [
              1,
              "#f0f921"
             ]
            ],
            "type": "histogram2d"
           }
          ],
          "histogram2dcontour": [
           {
            "colorbar": {
             "outlinewidth": 0,
             "ticks": ""
            },
            "colorscale": [
             [
              0,
              "#0d0887"
             ],
             [
              0.1111111111111111,
              "#46039f"
             ],
             [
              0.2222222222222222,
              "#7201a8"
             ],
             [
              0.3333333333333333,
              "#9c179e"
             ],
             [
              0.4444444444444444,
              "#bd3786"
             ],
             [
              0.5555555555555556,
              "#d8576b"
             ],
             [
              0.6666666666666666,
              "#ed7953"
             ],
             [
              0.7777777777777778,
              "#fb9f3a"
             ],
             [
              0.8888888888888888,
              "#fdca26"
             ],
             [
              1,
              "#f0f921"
             ]
            ],
            "type": "histogram2dcontour"
           }
          ],
          "mesh3d": [
           {
            "colorbar": {
             "outlinewidth": 0,
             "ticks": ""
            },
            "type": "mesh3d"
           }
          ],
          "parcoords": [
           {
            "line": {
             "colorbar": {
              "outlinewidth": 0,
              "ticks": ""
             }
            },
            "type": "parcoords"
           }
          ],
          "pie": [
           {
            "automargin": true,
            "type": "pie"
           }
          ],
          "scatter": [
           {
            "marker": {
             "colorbar": {
              "outlinewidth": 0,
              "ticks": ""
             }
            },
            "type": "scatter"
           }
          ],
          "scatter3d": [
           {
            "line": {
             "colorbar": {
              "outlinewidth": 0,
              "ticks": ""
             }
            },
            "marker": {
             "colorbar": {
              "outlinewidth": 0,
              "ticks": ""
             }
            },
            "type": "scatter3d"
           }
          ],
          "scattercarpet": [
           {
            "marker": {
             "colorbar": {
              "outlinewidth": 0,
              "ticks": ""
             }
            },
            "type": "scattercarpet"
           }
          ],
          "scattergeo": [
           {
            "marker": {
             "colorbar": {
              "outlinewidth": 0,
              "ticks": ""
             }
            },
            "type": "scattergeo"
           }
          ],
          "scattergl": [
           {
            "marker": {
             "colorbar": {
              "outlinewidth": 0,
              "ticks": ""
             }
            },
            "type": "scattergl"
           }
          ],
          "scattermapbox": [
           {
            "marker": {
             "colorbar": {
              "outlinewidth": 0,
              "ticks": ""
             }
            },
            "type": "scattermapbox"
           }
          ],
          "scatterpolar": [
           {
            "marker": {
             "colorbar": {
              "outlinewidth": 0,
              "ticks": ""
             }
            },
            "type": "scatterpolar"
           }
          ],
          "scatterpolargl": [
           {
            "marker": {
             "colorbar": {
              "outlinewidth": 0,
              "ticks": ""
             }
            },
            "type": "scatterpolargl"
           }
          ],
          "scatterternary": [
           {
            "marker": {
             "colorbar": {
              "outlinewidth": 0,
              "ticks": ""
             }
            },
            "type": "scatterternary"
           }
          ],
          "surface": [
           {
            "colorbar": {
             "outlinewidth": 0,
             "ticks": ""
            },
            "colorscale": [
             [
              0,
              "#0d0887"
             ],
             [
              0.1111111111111111,
              "#46039f"
             ],
             [
              0.2222222222222222,
              "#7201a8"
             ],
             [
              0.3333333333333333,
              "#9c179e"
             ],
             [
              0.4444444444444444,
              "#bd3786"
             ],
             [
              0.5555555555555556,
              "#d8576b"
             ],
             [
              0.6666666666666666,
              "#ed7953"
             ],
             [
              0.7777777777777778,
              "#fb9f3a"
             ],
             [
              0.8888888888888888,
              "#fdca26"
             ],
             [
              1,
              "#f0f921"
             ]
            ],
            "type": "surface"
           }
          ],
          "table": [
           {
            "cells": {
             "fill": {
              "color": "#EBF0F8"
             },
             "line": {
              "color": "white"
             }
            },
            "header": {
             "fill": {
              "color": "#C8D4E3"
             },
             "line": {
              "color": "white"
             }
            },
            "type": "table"
           }
          ]
         },
         "layout": {
          "annotationdefaults": {
           "arrowcolor": "#2a3f5f",
           "arrowhead": 0,
           "arrowwidth": 1
          },
          "autotypenumbers": "strict",
          "coloraxis": {
           "colorbar": {
            "outlinewidth": 0,
            "ticks": ""
           }
          },
          "colorscale": {
           "diverging": [
            [
             0,
             "#8e0152"
            ],
            [
             0.1,
             "#c51b7d"
            ],
            [
             0.2,
             "#de77ae"
            ],
            [
             0.3,
             "#f1b6da"
            ],
            [
             0.4,
             "#fde0ef"
            ],
            [
             0.5,
             "#f7f7f7"
            ],
            [
             0.6,
             "#e6f5d0"
            ],
            [
             0.7,
             "#b8e186"
            ],
            [
             0.8,
             "#7fbc41"
            ],
            [
             0.9,
             "#4d9221"
            ],
            [
             1,
             "#276419"
            ]
           ],
           "sequential": [
            [
             0,
             "#0d0887"
            ],
            [
             0.1111111111111111,
             "#46039f"
            ],
            [
             0.2222222222222222,
             "#7201a8"
            ],
            [
             0.3333333333333333,
             "#9c179e"
            ],
            [
             0.4444444444444444,
             "#bd3786"
            ],
            [
             0.5555555555555556,
             "#d8576b"
            ],
            [
             0.6666666666666666,
             "#ed7953"
            ],
            [
             0.7777777777777778,
             "#fb9f3a"
            ],
            [
             0.8888888888888888,
             "#fdca26"
            ],
            [
             1,
             "#f0f921"
            ]
           ],
           "sequentialminus": [
            [
             0,
             "#0d0887"
            ],
            [
             0.1111111111111111,
             "#46039f"
            ],
            [
             0.2222222222222222,
             "#7201a8"
            ],
            [
             0.3333333333333333,
             "#9c179e"
            ],
            [
             0.4444444444444444,
             "#bd3786"
            ],
            [
             0.5555555555555556,
             "#d8576b"
            ],
            [
             0.6666666666666666,
             "#ed7953"
            ],
            [
             0.7777777777777778,
             "#fb9f3a"
            ],
            [
             0.8888888888888888,
             "#fdca26"
            ],
            [
             1,
             "#f0f921"
            ]
           ]
          },
          "colorway": [
           "#636efa",
           "#EF553B",
           "#00cc96",
           "#ab63fa",
           "#FFA15A",
           "#19d3f3",
           "#FF6692",
           "#B6E880",
           "#FF97FF",
           "#FECB52"
          ],
          "font": {
           "color": "#2a3f5f"
          },
          "geo": {
           "bgcolor": "white",
           "lakecolor": "white",
           "landcolor": "#E5ECF6",
           "showlakes": true,
           "showland": true,
           "subunitcolor": "white"
          },
          "hoverlabel": {
           "align": "left"
          },
          "hovermode": "closest",
          "mapbox": {
           "style": "light"
          },
          "paper_bgcolor": "white",
          "plot_bgcolor": "#E5ECF6",
          "polar": {
           "angularaxis": {
            "gridcolor": "white",
            "linecolor": "white",
            "ticks": ""
           },
           "bgcolor": "#E5ECF6",
           "radialaxis": {
            "gridcolor": "white",
            "linecolor": "white",
            "ticks": ""
           }
          },
          "scene": {
           "xaxis": {
            "backgroundcolor": "#E5ECF6",
            "gridcolor": "white",
            "gridwidth": 2,
            "linecolor": "white",
            "showbackground": true,
            "ticks": "",
            "zerolinecolor": "white"
           },
           "yaxis": {
            "backgroundcolor": "#E5ECF6",
            "gridcolor": "white",
            "gridwidth": 2,
            "linecolor": "white",
            "showbackground": true,
            "ticks": "",
            "zerolinecolor": "white"
           },
           "zaxis": {
            "backgroundcolor": "#E5ECF6",
            "gridcolor": "white",
            "gridwidth": 2,
            "linecolor": "white",
            "showbackground": true,
            "ticks": "",
            "zerolinecolor": "white"
           }
          },
          "shapedefaults": {
           "line": {
            "color": "#2a3f5f"
           }
          },
          "ternary": {
           "aaxis": {
            "gridcolor": "white",
            "linecolor": "white",
            "ticks": ""
           },
           "baxis": {
            "gridcolor": "white",
            "linecolor": "white",
            "ticks": ""
           },
           "bgcolor": "#E5ECF6",
           "caxis": {
            "gridcolor": "white",
            "linecolor": "white",
            "ticks": ""
           }
          },
          "title": {
           "x": 0.05
          },
          "xaxis": {
           "automargin": true,
           "gridcolor": "white",
           "linecolor": "white",
           "ticks": "",
           "title": {
            "standoff": 15
           },
           "zerolinecolor": "white",
           "zerolinewidth": 2
          },
          "yaxis": {
           "automargin": true,
           "gridcolor": "white",
           "linecolor": "white",
           "ticks": "",
           "title": {
            "standoff": 15
           },
           "zerolinecolor": "white",
           "zerolinewidth": 2
          }
         }
        },
        "xaxis": {
         "anchor": "y",
         "categoryarray": [
          "Nulla",
          "Scarsa",
          "Discreta",
          "Fondamentale"
         ],
         "categoryorder": "array",
         "domain": [
          0,
          1
         ],
         "title": {
          "text": "Importanza della lettura"
         }
        },
        "yaxis": {
         "anchor": "x",
         "domain": [
          0,
          1
         ],
         "tickformat": "%",
         "title": {
          "text": "Frequenza"
         }
        }
       }
      }
     },
     "metadata": {}
    }
   ],
   "source": [
    "# Importanza della lettura\n",
    "df_reading = get_freq(df, 'Importanza')\n",
    "\n",
    "# Sort based on Likert scale\n",
    "df_reading = df_reading.reindex([2,3,0,1])\n",
    "\n",
    "# Relative freq\n",
    "df_reading = to_relative_freq(df_reading)\n",
    "\n",
    "bar_reading = px.bar(df_reading, x='Importanza', y='f', color='Importanza', labels={'Importanza': 'Importanza della lettura', 'f': 'Frequenza'})\n",
    "\n",
    "bar_reading.update_layout(\n",
    "    showlegend=False,\n",
    "    yaxis_tickformat = '%'\n",
    ")\n",
    "\n",
    "bar_reading.show()\n",
    "\n",
    "save_plot(bar_reading, 'bar_reading')"
   ]
  },
  {
   "cell_type": "code",
   "execution_count": 69,
   "metadata": {},
   "outputs": [
    {
     "output_type": "display_data",
     "data": {
      "application/vnd.plotly.v1+json": {
       "config": {
        "plotlyServerURL": "https://plot.ly"
       },
       "data": [
        {
         "alignmentgroup": "True",
         "hovertemplate": "Numero di libri letti in un anno=%{x}<br>Frequenza=%{y}<extra></extra>",
         "legendgroup": "0",
         "marker": {
          "color": "#636efa"
         },
         "name": "0",
         "offsetgroup": "0",
         "orientation": "v",
         "showlegend": true,
         "textposition": "auto",
         "type": "bar",
         "x": [
          "0"
         ],
         "xaxis": "x",
         "y": [
          0.09433962264150944
         ],
         "yaxis": "y"
        },
        {
         "alignmentgroup": "True",
         "hovertemplate": "Numero di libri letti in un anno=%{x}<br>Frequenza=%{y}<extra></extra>",
         "legendgroup": "1-2",
         "marker": {
          "color": "#EF553B"
         },
         "name": "1-2",
         "offsetgroup": "1-2",
         "orientation": "v",
         "showlegend": true,
         "textposition": "auto",
         "type": "bar",
         "x": [
          "1-2"
         ],
         "xaxis": "x",
         "y": [
          0.39622641509433965
         ],
         "yaxis": "y"
        },
        {
         "alignmentgroup": "True",
         "hovertemplate": "Numero di libri letti in un anno=%{x}<br>Frequenza=%{y}<extra></extra>",
         "legendgroup": "3-5",
         "marker": {
          "color": "#00cc96"
         },
         "name": "3-5",
         "offsetgroup": "3-5",
         "orientation": "v",
         "showlegend": true,
         "textposition": "auto",
         "type": "bar",
         "x": [
          "3-5"
         ],
         "xaxis": "x",
         "y": [
          0.22641509433962265
         ],
         "yaxis": "y"
        },
        {
         "alignmentgroup": "True",
         "hovertemplate": "Numero di libri letti in un anno=%{x}<br>Frequenza=%{y}<extra></extra>",
         "legendgroup": "6-10",
         "marker": {
          "color": "#ab63fa"
         },
         "name": "6-10",
         "offsetgroup": "6-10",
         "orientation": "v",
         "showlegend": true,
         "textposition": "auto",
         "type": "bar",
         "x": [
          "6-10"
         ],
         "xaxis": "x",
         "y": [
          0.18867924528301888
         ],
         "yaxis": "y"
        },
        {
         "alignmentgroup": "True",
         "hovertemplate": "Numero di libri letti in un anno=%{x}<br>Frequenza=%{y}<extra></extra>",
         "legendgroup": "11+",
         "marker": {
          "color": "#FFA15A"
         },
         "name": "11+",
         "offsetgroup": "11+",
         "orientation": "v",
         "showlegend": true,
         "textposition": "auto",
         "type": "bar",
         "x": [
          "11+"
         ],
         "xaxis": "x",
         "y": [
          0.09433962264150944
         ],
         "yaxis": "y"
        }
       ],
       "layout": {
        "barmode": "relative",
        "legend": {
         "title": {
          "text": "Numero di libri letti in un anno"
         },
         "tracegroupgap": 0
        },
        "margin": {
         "t": 60
        },
        "showlegend": false,
        "template": {
         "data": {
          "bar": [
           {
            "error_x": {
             "color": "#2a3f5f"
            },
            "error_y": {
             "color": "#2a3f5f"
            },
            "marker": {
             "line": {
              "color": "#E5ECF6",
              "width": 0.5
             }
            },
            "type": "bar"
           }
          ],
          "barpolar": [
           {
            "marker": {
             "line": {
              "color": "#E5ECF6",
              "width": 0.5
             }
            },
            "type": "barpolar"
           }
          ],
          "carpet": [
           {
            "aaxis": {
             "endlinecolor": "#2a3f5f",
             "gridcolor": "white",
             "linecolor": "white",
             "minorgridcolor": "white",
             "startlinecolor": "#2a3f5f"
            },
            "baxis": {
             "endlinecolor": "#2a3f5f",
             "gridcolor": "white",
             "linecolor": "white",
             "minorgridcolor": "white",
             "startlinecolor": "#2a3f5f"
            },
            "type": "carpet"
           }
          ],
          "choropleth": [
           {
            "colorbar": {
             "outlinewidth": 0,
             "ticks": ""
            },
            "type": "choropleth"
           }
          ],
          "contour": [
           {
            "colorbar": {
             "outlinewidth": 0,
             "ticks": ""
            },
            "colorscale": [
             [
              0,
              "#0d0887"
             ],
             [
              0.1111111111111111,
              "#46039f"
             ],
             [
              0.2222222222222222,
              "#7201a8"
             ],
             [
              0.3333333333333333,
              "#9c179e"
             ],
             [
              0.4444444444444444,
              "#bd3786"
             ],
             [
              0.5555555555555556,
              "#d8576b"
             ],
             [
              0.6666666666666666,
              "#ed7953"
             ],
             [
              0.7777777777777778,
              "#fb9f3a"
             ],
             [
              0.8888888888888888,
              "#fdca26"
             ],
             [
              1,
              "#f0f921"
             ]
            ],
            "type": "contour"
           }
          ],
          "contourcarpet": [
           {
            "colorbar": {
             "outlinewidth": 0,
             "ticks": ""
            },
            "type": "contourcarpet"
           }
          ],
          "heatmap": [
           {
            "colorbar": {
             "outlinewidth": 0,
             "ticks": ""
            },
            "colorscale": [
             [
              0,
              "#0d0887"
             ],
             [
              0.1111111111111111,
              "#46039f"
             ],
             [
              0.2222222222222222,
              "#7201a8"
             ],
             [
              0.3333333333333333,
              "#9c179e"
             ],
             [
              0.4444444444444444,
              "#bd3786"
             ],
             [
              0.5555555555555556,
              "#d8576b"
             ],
             [
              0.6666666666666666,
              "#ed7953"
             ],
             [
              0.7777777777777778,
              "#fb9f3a"
             ],
             [
              0.8888888888888888,
              "#fdca26"
             ],
             [
              1,
              "#f0f921"
             ]
            ],
            "type": "heatmap"
           }
          ],
          "heatmapgl": [
           {
            "colorbar": {
             "outlinewidth": 0,
             "ticks": ""
            },
            "colorscale": [
             [
              0,
              "#0d0887"
             ],
             [
              0.1111111111111111,
              "#46039f"
             ],
             [
              0.2222222222222222,
              "#7201a8"
             ],
             [
              0.3333333333333333,
              "#9c179e"
             ],
             [
              0.4444444444444444,
              "#bd3786"
             ],
             [
              0.5555555555555556,
              "#d8576b"
             ],
             [
              0.6666666666666666,
              "#ed7953"
             ],
             [
              0.7777777777777778,
              "#fb9f3a"
             ],
             [
              0.8888888888888888,
              "#fdca26"
             ],
             [
              1,
              "#f0f921"
             ]
            ],
            "type": "heatmapgl"
           }
          ],
          "histogram": [
           {
            "marker": {
             "colorbar": {
              "outlinewidth": 0,
              "ticks": ""
             }
            },
            "type": "histogram"
           }
          ],
          "histogram2d": [
           {
            "colorbar": {
             "outlinewidth": 0,
             "ticks": ""
            },
            "colorscale": [
             [
              0,
              "#0d0887"
             ],
             [
              0.1111111111111111,
              "#46039f"
             ],
             [
              0.2222222222222222,
              "#7201a8"
             ],
             [
              0.3333333333333333,
              "#9c179e"
             ],
             [
              0.4444444444444444,
              "#bd3786"
             ],
             [
              0.5555555555555556,
              "#d8576b"
             ],
             [
              0.6666666666666666,
              "#ed7953"
             ],
             [
              0.7777777777777778,
              "#fb9f3a"
             ],
             [
              0.8888888888888888,
              "#fdca26"
             ],
             [
              1,
              "#f0f921"
             ]
            ],
            "type": "histogram2d"
           }
          ],
          "histogram2dcontour": [
           {
            "colorbar": {
             "outlinewidth": 0,
             "ticks": ""
            },
            "colorscale": [
             [
              0,
              "#0d0887"
             ],
             [
              0.1111111111111111,
              "#46039f"
             ],
             [
              0.2222222222222222,
              "#7201a8"
             ],
             [
              0.3333333333333333,
              "#9c179e"
             ],
             [
              0.4444444444444444,
              "#bd3786"
             ],
             [
              0.5555555555555556,
              "#d8576b"
             ],
             [
              0.6666666666666666,
              "#ed7953"
             ],
             [
              0.7777777777777778,
              "#fb9f3a"
             ],
             [
              0.8888888888888888,
              "#fdca26"
             ],
             [
              1,
              "#f0f921"
             ]
            ],
            "type": "histogram2dcontour"
           }
          ],
          "mesh3d": [
           {
            "colorbar": {
             "outlinewidth": 0,
             "ticks": ""
            },
            "type": "mesh3d"
           }
          ],
          "parcoords": [
           {
            "line": {
             "colorbar": {
              "outlinewidth": 0,
              "ticks": ""
             }
            },
            "type": "parcoords"
           }
          ],
          "pie": [
           {
            "automargin": true,
            "type": "pie"
           }
          ],
          "scatter": [
           {
            "marker": {
             "colorbar": {
              "outlinewidth": 0,
              "ticks": ""
             }
            },
            "type": "scatter"
           }
          ],
          "scatter3d": [
           {
            "line": {
             "colorbar": {
              "outlinewidth": 0,
              "ticks": ""
             }
            },
            "marker": {
             "colorbar": {
              "outlinewidth": 0,
              "ticks": ""
             }
            },
            "type": "scatter3d"
           }
          ],
          "scattercarpet": [
           {
            "marker": {
             "colorbar": {
              "outlinewidth": 0,
              "ticks": ""
             }
            },
            "type": "scattercarpet"
           }
          ],
          "scattergeo": [
           {
            "marker": {
             "colorbar": {
              "outlinewidth": 0,
              "ticks": ""
             }
            },
            "type": "scattergeo"
           }
          ],
          "scattergl": [
           {
            "marker": {
             "colorbar": {
              "outlinewidth": 0,
              "ticks": ""
             }
            },
            "type": "scattergl"
           }
          ],
          "scattermapbox": [
           {
            "marker": {
             "colorbar": {
              "outlinewidth": 0,
              "ticks": ""
             }
            },
            "type": "scattermapbox"
           }
          ],
          "scatterpolar": [
           {
            "marker": {
             "colorbar": {
              "outlinewidth": 0,
              "ticks": ""
             }
            },
            "type": "scatterpolar"
           }
          ],
          "scatterpolargl": [
           {
            "marker": {
             "colorbar": {
              "outlinewidth": 0,
              "ticks": ""
             }
            },
            "type": "scatterpolargl"
           }
          ],
          "scatterternary": [
           {
            "marker": {
             "colorbar": {
              "outlinewidth": 0,
              "ticks": ""
             }
            },
            "type": "scatterternary"
           }
          ],
          "surface": [
           {
            "colorbar": {
             "outlinewidth": 0,
             "ticks": ""
            },
            "colorscale": [
             [
              0,
              "#0d0887"
             ],
             [
              0.1111111111111111,
              "#46039f"
             ],
             [
              0.2222222222222222,
              "#7201a8"
             ],
             [
              0.3333333333333333,
              "#9c179e"
             ],
             [
              0.4444444444444444,
              "#bd3786"
             ],
             [
              0.5555555555555556,
              "#d8576b"
             ],
             [
              0.6666666666666666,
              "#ed7953"
             ],
             [
              0.7777777777777778,
              "#fb9f3a"
             ],
             [
              0.8888888888888888,
              "#fdca26"
             ],
             [
              1,
              "#f0f921"
             ]
            ],
            "type": "surface"
           }
          ],
          "table": [
           {
            "cells": {
             "fill": {
              "color": "#EBF0F8"
             },
             "line": {
              "color": "white"
             }
            },
            "header": {
             "fill": {
              "color": "#C8D4E3"
             },
             "line": {
              "color": "white"
             }
            },
            "type": "table"
           }
          ]
         },
         "layout": {
          "annotationdefaults": {
           "arrowcolor": "#2a3f5f",
           "arrowhead": 0,
           "arrowwidth": 1
          },
          "autotypenumbers": "strict",
          "coloraxis": {
           "colorbar": {
            "outlinewidth": 0,
            "ticks": ""
           }
          },
          "colorscale": {
           "diverging": [
            [
             0,
             "#8e0152"
            ],
            [
             0.1,
             "#c51b7d"
            ],
            [
             0.2,
             "#de77ae"
            ],
            [
             0.3,
             "#f1b6da"
            ],
            [
             0.4,
             "#fde0ef"
            ],
            [
             0.5,
             "#f7f7f7"
            ],
            [
             0.6,
             "#e6f5d0"
            ],
            [
             0.7,
             "#b8e186"
            ],
            [
             0.8,
             "#7fbc41"
            ],
            [
             0.9,
             "#4d9221"
            ],
            [
             1,
             "#276419"
            ]
           ],
           "sequential": [
            [
             0,
             "#0d0887"
            ],
            [
             0.1111111111111111,
             "#46039f"
            ],
            [
             0.2222222222222222,
             "#7201a8"
            ],
            [
             0.3333333333333333,
             "#9c179e"
            ],
            [
             0.4444444444444444,
             "#bd3786"
            ],
            [
             0.5555555555555556,
             "#d8576b"
            ],
            [
             0.6666666666666666,
             "#ed7953"
            ],
            [
             0.7777777777777778,
             "#fb9f3a"
            ],
            [
             0.8888888888888888,
             "#fdca26"
            ],
            [
             1,
             "#f0f921"
            ]
           ],
           "sequentialminus": [
            [
             0,
             "#0d0887"
            ],
            [
             0.1111111111111111,
             "#46039f"
            ],
            [
             0.2222222222222222,
             "#7201a8"
            ],
            [
             0.3333333333333333,
             "#9c179e"
            ],
            [
             0.4444444444444444,
             "#bd3786"
            ],
            [
             0.5555555555555556,
             "#d8576b"
            ],
            [
             0.6666666666666666,
             "#ed7953"
            ],
            [
             0.7777777777777778,
             "#fb9f3a"
            ],
            [
             0.8888888888888888,
             "#fdca26"
            ],
            [
             1,
             "#f0f921"
            ]
           ]
          },
          "colorway": [
           "#636efa",
           "#EF553B",
           "#00cc96",
           "#ab63fa",
           "#FFA15A",
           "#19d3f3",
           "#FF6692",
           "#B6E880",
           "#FF97FF",
           "#FECB52"
          ],
          "font": {
           "color": "#2a3f5f"
          },
          "geo": {
           "bgcolor": "white",
           "lakecolor": "white",
           "landcolor": "#E5ECF6",
           "showlakes": true,
           "showland": true,
           "subunitcolor": "white"
          },
          "hoverlabel": {
           "align": "left"
          },
          "hovermode": "closest",
          "mapbox": {
           "style": "light"
          },
          "paper_bgcolor": "white",
          "plot_bgcolor": "#E5ECF6",
          "polar": {
           "angularaxis": {
            "gridcolor": "white",
            "linecolor": "white",
            "ticks": ""
           },
           "bgcolor": "#E5ECF6",
           "radialaxis": {
            "gridcolor": "white",
            "linecolor": "white",
            "ticks": ""
           }
          },
          "scene": {
           "xaxis": {
            "backgroundcolor": "#E5ECF6",
            "gridcolor": "white",
            "gridwidth": 2,
            "linecolor": "white",
            "showbackground": true,
            "ticks": "",
            "zerolinecolor": "white"
           },
           "yaxis": {
            "backgroundcolor": "#E5ECF6",
            "gridcolor": "white",
            "gridwidth": 2,
            "linecolor": "white",
            "showbackground": true,
            "ticks": "",
            "zerolinecolor": "white"
           },
           "zaxis": {
            "backgroundcolor": "#E5ECF6",
            "gridcolor": "white",
            "gridwidth": 2,
            "linecolor": "white",
            "showbackground": true,
            "ticks": "",
            "zerolinecolor": "white"
           }
          },
          "shapedefaults": {
           "line": {
            "color": "#2a3f5f"
           }
          },
          "ternary": {
           "aaxis": {
            "gridcolor": "white",
            "linecolor": "white",
            "ticks": ""
           },
           "baxis": {
            "gridcolor": "white",
            "linecolor": "white",
            "ticks": ""
           },
           "bgcolor": "#E5ECF6",
           "caxis": {
            "gridcolor": "white",
            "linecolor": "white",
            "ticks": ""
           }
          },
          "title": {
           "x": 0.05
          },
          "xaxis": {
           "automargin": true,
           "gridcolor": "white",
           "linecolor": "white",
           "ticks": "",
           "title": {
            "standoff": 15
           },
           "zerolinecolor": "white",
           "zerolinewidth": 2
          },
          "yaxis": {
           "automargin": true,
           "gridcolor": "white",
           "linecolor": "white",
           "ticks": "",
           "title": {
            "standoff": 15
           },
           "zerolinecolor": "white",
           "zerolinewidth": 2
          }
         }
        },
        "xaxis": {
         "anchor": "y",
         "categoryarray": [
          "0",
          "1-2",
          "3-5",
          "6-10",
          "11+"
         ],
         "categoryorder": "array",
         "domain": [
          0,
          1
         ],
         "title": {
          "text": "Numero di libri letti in un anno"
         }
        },
        "yaxis": {
         "anchor": "x",
         "domain": [
          0,
          1
         ],
         "tickformat": "%",
         "title": {
          "text": "Frequenza"
         }
        }
       }
      }
     },
     "metadata": {}
    }
   ],
   "source": [
    "# Number of books read per year\n",
    "df_books_read = get_freq(df, 'Quanti libri')\n",
    "\n",
    "# Sort based on Likert scale\n",
    "df_books_read = df_books_read.reindex([0,1,3,4,2])\n",
    "\n",
    "# Relative freq\n",
    "df_books_read = to_relative_freq(df_books_read)\n",
    "\n",
    "# Address the plotly bug which ignores the dtype\n",
    "# df_books_read['Quanti libri'][0] = 'Nessuno'\n",
    "# A canta funziona, PARKOUR\n",
    "# ░░▄░░░▄░▄▄▄▄░░░░░░░░░░░░░░░\n",
    "# ░░█▀▄▀█░█▄▄░░░░░░░░░░░░░░░░\n",
    "# ░░█░░░█░█▄▄▄░░░░░░░░░░░░░░░\n",
    "# ░░░░░░░░░░░░░░░░░░░░░░░░░░░\n",
    "# ░▄▄▄░▄░░░▄░░▄▄▄░▄▄▄▄▄░░▄▄▄░\n",
    "# █░░░░█░░░█░█░░░░░░█░░░█░░░█\n",
    "# █░▀█░█░░░█░░▀▀▄░░░█░░░█▀▀▀█\n",
    "# ░▀▀▀░░▀▀▀░░▄▄▄▀░░░▀░░░▀░░░▀\n",
    "\n",
    "bar_books_read = px.bar(df_books_read, x='Quanti libri', y='f', color='Quanti libri', labels={'Quanti libri': 'Numero di libri letti in un anno', 'f': 'Frequenza'})\n",
    "\n",
    "bar_books_read.update_layout(\n",
    "    showlegend=False,\n",
    "    yaxis_tickformat = '%'\n",
    ")\n",
    "\n",
    "bar_books_read.show()\n",
    "\n",
    "save_plot(bar_books_read, 'bar_books_read')"
   ]
  },
  {
   "cell_type": "code",
   "execution_count": 70,
   "metadata": {},
   "outputs": [
    {
     "output_type": "execute_result",
     "data": {
      "text/plain": [
       "{'AGGBZ': \"Mi ha fatto piacere partecipare. \\nSpero di esservi stata d'aiuto nel vostro progetto universitario. \\n\",\n",
       " 'ZLAXX': 'Il test è strutturato molto bene, non modificherei nulla',\n",
       " 'EVDDT': 'Alla grandine, bel lavoro',\n",
       " 'RYYES': \"sono contento di essere stato utile per un'attività che servirà per la formazione di giovani studenti  \",\n",
       " 'CFRLM': 'Grazie',\n",
       " 'SARZI': 'Devo ancora capire il senso di qst test... ',\n",
       " 'THRZI': 'Tutto perfetto! Davvero complimenti ',\n",
       " 'EOTDA': 'Spero di essere stato utile',\n",
       " 'IMHHT': 'Organizzazione ottima anche nella versione per telefono',\n",
       " 'ITCXH': 'Ciao!! ',\n",
       " 'HBIRW': 'Va bene così',\n",
       " 'ACHTQ': 'La parte della giustificazione è troppo lunga. Obbligare ad inserire minimo 10 parole mi ha quasi fatto passar la voglia di fare questo questionario. ',\n",
       " 'KAHOD': 'Grazie.',\n",
       " 'HDLGN': 'Dal telefono quando passo da un libro all’altro preferirei ricaricasse la pagina dall’inizio senza costringermi a scorrere in alto.'}"
      ]
     },
     "metadata": {},
     "execution_count": 70
    }
   ],
   "source": [
    "# Opinions retrieved from task\n",
    "\n",
    "commentDict = {}\n",
    "for workerDir in os.scandir('../Data/'):\n",
    "    if os.path.isfile(f'{workerDir.path}/comment_try_1.json'):\n",
    "        comment = read_json(f'{workerDir.path}/comment_try_1.json')\n",
    "        if comment['comment'] != '':\n",
    "            commentDict[workerDir.name] = comment['comment']\n",
    "serialize_json('comment_summary.json', commentDict)\n",
    "commentDict\n"
   ]
  },
  {
   "cell_type": "code",
   "execution_count": 77,
   "metadata": {
    "tags": []
   },
   "outputs": [],
   "source": [
    "# Worker HITS data\n",
    "worker_data = []\n",
    "for worker_dir in os.scandir('../Data/'):\n",
    "    data_try = read_json(worker_dir.path + \"/data_try_1.json\")\n",
    "    task_data = read_json(worker_dir.path + \"/task_data.json\")\n",
    "    worker_data.append((data_try, task_data))\n",
    "\n",
    "# Get books info\n",
    "df_all_books = pd.read_csv('../pyHITS/libri.csv', sep=';').reset_index()\n",
    "\n",
    "dict_data = {\n",
    "    'edizione_id': [],\n",
    "    'hai_letto': [],\n",
    "    'sfoglieresti': [],\n",
    "    'compreresti': [],\n",
    "    'prezzo_adeguato': [],\n",
    "    'quanto_prezzo_adeguato': [],\n",
    "    'impressione_valore': [],\n",
    "    'impressione_testo': [],\n",
    "    'time_elapsed': []\n",
    "}\n",
    "\n",
    "def get_edition_index(current_book):\n",
    "    for _, book in df_all_books.iterrows():\n",
    "        if current_book['title'] == book['title'] and current_book['type']  == book['type'] and current_book['language'] == book['language']:\n",
    "            return book['index']\n",
    "    print('YoUsTOn we got a problem')\n",
    "\n",
    "for entry in worker_data:\n",
    "    data, task = entry\n",
    "\n",
    "    for book in task['documents']:\n",
    "        dict_data['edizione_id'].append(get_edition_index(book))\n",
    "    \n",
    "    for answers in data['documents_answers']:\n",
    "\n",
    "        dict_data['hai_letto'].append(int(answers['Hai letto questo libro?_value']))\n",
    "        dict_data['sfoglieresti'].append(int(answers['Sfoglieresti il libro vedendone la copertina?_value']))\n",
    "        dict_data['compreresti'].append(int(answers['Compreresti questa edizione del libro? (eventualmente supponendo di non possederlo già)_value']))\n",
    "        dict_data['prezzo_adeguato'].append(int(answers['Il prezzo è adeguato?_value']))\n",
    "        dict_data['quanto_prezzo_adeguato'].append(int(answers['Indica quanto ti sembra adeguato:_value']))\n",
    "        dict_data['impressione_valore'].append(int(answers['Quali sono le tue impressioni su questa edizione del libro?_value']))\n",
    "        dict_data['impressione_testo'].append(answers['Quali sono le tue impressioni su questa edizione del libro?_justification'])\n",
    "\n",
    "    for index, timestamp in enumerate(data['timestamps_elapsed']):\n",
    "        if index != 0: # first timestamp is the questionnaire\n",
    "            if type(timestamp) == list:\n",
    "                dict_data['time_elapsed'].append(timestamp[-1])\n",
    "            else:\n",
    "                dict_data['time_elapsed'].append(timestamp)\n",
    "\n",
    "df_data = pd.DataFrame(dict_data)\n",
    "\n",
    "# display(df_data)\n",
    "df_data.to_json(\"dataframes/worker_data.json\")"
   ]
  },
  {
   "cell_type": "code",
   "execution_count": 72,
   "metadata": {},
   "outputs": [
    {
     "output_type": "stream",
     "name": "stdout",
     "text": [
      "=============== MEAN ===============\n"
     ]
    },
    {
     "output_type": "display_data",
     "data": {
      "text/plain": "             hai_letto  sfoglieresti  compreresti  prezzo_adeguato  \\\nedizione_id                                                          \n0             0.333333      0.444444     0.277778         0.944444   \n1             0.117647      0.588235     0.588235         0.764706   \n2             0.055556      0.500000     0.277778         0.833333   \n3             0.058824      0.529412     0.294118         0.882353   \n4             0.388889      0.722222     0.666667         0.722222   \n5             0.388889      0.833333     0.777778         0.833333   \n6             0.277778      0.388889     0.388889         0.833333   \n7             0.166667      0.277778     0.388889         0.722222   \n8             0.176471      0.411765     0.352941         0.823529   \n\n             quanto_prezzo_adeguato  impressione_valore  time_elapsed  \nedizione_id                                                            \n0                          3.944444            0.555556    203.004556  \n1                          3.764706            0.647059    150.360000  \n2                          3.222222            0.444444    188.815778  \n3                          3.764706            0.647059    195.363118  \n4                          3.444444            0.666667    180.487444  \n5                          3.888889            0.666667    151.748222  \n6                          3.666667            0.388889    262.673111  \n7                          3.666667            0.444444    146.652056  \n8                          3.823529            0.352941    153.331529  ",
      "text/html": "<div>\n<style scoped>\n    .dataframe tbody tr th:only-of-type {\n        vertical-align: middle;\n    }\n\n    .dataframe tbody tr th {\n        vertical-align: top;\n    }\n\n    .dataframe thead th {\n        text-align: right;\n    }\n</style>\n<table border=\"1\" class=\"dataframe\">\n  <thead>\n    <tr style=\"text-align: right;\">\n      <th></th>\n      <th>hai_letto</th>\n      <th>sfoglieresti</th>\n      <th>compreresti</th>\n      <th>prezzo_adeguato</th>\n      <th>quanto_prezzo_adeguato</th>\n      <th>impressione_valore</th>\n      <th>time_elapsed</th>\n    </tr>\n    <tr>\n      <th>edizione_id</th>\n      <th></th>\n      <th></th>\n      <th></th>\n      <th></th>\n      <th></th>\n      <th></th>\n      <th></th>\n    </tr>\n  </thead>\n  <tbody>\n    <tr>\n      <th>0</th>\n      <td>0.333333</td>\n      <td>0.444444</td>\n      <td>0.277778</td>\n      <td>0.944444</td>\n      <td>3.944444</td>\n      <td>0.555556</td>\n      <td>203.004556</td>\n    </tr>\n    <tr>\n      <th>1</th>\n      <td>0.117647</td>\n      <td>0.588235</td>\n      <td>0.588235</td>\n      <td>0.764706</td>\n      <td>3.764706</td>\n      <td>0.647059</td>\n      <td>150.360000</td>\n    </tr>\n    <tr>\n      <th>2</th>\n      <td>0.055556</td>\n      <td>0.500000</td>\n      <td>0.277778</td>\n      <td>0.833333</td>\n      <td>3.222222</td>\n      <td>0.444444</td>\n      <td>188.815778</td>\n    </tr>\n    <tr>\n      <th>3</th>\n      <td>0.058824</td>\n      <td>0.529412</td>\n      <td>0.294118</td>\n      <td>0.882353</td>\n      <td>3.764706</td>\n      <td>0.647059</td>\n      <td>195.363118</td>\n    </tr>\n    <tr>\n      <th>4</th>\n      <td>0.388889</td>\n      <td>0.722222</td>\n      <td>0.666667</td>\n      <td>0.722222</td>\n      <td>3.444444</td>\n      <td>0.666667</td>\n      <td>180.487444</td>\n    </tr>\n    <tr>\n      <th>5</th>\n      <td>0.388889</td>\n      <td>0.833333</td>\n      <td>0.777778</td>\n      <td>0.833333</td>\n      <td>3.888889</td>\n      <td>0.666667</td>\n      <td>151.748222</td>\n    </tr>\n    <tr>\n      <th>6</th>\n      <td>0.277778</td>\n      <td>0.388889</td>\n      <td>0.388889</td>\n      <td>0.833333</td>\n      <td>3.666667</td>\n      <td>0.388889</td>\n      <td>262.673111</td>\n    </tr>\n    <tr>\n      <th>7</th>\n      <td>0.166667</td>\n      <td>0.277778</td>\n      <td>0.388889</td>\n      <td>0.722222</td>\n      <td>3.666667</td>\n      <td>0.444444</td>\n      <td>146.652056</td>\n    </tr>\n    <tr>\n      <th>8</th>\n      <td>0.176471</td>\n      <td>0.411765</td>\n      <td>0.352941</td>\n      <td>0.823529</td>\n      <td>3.823529</td>\n      <td>0.352941</td>\n      <td>153.331529</td>\n    </tr>\n  </tbody>\n</table>\n</div>"
     },
     "metadata": {}
    },
    {
     "output_type": "stream",
     "name": "stdout",
     "text": [
      "=============== MEDIAN ===============\n"
     ]
    },
    {
     "output_type": "display_data",
     "data": {
      "text/plain": "             hai_letto  sfoglieresti  compreresti  prezzo_adeguato  \\\nedizione_id                                                          \n0                  0.0           0.0          0.0              1.0   \n1                  0.0           1.0          1.0              1.0   \n2                  0.0           0.5          0.0              1.0   \n3                  0.0           1.0          0.0              1.0   \n4                  0.0           1.0          1.0              1.0   \n5                  0.0           1.0          1.0              1.0   \n6                  0.0           0.0          0.0              1.0   \n7                  0.0           0.0          0.0              1.0   \n8                  0.0           0.0          0.0              1.0   \n\n             quanto_prezzo_adeguato  impressione_valore  time_elapsed  \nedizione_id                                                            \n0                               4.0                 1.0      166.0020  \n1                               4.0                 1.0      122.0040  \n2                               3.0                 0.0      153.4990  \n3                               4.0                 1.0      188.0050  \n4                               4.0                 1.0      165.0900  \n5                               4.0                 1.0       96.8370  \n6                               3.5                 0.0      200.3445  \n7                               4.0                 0.0      130.6425  \n8                               4.0                 0.0      121.8240  ",
      "text/html": "<div>\n<style scoped>\n    .dataframe tbody tr th:only-of-type {\n        vertical-align: middle;\n    }\n\n    .dataframe tbody tr th {\n        vertical-align: top;\n    }\n\n    .dataframe thead th {\n        text-align: right;\n    }\n</style>\n<table border=\"1\" class=\"dataframe\">\n  <thead>\n    <tr style=\"text-align: right;\">\n      <th></th>\n      <th>hai_letto</th>\n      <th>sfoglieresti</th>\n      <th>compreresti</th>\n      <th>prezzo_adeguato</th>\n      <th>quanto_prezzo_adeguato</th>\n      <th>impressione_valore</th>\n      <th>time_elapsed</th>\n    </tr>\n    <tr>\n      <th>edizione_id</th>\n      <th></th>\n      <th></th>\n      <th></th>\n      <th></th>\n      <th></th>\n      <th></th>\n      <th></th>\n    </tr>\n  </thead>\n  <tbody>\n    <tr>\n      <th>0</th>\n      <td>0.0</td>\n      <td>0.0</td>\n      <td>0.0</td>\n      <td>1.0</td>\n      <td>4.0</td>\n      <td>1.0</td>\n      <td>166.0020</td>\n    </tr>\n    <tr>\n      <th>1</th>\n      <td>0.0</td>\n      <td>1.0</td>\n      <td>1.0</td>\n      <td>1.0</td>\n      <td>4.0</td>\n      <td>1.0</td>\n      <td>122.0040</td>\n    </tr>\n    <tr>\n      <th>2</th>\n      <td>0.0</td>\n      <td>0.5</td>\n      <td>0.0</td>\n      <td>1.0</td>\n      <td>3.0</td>\n      <td>0.0</td>\n      <td>153.4990</td>\n    </tr>\n    <tr>\n      <th>3</th>\n      <td>0.0</td>\n      <td>1.0</td>\n      <td>0.0</td>\n      <td>1.0</td>\n      <td>4.0</td>\n      <td>1.0</td>\n      <td>188.0050</td>\n    </tr>\n    <tr>\n      <th>4</th>\n      <td>0.0</td>\n      <td>1.0</td>\n      <td>1.0</td>\n      <td>1.0</td>\n      <td>4.0</td>\n      <td>1.0</td>\n      <td>165.0900</td>\n    </tr>\n    <tr>\n      <th>5</th>\n      <td>0.0</td>\n      <td>1.0</td>\n      <td>1.0</td>\n      <td>1.0</td>\n      <td>4.0</td>\n      <td>1.0</td>\n      <td>96.8370</td>\n    </tr>\n    <tr>\n      <th>6</th>\n      <td>0.0</td>\n      <td>0.0</td>\n      <td>0.0</td>\n      <td>1.0</td>\n      <td>3.5</td>\n      <td>0.0</td>\n      <td>200.3445</td>\n    </tr>\n    <tr>\n      <th>7</th>\n      <td>0.0</td>\n      <td>0.0</td>\n      <td>0.0</td>\n      <td>1.0</td>\n      <td>4.0</td>\n      <td>0.0</td>\n      <td>130.6425</td>\n    </tr>\n    <tr>\n      <th>8</th>\n      <td>0.0</td>\n      <td>0.0</td>\n      <td>0.0</td>\n      <td>1.0</td>\n      <td>4.0</td>\n      <td>0.0</td>\n      <td>121.8240</td>\n    </tr>\n  </tbody>\n</table>\n</div>"
     },
     "metadata": {}
    },
    {
     "output_type": "stream",
     "name": "stdout",
     "text": [
      "=============== MIN ===============\n"
     ]
    },
    {
     "output_type": "display_data",
     "data": {
      "text/plain": "             hai_letto  sfoglieresti  compreresti  prezzo_adeguato  \\\nedizione_id                                                          \n0                    0             0            0                0   \n1                    0             0            0                0   \n2                    0             0            0                0   \n3                    0             0            0                0   \n4                    0             0            0                0   \n5                    0             0            0                0   \n6                    0             0            0                0   \n7                    0             0            0                0   \n8                    0             0            0                0   \n\n             quanto_prezzo_adeguato  impressione_valore  \\\nedizione_id                                               \n0                                 3                   0   \n1                                 1                   0   \n2                                 1                   0   \n3                                 1                   0   \n4                                 1                   0   \n5                                 2                   0   \n6                                 0                   0   \n7                                 0                   0   \n8                                 1                   0   \n\n                                             impressione_testo  time_elapsed  \nedizione_id                                                                   \n0            180 pagine sono troppo poche, il libro finisce...        98.098  \n1            Comunque io credo che in modalità cartacea sia...        70.523  \n2            Avendo visto il film potrei pensare ad acquist...        54.608  \n3            Anche se non l’ho letto, conosco la storia e l...        72.597  \n4            Anche questa copertina è molto interessante. S...        43.847  \n5            Amando questa scrittrice posso dire che lo com...        38.223  \n6            Appare un'ottima edizine a chi è interessato a...        81.875  \n7            Avendo letto parte di questo libro e confronta...        39.165  \n8            Amo un'altro genere di lettura , non questa.no...        40.698  ",
      "text/html": "<div>\n<style scoped>\n    .dataframe tbody tr th:only-of-type {\n        vertical-align: middle;\n    }\n\n    .dataframe tbody tr th {\n        vertical-align: top;\n    }\n\n    .dataframe thead th {\n        text-align: right;\n    }\n</style>\n<table border=\"1\" class=\"dataframe\">\n  <thead>\n    <tr style=\"text-align: right;\">\n      <th></th>\n      <th>hai_letto</th>\n      <th>sfoglieresti</th>\n      <th>compreresti</th>\n      <th>prezzo_adeguato</th>\n      <th>quanto_prezzo_adeguato</th>\n      <th>impressione_valore</th>\n      <th>impressione_testo</th>\n      <th>time_elapsed</th>\n    </tr>\n    <tr>\n      <th>edizione_id</th>\n      <th></th>\n      <th></th>\n      <th></th>\n      <th></th>\n      <th></th>\n      <th></th>\n      <th></th>\n      <th></th>\n    </tr>\n  </thead>\n  <tbody>\n    <tr>\n      <th>0</th>\n      <td>0</td>\n      <td>0</td>\n      <td>0</td>\n      <td>0</td>\n      <td>3</td>\n      <td>0</td>\n      <td>180 pagine sono troppo poche, il libro finisce...</td>\n      <td>98.098</td>\n    </tr>\n    <tr>\n      <th>1</th>\n      <td>0</td>\n      <td>0</td>\n      <td>0</td>\n      <td>0</td>\n      <td>1</td>\n      <td>0</td>\n      <td>Comunque io credo che in modalità cartacea sia...</td>\n      <td>70.523</td>\n    </tr>\n    <tr>\n      <th>2</th>\n      <td>0</td>\n      <td>0</td>\n      <td>0</td>\n      <td>0</td>\n      <td>1</td>\n      <td>0</td>\n      <td>Avendo visto il film potrei pensare ad acquist...</td>\n      <td>54.608</td>\n    </tr>\n    <tr>\n      <th>3</th>\n      <td>0</td>\n      <td>0</td>\n      <td>0</td>\n      <td>0</td>\n      <td>1</td>\n      <td>0</td>\n      <td>Anche se non l’ho letto, conosco la storia e l...</td>\n      <td>72.597</td>\n    </tr>\n    <tr>\n      <th>4</th>\n      <td>0</td>\n      <td>0</td>\n      <td>0</td>\n      <td>0</td>\n      <td>1</td>\n      <td>0</td>\n      <td>Anche questa copertina è molto interessante. S...</td>\n      <td>43.847</td>\n    </tr>\n    <tr>\n      <th>5</th>\n      <td>0</td>\n      <td>0</td>\n      <td>0</td>\n      <td>0</td>\n      <td>2</td>\n      <td>0</td>\n      <td>Amando questa scrittrice posso dire che lo com...</td>\n      <td>38.223</td>\n    </tr>\n    <tr>\n      <th>6</th>\n      <td>0</td>\n      <td>0</td>\n      <td>0</td>\n      <td>0</td>\n      <td>0</td>\n      <td>0</td>\n      <td>Appare un'ottima edizine a chi è interessato a...</td>\n      <td>81.875</td>\n    </tr>\n    <tr>\n      <th>7</th>\n      <td>0</td>\n      <td>0</td>\n      <td>0</td>\n      <td>0</td>\n      <td>0</td>\n      <td>0</td>\n      <td>Avendo letto parte di questo libro e confronta...</td>\n      <td>39.165</td>\n    </tr>\n    <tr>\n      <th>8</th>\n      <td>0</td>\n      <td>0</td>\n      <td>0</td>\n      <td>0</td>\n      <td>1</td>\n      <td>0</td>\n      <td>Amo un'altro genere di lettura , non questa.no...</td>\n      <td>40.698</td>\n    </tr>\n  </tbody>\n</table>\n</div>"
     },
     "metadata": {}
    },
    {
     "output_type": "stream",
     "name": "stdout",
     "text": [
      "=============== MAX ===============\n"
     ]
    },
    {
     "output_type": "display_data",
     "data": {
      "text/plain": "             hai_letto  sfoglieresti  compreresti  prezzo_adeguato  \\\nedizione_id                                                          \n0                    2             1            1                1   \n1                    1             1            1                1   \n2                    1             1            1                1   \n3                    1             1            1                1   \n4                    1             1            1                1   \n5                    2             1            1                1   \n6                    1             1            1                1   \n7                    1             1            1                1   \n8                    1             1            1                1   \n\n             quanto_prezzo_adeguato  impressione_valore  \\\nedizione_id                                               \n0                                 5                   1   \n1                                 5                   1   \n2                                 5                   1   \n3                                 5                   1   \n4                                 5                   1   \n5                                 5                   1   \n6                                 5                   1   \n7                                 5                   1   \n8                                 5                   1   \n\n                                             impressione_testo  time_elapsed  \nedizione_id                                                                   \n0            È un bel libro fantasy e soprattutto ho visto ...       477.573  \n1            la copertina incuriosisce e fa intuire in part...       390.038  \n2            Sempra un libro di avventura che mi puo appass...       463.652  \n3            Ottimo libro lo stile della copertina rispecch...       409.309  \n4            sembra un libro per preadolescenti dalla coper...       433.494  \n5            buon libero per avvicinarsi al genere giallo, ...       365.270  \n6            È un'edizione del libro abbastanza recente e c...       679.613  \n7            Ritengo che il genere del libro in questione n...       501.189  \n8            non dedicherei il mio tempo per leggere questo...       497.069  ",
      "text/html": "<div>\n<style scoped>\n    .dataframe tbody tr th:only-of-type {\n        vertical-align: middle;\n    }\n\n    .dataframe tbody tr th {\n        vertical-align: top;\n    }\n\n    .dataframe thead th {\n        text-align: right;\n    }\n</style>\n<table border=\"1\" class=\"dataframe\">\n  <thead>\n    <tr style=\"text-align: right;\">\n      <th></th>\n      <th>hai_letto</th>\n      <th>sfoglieresti</th>\n      <th>compreresti</th>\n      <th>prezzo_adeguato</th>\n      <th>quanto_prezzo_adeguato</th>\n      <th>impressione_valore</th>\n      <th>impressione_testo</th>\n      <th>time_elapsed</th>\n    </tr>\n    <tr>\n      <th>edizione_id</th>\n      <th></th>\n      <th></th>\n      <th></th>\n      <th></th>\n      <th></th>\n      <th></th>\n      <th></th>\n      <th></th>\n    </tr>\n  </thead>\n  <tbody>\n    <tr>\n      <th>0</th>\n      <td>2</td>\n      <td>1</td>\n      <td>1</td>\n      <td>1</td>\n      <td>5</td>\n      <td>1</td>\n      <td>È un bel libro fantasy e soprattutto ho visto ...</td>\n      <td>477.573</td>\n    </tr>\n    <tr>\n      <th>1</th>\n      <td>1</td>\n      <td>1</td>\n      <td>1</td>\n      <td>1</td>\n      <td>5</td>\n      <td>1</td>\n      <td>la copertina incuriosisce e fa intuire in part...</td>\n      <td>390.038</td>\n    </tr>\n    <tr>\n      <th>2</th>\n      <td>1</td>\n      <td>1</td>\n      <td>1</td>\n      <td>1</td>\n      <td>5</td>\n      <td>1</td>\n      <td>Sempra un libro di avventura che mi puo appass...</td>\n      <td>463.652</td>\n    </tr>\n    <tr>\n      <th>3</th>\n      <td>1</td>\n      <td>1</td>\n      <td>1</td>\n      <td>1</td>\n      <td>5</td>\n      <td>1</td>\n      <td>Ottimo libro lo stile della copertina rispecch...</td>\n      <td>409.309</td>\n    </tr>\n    <tr>\n      <th>4</th>\n      <td>1</td>\n      <td>1</td>\n      <td>1</td>\n      <td>1</td>\n      <td>5</td>\n      <td>1</td>\n      <td>sembra un libro per preadolescenti dalla coper...</td>\n      <td>433.494</td>\n    </tr>\n    <tr>\n      <th>5</th>\n      <td>2</td>\n      <td>1</td>\n      <td>1</td>\n      <td>1</td>\n      <td>5</td>\n      <td>1</td>\n      <td>buon libero per avvicinarsi al genere giallo, ...</td>\n      <td>365.270</td>\n    </tr>\n    <tr>\n      <th>6</th>\n      <td>1</td>\n      <td>1</td>\n      <td>1</td>\n      <td>1</td>\n      <td>5</td>\n      <td>1</td>\n      <td>È un'edizione del libro abbastanza recente e c...</td>\n      <td>679.613</td>\n    </tr>\n    <tr>\n      <th>7</th>\n      <td>1</td>\n      <td>1</td>\n      <td>1</td>\n      <td>1</td>\n      <td>5</td>\n      <td>1</td>\n      <td>Ritengo che il genere del libro in questione n...</td>\n      <td>501.189</td>\n    </tr>\n    <tr>\n      <th>8</th>\n      <td>1</td>\n      <td>1</td>\n      <td>1</td>\n      <td>1</td>\n      <td>5</td>\n      <td>1</td>\n      <td>non dedicherei il mio tempo per leggere questo...</td>\n      <td>497.069</td>\n    </tr>\n  </tbody>\n</table>\n</div>"
     },
     "metadata": {}
    }
   ],
   "source": [
    "\"\"\"\n",
    "Calcolate le seguenti misure per ciascuna edizione:\n",
    "\n",
    "    Grado medio di adeguatezza del prezzo\n",
    "    Edizione con il livello massimo di adeguatezza del prezzo\n",
    "    Edizione con il livello minimo di adeguatezza del prezzo\n",
    "\"\"\"\n",
    "\n",
    "# MEAN\n",
    "mean_edition = df_data\\\n",
    "    .groupby('edizione_id')\\\n",
    "    .mean()\n",
    "\n",
    "print(\"=============== MEAN ===============\")\n",
    "display(mean_edition)\n",
    "\n",
    "# MEDIAN\n",
    "median_edition = df_data\\\n",
    "    .groupby('edizione_id')\\\n",
    "    .median()\n",
    "\n",
    "print(\"=============== MEDIAN ===============\")\n",
    "display(median_edition)\n",
    "\n",
    "# MIN\n",
    "min_edition = df_data\\\n",
    "    .groupby('edizione_id')\\\n",
    "    .min()\n",
    "\n",
    "print(\"=============== MIN ===============\")\n",
    "display(min_edition)\n",
    "\n",
    "# MAX\n",
    "max_edition = df_data\\\n",
    "    .groupby('edizione_id')\\\n",
    "    .max()\n",
    "\n",
    "print(\"=============== MAX ===============\")\n",
    "display(max_edition)"
   ]
  },
  {
   "cell_type": "code",
   "execution_count": 73,
   "metadata": {},
   "outputs": [
    {
     "output_type": "stream",
     "name": "stdout",
     "text": [
      "\u001b[92m\u001b[1mMEAN\u001b[0m\nThe mean is 17.232704402515722\n\n\u001b[92m\u001b[1mMAX\u001b[0m\nMaximum length is 70\n\n\"Viene spesso detto di non giudicare il libro dalla copertina ma la realtà secondo me è diversa, molto spesso in una libreria i libri che ci attirano si piú sono quelli con una copertina accattivante, elaborata e particolare.\nLa storia narrata è sicuramente di mio gradimento e su questo non ho nulla da dire.\nAvendolo già letto lo consiglierei o acquisterei volentieri ma, per attrarre maggior clientela si dovrebbe migliorare la facciata.\"\n\n\u001b[92m\u001b[1mMIN\u001b[0m\nMinum length is 11\n\n\"Trovo il prezzo un po' elevato trattandosi di una versione digitale\"\n"
     ]
    }
   ],
   "source": [
    "\"\"\"\n",
    "Elencate le giustificazioni fornite dai worker e:\n",
    "\n",
    "    Calcolate la lunghezza media\n",
    "    Determinate la giustificazione più lunga\n",
    "    Determinate la giustificazione più corta\n",
    "\"\"\"\n",
    "# Show justifications and create a json of justifications\n",
    "justification_dict = df_data['impressione_testo'].to_dict()\n",
    "serialize_json(\"justifications.json\", justification_dict)\n",
    "\n",
    "# def remove_non_words(tense):\n",
    "#    stem = list()\n",
    "#    for word in tense.split(\" \"):\n",
    "#        if len(word) > 2: stem.append(word)\n",
    "#    return stem\n",
    "\n",
    "\n",
    "# Should we apply lemming removing articles and stuff?     \n",
    "giustifications_len = df_data['impressione_testo']\\\n",
    "    .apply(lambda x: x.split(\" \"))\\\n",
    "    .apply(len)\\\n",
    "    .to_frame()\n",
    "\n",
    "\n",
    "# Mean explanation length, then the longest and the shortest ones\n",
    "print(\"\\033[92m\\033[1mMEAN\\033[0m\")\n",
    "print(f\"The mean is {giustifications_len['impressione_testo'].mean()}\")\n",
    "print()\n",
    "\n",
    "print(\"\\033[92m\\033[1mMAX\\033[0m\")\n",
    "print(f\"Maximum length is {giustifications_len['impressione_testo'].max()}\")\n",
    "index_max = giustifications_len['impressione_testo'].idxmax()\n",
    "print(f\"\\n\\\"{df_data['impressione_testo'][index_max]}\\\"\")\n",
    "print()\n",
    "\n",
    "print(\"\\033[92m\\033[1mMIN\\033[0m\")\n",
    "print(f\"Minum length is {giustifications_len['impressione_testo'].min()}\")\n",
    "index_min = giustifications_len['impressione_testo'].idxmin()\n",
    "print(f\"\\n\\\"{df_data['impressione_testo'][index_min]}\\\"\")"
   ]
  },
  {
   "cell_type": "code",
   "execution_count": 74,
   "metadata": {},
   "outputs": [
    {
     "output_type": "display_data",
     "data": {
      "text/plain": "{0: 'Pur non essendo il mio genere preferito, resta comunque una bella storia da leggere',\n 1: \"Trovo il prezzo un po' elevato trattandosi di una versione digitale\",\n 2: 'Sicuramente non fa parte dei libri che leggerei tornato da una giornata lavorativa',\n 3: \"E' un genere di lettura fantasy, azione, avventura che non mi interessa. \",\n 4: \"E' un genere di lettura che non rientra nei miei pensieri. \",\n 5: 'Questo libro non fa parte delle mie solite letture, ma ho voluto confrontarlo con il film.',\n 6: 'L’impatto di colori mi pare  troppo aggressivo e forse eccessivo, nonostante faccia intendere la trama del libro',\n 7: 'Questo libro non è di mio gradimento, sembra ridicolizzare il contenuto del libro, che è alquanto complesso',\n 8: 'Questo libro è di mio gradimento, rispecchia la trama del libro',\n 9: 'Queste edizioni andrebbero ritirate dal commercio (parola di studentessa di Letteratura)',\n 10: 'Comunque io credo che in modalità cartacea sia sempre meglio :) ',\n 11: 'Non conosco bene la casa editrice, ma non mi sembra delle migliori',\n 12: 'Il titolo e la copertina mi invogliano a saperne di più riguardo questa vicenda',\n 13: 'La filosofia non mi piace, perciò non comprerei questo libro nonostante il prezzo molto conveniente ',\n 14: 'La copertina non è male, ma non mi piacciono le storie che non rispecchiano la realtà',\n 15: 'Possiedo molti altri libri edizione \"Oscar Bestsellers\" e generalmente (come in questo caso) mi attirano molto la grafica e i colori delle copertina. Trovo il prezzo adeguato e mi piace l\\'idea che l\\'edizione sia piuttosto recente.',\n 16: \"Considerando che si tratta di un'edizione per bambini/ragazzi, trovo la copertina poco accattivante. Il prezzo è inadeguato: edizione a mio parere troppo economica considerando che si tratta di un libro di 239 pagine.\",\n 17: \"Impressione generalmente negativa. Non avendo letto il libro ma conoscendone i contenuti so per certo che non lo leggerei (a maggior ragione perché si tratta di un'edizione scritta in inglese). Trovo che la copertina non lasci trapelare e intuire nulla rispetto ai contenuti.\",\n 18: \"Il prezzo e la copertina possono sminuire l'importanza dei contenuti rendendo quello che è un testo improntato sulla riflessione personale ad una banale storiella.\",\n 19: \"La copertina e il prezzo possono attrarre il lettore nonostante il formato digitale. La copertina ha un'immagine adeguata che può far scattare l'interesse agli amanti del genere proposto.\",\n 20: 'L\\'immagine della copertina attira facilmente l\\'interesse del lettore che potrebbe essere colpito dall\\'alone di mistero che ne traspare.\\nLa scritta \"THE QUEEN OF MYSTERY\" per descrivere brevemente l\\'autrice è sicuramente un bel punto a vantaggio della copertina che diventa subito più coinvolgente.',\n 21: 'Non mi interessa l’argomento, già accennato al corso di filosofia alle scuole superiori',\n 22: 'Ho visto il film e mi è piaciuto molto, sarebbe interessante leggere anche il libro',\n 23: 'Non mi piace il genere fantasy. È un libro/saga famoso ma non mi ispira',\n 24: \"Appare un'ottima edizine a chi è interessato all'argomento senza spedere troppo per un'edizione più prestigiosa\",\n 25: 'Il prezzo è decisamente elevato per un libro in copia digitale non originale',\n 26: 'Il genere e il pubblico a cui è indirizzato non corrispondono con me.',\n 27: 'La copertina del libro non mi fa intuire il contenuto proposto',\n 28: 'la copertina incuriosisce e fa intuire in parte il contenuto del libro ',\n 29: 'Il titolo rende il libro interessante e mi invoglia a comprarlo ',\n 30: 'Questo libro non mi attira in quanto la copertina non è di mio gradimento',\n 31: 'Mi sembra un libro interessante anche dalla copertina ma sinceramente non lo comprerei ',\n 32: 'Questo libro non mi attira e a parer mio il prezzo non è adeguato',\n 33: 'Conosco la trama ho visto il film con peter ustinof mi è piaciuto assai ',\n 34: 'fa parte del genere fuori dalla realtà mi piace genere più vicino alla vita reale',\n 35: 'non dedicherei il mio tempo per leggere questo libro perchè ci sono tante letture che mi interessano di più ',\n 36: \"Non l'ho letto quindi non saprei dare una risposta adeguata riguardo la mia impressione \",\n 37: 'Non saprei dare una risposta riguardo la mia impressione non avendolo letto ',\n 38: 'Guardando soltanto la copertina, senza sapere di che cosa parla, potrebbe attirare la mia attenzione ',\n 39: 'Buon libro, classico fantasy, lettura facile e veloce  per adolescenti, miglior capitolo della saga',\n 40: 'Prezzo fin troppo basso, si spera che almeno questo attiri qualche lettore verso una delle letture più facili e interessanti del pensiero di Nietzsche',\n 41: 'buon libero per avvicinarsi al genere giallo, sicuramente uno dei più famosi del genere ottimo prezzo',\n 42: 'Non lo comprerei perché non appartiene al mio genere di lettura abituale. ',\n 43: 'Mi ha sempre incuriosito e sarebbe una buona occasione per leggerlo. ',\n 44: 'Avendo già letto dei passaggi estratti dal libro, lo comprerei solo perché già so di cosa parla. Altrimenti non credo lo farei. ',\n 45: 'La copertina mi attrae e invoglia alla lettura del libro. Il prezzo è inoltre molto competitivo. ',\n 46: 'Il libro personalmente non mi interessa per il genere. La copertina non mi invoglia alla lettura.',\n 47: 'Il libro sembra essere interessante e la copertina è invitante. Inoltre, il prezzo mi sembra adeguato.',\n 48: 'Non mi piace il libro di questo genere, non mi ispira tanto.',\n 49: \"Potrebbe essere un libro da leggere durante la pausa the',mi ispira anche dalla copertina.\",\n 50: \"Sempra un libro di avventura che mi puo appassiona, anche se e' un'po vecchio..\",\n 51: \"Il prezzo è adeguato, ma forse leggermente più basso di quanto mi aspetterei. La copertina è bella colorato e mi attira. L'autore sicuramente ha inserito dei contenuti interessanti, anche se complicati, immagino.\",\n 52: 'La versione digitale è più comoda e portabile. Il genere è di mio interesse. Il relativo film mi è piaciuto e quindi penso così possa essere anche per il libro.',\n 53: 'La copertina non mi piace per nulla. A vederla mi immagino di leggere un libro sui treni. ',\n 54: \"L'autrice ed il titolo sono molto noti, qnd credo che sia valido anche se non é il mio genere\",\n 55: \"Libro e autore molto noti ma non mi interessa molto l'argomento\",\n 56: 'Non mi interessano granché i libri del genere fantasy o similari',\n 57: 'I colori della copertina mi colpiscono molto, creando, insieme al titolo, in me dell\\'interesse riguardo al libro. Oltre a questo il libro viene targato con il termine \"Oscar moderni\", catturando ancor di più la mia attenzione. ',\n 58: \"La copertina non cattura particolarmente la mia attenzione. Quello che mi spinge a informarmi meglio riguardo al libro è l'autore, oltre che al prezzo irrisorio. \",\n 59: \"Copertina a parer mio un po' vecchia scuola, che rende il libro più interessante dal punto di vista estetico, in quanto mi ricorda la copertina originale. Prezzo adeguato al contesto. \",\n 60: \"L' immagine della copertina non  mi piace esteticamente e non comprendo il genere \",\n 61: \"Mi piace perché l' immagine ha bei colori e inquadra il genere.\",\n 62: \"Belli i caratteri di scrittura e l' immagine con colori appropriati.\",\n 63: 'Anche se non l’ho letto, conosco la storia e la trovo molto interessante ',\n 64: 'Nonostante il prezzo basso non è il genere di libro che mi piacerebbe leggere',\n 65: 'Avendo visto il film potrei pensare ad acquistare anche il libro',\n 66: 'L’illustrazione non mi piace nello stile generale, la figura di Nietzsche non mi sembra simpatica',\n 67: 'La copertina mi sembra accattivante e dà già un’idea della storia, poi personalmente prediligo i gialli',\n 68: 'Il prezzo è un filo alto e la copertina mi sembra troppo “piena”',\n 69: 'Copertina accattivante colorata, di impatto, libro flessibile per cui pratico. Aut',\n 70: 'Già visto film copertina troppo retro colori non accattivanti non inte',\n 71: 'Titolo imperdibile bella immagine accattivante da tenere in biblioteca buon pre',\n 72: 'Il disegno riportato sulla copertina del libro è particolare quindi mi incuriosisce. Il prezzo è ottimo.',\n 73: 'Il libro appare interessante e vien voglia di sfogliarlo. Il prezzo è molto buono.',\n 74: 'Il libro in se è di mio gradimento. La copertina è accattivante ma il prezzo è elevato considerando la copertina flessibile e il numero di pagine contenuto, a un prezzo inferiore non esiterei a comprarlo.',\n 75: \"La copertina è molto interessante, con uno stile minimal in grado di catturare l'attenzione. Prezzo molto buono\",\n 76: 'Anche questa copertina è molto interessante. Se la trama dovesse piacermi, lo comprerei sicuramente visto il prezzo.',\n 77: 'Personalmente la copertina non mi piace. Il prezzo è abbastanza giusto. ',\n 78: \"Il disegno in copertina da l'impressione di un libro di basso spessore, come fosse una storiella da quattro soldi\",\n 79: \"La copertina è ordinata e senza eccessi, i caratteri sono sobri, fattorini che mi danno l'impressione di un libro che vale la pena di essere letto\",\n 80: 'Il carattere usato per il titolo non mi piace, sembra quello usato per i titoli scritti in Word, come se non fosse curato abbastanza',\n 81: 'Il prezzo non è eccessivo anche avendo la copertina flessibile, complessivamente mi sembra buono.',\n 82: 'La mia impressione è negativa per via della grafica della copertina  che personalmente non mi invogli a comprarlo, nonostante ciò ritengo che il prezzo sia  molto conveniente ',\n 83: 'La copertina e il prezzo del testo mi sembrano adeguati .',\n 84: 'Non è  il mio genere , non amo il genere giallo',\n 85: 'Nemmeno questo è  il genere che scelgo per le mie letture',\n 86: \"Amo un'altro genere di lettura , non questa.non mi appassiona questo tipo di libro\",\n 87: 'il modo in cui è scritto il titolo e in cui si presenta la copertina non tradisce le aspettative leggendo la trama',\n 88: 'sembra un libro per preadolescenti dalla copertina, lo sfoglierei solo per quanto è famoso',\n 89: \"credo sia buona l'idea di mettere così in risalto il nome Nietzsche nella copertina perché è importante quanto il yitolo\",\n 90: \"Ottimo libro lo stile della copertina rispecchia l'anno di pubblicazione del libro\",\n 91: 'Prezzo molto conveniente per un libro di 148 pagine, la copertina rispecchia molto il titolo del libro.',\n 92: 'Guardando la copertina non sembra rispecchiare il mio genere,  e non sono un amante dei libri in inglese.',\n 93: 'Questo libro è molto interessante e lo copperei subito anche perché il prezzo è giusto ',\n 94: 'Questo libro è interessante e per questo motivo lo copperei subito',\n 95: 'Questo libro è interessante e lo copperei subito anche perché il prezzo è giusto ',\n 96: \"Questo libro non l'ho letto e guardando la copertina non mi ispira \",\n 97: 'Non ho letto questo libro però la copertina mi piace e lo comprerei ',\n 98: \"Questo libro non l'ho letto, lo sfoglierei ma non credo che lo acquisterei vedendolo così \",\n 99: 'È un bel libro fantasy e soprattutto ho visto il film che ancora oggi rivedo con piacere',\n 100: 'La copertina non mi ispira, lo comprerei solo se qualcuno me lo consigliate! ',\n 101: 'La copertina è bella ma non è il mio genere e non mi piace il titolo. ',\n 102: '180 pagine sono troppo poche, il libro finisce velocemente e ciò non è di mio gradimento ',\n 103: 'La filosofia mi è sempre piaciuta quindi sfoglierei volentieri questo libro ',\n 104: 'Essendo tanle libro in lingua inglese sarebbe interessante leggerlo in lingua originale',\n 105: 'Guardando il film ritengo che sia interessante e intrigante, anche la trama è piacevole',\n 106: 'Guardando il film non mi ha stimolato alcun interesse, quindi non lo leggerei.',\n 107: 'Molto interessante, e utile come esperienza di vita, sarei molto interessato a leggerlo',\n 108: 'La copertina non è accattivante, è un’edizione del libro di bassa qualità',\n 109: 'L’immagine della copertina è molto bella, e il prezzo è molto adeguato rispetto alla qualità dell’edizione ',\n 110: 'La copertina riprende le immagini del film che potrebbero richiamare delle persone a cui il film è piaciuto molto ',\n 111: \"Copertina inadeguata rispetto al contenuto trattato ed al livello dell' autore.\",\n 112: 'La copertina è bella esteticamente ed evocativa di contenuti interessanti. .',\n 113: \"Copertina adeguata. Il nome dell'autrice in evidenza è una garanzia della bontà dei contenuti..\",\n 114: 'Mi sembra un edizione che a prima vista alleggerisce il contenuto che in realtà è complesso',\n 115: \"Nonostante sia un'edizione junior potrebbe attrarre anche un adulto. Il prezzo è centrato pensando alla qualità del contenuto e dell'autrice. \",\n 116: 'Non comprerei il libro perché in inglese, oppure lo comprerei ma sarebbe un impegno maggiore leggero. Mi piace che nella copertina ci siano i personaggi del film',\n 117: 'Ha una lettura scorrevole e non è pesante, l’ho finito in un mese ',\n 118: 'La copertina mi attira ad aprirlo e ad iniziare a leggerlo ',\n 119: 'Non penso che lo leggerei mai, Nietzsche non mi piace e nemmeno la filosofia ',\n 120: \"È un'edizione del libro abbastanza recente e compatta ed inoltre molto economica\\n\",\n 121: 'Preferisco il formato in copertina flessibile a quello kindle ed inoltre il prezzo mi sembra troppo elevato per un e-book ',\n 122: \"Non è di mio gradimento poichè non è in italiano e perché è un'edizione non troppo recente\",\n 123: 'Non leggo libri di questo genere.\\nNon acquisterei il libro neanche dalla. Copertina ',\n 124: 'La storia la conosco. Il prezzo del libro è troppo basso',\n 125: 'Sembra interessante.\\nPrezzo troppo basso\\nA a a a a a a a a',\n 126: 'Mi sembra che il disegnatore sappia disegnare ma il prezzo è decisamente eccessivo ',\n 127: 'Il prezzo è alto e non è stato messo abbastanza impegno nella progettazione della copertina',\n 128: \"Non mi piace l'accostamento del quadro in relazione all'opera a cui fa riferimento\",\n 129: 'La casa editrice è famosa e mi suggerisce qualità, mentre il prezzo non è eccessivo.',\n 130: 'Ritengo che il genere del libro in questione non sia adatto alla lettura in digitale.',\n 131: 'Non gradisco la presenza di immagini del film nel libro. Inoltre preferirei leggerlo in italiano.',\n 132: 'Come precedentemente scritto non leggerei questo libro in quanto non mi porta a leggerlo.',\n 133: 'Avendo letto parte di questo libro e confrontando il prezzo con altri libri dello stesso autore e similari, ritengo che il prezzo e la copertina siano adeguati.',\n 134: 'Amando questa scrittrice posso dire che lo comprerei ad oggi chiusi.',\n 135: 'Viene spesso detto di non giudicare il libro dalla copertina ma la realtà secondo me è diversa, molto spesso in una libreria i libri che ci attirano si piú sono quelli con una copertina accattivante, elaborata e particolare.\\nLa storia narrata è sicuramente di mio gradimento e su questo non ho nulla da dire.\\nAvendolo già letto lo consiglierei o acquisterei volentieri ma, per attrarre maggior clientela si dovrebbe migliorare la facciata.',\n 136: 'Copertina particolare che invoglia perlomeno a sfogliare il libro.\\nIl contenuto potrà essere più o meno in linea con i miei pensieri ma, guardando il prezzo, un tentativo lo farei.',\n 137: \"Conoscendo l'autore lo comprerei, è sempre la copertina che risulta poco accattivante.\",\n 138: 'Dalla copertina si intuisce che il genere del libro non è di mio gradimento (fantasy)',\n 139: 'Dalla copertina si intuisce che il romanzo è un giallo, potrebbe interessarmi',\n 140: 'Sebbene sia un grande autore non vedo nessun interesse a leggere questo libro',\n 141: 'Il titolo mi aggrada, i colori, le immagini e complessivamente attira la mia attenzione',\n 142: 'Non è un libro di mio gradimento in quanto avendo studiato filosofia la prof mi ha stressato con questo filosofo',\n 143: 'Questo libro mi è piaciuto molto, la copertina è gradevole e anche la lettura è piacevole',\n 144: 'Il titolo non sembra interessante e la copertina non aumenta il mio interesse. Il prezzo è molto alto.',\n 145: 'Non ho mai letto il libro ma dalla copertina sembra interessante. Non so se lo leggerei interamente ma di sicuro sarei invitato a incominciare la lettura basandomi solo sulla copertina. Il prezzo è molto accessibile.',\n 146: 'La copertina sembra interessante ma ho letto il libro anni fa e mi ha rovinato la vita facendomi cadere tutte le certezze. Ho paura che rileggerlo a 63 anni possa avere effetti catastrofici sulla mi persona. Nietzsche mi fa paura.',\n 147: 'Il prezzo è molto accessibile e il colore della copertina salta molto all’occhio',\n 148: 'Trovo utile la presenza del numero “2” per indicare la cronologia dei romanzi  ',\n 149: 'Personalmente apprezzo il fatto che la copertina sia flessibile e non rigida. L’immagine è molto suggestiva e si capisce chiaramente che il libro è in lingua orginale',\n 150: 'L’illustrazione e i caratteri utilizzati  tolgono o quanto meno non rendono giustizia al libro .',\n 151: 'Lo stile utilizzato rende accattivante il suo contenuto, nonostante l’argomento trattato. Tuttavia non é detto che  i lettori che tendono a comprare questo libro,”giudicato dalla copertina”, siano poi portate a leggerlo.  \\n',\n 152: 'Premetto che il genere letterario trattato non mi entusiasma. Trovo comunque la copertina in linea con il suo prezzo, nonostante rimanga banale e poco ricercata.',\n 153: \"ispira la copertina e l 'ho sentito nominare gia' in passato \",\n 154: \"il libro e' vecchio e per una versione digitale mi sembra caro\",\n 155: \"conosco l' autore e per un libro così importante è  economico\",\n 156: 'I colori della copertina sono incisivi e i caratteri attraenti. Mi invoglia alla lettura.',\n 157: 'La copertina è bruttissima e i colori sono sgradevoli. La tipologia di disegno fa pensare agli anni ‘60 che sono ormai superatii.',\n 158: 'Il colore è attraente, anche i caratteri. Ispira mistero e suspence.'}"
     },
     "metadata": {}
    }
   ],
   "source": [
    "display(df_data['impressione_testo'].to_dict())"
   ]
  }
 ],
 "metadata": {
  "kernelspec": {
   "display_name": "Python 3",
   "language": "python",
   "name": "python3"
  },
  "language_info": {
   "codemirror_mode": {
    "name": "ipython",
    "version": 3
   },
   "file_extension": ".py",
   "mimetype": "text/x-python",
   "name": "python",
   "nbconvert_exporter": "python",
   "pygments_lexer": "ipython3",
   "version": "3.9.1-final"
  }
 },
 "nbformat": 4,
 "nbformat_minor": 4
}