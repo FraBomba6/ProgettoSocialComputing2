{
 "cells": [
  {
   "cell_type": "code",
   "execution_count": 10,
   "metadata": {},
   "outputs": [
    {
     "name": "stdout",
     "output_type": "stream",
     "text": [
      "Modules imported!\n"
     ]
    }
   ],
   "source": [
    "import pandas as pd\n",
    "import plotly.express as px\n",
    "import plotly.graph_objects as go\n",
    "from collections import Counter\n",
    "#import matplotlib.pyplot as plt\n",
    "import numpy as np\n",
    "import json\n",
    "import os\n",
    "print(\"Modules imported!\")"
   ]
  },
  {
   "cell_type": "code",
   "execution_count": 11,
   "metadata": {
    "collapsed": false,
    "jupyter": {
     "outputs_hidden": false
    },
    "pycharm": {
     "name": "#%%\n"
    }
   },
   "outputs": [
    {
     "name": "stdout",
     "output_type": "stream",
     "text": [
      "Functions ready!\n"
     ]
    }
   ],
   "source": [
    "def read_json(file_path):\n",
    "    if os.path.exists(file_path):\n",
    "        with open(file_path, \"r\", encoding=\"utf8\") as file:\n",
    "            data = json.load(file)\n",
    "        print(f\"Data read from path: {file_path}\")\n",
    "        return data\n",
    "    else:\n",
    "        print(f\"No data found at path: {file_path}\")\n",
    "        return {}\n",
    "\n",
    "def serialize_json(filename, data):\n",
    "    with open(filename, \"w\", encoding=\"utf8\") as f:\n",
    "        json.dump(data, f, ensure_ascii=False, indent=4)\n",
    "        print(f\"Data serialized to path: {filename}\")\n",
    "\n",
    "print(\"Functions ready!\")"
   ]
  },
  {
   "cell_type": "code",
   "execution_count": 12,
   "metadata": {
    "collapsed": false,
    "jupyter": {
     "outputs_hidden": false
    },
    "pycharm": {
     "name": "#%%\n"
    }
   },
   "outputs": [],
   "source": [
    "# Data correction: there was a bug in the given framework causing timestamps in data_try_{n}.json to be wrong\n",
    "\n",
    "# for workerDir in os.scandir('../Data/'):\n",
    "#     data_try = read_json(workerDir.path + \"/data_try_1.json\")\n",
    "#     for workerJson in os.scandir(workerDir.path):\n",
    "#         if workerJson.name.startswith('quest') or workerJson.name.startswith('doc'):\n",
    "#             sourceJson = read_json(workerJson.path)\n",
    "#             if workerJson.name.startswith('quest'):\n",
    "#                 data_try['timestamps_end'][0][0] = sourceJson['timestamps_end'][0]\n",
    "#                 data_try['timestamps_elapsed'][0][0] = sourceJson['timestamps_elapsed']\n",
    "#             else:\n",
    "#                 workerJson_split = workerJson.name.split('_')\n",
    "#                 docIndex = int(workerJson_split[1])\n",
    "#                 docTry = int(workerJson_split[5])\n",
    "#                 data_try['timestamps_end'][docIndex][docTry - 1] = sourceJson['timestamps_end'][docTry - 1]\n",
    "#                 data_try['timestamps_elapsed'][docIndex][docTry - 1] = sourceJson['timestamps_elapsed']\n",
    "#     serialize_json(workerDir.path + \"/data_try_1.json\", data_try)"
   ]
  },
  {
   "cell_type": "code",
   "execution_count": 13,
   "metadata": {
    "collapsed": false,
    "jupyter": {
     "outputs_hidden": false
    },
    "pycharm": {
     "name": "#%%\n"
    }
   },
   "outputs": [
    {
     "name": "stdout",
     "output_type": "stream",
     "text": [
      "Data read from path: ../Data/ACHTQ/task_data.json\n",
      "Data read from path: ../Data/ACHTQ/data_try_1.json\n",
      "Data read from path: ../Data/AGGBZ/task_data.json\n",
      "Data read from path: ../Data/AGGBZ/data_try_1.json\n",
      "Data read from path: ../Data/ATCOU/task_data.json\n",
      "Data read from path: ../Data/ATCOU/data_try_1.json\n",
      "Data read from path: ../Data/AVOZM/task_data.json\n",
      "Data read from path: ../Data/AVOZM/data_try_1.json\n",
      "Data read from path: ../Data/AZGIQ/task_data.json\n",
      "Data read from path: ../Data/AZGIQ/data_try_1.json\n",
      "Data read from path: ../Data/BGLMR/task_data.json\n",
      "Data read from path: ../Data/BGLMR/data_try_1.json\n",
      "Data read from path: ../Data/BOJHZ/task_data.json\n",
      "Data read from path: ../Data/BOJHZ/data_try_1.json\n",
      "Data read from path: ../Data/CFRLM/task_data.json\n",
      "Data read from path: ../Data/CFRLM/data_try_1.json\n",
      "Data read from path: ../Data/DJTWC/task_data.json\n",
      "Data read from path: ../Data/DJTWC/data_try_1.json\n",
      "Data read from path: ../Data/DUMDJ/task_data.json\n",
      "Data read from path: ../Data/DUMDJ/data_try_1.json\n",
      "Data read from path: ../Data/DVRAN/task_data.json\n",
      "Data read from path: ../Data/DVRAN/data_try_1.json\n",
      "Data read from path: ../Data/EOTDA/task_data.json\n",
      "Data read from path: ../Data/EOTDA/data_try_1.json\n",
      "Data read from path: ../Data/EUOBG/task_data.json\n",
      "Data read from path: ../Data/EUOBG/data_try_1.json\n",
      "Data read from path: ../Data/EVDDT/task_data.json\n",
      "Data read from path: ../Data/EVDDT/data_try_1.json\n",
      "Data read from path: ../Data/FLXYV/task_data.json\n",
      "Data read from path: ../Data/FLXYV/data_try_1.json\n",
      "Data read from path: ../Data/GLCUF/task_data.json\n",
      "Data read from path: ../Data/GLCUF/data_try_1.json\n",
      "Data read from path: ../Data/HBIRW/task_data.json\n",
      "Data read from path: ../Data/HBIRW/data_try_1.json\n",
      "Data read from path: ../Data/HDLGN/task_data.json\n",
      "Data read from path: ../Data/HDLGN/data_try_1.json\n",
      "Data read from path: ../Data/HEWCH/task_data.json\n",
      "Data read from path: ../Data/HEWCH/data_try_1.json\n",
      "Data read from path: ../Data/HIFZC/task_data.json\n",
      "Data read from path: ../Data/HIFZC/data_try_1.json\n",
      "Data read from path: ../Data/HQWLU/task_data.json\n",
      "Data read from path: ../Data/HQWLU/data_try_1.json\n",
      "Data read from path: ../Data/IMHHT/task_data.json\n",
      "Data read from path: ../Data/IMHHT/data_try_1.json\n",
      "Data read from path: ../Data/ITCXH/task_data.json\n",
      "Data read from path: ../Data/ITCXH/data_try_1.json\n",
      "Data read from path: ../Data/JHEEH/task_data.json\n",
      "Data read from path: ../Data/JHEEH/data_try_1.json\n",
      "Data read from path: ../Data/JQJWV/task_data.json\n",
      "Data read from path: ../Data/JQJWV/data_try_1.json\n",
      "Data read from path: ../Data/KAHOD/task_data.json\n",
      "Data read from path: ../Data/KAHOD/data_try_1.json\n",
      "Data read from path: ../Data/KDOFG/task_data.json\n",
      "Data read from path: ../Data/KDOFG/data_try_1.json\n",
      "Data read from path: ../Data/LJSZZ/task_data.json\n",
      "Data read from path: ../Data/LJSZZ/data_try_1.json\n",
      "Data read from path: ../Data/LPXEB/task_data.json\n",
      "Data read from path: ../Data/LPXEB/data_try_1.json\n",
      "Data read from path: ../Data/LZAEJ/task_data.json\n",
      "Data read from path: ../Data/LZAEJ/data_try_1.json\n",
      "Data read from path: ../Data/LZZBM/task_data.json\n",
      "Data read from path: ../Data/LZZBM/data_try_1.json\n",
      "Data read from path: ../Data/MLENI/task_data.json\n",
      "Data read from path: ../Data/MLENI/data_try_1.json\n",
      "Data read from path: ../Data/PHEHT/task_data.json\n",
      "Data read from path: ../Data/PHEHT/data_try_1.json\n",
      "Data read from path: ../Data/PPWSU/task_data.json\n",
      "Data read from path: ../Data/PPWSU/data_try_1.json\n",
      "Data read from path: ../Data/QCICO/task_data.json\n",
      "Data read from path: ../Data/QCICO/data_try_1.json\n",
      "Data read from path: ../Data/QLZQD/task_data.json\n",
      "Data read from path: ../Data/QLZQD/data_try_1.json\n",
      "Data read from path: ../Data/QMJTN/task_data.json\n",
      "Data read from path: ../Data/QMJTN/data_try_1.json\n",
      "Data read from path: ../Data/QOGPV/task_data.json\n",
      "Data read from path: ../Data/QOGPV/data_try_1.json\n",
      "Data read from path: ../Data/RQURW/task_data.json\n",
      "Data read from path: ../Data/RQURW/data_try_1.json\n",
      "Data read from path: ../Data/RYYES/task_data.json\n",
      "Data read from path: ../Data/RYYES/data_try_1.json\n",
      "Data read from path: ../Data/SARZI/task_data.json\n",
      "Data read from path: ../Data/SARZI/data_try_1.json\n",
      "Data read from path: ../Data/SEYYG/task_data.json\n",
      "Data read from path: ../Data/SEYYG/data_try_1.json\n",
      "Data read from path: ../Data/THRZI/task_data.json\n",
      "Data read from path: ../Data/THRZI/data_try_1.json\n",
      "Data read from path: ../Data/UPVVU/task_data.json\n",
      "Data read from path: ../Data/UPVVU/data_try_1.json\n",
      "Data read from path: ../Data/UXDAQ/task_data.json\n",
      "Data read from path: ../Data/UXDAQ/data_try_1.json\n",
      "Data read from path: ../Data/VKFXZ/task_data.json\n",
      "Data read from path: ../Data/VKFXZ/data_try_1.json\n",
      "Data read from path: ../Data/VNPSK/task_data.json\n",
      "Data read from path: ../Data/VNPSK/data_try_1.json\n",
      "Data read from path: ../Data/VTWTE/task_data.json\n",
      "Data read from path: ../Data/VTWTE/data_try_1.json\n",
      "Data read from path: ../Data/VXCGS/task_data.json\n",
      "Data read from path: ../Data/VXCGS/data_try_1.json\n",
      "Data read from path: ../Data/WXDMK/task_data.json\n",
      "Data read from path: ../Data/WXDMK/data_try_1.json\n",
      "Data read from path: ../Data/XCEGP/task_data.json\n",
      "Data read from path: ../Data/XCEGP/data_try_1.json\n",
      "Data read from path: ../Data/ZLAXX/task_data.json\n",
      "Data read from path: ../Data/ZLAXX/data_try_1.json\n",
      "Data read from path: ../Data/ZRXSP/task_data.json\n",
      "Data read from path: ../Data/ZRXSP/data_try_1.json\n"
     ]
    },
    {
     "data": {
      "text/plain": "      Età        Lavoro Genere letterario preferito kindle    Importanza  \\\n0   26-35  Imprenditore                 Psicologico     No        Scarsa   \n1   46-55    Freelancer                  Formazione     No      Discreta   \n2   18-25      Studente                Storiografia     No      Discreta   \n3   18-25      Studente                     Fantasy     No        Scarsa   \n4   46-55  Imprenditore                        Rosa     No      Discreta   \n5   18-25      Studente                  Formazione     No  Fondamentale   \n6   18-25      Studente                   Biografia     No  Fondamentale   \n7   18-25      Studente                     Fantasy     Si      Discreta   \n8   18-25      Studente                     Fantasy     Si      Discreta   \n9   18-25      Studente                 Psicologico     Si  Fondamentale   \n10  46-55   Disoccupato                      Giallo     No        Scarsa   \n11  18-25      Studente                      Giallo     Si      Discreta   \n12  18-25      Studente                      Sci-Fi     Si        Scarsa   \n13  18-25      Studente                     Fantasy     No        Scarsa   \n14  46-55    Dipendente                      Giallo     No        Scarsa   \n15  26-35   Disoccupato                  Formazione     Si      Discreta   \n16  36-45    Dipendente                  Formazione     No      Discreta   \n17    56+    Pensionato                     Storico     Si        Scarsa   \n18  26-35    Dipendente             Azione/Thriller     No      Discreta   \n19  46-55    Dipendente                     Storico     Si        Scarsa   \n20  18-25      Studente                      Giallo     Si      Discreta   \n21  18-25      Studente                     Fantasy     No  Fondamentale   \n22    56+  Imprenditore                     Fantasy     No         Nulla   \n23  18-25      Studente                   Avventura     No  Fondamentale   \n24  18-25      Studente                     Fantasy     Si      Discreta   \n25  18-25      Studente                      Giallo     No        Scarsa   \n26  18-25      Studente                  Formazione     Si      Discreta   \n27  18-25      Studente                  Formazione     No        Scarsa   \n28    56+    Dipendente                     Storico     No      Discreta   \n29  18-25      Studente                        Rosa     Si  Fondamentale   \n30  18-25      Studente             Azione/Thriller     No        Scarsa   \n31  18-25      Studente                Storiografia     No        Scarsa   \n32  18-25    Dipendente                     Fantasy     Si        Scarsa   \n33  46-55  Imprenditore                 Psicologico     No        Scarsa   \n34  18-25      Studente                 Psicologico     No        Scarsa   \n35  18-25      Studente                   Biografia     No        Scarsa   \n36  18-25      Studente                    Commedia     No  Fondamentale   \n37  26-35    Dipendente                     Fantasy     No        Scarsa   \n38  18-25      Studente                     Fantasy     Si      Discreta   \n39    56+    Pensionato                     Storico     No      Discreta   \n40    56+    Pensionato                  Formazione     Si        Scarsa   \n41  26-35    Freelancer                   Avventura     No      Discreta   \n42  18-25      Studente                  Formazione     Si  Fondamentale   \n43  18-25      Studente                 Psicologico     No        Scarsa   \n44  46-55    Freelancer                  Formazione     Si      Discreta   \n45  18-25      Studente                  Formazione     No        Scarsa   \n46  46-55    Pensionato                      Giallo     No        Scarsa   \n47  18-25      Studente                   Avventura     No  Fondamentale   \n48  18-25      Studente                  Formazione     No         Nulla   \n49  18-25      Studente                      Giallo     Si        Scarsa   \n50  26-35    Dipendente                 Psicologico     No      Discreta   \n51  18-25      Studente                      Giallo     Si      Discreta   \n52  36-45    Dipendente                   Biografia     No        Scarsa   \n\n   Quanti libri   device  \n0          6-10  Android  \n1           3-5  Windows  \n2           3-5  Android  \n3           1-2      Mac  \n4          6-10  Android  \n5             0   iPhone  \n6          6-10  Windows  \n7           1-2  Android  \n8             0  Windows  \n9           11+  Android  \n10          1-2  Android  \n11          1-2      Mac  \n12          1-2    Linux  \n13          1-2  Android  \n14          1-2  Android  \n15          11+  Android  \n16          3-5  Windows  \n17          3-5   iPhone  \n18         6-10  Android  \n19          1-2  Android  \n20         6-10  Windows  \n21          1-2   iPhone  \n22            0  Android  \n23         6-10  Android  \n24         6-10  Android  \n25          11+  Android  \n26         6-10   iPhone  \n27          1-2  Android  \n28         6-10   iPhone  \n29            0   iPhone  \n30          3-5   iPhone  \n31          1-2  Android  \n32          1-2   iPhone  \n33          1-2  Android  \n34          1-2  Windows  \n35          1-2   iPhone  \n36         6-10   iPhone  \n37            0   iPhone  \n38          11+  Android  \n39          3-5  Windows  \n40          3-5  Android  \n41          11+  Windows  \n42          1-2  Android  \n43          1-2   iPhone  \n44          3-5  Windows  \n45          3-5   iPhone  \n46          3-5  Android  \n47          1-2  Windows  \n48          1-2  Android  \n49          1-2  Android  \n50          3-5  Android  \n51          1-2  Android  \n52          3-5      Mac  ",
      "text/html": "<div>\n<style scoped>\n    .dataframe tbody tr th:only-of-type {\n        vertical-align: middle;\n    }\n\n    .dataframe tbody tr th {\n        vertical-align: top;\n    }\n\n    .dataframe thead th {\n        text-align: right;\n    }\n</style>\n<table border=\"1\" class=\"dataframe\">\n  <thead>\n    <tr style=\"text-align: right;\">\n      <th></th>\n      <th>Età</th>\n      <th>Lavoro</th>\n      <th>Genere letterario preferito</th>\n      <th>kindle</th>\n      <th>Importanza</th>\n      <th>Quanti libri</th>\n      <th>device</th>\n    </tr>\n  </thead>\n  <tbody>\n    <tr>\n      <th>0</th>\n      <td>26-35</td>\n      <td>Imprenditore</td>\n      <td>Psicologico</td>\n      <td>No</td>\n      <td>Scarsa</td>\n      <td>6-10</td>\n      <td>Android</td>\n    </tr>\n    <tr>\n      <th>1</th>\n      <td>46-55</td>\n      <td>Freelancer</td>\n      <td>Formazione</td>\n      <td>No</td>\n      <td>Discreta</td>\n      <td>3-5</td>\n      <td>Windows</td>\n    </tr>\n    <tr>\n      <th>2</th>\n      <td>18-25</td>\n      <td>Studente</td>\n      <td>Storiografia</td>\n      <td>No</td>\n      <td>Discreta</td>\n      <td>3-5</td>\n      <td>Android</td>\n    </tr>\n    <tr>\n      <th>3</th>\n      <td>18-25</td>\n      <td>Studente</td>\n      <td>Fantasy</td>\n      <td>No</td>\n      <td>Scarsa</td>\n      <td>1-2</td>\n      <td>Mac</td>\n    </tr>\n    <tr>\n      <th>4</th>\n      <td>46-55</td>\n      <td>Imprenditore</td>\n      <td>Rosa</td>\n      <td>No</td>\n      <td>Discreta</td>\n      <td>6-10</td>\n      <td>Android</td>\n    </tr>\n    <tr>\n      <th>5</th>\n      <td>18-25</td>\n      <td>Studente</td>\n      <td>Formazione</td>\n      <td>No</td>\n      <td>Fondamentale</td>\n      <td>0</td>\n      <td>iPhone</td>\n    </tr>\n    <tr>\n      <th>6</th>\n      <td>18-25</td>\n      <td>Studente</td>\n      <td>Biografia</td>\n      <td>No</td>\n      <td>Fondamentale</td>\n      <td>6-10</td>\n      <td>Windows</td>\n    </tr>\n    <tr>\n      <th>7</th>\n      <td>18-25</td>\n      <td>Studente</td>\n      <td>Fantasy</td>\n      <td>Si</td>\n      <td>Discreta</td>\n      <td>1-2</td>\n      <td>Android</td>\n    </tr>\n    <tr>\n      <th>8</th>\n      <td>18-25</td>\n      <td>Studente</td>\n      <td>Fantasy</td>\n      <td>Si</td>\n      <td>Discreta</td>\n      <td>0</td>\n      <td>Windows</td>\n    </tr>\n    <tr>\n      <th>9</th>\n      <td>18-25</td>\n      <td>Studente</td>\n      <td>Psicologico</td>\n      <td>Si</td>\n      <td>Fondamentale</td>\n      <td>11+</td>\n      <td>Android</td>\n    </tr>\n    <tr>\n      <th>10</th>\n      <td>46-55</td>\n      <td>Disoccupato</td>\n      <td>Giallo</td>\n      <td>No</td>\n      <td>Scarsa</td>\n      <td>1-2</td>\n      <td>Android</td>\n    </tr>\n    <tr>\n      <th>11</th>\n      <td>18-25</td>\n      <td>Studente</td>\n      <td>Giallo</td>\n      <td>Si</td>\n      <td>Discreta</td>\n      <td>1-2</td>\n      <td>Mac</td>\n    </tr>\n    <tr>\n      <th>12</th>\n      <td>18-25</td>\n      <td>Studente</td>\n      <td>Sci-Fi</td>\n      <td>Si</td>\n      <td>Scarsa</td>\n      <td>1-2</td>\n      <td>Linux</td>\n    </tr>\n    <tr>\n      <th>13</th>\n      <td>18-25</td>\n      <td>Studente</td>\n      <td>Fantasy</td>\n      <td>No</td>\n      <td>Scarsa</td>\n      <td>1-2</td>\n      <td>Android</td>\n    </tr>\n    <tr>\n      <th>14</th>\n      <td>46-55</td>\n      <td>Dipendente</td>\n      <td>Giallo</td>\n      <td>No</td>\n      <td>Scarsa</td>\n      <td>1-2</td>\n      <td>Android</td>\n    </tr>\n    <tr>\n      <th>15</th>\n      <td>26-35</td>\n      <td>Disoccupato</td>\n      <td>Formazione</td>\n      <td>Si</td>\n      <td>Discreta</td>\n      <td>11+</td>\n      <td>Android</td>\n    </tr>\n    <tr>\n      <th>16</th>\n      <td>36-45</td>\n      <td>Dipendente</td>\n      <td>Formazione</td>\n      <td>No</td>\n      <td>Discreta</td>\n      <td>3-5</td>\n      <td>Windows</td>\n    </tr>\n    <tr>\n      <th>17</th>\n      <td>56+</td>\n      <td>Pensionato</td>\n      <td>Storico</td>\n      <td>Si</td>\n      <td>Scarsa</td>\n      <td>3-5</td>\n      <td>iPhone</td>\n    </tr>\n    <tr>\n      <th>18</th>\n      <td>26-35</td>\n      <td>Dipendente</td>\n      <td>Azione/Thriller</td>\n      <td>No</td>\n      <td>Discreta</td>\n      <td>6-10</td>\n      <td>Android</td>\n    </tr>\n    <tr>\n      <th>19</th>\n      <td>46-55</td>\n      <td>Dipendente</td>\n      <td>Storico</td>\n      <td>Si</td>\n      <td>Scarsa</td>\n      <td>1-2</td>\n      <td>Android</td>\n    </tr>\n    <tr>\n      <th>20</th>\n      <td>18-25</td>\n      <td>Studente</td>\n      <td>Giallo</td>\n      <td>Si</td>\n      <td>Discreta</td>\n      <td>6-10</td>\n      <td>Windows</td>\n    </tr>\n    <tr>\n      <th>21</th>\n      <td>18-25</td>\n      <td>Studente</td>\n      <td>Fantasy</td>\n      <td>No</td>\n      <td>Fondamentale</td>\n      <td>1-2</td>\n      <td>iPhone</td>\n    </tr>\n    <tr>\n      <th>22</th>\n      <td>56+</td>\n      <td>Imprenditore</td>\n      <td>Fantasy</td>\n      <td>No</td>\n      <td>Nulla</td>\n      <td>0</td>\n      <td>Android</td>\n    </tr>\n    <tr>\n      <th>23</th>\n      <td>18-25</td>\n      <td>Studente</td>\n      <td>Avventura</td>\n      <td>No</td>\n      <td>Fondamentale</td>\n      <td>6-10</td>\n      <td>Android</td>\n    </tr>\n    <tr>\n      <th>24</th>\n      <td>18-25</td>\n      <td>Studente</td>\n      <td>Fantasy</td>\n      <td>Si</td>\n      <td>Discreta</td>\n      <td>6-10</td>\n      <td>Android</td>\n    </tr>\n    <tr>\n      <th>25</th>\n      <td>18-25</td>\n      <td>Studente</td>\n      <td>Giallo</td>\n      <td>No</td>\n      <td>Scarsa</td>\n      <td>11+</td>\n      <td>Android</td>\n    </tr>\n    <tr>\n      <th>26</th>\n      <td>18-25</td>\n      <td>Studente</td>\n      <td>Formazione</td>\n      <td>Si</td>\n      <td>Discreta</td>\n      <td>6-10</td>\n      <td>iPhone</td>\n    </tr>\n    <tr>\n      <th>27</th>\n      <td>18-25</td>\n      <td>Studente</td>\n      <td>Formazione</td>\n      <td>No</td>\n      <td>Scarsa</td>\n      <td>1-2</td>\n      <td>Android</td>\n    </tr>\n    <tr>\n      <th>28</th>\n      <td>56+</td>\n      <td>Dipendente</td>\n      <td>Storico</td>\n      <td>No</td>\n      <td>Discreta</td>\n      <td>6-10</td>\n      <td>iPhone</td>\n    </tr>\n    <tr>\n      <th>29</th>\n      <td>18-25</td>\n      <td>Studente</td>\n      <td>Rosa</td>\n      <td>Si</td>\n      <td>Fondamentale</td>\n      <td>0</td>\n      <td>iPhone</td>\n    </tr>\n    <tr>\n      <th>30</th>\n      <td>18-25</td>\n      <td>Studente</td>\n      <td>Azione/Thriller</td>\n      <td>No</td>\n      <td>Scarsa</td>\n      <td>3-5</td>\n      <td>iPhone</td>\n    </tr>\n    <tr>\n      <th>31</th>\n      <td>18-25</td>\n      <td>Studente</td>\n      <td>Storiografia</td>\n      <td>No</td>\n      <td>Scarsa</td>\n      <td>1-2</td>\n      <td>Android</td>\n    </tr>\n    <tr>\n      <th>32</th>\n      <td>18-25</td>\n      <td>Dipendente</td>\n      <td>Fantasy</td>\n      <td>Si</td>\n      <td>Scarsa</td>\n      <td>1-2</td>\n      <td>iPhone</td>\n    </tr>\n    <tr>\n      <th>33</th>\n      <td>46-55</td>\n      <td>Imprenditore</td>\n      <td>Psicologico</td>\n      <td>No</td>\n      <td>Scarsa</td>\n      <td>1-2</td>\n      <td>Android</td>\n    </tr>\n    <tr>\n      <th>34</th>\n      <td>18-25</td>\n      <td>Studente</td>\n      <td>Psicologico</td>\n      <td>No</td>\n      <td>Scarsa</td>\n      <td>1-2</td>\n      <td>Windows</td>\n    </tr>\n    <tr>\n      <th>35</th>\n      <td>18-25</td>\n      <td>Studente</td>\n      <td>Biografia</td>\n      <td>No</td>\n      <td>Scarsa</td>\n      <td>1-2</td>\n      <td>iPhone</td>\n    </tr>\n    <tr>\n      <th>36</th>\n      <td>18-25</td>\n      <td>Studente</td>\n      <td>Commedia</td>\n      <td>No</td>\n      <td>Fondamentale</td>\n      <td>6-10</td>\n      <td>iPhone</td>\n    </tr>\n    <tr>\n      <th>37</th>\n      <td>26-35</td>\n      <td>Dipendente</td>\n      <td>Fantasy</td>\n      <td>No</td>\n      <td>Scarsa</td>\n      <td>0</td>\n      <td>iPhone</td>\n    </tr>\n    <tr>\n      <th>38</th>\n      <td>18-25</td>\n      <td>Studente</td>\n      <td>Fantasy</td>\n      <td>Si</td>\n      <td>Discreta</td>\n      <td>11+</td>\n      <td>Android</td>\n    </tr>\n    <tr>\n      <th>39</th>\n      <td>56+</td>\n      <td>Pensionato</td>\n      <td>Storico</td>\n      <td>No</td>\n      <td>Discreta</td>\n      <td>3-5</td>\n      <td>Windows</td>\n    </tr>\n    <tr>\n      <th>40</th>\n      <td>56+</td>\n      <td>Pensionato</td>\n      <td>Formazione</td>\n      <td>Si</td>\n      <td>Scarsa</td>\n      <td>3-5</td>\n      <td>Android</td>\n    </tr>\n    <tr>\n      <th>41</th>\n      <td>26-35</td>\n      <td>Freelancer</td>\n      <td>Avventura</td>\n      <td>No</td>\n      <td>Discreta</td>\n      <td>11+</td>\n      <td>Windows</td>\n    </tr>\n    <tr>\n      <th>42</th>\n      <td>18-25</td>\n      <td>Studente</td>\n      <td>Formazione</td>\n      <td>Si</td>\n      <td>Fondamentale</td>\n      <td>1-2</td>\n      <td>Android</td>\n    </tr>\n    <tr>\n      <th>43</th>\n      <td>18-25</td>\n      <td>Studente</td>\n      <td>Psicologico</td>\n      <td>No</td>\n      <td>Scarsa</td>\n      <td>1-2</td>\n      <td>iPhone</td>\n    </tr>\n    <tr>\n      <th>44</th>\n      <td>46-55</td>\n      <td>Freelancer</td>\n      <td>Formazione</td>\n      <td>Si</td>\n      <td>Discreta</td>\n      <td>3-5</td>\n      <td>Windows</td>\n    </tr>\n    <tr>\n      <th>45</th>\n      <td>18-25</td>\n      <td>Studente</td>\n      <td>Formazione</td>\n      <td>No</td>\n      <td>Scarsa</td>\n      <td>3-5</td>\n      <td>iPhone</td>\n    </tr>\n    <tr>\n      <th>46</th>\n      <td>46-55</td>\n      <td>Pensionato</td>\n      <td>Giallo</td>\n      <td>No</td>\n      <td>Scarsa</td>\n      <td>3-5</td>\n      <td>Android</td>\n    </tr>\n    <tr>\n      <th>47</th>\n      <td>18-25</td>\n      <td>Studente</td>\n      <td>Avventura</td>\n      <td>No</td>\n      <td>Fondamentale</td>\n      <td>1-2</td>\n      <td>Windows</td>\n    </tr>\n    <tr>\n      <th>48</th>\n      <td>18-25</td>\n      <td>Studente</td>\n      <td>Formazione</td>\n      <td>No</td>\n      <td>Nulla</td>\n      <td>1-2</td>\n      <td>Android</td>\n    </tr>\n    <tr>\n      <th>49</th>\n      <td>18-25</td>\n      <td>Studente</td>\n      <td>Giallo</td>\n      <td>Si</td>\n      <td>Scarsa</td>\n      <td>1-2</td>\n      <td>Android</td>\n    </tr>\n    <tr>\n      <th>50</th>\n      <td>26-35</td>\n      <td>Dipendente</td>\n      <td>Psicologico</td>\n      <td>No</td>\n      <td>Discreta</td>\n      <td>3-5</td>\n      <td>Android</td>\n    </tr>\n    <tr>\n      <th>51</th>\n      <td>18-25</td>\n      <td>Studente</td>\n      <td>Giallo</td>\n      <td>Si</td>\n      <td>Discreta</td>\n      <td>1-2</td>\n      <td>Android</td>\n    </tr>\n    <tr>\n      <th>52</th>\n      <td>36-45</td>\n      <td>Dipendente</td>\n      <td>Biografia</td>\n      <td>No</td>\n      <td>Scarsa</td>\n      <td>3-5</td>\n      <td>Mac</td>\n    </tr>\n  </tbody>\n</table>\n</div>"
     },
     "execution_count": 13,
     "metadata": {},
     "output_type": "execute_result"
    }
   ],
   "source": [
    "# Worker analysis\n",
    "workerInfoList = []\n",
    "for workerDir in os.scandir('../Data/'):\n",
    "    task_data = read_json(workerDir.path + \"/task_data.json\")\n",
    "    data_try = read_json(workerDir.path + \"/data_try_1.json\")\n",
    "    questionnaire = task_data['questionnaires'][0]['questions']\n",
    "    reformatQuest = {}\n",
    "    for question in questionnaire:\n",
    "        reformatQuest[question['name']] = question['answers']\n",
    "    device = task_data[\"worker\"]['ngxDeviceDetectorProperties'][\"device\"]\n",
    "    if device == 'Unknown':\n",
    "        device = task_data[\"worker\"]['ngxDeviceDetectorProperties'][\"os\"]\n",
    "    workerInfo = {}\n",
    "    for key, value in data_try['questionnaires_answers'][0].items():\n",
    "        workerInfo[key] = reformatQuest[key][int(value)]\n",
    "    workerInfo['device'] = device\n",
    "    workerInfoList.append(workerInfo)\n",
    "\n",
    "df = pd.DataFrame.from_dict(workerInfoList)\n",
    "df"
   ]
  },
  {
   "cell_type": "code",
   "execution_count": 14,
   "metadata": {
    "collapsed": false,
    "jupyter": {
     "outputs_hidden": false
    },
    "pycharm": {
     "name": "#%%\n"
    }
   },
   "outputs": [
    {
     "data": {
      "application/vnd.plotly.v1+json": {
       "config": {
        "plotlyServerURL": "https://plot.ly"
       },
       "data": [
        {
         "branchvalues": "total",
         "domain": {
          "x": [
           0.0,
           1.0
          ],
          "y": [
           0.0,
           1.0
          ]
         },
         "hovertemplate": "labels=%{label}<br>count=%{value}<br>parent=%{parent}<br>id=%{id}<extra></extra>",
         "ids": [
          "46-55/Dipendente/Android/Ha un<br>eReader",
          "26-35/Disoccupato/Android/Ha un<br>eReader",
          "56+/Pensionato/Android/Ha un<br>eReader",
          "18-25/Studente/Android/Ha un<br>eReader",
          "18-25/Studente/Linux/Ha un<br>eReader",
          "18-25/Studente/Mac/Ha un<br>eReader",
          "46-55/Freelancer/Windows/Ha un<br>eReader",
          "18-25/Studente/Windows/Ha un<br>eReader",
          "18-25/Dipendente/iPhone/Ha un<br>eReader",
          "56+/Pensionato/iPhone/Ha un<br>eReader",
          "18-25/Studente/iPhone/Ha un<br>eReader",
          "26-35/Dipendente/Android/Non ha un<br>eReader",
          "46-55/Dipendente/Android/Non ha un<br>eReader",
          "46-55/Disoccupato/Android/Non ha un<br>eReader",
          "26-35/Imprenditore/Android/Non ha un<br>eReader",
          "46-55/Imprenditore/Android/Non ha un<br>eReader",
          "56+/Imprenditore/Android/Non ha un<br>eReader",
          "46-55/Pensionato/Android/Non ha un<br>eReader",
          "18-25/Studente/Android/Non ha un<br>eReader",
          "36-45/Dipendente/Mac/Non ha un<br>eReader",
          "18-25/Studente/Mac/Non ha un<br>eReader",
          "36-45/Dipendente/Windows/Non ha un<br>eReader",
          "26-35/Freelancer/Windows/Non ha un<br>eReader",
          "46-55/Freelancer/Windows/Non ha un<br>eReader",
          "56+/Pensionato/Windows/Non ha un<br>eReader",
          "18-25/Studente/Windows/Non ha un<br>eReader",
          "26-35/Dipendente/iPhone/Non ha un<br>eReader",
          "56+/Dipendente/iPhone/Non ha un<br>eReader",
          "18-25/Studente/iPhone/Non ha un<br>eReader",
          "26-35/Dipendente/Android",
          "46-55/Dipendente/Android",
          "26-35/Disoccupato/Android",
          "46-55/Disoccupato/Android",
          "26-35/Imprenditore/Android",
          "46-55/Imprenditore/Android",
          "56+/Imprenditore/Android",
          "46-55/Pensionato/Android",
          "56+/Pensionato/Android",
          "18-25/Studente/Android",
          "18-25/Studente/Linux",
          "36-45/Dipendente/Mac",
          "18-25/Studente/Mac",
          "36-45/Dipendente/Windows",
          "26-35/Freelancer/Windows",
          "46-55/Freelancer/Windows",
          "56+/Pensionato/Windows",
          "18-25/Studente/Windows",
          "18-25/Dipendente/iPhone",
          "26-35/Dipendente/iPhone",
          "56+/Dipendente/iPhone",
          "56+/Pensionato/iPhone",
          "18-25/Studente/iPhone",
          "18-25/Dipendente",
          "26-35/Dipendente",
          "36-45/Dipendente",
          "46-55/Dipendente",
          "56+/Dipendente",
          "26-35/Disoccupato",
          "46-55/Disoccupato",
          "26-35/Freelancer",
          "46-55/Freelancer",
          "26-35/Imprenditore",
          "46-55/Imprenditore",
          "56+/Imprenditore",
          "46-55/Pensionato",
          "56+/Pensionato",
          "18-25/Studente",
          "18-25",
          "26-35",
          "36-45",
          "46-55",
          "56+"
         ],
         "labels": [
          "Ha un<br>eReader",
          "Ha un<br>eReader",
          "Ha un<br>eReader",
          "Ha un<br>eReader",
          "Ha un<br>eReader",
          "Ha un<br>eReader",
          "Ha un<br>eReader",
          "Ha un<br>eReader",
          "Ha un<br>eReader",
          "Ha un<br>eReader",
          "Ha un<br>eReader",
          "Non ha un<br>eReader",
          "Non ha un<br>eReader",
          "Non ha un<br>eReader",
          "Non ha un<br>eReader",
          "Non ha un<br>eReader",
          "Non ha un<br>eReader",
          "Non ha un<br>eReader",
          "Non ha un<br>eReader",
          "Non ha un<br>eReader",
          "Non ha un<br>eReader",
          "Non ha un<br>eReader",
          "Non ha un<br>eReader",
          "Non ha un<br>eReader",
          "Non ha un<br>eReader",
          "Non ha un<br>eReader",
          "Non ha un<br>eReader",
          "Non ha un<br>eReader",
          "Non ha un<br>eReader",
          "Android",
          "Android",
          "Android",
          "Android",
          "Android",
          "Android",
          "Android",
          "Android",
          "Android",
          "Android",
          "Linux",
          "Mac",
          "Mac",
          "Windows",
          "Windows",
          "Windows",
          "Windows",
          "Windows",
          "iPhone",
          "iPhone",
          "iPhone",
          "iPhone",
          "iPhone",
          "Dipendente",
          "Dipendente",
          "Dipendente",
          "Dipendente",
          "Dipendente",
          "Disoccupato",
          "Disoccupato",
          "Freelancer",
          "Freelancer",
          "Imprenditore",
          "Imprenditore",
          "Imprenditore",
          "Pensionato",
          "Pensionato",
          "Studente",
          "18-25",
          "26-35",
          "36-45",
          "46-55",
          "56+"
         ],
         "name": "",
         "parents": [
          "46-55/Dipendente/Android",
          "26-35/Disoccupato/Android",
          "56+/Pensionato/Android",
          "18-25/Studente/Android",
          "18-25/Studente/Linux",
          "18-25/Studente/Mac",
          "46-55/Freelancer/Windows",
          "18-25/Studente/Windows",
          "18-25/Dipendente/iPhone",
          "56+/Pensionato/iPhone",
          "18-25/Studente/iPhone",
          "26-35/Dipendente/Android",
          "46-55/Dipendente/Android",
          "46-55/Disoccupato/Android",
          "26-35/Imprenditore/Android",
          "46-55/Imprenditore/Android",
          "56+/Imprenditore/Android",
          "46-55/Pensionato/Android",
          "18-25/Studente/Android",
          "36-45/Dipendente/Mac",
          "18-25/Studente/Mac",
          "36-45/Dipendente/Windows",
          "26-35/Freelancer/Windows",
          "46-55/Freelancer/Windows",
          "56+/Pensionato/Windows",
          "18-25/Studente/Windows",
          "26-35/Dipendente/iPhone",
          "56+/Dipendente/iPhone",
          "18-25/Studente/iPhone",
          "26-35/Dipendente",
          "46-55/Dipendente",
          "26-35/Disoccupato",
          "46-55/Disoccupato",
          "26-35/Imprenditore",
          "46-55/Imprenditore",
          "56+/Imprenditore",
          "46-55/Pensionato",
          "56+/Pensionato",
          "18-25/Studente",
          "18-25/Studente",
          "36-45/Dipendente",
          "18-25/Studente",
          "36-45/Dipendente",
          "26-35/Freelancer",
          "46-55/Freelancer",
          "56+/Pensionato",
          "18-25/Studente",
          "18-25/Dipendente",
          "26-35/Dipendente",
          "56+/Dipendente",
          "56+/Pensionato",
          "18-25/Studente",
          "18-25",
          "26-35",
          "36-45",
          "46-55",
          "56+",
          "26-35",
          "46-55",
          "26-35",
          "46-55",
          "26-35",
          "46-55",
          "56+",
          "46-55",
          "56+",
          "18-25",
          "",
          "",
          "",
          "",
          ""
         ],
         "type": "sunburst",
         "values": [
          1,
          1,
          1,
          7,
          1,
          1,
          1,
          2,
          1,
          1,
          2,
          2,
          1,
          1,
          1,
          2,
          1,
          1,
          7,
          1,
          1,
          1,
          1,
          1,
          1,
          3,
          1,
          1,
          7,
          2,
          2,
          1,
          1,
          1,
          2,
          1,
          1,
          1,
          14,
          1,
          1,
          2,
          1,
          1,
          2,
          1,
          5,
          1,
          1,
          1,
          1,
          9,
          1,
          3,
          2,
          2,
          1,
          1,
          1,
          1,
          2,
          1,
          2,
          1,
          1,
          3,
          31,
          32,
          6,
          2,
          8,
          5
         ]
        }
       ],
       "layout": {
        "legend": {
         "tracegroupgap": 0
        },
        "margin": {
         "t": 60
        },
        "template": {
         "data": {
          "bar": [
           {
            "error_x": {
             "color": "#2a3f5f"
            },
            "error_y": {
             "color": "#2a3f5f"
            },
            "marker": {
             "line": {
              "color": "#E5ECF6",
              "width": 0.5
             }
            },
            "type": "bar"
           }
          ],
          "barpolar": [
           {
            "marker": {
             "line": {
              "color": "#E5ECF6",
              "width": 0.5
             }
            },
            "type": "barpolar"
           }
          ],
          "carpet": [
           {
            "aaxis": {
             "endlinecolor": "#2a3f5f",
             "gridcolor": "white",
             "linecolor": "white",
             "minorgridcolor": "white",
             "startlinecolor": "#2a3f5f"
            },
            "baxis": {
             "endlinecolor": "#2a3f5f",
             "gridcolor": "white",
             "linecolor": "white",
             "minorgridcolor": "white",
             "startlinecolor": "#2a3f5f"
            },
            "type": "carpet"
           }
          ],
          "choropleth": [
           {
            "colorbar": {
             "outlinewidth": 0,
             "ticks": ""
            },
            "type": "choropleth"
           }
          ],
          "contour": [
           {
            "colorbar": {
             "outlinewidth": 0,
             "ticks": ""
            },
            "colorscale": [
             [
              0.0,
              "#0d0887"
             ],
             [
              0.1111111111111111,
              "#46039f"
             ],
             [
              0.2222222222222222,
              "#7201a8"
             ],
             [
              0.3333333333333333,
              "#9c179e"
             ],
             [
              0.4444444444444444,
              "#bd3786"
             ],
             [
              0.5555555555555556,
              "#d8576b"
             ],
             [
              0.6666666666666666,
              "#ed7953"
             ],
             [
              0.7777777777777778,
              "#fb9f3a"
             ],
             [
              0.8888888888888888,
              "#fdca26"
             ],
             [
              1.0,
              "#f0f921"
             ]
            ],
            "type": "contour"
           }
          ],
          "contourcarpet": [
           {
            "colorbar": {
             "outlinewidth": 0,
             "ticks": ""
            },
            "type": "contourcarpet"
           }
          ],
          "heatmap": [
           {
            "colorbar": {
             "outlinewidth": 0,
             "ticks": ""
            },
            "colorscale": [
             [
              0.0,
              "#0d0887"
             ],
             [
              0.1111111111111111,
              "#46039f"
             ],
             [
              0.2222222222222222,
              "#7201a8"
             ],
             [
              0.3333333333333333,
              "#9c179e"
             ],
             [
              0.4444444444444444,
              "#bd3786"
             ],
             [
              0.5555555555555556,
              "#d8576b"
             ],
             [
              0.6666666666666666,
              "#ed7953"
             ],
             [
              0.7777777777777778,
              "#fb9f3a"
             ],
             [
              0.8888888888888888,
              "#fdca26"
             ],
             [
              1.0,
              "#f0f921"
             ]
            ],
            "type": "heatmap"
           }
          ],
          "heatmapgl": [
           {
            "colorbar": {
             "outlinewidth": 0,
             "ticks": ""
            },
            "colorscale": [
             [
              0.0,
              "#0d0887"
             ],
             [
              0.1111111111111111,
              "#46039f"
             ],
             [
              0.2222222222222222,
              "#7201a8"
             ],
             [
              0.3333333333333333,
              "#9c179e"
             ],
             [
              0.4444444444444444,
              "#bd3786"
             ],
             [
              0.5555555555555556,
              "#d8576b"
             ],
             [
              0.6666666666666666,
              "#ed7953"
             ],
             [
              0.7777777777777778,
              "#fb9f3a"
             ],
             [
              0.8888888888888888,
              "#fdca26"
             ],
             [
              1.0,
              "#f0f921"
             ]
            ],
            "type": "heatmapgl"
           }
          ],
          "histogram": [
           {
            "marker": {
             "colorbar": {
              "outlinewidth": 0,
              "ticks": ""
             }
            },
            "type": "histogram"
           }
          ],
          "histogram2d": [
           {
            "colorbar": {
             "outlinewidth": 0,
             "ticks": ""
            },
            "colorscale": [
             [
              0.0,
              "#0d0887"
             ],
             [
              0.1111111111111111,
              "#46039f"
             ],
             [
              0.2222222222222222,
              "#7201a8"
             ],
             [
              0.3333333333333333,
              "#9c179e"
             ],
             [
              0.4444444444444444,
              "#bd3786"
             ],
             [
              0.5555555555555556,
              "#d8576b"
             ],
             [
              0.6666666666666666,
              "#ed7953"
             ],
             [
              0.7777777777777778,
              "#fb9f3a"
             ],
             [
              0.8888888888888888,
              "#fdca26"
             ],
             [
              1.0,
              "#f0f921"
             ]
            ],
            "type": "histogram2d"
           }
          ],
          "histogram2dcontour": [
           {
            "colorbar": {
             "outlinewidth": 0,
             "ticks": ""
            },
            "colorscale": [
             [
              0.0,
              "#0d0887"
             ],
             [
              0.1111111111111111,
              "#46039f"
             ],
             [
              0.2222222222222222,
              "#7201a8"
             ],
             [
              0.3333333333333333,
              "#9c179e"
             ],
             [
              0.4444444444444444,
              "#bd3786"
             ],
             [
              0.5555555555555556,
              "#d8576b"
             ],
             [
              0.6666666666666666,
              "#ed7953"
             ],
             [
              0.7777777777777778,
              "#fb9f3a"
             ],
             [
              0.8888888888888888,
              "#fdca26"
             ],
             [
              1.0,
              "#f0f921"
             ]
            ],
            "type": "histogram2dcontour"
           }
          ],
          "mesh3d": [
           {
            "colorbar": {
             "outlinewidth": 0,
             "ticks": ""
            },
            "type": "mesh3d"
           }
          ],
          "parcoords": [
           {
            "line": {
             "colorbar": {
              "outlinewidth": 0,
              "ticks": ""
             }
            },
            "type": "parcoords"
           }
          ],
          "pie": [
           {
            "automargin": true,
            "type": "pie"
           }
          ],
          "scatter": [
           {
            "marker": {
             "colorbar": {
              "outlinewidth": 0,
              "ticks": ""
             }
            },
            "type": "scatter"
           }
          ],
          "scatter3d": [
           {
            "line": {
             "colorbar": {
              "outlinewidth": 0,
              "ticks": ""
             }
            },
            "marker": {
             "colorbar": {
              "outlinewidth": 0,
              "ticks": ""
             }
            },
            "type": "scatter3d"
           }
          ],
          "scattercarpet": [
           {
            "marker": {
             "colorbar": {
              "outlinewidth": 0,
              "ticks": ""
             }
            },
            "type": "scattercarpet"
           }
          ],
          "scattergeo": [
           {
            "marker": {
             "colorbar": {
              "outlinewidth": 0,
              "ticks": ""
             }
            },
            "type": "scattergeo"
           }
          ],
          "scattergl": [
           {
            "marker": {
             "colorbar": {
              "outlinewidth": 0,
              "ticks": ""
             }
            },
            "type": "scattergl"
           }
          ],
          "scattermapbox": [
           {
            "marker": {
             "colorbar": {
              "outlinewidth": 0,
              "ticks": ""
             }
            },
            "type": "scattermapbox"
           }
          ],
          "scatterpolar": [
           {
            "marker": {
             "colorbar": {
              "outlinewidth": 0,
              "ticks": ""
             }
            },
            "type": "scatterpolar"
           }
          ],
          "scatterpolargl": [
           {
            "marker": {
             "colorbar": {
              "outlinewidth": 0,
              "ticks": ""
             }
            },
            "type": "scatterpolargl"
           }
          ],
          "scatterternary": [
           {
            "marker": {
             "colorbar": {
              "outlinewidth": 0,
              "ticks": ""
             }
            },
            "type": "scatterternary"
           }
          ],
          "surface": [
           {
            "colorbar": {
             "outlinewidth": 0,
             "ticks": ""
            },
            "colorscale": [
             [
              0.0,
              "#0d0887"
             ],
             [
              0.1111111111111111,
              "#46039f"
             ],
             [
              0.2222222222222222,
              "#7201a8"
             ],
             [
              0.3333333333333333,
              "#9c179e"
             ],
             [
              0.4444444444444444,
              "#bd3786"
             ],
             [
              0.5555555555555556,
              "#d8576b"
             ],
             [
              0.6666666666666666,
              "#ed7953"
             ],
             [
              0.7777777777777778,
              "#fb9f3a"
             ],
             [
              0.8888888888888888,
              "#fdca26"
             ],
             [
              1.0,
              "#f0f921"
             ]
            ],
            "type": "surface"
           }
          ],
          "table": [
           {
            "cells": {
             "fill": {
              "color": "#EBF0F8"
             },
             "line": {
              "color": "white"
             }
            },
            "header": {
             "fill": {
              "color": "#C8D4E3"
             },
             "line": {
              "color": "white"
             }
            },
            "type": "table"
           }
          ]
         },
         "layout": {
          "annotationdefaults": {
           "arrowcolor": "#2a3f5f",
           "arrowhead": 0,
           "arrowwidth": 1
          },
          "autotypenumbers": "strict",
          "coloraxis": {
           "colorbar": {
            "outlinewidth": 0,
            "ticks": ""
           }
          },
          "colorscale": {
           "diverging": [
            [
             0,
             "#8e0152"
            ],
            [
             0.1,
             "#c51b7d"
            ],
            [
             0.2,
             "#de77ae"
            ],
            [
             0.3,
             "#f1b6da"
            ],
            [
             0.4,
             "#fde0ef"
            ],
            [
             0.5,
             "#f7f7f7"
            ],
            [
             0.6,
             "#e6f5d0"
            ],
            [
             0.7,
             "#b8e186"
            ],
            [
             0.8,
             "#7fbc41"
            ],
            [
             0.9,
             "#4d9221"
            ],
            [
             1,
             "#276419"
            ]
           ],
           "sequential": [
            [
             0.0,
             "#0d0887"
            ],
            [
             0.1111111111111111,
             "#46039f"
            ],
            [
             0.2222222222222222,
             "#7201a8"
            ],
            [
             0.3333333333333333,
             "#9c179e"
            ],
            [
             0.4444444444444444,
             "#bd3786"
            ],
            [
             0.5555555555555556,
             "#d8576b"
            ],
            [
             0.6666666666666666,
             "#ed7953"
            ],
            [
             0.7777777777777778,
             "#fb9f3a"
            ],
            [
             0.8888888888888888,
             "#fdca26"
            ],
            [
             1.0,
             "#f0f921"
            ]
           ],
           "sequentialminus": [
            [
             0.0,
             "#0d0887"
            ],
            [
             0.1111111111111111,
             "#46039f"
            ],
            [
             0.2222222222222222,
             "#7201a8"
            ],
            [
             0.3333333333333333,
             "#9c179e"
            ],
            [
             0.4444444444444444,
             "#bd3786"
            ],
            [
             0.5555555555555556,
             "#d8576b"
            ],
            [
             0.6666666666666666,
             "#ed7953"
            ],
            [
             0.7777777777777778,
             "#fb9f3a"
            ],
            [
             0.8888888888888888,
             "#fdca26"
            ],
            [
             1.0,
             "#f0f921"
            ]
           ]
          },
          "colorway": [
           "#636efa",
           "#EF553B",
           "#00cc96",
           "#ab63fa",
           "#FFA15A",
           "#19d3f3",
           "#FF6692",
           "#B6E880",
           "#FF97FF",
           "#FECB52"
          ],
          "font": {
           "color": "#2a3f5f"
          },
          "geo": {
           "bgcolor": "white",
           "lakecolor": "white",
           "landcolor": "#E5ECF6",
           "showlakes": true,
           "showland": true,
           "subunitcolor": "white"
          },
          "hoverlabel": {
           "align": "left"
          },
          "hovermode": "closest",
          "mapbox": {
           "style": "light"
          },
          "paper_bgcolor": "white",
          "plot_bgcolor": "#E5ECF6",
          "polar": {
           "angularaxis": {
            "gridcolor": "white",
            "linecolor": "white",
            "ticks": ""
           },
           "bgcolor": "#E5ECF6",
           "radialaxis": {
            "gridcolor": "white",
            "linecolor": "white",
            "ticks": ""
           }
          },
          "scene": {
           "xaxis": {
            "backgroundcolor": "#E5ECF6",
            "gridcolor": "white",
            "gridwidth": 2,
            "linecolor": "white",
            "showbackground": true,
            "ticks": "",
            "zerolinecolor": "white"
           },
           "yaxis": {
            "backgroundcolor": "#E5ECF6",
            "gridcolor": "white",
            "gridwidth": 2,
            "linecolor": "white",
            "showbackground": true,
            "ticks": "",
            "zerolinecolor": "white"
           },
           "zaxis": {
            "backgroundcolor": "#E5ECF6",
            "gridcolor": "white",
            "gridwidth": 2,
            "linecolor": "white",
            "showbackground": true,
            "ticks": "",
            "zerolinecolor": "white"
           }
          },
          "shapedefaults": {
           "line": {
            "color": "#2a3f5f"
           }
          },
          "ternary": {
           "aaxis": {
            "gridcolor": "white",
            "linecolor": "white",
            "ticks": ""
           },
           "baxis": {
            "gridcolor": "white",
            "linecolor": "white",
            "ticks": ""
           },
           "bgcolor": "#E5ECF6",
           "caxis": {
            "gridcolor": "white",
            "linecolor": "white",
            "ticks": ""
           }
          },
          "title": {
           "x": 0.05
          },
          "xaxis": {
           "automargin": true,
           "gridcolor": "white",
           "linecolor": "white",
           "ticks": "",
           "title": {
            "standoff": 15
           },
           "zerolinecolor": "white",
           "zerolinewidth": 2
          },
          "yaxis": {
           "automargin": true,
           "gridcolor": "white",
           "linecolor": "white",
           "ticks": "",
           "title": {
            "standoff": 15
           },
           "zerolinecolor": "white",
           "zerolinewidth": 2
          }
         }
        }
       }
      },
      "text/html": "<div>                            <div id=\"cf7079c1-75c6-43fe-bb6e-48a53e0c81df\" class=\"plotly-graph-div\" style=\"height:525px; width:100%;\"></div>            <script type=\"text/javascript\">                require([\"plotly\"], function(Plotly) {                    window.PLOTLYENV=window.PLOTLYENV || {};                                    if (document.getElementById(\"cf7079c1-75c6-43fe-bb6e-48a53e0c81df\")) {                    Plotly.newPlot(                        \"cf7079c1-75c6-43fe-bb6e-48a53e0c81df\",                        [{\"branchvalues\": \"total\", \"domain\": {\"x\": [0.0, 1.0], \"y\": [0.0, 1.0]}, \"hovertemplate\": \"labels=%{label}<br>count=%{value}<br>parent=%{parent}<br>id=%{id}<extra></extra>\", \"ids\": [\"46-55/Dipendente/Android/Ha un<br>eReader\", \"26-35/Disoccupato/Android/Ha un<br>eReader\", \"56+/Pensionato/Android/Ha un<br>eReader\", \"18-25/Studente/Android/Ha un<br>eReader\", \"18-25/Studente/Linux/Ha un<br>eReader\", \"18-25/Studente/Mac/Ha un<br>eReader\", \"46-55/Freelancer/Windows/Ha un<br>eReader\", \"18-25/Studente/Windows/Ha un<br>eReader\", \"18-25/Dipendente/iPhone/Ha un<br>eReader\", \"56+/Pensionato/iPhone/Ha un<br>eReader\", \"18-25/Studente/iPhone/Ha un<br>eReader\", \"26-35/Dipendente/Android/Non ha un<br>eReader\", \"46-55/Dipendente/Android/Non ha un<br>eReader\", \"46-55/Disoccupato/Android/Non ha un<br>eReader\", \"26-35/Imprenditore/Android/Non ha un<br>eReader\", \"46-55/Imprenditore/Android/Non ha un<br>eReader\", \"56+/Imprenditore/Android/Non ha un<br>eReader\", \"46-55/Pensionato/Android/Non ha un<br>eReader\", \"18-25/Studente/Android/Non ha un<br>eReader\", \"36-45/Dipendente/Mac/Non ha un<br>eReader\", \"18-25/Studente/Mac/Non ha un<br>eReader\", \"36-45/Dipendente/Windows/Non ha un<br>eReader\", \"26-35/Freelancer/Windows/Non ha un<br>eReader\", \"46-55/Freelancer/Windows/Non ha un<br>eReader\", \"56+/Pensionato/Windows/Non ha un<br>eReader\", \"18-25/Studente/Windows/Non ha un<br>eReader\", \"26-35/Dipendente/iPhone/Non ha un<br>eReader\", \"56+/Dipendente/iPhone/Non ha un<br>eReader\", \"18-25/Studente/iPhone/Non ha un<br>eReader\", \"26-35/Dipendente/Android\", \"46-55/Dipendente/Android\", \"26-35/Disoccupato/Android\", \"46-55/Disoccupato/Android\", \"26-35/Imprenditore/Android\", \"46-55/Imprenditore/Android\", \"56+/Imprenditore/Android\", \"46-55/Pensionato/Android\", \"56+/Pensionato/Android\", \"18-25/Studente/Android\", \"18-25/Studente/Linux\", \"36-45/Dipendente/Mac\", \"18-25/Studente/Mac\", \"36-45/Dipendente/Windows\", \"26-35/Freelancer/Windows\", \"46-55/Freelancer/Windows\", \"56+/Pensionato/Windows\", \"18-25/Studente/Windows\", \"18-25/Dipendente/iPhone\", \"26-35/Dipendente/iPhone\", \"56+/Dipendente/iPhone\", \"56+/Pensionato/iPhone\", \"18-25/Studente/iPhone\", \"18-25/Dipendente\", \"26-35/Dipendente\", \"36-45/Dipendente\", \"46-55/Dipendente\", \"56+/Dipendente\", \"26-35/Disoccupato\", \"46-55/Disoccupato\", \"26-35/Freelancer\", \"46-55/Freelancer\", \"26-35/Imprenditore\", \"46-55/Imprenditore\", \"56+/Imprenditore\", \"46-55/Pensionato\", \"56+/Pensionato\", \"18-25/Studente\", \"18-25\", \"26-35\", \"36-45\", \"46-55\", \"56+\"], \"labels\": [\"Ha un<br>eReader\", \"Ha un<br>eReader\", \"Ha un<br>eReader\", \"Ha un<br>eReader\", \"Ha un<br>eReader\", \"Ha un<br>eReader\", \"Ha un<br>eReader\", \"Ha un<br>eReader\", \"Ha un<br>eReader\", \"Ha un<br>eReader\", \"Ha un<br>eReader\", \"Non ha un<br>eReader\", \"Non ha un<br>eReader\", \"Non ha un<br>eReader\", \"Non ha un<br>eReader\", \"Non ha un<br>eReader\", \"Non ha un<br>eReader\", \"Non ha un<br>eReader\", \"Non ha un<br>eReader\", \"Non ha un<br>eReader\", \"Non ha un<br>eReader\", \"Non ha un<br>eReader\", \"Non ha un<br>eReader\", \"Non ha un<br>eReader\", \"Non ha un<br>eReader\", \"Non ha un<br>eReader\", \"Non ha un<br>eReader\", \"Non ha un<br>eReader\", \"Non ha un<br>eReader\", \"Android\", \"Android\", \"Android\", \"Android\", \"Android\", \"Android\", \"Android\", \"Android\", \"Android\", \"Android\", \"Linux\", \"Mac\", \"Mac\", \"Windows\", \"Windows\", \"Windows\", \"Windows\", \"Windows\", \"iPhone\", \"iPhone\", \"iPhone\", \"iPhone\", \"iPhone\", \"Dipendente\", \"Dipendente\", \"Dipendente\", \"Dipendente\", \"Dipendente\", \"Disoccupato\", \"Disoccupato\", \"Freelancer\", \"Freelancer\", \"Imprenditore\", \"Imprenditore\", \"Imprenditore\", \"Pensionato\", \"Pensionato\", \"Studente\", \"18-25\", \"26-35\", \"36-45\", \"46-55\", \"56+\"], \"name\": \"\", \"parents\": [\"46-55/Dipendente/Android\", \"26-35/Disoccupato/Android\", \"56+/Pensionato/Android\", \"18-25/Studente/Android\", \"18-25/Studente/Linux\", \"18-25/Studente/Mac\", \"46-55/Freelancer/Windows\", \"18-25/Studente/Windows\", \"18-25/Dipendente/iPhone\", \"56+/Pensionato/iPhone\", \"18-25/Studente/iPhone\", \"26-35/Dipendente/Android\", \"46-55/Dipendente/Android\", \"46-55/Disoccupato/Android\", \"26-35/Imprenditore/Android\", \"46-55/Imprenditore/Android\", \"56+/Imprenditore/Android\", \"46-55/Pensionato/Android\", \"18-25/Studente/Android\", \"36-45/Dipendente/Mac\", \"18-25/Studente/Mac\", \"36-45/Dipendente/Windows\", \"26-35/Freelancer/Windows\", \"46-55/Freelancer/Windows\", \"56+/Pensionato/Windows\", \"18-25/Studente/Windows\", \"26-35/Dipendente/iPhone\", \"56+/Dipendente/iPhone\", \"18-25/Studente/iPhone\", \"26-35/Dipendente\", \"46-55/Dipendente\", \"26-35/Disoccupato\", \"46-55/Disoccupato\", \"26-35/Imprenditore\", \"46-55/Imprenditore\", \"56+/Imprenditore\", \"46-55/Pensionato\", \"56+/Pensionato\", \"18-25/Studente\", \"18-25/Studente\", \"36-45/Dipendente\", \"18-25/Studente\", \"36-45/Dipendente\", \"26-35/Freelancer\", \"46-55/Freelancer\", \"56+/Pensionato\", \"18-25/Studente\", \"18-25/Dipendente\", \"26-35/Dipendente\", \"56+/Dipendente\", \"56+/Pensionato\", \"18-25/Studente\", \"18-25\", \"26-35\", \"36-45\", \"46-55\", \"56+\", \"26-35\", \"46-55\", \"26-35\", \"46-55\", \"26-35\", \"46-55\", \"56+\", \"46-55\", \"56+\", \"18-25\", \"\", \"\", \"\", \"\", \"\"], \"type\": \"sunburst\", \"values\": [1, 1, 1, 7, 1, 1, 1, 2, 1, 1, 2, 2, 1, 1, 1, 2, 1, 1, 7, 1, 1, 1, 1, 1, 1, 3, 1, 1, 7, 2, 2, 1, 1, 1, 2, 1, 1, 1, 14, 1, 1, 2, 1, 1, 2, 1, 5, 1, 1, 1, 1, 9, 1, 3, 2, 2, 1, 1, 1, 1, 2, 1, 2, 1, 1, 3, 31, 32, 6, 2, 8, 5]}],                        {\"legend\": {\"tracegroupgap\": 0}, \"margin\": {\"t\": 60}, \"template\": {\"data\": {\"bar\": [{\"error_x\": {\"color\": \"#2a3f5f\"}, \"error_y\": {\"color\": \"#2a3f5f\"}, \"marker\": {\"line\": {\"color\": \"#E5ECF6\", \"width\": 0.5}}, \"type\": \"bar\"}], \"barpolar\": [{\"marker\": {\"line\": {\"color\": \"#E5ECF6\", \"width\": 0.5}}, \"type\": \"barpolar\"}], \"carpet\": [{\"aaxis\": {\"endlinecolor\": \"#2a3f5f\", \"gridcolor\": \"white\", \"linecolor\": \"white\", \"minorgridcolor\": \"white\", \"startlinecolor\": \"#2a3f5f\"}, \"baxis\": {\"endlinecolor\": \"#2a3f5f\", \"gridcolor\": \"white\", \"linecolor\": \"white\", \"minorgridcolor\": \"white\", \"startlinecolor\": \"#2a3f5f\"}, \"type\": \"carpet\"}], \"choropleth\": [{\"colorbar\": {\"outlinewidth\": 0, \"ticks\": \"\"}, \"type\": \"choropleth\"}], \"contour\": [{\"colorbar\": {\"outlinewidth\": 0, \"ticks\": \"\"}, \"colorscale\": [[0.0, \"#0d0887\"], [0.1111111111111111, \"#46039f\"], [0.2222222222222222, \"#7201a8\"], [0.3333333333333333, \"#9c179e\"], [0.4444444444444444, \"#bd3786\"], [0.5555555555555556, \"#d8576b\"], [0.6666666666666666, \"#ed7953\"], [0.7777777777777778, \"#fb9f3a\"], [0.8888888888888888, \"#fdca26\"], [1.0, \"#f0f921\"]], \"type\": \"contour\"}], \"contourcarpet\": [{\"colorbar\": {\"outlinewidth\": 0, \"ticks\": \"\"}, \"type\": \"contourcarpet\"}], \"heatmap\": [{\"colorbar\": {\"outlinewidth\": 0, \"ticks\": \"\"}, \"colorscale\": [[0.0, \"#0d0887\"], [0.1111111111111111, \"#46039f\"], [0.2222222222222222, \"#7201a8\"], [0.3333333333333333, \"#9c179e\"], [0.4444444444444444, \"#bd3786\"], [0.5555555555555556, \"#d8576b\"], [0.6666666666666666, \"#ed7953\"], [0.7777777777777778, \"#fb9f3a\"], [0.8888888888888888, \"#fdca26\"], [1.0, \"#f0f921\"]], \"type\": \"heatmap\"}], \"heatmapgl\": [{\"colorbar\": {\"outlinewidth\": 0, \"ticks\": \"\"}, \"colorscale\": [[0.0, \"#0d0887\"], [0.1111111111111111, \"#46039f\"], [0.2222222222222222, \"#7201a8\"], [0.3333333333333333, \"#9c179e\"], [0.4444444444444444, \"#bd3786\"], [0.5555555555555556, \"#d8576b\"], [0.6666666666666666, \"#ed7953\"], [0.7777777777777778, \"#fb9f3a\"], [0.8888888888888888, \"#fdca26\"], [1.0, \"#f0f921\"]], \"type\": \"heatmapgl\"}], \"histogram\": [{\"marker\": {\"colorbar\": {\"outlinewidth\": 0, \"ticks\": \"\"}}, \"type\": \"histogram\"}], \"histogram2d\": [{\"colorbar\": {\"outlinewidth\": 0, \"ticks\": \"\"}, \"colorscale\": [[0.0, \"#0d0887\"], [0.1111111111111111, \"#46039f\"], [0.2222222222222222, \"#7201a8\"], [0.3333333333333333, \"#9c179e\"], [0.4444444444444444, \"#bd3786\"], [0.5555555555555556, \"#d8576b\"], [0.6666666666666666, \"#ed7953\"], [0.7777777777777778, \"#fb9f3a\"], [0.8888888888888888, \"#fdca26\"], [1.0, \"#f0f921\"]], \"type\": \"histogram2d\"}], \"histogram2dcontour\": [{\"colorbar\": {\"outlinewidth\": 0, \"ticks\": \"\"}, \"colorscale\": [[0.0, \"#0d0887\"], [0.1111111111111111, \"#46039f\"], [0.2222222222222222, \"#7201a8\"], [0.3333333333333333, \"#9c179e\"], [0.4444444444444444, \"#bd3786\"], [0.5555555555555556, \"#d8576b\"], [0.6666666666666666, \"#ed7953\"], [0.7777777777777778, \"#fb9f3a\"], [0.8888888888888888, \"#fdca26\"], [1.0, \"#f0f921\"]], \"type\": \"histogram2dcontour\"}], \"mesh3d\": [{\"colorbar\": {\"outlinewidth\": 0, \"ticks\": \"\"}, \"type\": \"mesh3d\"}], \"parcoords\": [{\"line\": {\"colorbar\": {\"outlinewidth\": 0, \"ticks\": \"\"}}, \"type\": \"parcoords\"}], \"pie\": [{\"automargin\": true, \"type\": \"pie\"}], \"scatter\": [{\"marker\": {\"colorbar\": {\"outlinewidth\": 0, \"ticks\": \"\"}}, \"type\": \"scatter\"}], \"scatter3d\": [{\"line\": {\"colorbar\": {\"outlinewidth\": 0, \"ticks\": \"\"}}, \"marker\": {\"colorbar\": {\"outlinewidth\": 0, \"ticks\": \"\"}}, \"type\": \"scatter3d\"}], \"scattercarpet\": [{\"marker\": {\"colorbar\": {\"outlinewidth\": 0, \"ticks\": \"\"}}, \"type\": \"scattercarpet\"}], \"scattergeo\": [{\"marker\": {\"colorbar\": {\"outlinewidth\": 0, \"ticks\": \"\"}}, \"type\": \"scattergeo\"}], \"scattergl\": [{\"marker\": {\"colorbar\": {\"outlinewidth\": 0, \"ticks\": \"\"}}, \"type\": \"scattergl\"}], \"scattermapbox\": [{\"marker\": {\"colorbar\": {\"outlinewidth\": 0, \"ticks\": \"\"}}, \"type\": \"scattermapbox\"}], \"scatterpolar\": [{\"marker\": {\"colorbar\": {\"outlinewidth\": 0, \"ticks\": \"\"}}, \"type\": \"scatterpolar\"}], \"scatterpolargl\": [{\"marker\": {\"colorbar\": {\"outlinewidth\": 0, \"ticks\": \"\"}}, \"type\": \"scatterpolargl\"}], \"scatterternary\": [{\"marker\": {\"colorbar\": {\"outlinewidth\": 0, \"ticks\": \"\"}}, \"type\": \"scatterternary\"}], \"surface\": [{\"colorbar\": {\"outlinewidth\": 0, \"ticks\": \"\"}, \"colorscale\": [[0.0, \"#0d0887\"], [0.1111111111111111, \"#46039f\"], [0.2222222222222222, \"#7201a8\"], [0.3333333333333333, \"#9c179e\"], [0.4444444444444444, \"#bd3786\"], [0.5555555555555556, \"#d8576b\"], [0.6666666666666666, \"#ed7953\"], [0.7777777777777778, \"#fb9f3a\"], [0.8888888888888888, \"#fdca26\"], [1.0, \"#f0f921\"]], \"type\": \"surface\"}], \"table\": [{\"cells\": {\"fill\": {\"color\": \"#EBF0F8\"}, \"line\": {\"color\": \"white\"}}, \"header\": {\"fill\": {\"color\": \"#C8D4E3\"}, \"line\": {\"color\": \"white\"}}, \"type\": \"table\"}]}, \"layout\": {\"annotationdefaults\": {\"arrowcolor\": \"#2a3f5f\", \"arrowhead\": 0, \"arrowwidth\": 1}, \"autotypenumbers\": \"strict\", \"coloraxis\": {\"colorbar\": {\"outlinewidth\": 0, \"ticks\": \"\"}}, \"colorscale\": {\"diverging\": [[0, \"#8e0152\"], [0.1, \"#c51b7d\"], [0.2, \"#de77ae\"], [0.3, \"#f1b6da\"], [0.4, \"#fde0ef\"], [0.5, \"#f7f7f7\"], [0.6, \"#e6f5d0\"], [0.7, \"#b8e186\"], [0.8, \"#7fbc41\"], [0.9, \"#4d9221\"], [1, \"#276419\"]], \"sequential\": [[0.0, \"#0d0887\"], [0.1111111111111111, \"#46039f\"], [0.2222222222222222, \"#7201a8\"], [0.3333333333333333, \"#9c179e\"], [0.4444444444444444, \"#bd3786\"], [0.5555555555555556, \"#d8576b\"], [0.6666666666666666, \"#ed7953\"], [0.7777777777777778, \"#fb9f3a\"], [0.8888888888888888, \"#fdca26\"], [1.0, \"#f0f921\"]], \"sequentialminus\": [[0.0, \"#0d0887\"], [0.1111111111111111, \"#46039f\"], [0.2222222222222222, \"#7201a8\"], [0.3333333333333333, \"#9c179e\"], [0.4444444444444444, \"#bd3786\"], [0.5555555555555556, \"#d8576b\"], [0.6666666666666666, \"#ed7953\"], [0.7777777777777778, \"#fb9f3a\"], [0.8888888888888888, \"#fdca26\"], [1.0, \"#f0f921\"]]}, \"colorway\": [\"#636efa\", \"#EF553B\", \"#00cc96\", \"#ab63fa\", \"#FFA15A\", \"#19d3f3\", \"#FF6692\", \"#B6E880\", \"#FF97FF\", \"#FECB52\"], \"font\": {\"color\": \"#2a3f5f\"}, \"geo\": {\"bgcolor\": \"white\", \"lakecolor\": \"white\", \"landcolor\": \"#E5ECF6\", \"showlakes\": true, \"showland\": true, \"subunitcolor\": \"white\"}, \"hoverlabel\": {\"align\": \"left\"}, \"hovermode\": \"closest\", \"mapbox\": {\"style\": \"light\"}, \"paper_bgcolor\": \"white\", \"plot_bgcolor\": \"#E5ECF6\", \"polar\": {\"angularaxis\": {\"gridcolor\": \"white\", \"linecolor\": \"white\", \"ticks\": \"\"}, \"bgcolor\": \"#E5ECF6\", \"radialaxis\": {\"gridcolor\": \"white\", \"linecolor\": \"white\", \"ticks\": \"\"}}, \"scene\": {\"xaxis\": {\"backgroundcolor\": \"#E5ECF6\", \"gridcolor\": \"white\", \"gridwidth\": 2, \"linecolor\": \"white\", \"showbackground\": true, \"ticks\": \"\", \"zerolinecolor\": \"white\"}, \"yaxis\": {\"backgroundcolor\": \"#E5ECF6\", \"gridcolor\": \"white\", \"gridwidth\": 2, \"linecolor\": \"white\", \"showbackground\": true, \"ticks\": \"\", \"zerolinecolor\": \"white\"}, \"zaxis\": {\"backgroundcolor\": \"#E5ECF6\", \"gridcolor\": \"white\", \"gridwidth\": 2, \"linecolor\": \"white\", \"showbackground\": true, \"ticks\": \"\", \"zerolinecolor\": \"white\"}}, \"shapedefaults\": {\"line\": {\"color\": \"#2a3f5f\"}}, \"ternary\": {\"aaxis\": {\"gridcolor\": \"white\", \"linecolor\": \"white\", \"ticks\": \"\"}, \"baxis\": {\"gridcolor\": \"white\", \"linecolor\": \"white\", \"ticks\": \"\"}, \"bgcolor\": \"#E5ECF6\", \"caxis\": {\"gridcolor\": \"white\", \"linecolor\": \"white\", \"ticks\": \"\"}}, \"title\": {\"x\": 0.05}, \"xaxis\": {\"automargin\": true, \"gridcolor\": \"white\", \"linecolor\": \"white\", \"ticks\": \"\", \"title\": {\"standoff\": 15}, \"zerolinecolor\": \"white\", \"zerolinewidth\": 2}, \"yaxis\": {\"automargin\": true, \"gridcolor\": \"white\", \"linecolor\": \"white\", \"ticks\": \"\", \"title\": {\"standoff\": 15}, \"zerolinecolor\": \"white\", \"zerolinewidth\": 2}}}},                        {\"responsive\": true}                    ).then(function(){\n                            \nvar gd = document.getElementById('cf7079c1-75c6-43fe-bb6e-48a53e0c81df');\nvar x = new MutationObserver(function (mutations, observer) {{\n        var display = window.getComputedStyle(gd).display;\n        if (!display || display === 'none') {{\n            console.log([gd, 'removed!']);\n            Plotly.purge(gd);\n            observer.disconnect();\n        }}\n}});\n\n// Listen for the removal of the full notebook cells\nvar notebookContainer = gd.closest('#notebook-container');\nif (notebookContainer) {{\n    x.observe(notebookContainer, {childList: true});\n}}\n\n// Listen for the clearing of the current output cell\nvar outputEl = gd.closest('.output');\nif (outputEl) {{\n    x.observe(outputEl, {childList: true});\n}}\n\n                        })                };                });            </script>        </div>"
     },
     "metadata": {},
     "output_type": "display_data"
    },
    {
     "data": {
      "application/vnd.plotly.v1+json": {
       "config": {
        "plotlyServerURL": "https://plot.ly"
       },
       "data": [
        {
         "branchvalues": "total",
         "domain": {
          "x": [
           0.0,
           1.0
          ],
          "y": [
           0.0,
           1.0
          ]
         },
         "hovertemplate": "labels=%{label}<br>count=%{value}<br>parent=%{parent}<br>id=%{id}<extra></extra>",
         "ids": [
          "26-35/Freelancer/Avventura",
          "18-25/Studente/Avventura",
          "26-35/Dipendente/Azione/Thriller",
          "18-25/Studente/Azione/Thriller",
          "36-45/Dipendente/Biografia",
          "18-25/Studente/Biografia",
          "18-25/Studente/Commedia",
          "18-25/Dipendente/Fantasy",
          "26-35/Dipendente/Fantasy",
          "56+/Imprenditore/Fantasy",
          "18-25/Studente/Fantasy",
          "36-45/Dipendente/Formazione",
          "26-35/Disoccupato/Formazione",
          "46-55/Freelancer/Formazione",
          "56+/Pensionato/Formazione",
          "18-25/Studente/Formazione",
          "46-55/Dipendente/Giallo",
          "46-55/Disoccupato/Giallo",
          "46-55/Pensionato/Giallo",
          "18-25/Studente/Giallo",
          "26-35/Dipendente/Psicologico",
          "26-35/Imprenditore/Psicologico",
          "46-55/Imprenditore/Psicologico",
          "18-25/Studente/Psicologico",
          "46-55/Imprenditore/Rosa",
          "18-25/Studente/Rosa",
          "18-25/Studente/Sci-Fi",
          "46-55/Dipendente/Storico",
          "56+/Dipendente/Storico",
          "56+/Pensionato/Storico",
          "18-25/Studente/Storiografia",
          "18-25/Dipendente",
          "26-35/Dipendente",
          "36-45/Dipendente",
          "46-55/Dipendente",
          "56+/Dipendente",
          "26-35/Disoccupato",
          "46-55/Disoccupato",
          "26-35/Freelancer",
          "46-55/Freelancer",
          "26-35/Imprenditore",
          "46-55/Imprenditore",
          "56+/Imprenditore",
          "46-55/Pensionato",
          "56+/Pensionato",
          "18-25/Studente",
          "18-25",
          "26-35",
          "36-45",
          "46-55",
          "56+"
         ],
         "labels": [
          "Avventura",
          "Avventura",
          "Azione/Thriller",
          "Azione/Thriller",
          "Biografia",
          "Biografia",
          "Commedia",
          "Fantasy",
          "Fantasy",
          "Fantasy",
          "Fantasy",
          "Formazione",
          "Formazione",
          "Formazione",
          "Formazione",
          "Formazione",
          "Giallo",
          "Giallo",
          "Giallo",
          "Giallo",
          "Psicologico",
          "Psicologico",
          "Psicologico",
          "Psicologico",
          "Rosa",
          "Rosa",
          "Sci-Fi",
          "Storico",
          "Storico",
          "Storico",
          "Storiografia",
          "Dipendente",
          "Dipendente",
          "Dipendente",
          "Dipendente",
          "Dipendente",
          "Disoccupato",
          "Disoccupato",
          "Freelancer",
          "Freelancer",
          "Imprenditore",
          "Imprenditore",
          "Imprenditore",
          "Pensionato",
          "Pensionato",
          "Studente",
          "18-25",
          "26-35",
          "36-45",
          "46-55",
          "56+"
         ],
         "name": "",
         "parents": [
          "26-35/Freelancer",
          "18-25/Studente",
          "26-35/Dipendente",
          "18-25/Studente",
          "36-45/Dipendente",
          "18-25/Studente",
          "18-25/Studente",
          "18-25/Dipendente",
          "26-35/Dipendente",
          "56+/Imprenditore",
          "18-25/Studente",
          "36-45/Dipendente",
          "26-35/Disoccupato",
          "46-55/Freelancer",
          "56+/Pensionato",
          "18-25/Studente",
          "46-55/Dipendente",
          "46-55/Disoccupato",
          "46-55/Pensionato",
          "18-25/Studente",
          "26-35/Dipendente",
          "26-35/Imprenditore",
          "46-55/Imprenditore",
          "18-25/Studente",
          "46-55/Imprenditore",
          "18-25/Studente",
          "18-25/Studente",
          "46-55/Dipendente",
          "56+/Dipendente",
          "56+/Pensionato",
          "18-25/Studente",
          "18-25",
          "26-35",
          "36-45",
          "46-55",
          "56+",
          "26-35",
          "46-55",
          "26-35",
          "46-55",
          "26-35",
          "46-55",
          "56+",
          "46-55",
          "56+",
          "18-25",
          "",
          "",
          "",
          "",
          ""
         ],
         "type": "sunburst",
         "values": [
          1,
          2,
          1,
          1,
          1,
          2,
          1,
          1,
          1,
          1,
          7,
          1,
          1,
          2,
          1,
          6,
          1,
          1,
          1,
          5,
          1,
          1,
          1,
          3,
          1,
          1,
          1,
          1,
          1,
          2,
          2,
          1,
          3,
          2,
          2,
          1,
          1,
          1,
          1,
          2,
          1,
          2,
          1,
          1,
          3,
          31,
          32,
          6,
          2,
          8,
          5
         ]
        }
       ],
       "layout": {
        "legend": {
         "tracegroupgap": 0
        },
        "margin": {
         "t": 60
        },
        "template": {
         "data": {
          "bar": [
           {
            "error_x": {
             "color": "#2a3f5f"
            },
            "error_y": {
             "color": "#2a3f5f"
            },
            "marker": {
             "line": {
              "color": "#E5ECF6",
              "width": 0.5
             }
            },
            "type": "bar"
           }
          ],
          "barpolar": [
           {
            "marker": {
             "line": {
              "color": "#E5ECF6",
              "width": 0.5
             }
            },
            "type": "barpolar"
           }
          ],
          "carpet": [
           {
            "aaxis": {
             "endlinecolor": "#2a3f5f",
             "gridcolor": "white",
             "linecolor": "white",
             "minorgridcolor": "white",
             "startlinecolor": "#2a3f5f"
            },
            "baxis": {
             "endlinecolor": "#2a3f5f",
             "gridcolor": "white",
             "linecolor": "white",
             "minorgridcolor": "white",
             "startlinecolor": "#2a3f5f"
            },
            "type": "carpet"
           }
          ],
          "choropleth": [
           {
            "colorbar": {
             "outlinewidth": 0,
             "ticks": ""
            },
            "type": "choropleth"
           }
          ],
          "contour": [
           {
            "colorbar": {
             "outlinewidth": 0,
             "ticks": ""
            },
            "colorscale": [
             [
              0.0,
              "#0d0887"
             ],
             [
              0.1111111111111111,
              "#46039f"
             ],
             [
              0.2222222222222222,
              "#7201a8"
             ],
             [
              0.3333333333333333,
              "#9c179e"
             ],
             [
              0.4444444444444444,
              "#bd3786"
             ],
             [
              0.5555555555555556,
              "#d8576b"
             ],
             [
              0.6666666666666666,
              "#ed7953"
             ],
             [
              0.7777777777777778,
              "#fb9f3a"
             ],
             [
              0.8888888888888888,
              "#fdca26"
             ],
             [
              1.0,
              "#f0f921"
             ]
            ],
            "type": "contour"
           }
          ],
          "contourcarpet": [
           {
            "colorbar": {
             "outlinewidth": 0,
             "ticks": ""
            },
            "type": "contourcarpet"
           }
          ],
          "heatmap": [
           {
            "colorbar": {
             "outlinewidth": 0,
             "ticks": ""
            },
            "colorscale": [
             [
              0.0,
              "#0d0887"
             ],
             [
              0.1111111111111111,
              "#46039f"
             ],
             [
              0.2222222222222222,
              "#7201a8"
             ],
             [
              0.3333333333333333,
              "#9c179e"
             ],
             [
              0.4444444444444444,
              "#bd3786"
             ],
             [
              0.5555555555555556,
              "#d8576b"
             ],
             [
              0.6666666666666666,
              "#ed7953"
             ],
             [
              0.7777777777777778,
              "#fb9f3a"
             ],
             [
              0.8888888888888888,
              "#fdca26"
             ],
             [
              1.0,
              "#f0f921"
             ]
            ],
            "type": "heatmap"
           }
          ],
          "heatmapgl": [
           {
            "colorbar": {
             "outlinewidth": 0,
             "ticks": ""
            },
            "colorscale": [
             [
              0.0,
              "#0d0887"
             ],
             [
              0.1111111111111111,
              "#46039f"
             ],
             [
              0.2222222222222222,
              "#7201a8"
             ],
             [
              0.3333333333333333,
              "#9c179e"
             ],
             [
              0.4444444444444444,
              "#bd3786"
             ],
             [
              0.5555555555555556,
              "#d8576b"
             ],
             [
              0.6666666666666666,
              "#ed7953"
             ],
             [
              0.7777777777777778,
              "#fb9f3a"
             ],
             [
              0.8888888888888888,
              "#fdca26"
             ],
             [
              1.0,
              "#f0f921"
             ]
            ],
            "type": "heatmapgl"
           }
          ],
          "histogram": [
           {
            "marker": {
             "colorbar": {
              "outlinewidth": 0,
              "ticks": ""
             }
            },
            "type": "histogram"
           }
          ],
          "histogram2d": [
           {
            "colorbar": {
             "outlinewidth": 0,
             "ticks": ""
            },
            "colorscale": [
             [
              0.0,
              "#0d0887"
             ],
             [
              0.1111111111111111,
              "#46039f"
             ],
             [
              0.2222222222222222,
              "#7201a8"
             ],
             [
              0.3333333333333333,
              "#9c179e"
             ],
             [
              0.4444444444444444,
              "#bd3786"
             ],
             [
              0.5555555555555556,
              "#d8576b"
             ],
             [
              0.6666666666666666,
              "#ed7953"
             ],
             [
              0.7777777777777778,
              "#fb9f3a"
             ],
             [
              0.8888888888888888,
              "#fdca26"
             ],
             [
              1.0,
              "#f0f921"
             ]
            ],
            "type": "histogram2d"
           }
          ],
          "histogram2dcontour": [
           {
            "colorbar": {
             "outlinewidth": 0,
             "ticks": ""
            },
            "colorscale": [
             [
              0.0,
              "#0d0887"
             ],
             [
              0.1111111111111111,
              "#46039f"
             ],
             [
              0.2222222222222222,
              "#7201a8"
             ],
             [
              0.3333333333333333,
              "#9c179e"
             ],
             [
              0.4444444444444444,
              "#bd3786"
             ],
             [
              0.5555555555555556,
              "#d8576b"
             ],
             [
              0.6666666666666666,
              "#ed7953"
             ],
             [
              0.7777777777777778,
              "#fb9f3a"
             ],
             [
              0.8888888888888888,
              "#fdca26"
             ],
             [
              1.0,
              "#f0f921"
             ]
            ],
            "type": "histogram2dcontour"
           }
          ],
          "mesh3d": [
           {
            "colorbar": {
             "outlinewidth": 0,
             "ticks": ""
            },
            "type": "mesh3d"
           }
          ],
          "parcoords": [
           {
            "line": {
             "colorbar": {
              "outlinewidth": 0,
              "ticks": ""
             }
            },
            "type": "parcoords"
           }
          ],
          "pie": [
           {
            "automargin": true,
            "type": "pie"
           }
          ],
          "scatter": [
           {
            "marker": {
             "colorbar": {
              "outlinewidth": 0,
              "ticks": ""
             }
            },
            "type": "scatter"
           }
          ],
          "scatter3d": [
           {
            "line": {
             "colorbar": {
              "outlinewidth": 0,
              "ticks": ""
             }
            },
            "marker": {
             "colorbar": {
              "outlinewidth": 0,
              "ticks": ""
             }
            },
            "type": "scatter3d"
           }
          ],
          "scattercarpet": [
           {
            "marker": {
             "colorbar": {
              "outlinewidth": 0,
              "ticks": ""
             }
            },
            "type": "scattercarpet"
           }
          ],
          "scattergeo": [
           {
            "marker": {
             "colorbar": {
              "outlinewidth": 0,
              "ticks": ""
             }
            },
            "type": "scattergeo"
           }
          ],
          "scattergl": [
           {
            "marker": {
             "colorbar": {
              "outlinewidth": 0,
              "ticks": ""
             }
            },
            "type": "scattergl"
           }
          ],
          "scattermapbox": [
           {
            "marker": {
             "colorbar": {
              "outlinewidth": 0,
              "ticks": ""
             }
            },
            "type": "scattermapbox"
           }
          ],
          "scatterpolar": [
           {
            "marker": {
             "colorbar": {
              "outlinewidth": 0,
              "ticks": ""
             }
            },
            "type": "scatterpolar"
           }
          ],
          "scatterpolargl": [
           {
            "marker": {
             "colorbar": {
              "outlinewidth": 0,
              "ticks": ""
             }
            },
            "type": "scatterpolargl"
           }
          ],
          "scatterternary": [
           {
            "marker": {
             "colorbar": {
              "outlinewidth": 0,
              "ticks": ""
             }
            },
            "type": "scatterternary"
           }
          ],
          "surface": [
           {
            "colorbar": {
             "outlinewidth": 0,
             "ticks": ""
            },
            "colorscale": [
             [
              0.0,
              "#0d0887"
             ],
             [
              0.1111111111111111,
              "#46039f"
             ],
             [
              0.2222222222222222,
              "#7201a8"
             ],
             [
              0.3333333333333333,
              "#9c179e"
             ],
             [
              0.4444444444444444,
              "#bd3786"
             ],
             [
              0.5555555555555556,
              "#d8576b"
             ],
             [
              0.6666666666666666,
              "#ed7953"
             ],
             [
              0.7777777777777778,
              "#fb9f3a"
             ],
             [
              0.8888888888888888,
              "#fdca26"
             ],
             [
              1.0,
              "#f0f921"
             ]
            ],
            "type": "surface"
           }
          ],
          "table": [
           {
            "cells": {
             "fill": {
              "color": "#EBF0F8"
             },
             "line": {
              "color": "white"
             }
            },
            "header": {
             "fill": {
              "color": "#C8D4E3"
             },
             "line": {
              "color": "white"
             }
            },
            "type": "table"
           }
          ]
         },
         "layout": {
          "annotationdefaults": {
           "arrowcolor": "#2a3f5f",
           "arrowhead": 0,
           "arrowwidth": 1
          },
          "autotypenumbers": "strict",
          "coloraxis": {
           "colorbar": {
            "outlinewidth": 0,
            "ticks": ""
           }
          },
          "colorscale": {
           "diverging": [
            [
             0,
             "#8e0152"
            ],
            [
             0.1,
             "#c51b7d"
            ],
            [
             0.2,
             "#de77ae"
            ],
            [
             0.3,
             "#f1b6da"
            ],
            [
             0.4,
             "#fde0ef"
            ],
            [
             0.5,
             "#f7f7f7"
            ],
            [
             0.6,
             "#e6f5d0"
            ],
            [
             0.7,
             "#b8e186"
            ],
            [
             0.8,
             "#7fbc41"
            ],
            [
             0.9,
             "#4d9221"
            ],
            [
             1,
             "#276419"
            ]
           ],
           "sequential": [
            [
             0.0,
             "#0d0887"
            ],
            [
             0.1111111111111111,
             "#46039f"
            ],
            [
             0.2222222222222222,
             "#7201a8"
            ],
            [
             0.3333333333333333,
             "#9c179e"
            ],
            [
             0.4444444444444444,
             "#bd3786"
            ],
            [
             0.5555555555555556,
             "#d8576b"
            ],
            [
             0.6666666666666666,
             "#ed7953"
            ],
            [
             0.7777777777777778,
             "#fb9f3a"
            ],
            [
             0.8888888888888888,
             "#fdca26"
            ],
            [
             1.0,
             "#f0f921"
            ]
           ],
           "sequentialminus": [
            [
             0.0,
             "#0d0887"
            ],
            [
             0.1111111111111111,
             "#46039f"
            ],
            [
             0.2222222222222222,
             "#7201a8"
            ],
            [
             0.3333333333333333,
             "#9c179e"
            ],
            [
             0.4444444444444444,
             "#bd3786"
            ],
            [
             0.5555555555555556,
             "#d8576b"
            ],
            [
             0.6666666666666666,
             "#ed7953"
            ],
            [
             0.7777777777777778,
             "#fb9f3a"
            ],
            [
             0.8888888888888888,
             "#fdca26"
            ],
            [
             1.0,
             "#f0f921"
            ]
           ]
          },
          "colorway": [
           "#636efa",
           "#EF553B",
           "#00cc96",
           "#ab63fa",
           "#FFA15A",
           "#19d3f3",
           "#FF6692",
           "#B6E880",
           "#FF97FF",
           "#FECB52"
          ],
          "font": {
           "color": "#2a3f5f"
          },
          "geo": {
           "bgcolor": "white",
           "lakecolor": "white",
           "landcolor": "#E5ECF6",
           "showlakes": true,
           "showland": true,
           "subunitcolor": "white"
          },
          "hoverlabel": {
           "align": "left"
          },
          "hovermode": "closest",
          "mapbox": {
           "style": "light"
          },
          "paper_bgcolor": "white",
          "plot_bgcolor": "#E5ECF6",
          "polar": {
           "angularaxis": {
            "gridcolor": "white",
            "linecolor": "white",
            "ticks": ""
           },
           "bgcolor": "#E5ECF6",
           "radialaxis": {
            "gridcolor": "white",
            "linecolor": "white",
            "ticks": ""
           }
          },
          "scene": {
           "xaxis": {
            "backgroundcolor": "#E5ECF6",
            "gridcolor": "white",
            "gridwidth": 2,
            "linecolor": "white",
            "showbackground": true,
            "ticks": "",
            "zerolinecolor": "white"
           },
           "yaxis": {
            "backgroundcolor": "#E5ECF6",
            "gridcolor": "white",
            "gridwidth": 2,
            "linecolor": "white",
            "showbackground": true,
            "ticks": "",
            "zerolinecolor": "white"
           },
           "zaxis": {
            "backgroundcolor": "#E5ECF6",
            "gridcolor": "white",
            "gridwidth": 2,
            "linecolor": "white",
            "showbackground": true,
            "ticks": "",
            "zerolinecolor": "white"
           }
          },
          "shapedefaults": {
           "line": {
            "color": "#2a3f5f"
           }
          },
          "ternary": {
           "aaxis": {
            "gridcolor": "white",
            "linecolor": "white",
            "ticks": ""
           },
           "baxis": {
            "gridcolor": "white",
            "linecolor": "white",
            "ticks": ""
           },
           "bgcolor": "#E5ECF6",
           "caxis": {
            "gridcolor": "white",
            "linecolor": "white",
            "ticks": ""
           }
          },
          "title": {
           "x": 0.05
          },
          "xaxis": {
           "automargin": true,
           "gridcolor": "white",
           "linecolor": "white",
           "ticks": "",
           "title": {
            "standoff": 15
           },
           "zerolinecolor": "white",
           "zerolinewidth": 2
          },
          "yaxis": {
           "automargin": true,
           "gridcolor": "white",
           "linecolor": "white",
           "ticks": "",
           "title": {
            "standoff": 15
           },
           "zerolinecolor": "white",
           "zerolinewidth": 2
          }
         }
        }
       }
      },
      "text/html": "<div>                            <div id=\"bf35d46d-3e64-4b45-96f5-d8c9ebf06301\" class=\"plotly-graph-div\" style=\"height:525px; width:100%;\"></div>            <script type=\"text/javascript\">                require([\"plotly\"], function(Plotly) {                    window.PLOTLYENV=window.PLOTLYENV || {};                                    if (document.getElementById(\"bf35d46d-3e64-4b45-96f5-d8c9ebf06301\")) {                    Plotly.newPlot(                        \"bf35d46d-3e64-4b45-96f5-d8c9ebf06301\",                        [{\"branchvalues\": \"total\", \"domain\": {\"x\": [0.0, 1.0], \"y\": [0.0, 1.0]}, \"hovertemplate\": \"labels=%{label}<br>count=%{value}<br>parent=%{parent}<br>id=%{id}<extra></extra>\", \"ids\": [\"26-35/Freelancer/Avventura\", \"18-25/Studente/Avventura\", \"26-35/Dipendente/Azione/Thriller\", \"18-25/Studente/Azione/Thriller\", \"36-45/Dipendente/Biografia\", \"18-25/Studente/Biografia\", \"18-25/Studente/Commedia\", \"18-25/Dipendente/Fantasy\", \"26-35/Dipendente/Fantasy\", \"56+/Imprenditore/Fantasy\", \"18-25/Studente/Fantasy\", \"36-45/Dipendente/Formazione\", \"26-35/Disoccupato/Formazione\", \"46-55/Freelancer/Formazione\", \"56+/Pensionato/Formazione\", \"18-25/Studente/Formazione\", \"46-55/Dipendente/Giallo\", \"46-55/Disoccupato/Giallo\", \"46-55/Pensionato/Giallo\", \"18-25/Studente/Giallo\", \"26-35/Dipendente/Psicologico\", \"26-35/Imprenditore/Psicologico\", \"46-55/Imprenditore/Psicologico\", \"18-25/Studente/Psicologico\", \"46-55/Imprenditore/Rosa\", \"18-25/Studente/Rosa\", \"18-25/Studente/Sci-Fi\", \"46-55/Dipendente/Storico\", \"56+/Dipendente/Storico\", \"56+/Pensionato/Storico\", \"18-25/Studente/Storiografia\", \"18-25/Dipendente\", \"26-35/Dipendente\", \"36-45/Dipendente\", \"46-55/Dipendente\", \"56+/Dipendente\", \"26-35/Disoccupato\", \"46-55/Disoccupato\", \"26-35/Freelancer\", \"46-55/Freelancer\", \"26-35/Imprenditore\", \"46-55/Imprenditore\", \"56+/Imprenditore\", \"46-55/Pensionato\", \"56+/Pensionato\", \"18-25/Studente\", \"18-25\", \"26-35\", \"36-45\", \"46-55\", \"56+\"], \"labels\": [\"Avventura\", \"Avventura\", \"Azione/Thriller\", \"Azione/Thriller\", \"Biografia\", \"Biografia\", \"Commedia\", \"Fantasy\", \"Fantasy\", \"Fantasy\", \"Fantasy\", \"Formazione\", \"Formazione\", \"Formazione\", \"Formazione\", \"Formazione\", \"Giallo\", \"Giallo\", \"Giallo\", \"Giallo\", \"Psicologico\", \"Psicologico\", \"Psicologico\", \"Psicologico\", \"Rosa\", \"Rosa\", \"Sci-Fi\", \"Storico\", \"Storico\", \"Storico\", \"Storiografia\", \"Dipendente\", \"Dipendente\", \"Dipendente\", \"Dipendente\", \"Dipendente\", \"Disoccupato\", \"Disoccupato\", \"Freelancer\", \"Freelancer\", \"Imprenditore\", \"Imprenditore\", \"Imprenditore\", \"Pensionato\", \"Pensionato\", \"Studente\", \"18-25\", \"26-35\", \"36-45\", \"46-55\", \"56+\"], \"name\": \"\", \"parents\": [\"26-35/Freelancer\", \"18-25/Studente\", \"26-35/Dipendente\", \"18-25/Studente\", \"36-45/Dipendente\", \"18-25/Studente\", \"18-25/Studente\", \"18-25/Dipendente\", \"26-35/Dipendente\", \"56+/Imprenditore\", \"18-25/Studente\", \"36-45/Dipendente\", \"26-35/Disoccupato\", \"46-55/Freelancer\", \"56+/Pensionato\", \"18-25/Studente\", \"46-55/Dipendente\", \"46-55/Disoccupato\", \"46-55/Pensionato\", \"18-25/Studente\", \"26-35/Dipendente\", \"26-35/Imprenditore\", \"46-55/Imprenditore\", \"18-25/Studente\", \"46-55/Imprenditore\", \"18-25/Studente\", \"18-25/Studente\", \"46-55/Dipendente\", \"56+/Dipendente\", \"56+/Pensionato\", \"18-25/Studente\", \"18-25\", \"26-35\", \"36-45\", \"46-55\", \"56+\", \"26-35\", \"46-55\", \"26-35\", \"46-55\", \"26-35\", \"46-55\", \"56+\", \"46-55\", \"56+\", \"18-25\", \"\", \"\", \"\", \"\", \"\"], \"type\": \"sunburst\", \"values\": [1, 2, 1, 1, 1, 2, 1, 1, 1, 1, 7, 1, 1, 2, 1, 6, 1, 1, 1, 5, 1, 1, 1, 3, 1, 1, 1, 1, 1, 2, 2, 1, 3, 2, 2, 1, 1, 1, 1, 2, 1, 2, 1, 1, 3, 31, 32, 6, 2, 8, 5]}],                        {\"legend\": {\"tracegroupgap\": 0}, \"margin\": {\"t\": 60}, \"template\": {\"data\": {\"bar\": [{\"error_x\": {\"color\": \"#2a3f5f\"}, \"error_y\": {\"color\": \"#2a3f5f\"}, \"marker\": {\"line\": {\"color\": \"#E5ECF6\", \"width\": 0.5}}, \"type\": \"bar\"}], \"barpolar\": [{\"marker\": {\"line\": {\"color\": \"#E5ECF6\", \"width\": 0.5}}, \"type\": \"barpolar\"}], \"carpet\": [{\"aaxis\": {\"endlinecolor\": \"#2a3f5f\", \"gridcolor\": \"white\", \"linecolor\": \"white\", \"minorgridcolor\": \"white\", \"startlinecolor\": \"#2a3f5f\"}, \"baxis\": {\"endlinecolor\": \"#2a3f5f\", \"gridcolor\": \"white\", \"linecolor\": \"white\", \"minorgridcolor\": \"white\", \"startlinecolor\": \"#2a3f5f\"}, \"type\": \"carpet\"}], \"choropleth\": [{\"colorbar\": {\"outlinewidth\": 0, \"ticks\": \"\"}, \"type\": \"choropleth\"}], \"contour\": [{\"colorbar\": {\"outlinewidth\": 0, \"ticks\": \"\"}, \"colorscale\": [[0.0, \"#0d0887\"], [0.1111111111111111, \"#46039f\"], [0.2222222222222222, \"#7201a8\"], [0.3333333333333333, \"#9c179e\"], [0.4444444444444444, \"#bd3786\"], [0.5555555555555556, \"#d8576b\"], [0.6666666666666666, \"#ed7953\"], [0.7777777777777778, \"#fb9f3a\"], [0.8888888888888888, \"#fdca26\"], [1.0, \"#f0f921\"]], \"type\": \"contour\"}], \"contourcarpet\": [{\"colorbar\": {\"outlinewidth\": 0, \"ticks\": \"\"}, \"type\": \"contourcarpet\"}], \"heatmap\": [{\"colorbar\": {\"outlinewidth\": 0, \"ticks\": \"\"}, \"colorscale\": [[0.0, \"#0d0887\"], [0.1111111111111111, \"#46039f\"], [0.2222222222222222, \"#7201a8\"], [0.3333333333333333, \"#9c179e\"], [0.4444444444444444, \"#bd3786\"], [0.5555555555555556, \"#d8576b\"], [0.6666666666666666, \"#ed7953\"], [0.7777777777777778, \"#fb9f3a\"], [0.8888888888888888, \"#fdca26\"], [1.0, \"#f0f921\"]], \"type\": \"heatmap\"}], \"heatmapgl\": [{\"colorbar\": {\"outlinewidth\": 0, \"ticks\": \"\"}, \"colorscale\": [[0.0, \"#0d0887\"], [0.1111111111111111, \"#46039f\"], [0.2222222222222222, \"#7201a8\"], [0.3333333333333333, \"#9c179e\"], [0.4444444444444444, \"#bd3786\"], [0.5555555555555556, \"#d8576b\"], [0.6666666666666666, \"#ed7953\"], [0.7777777777777778, \"#fb9f3a\"], [0.8888888888888888, \"#fdca26\"], [1.0, \"#f0f921\"]], \"type\": \"heatmapgl\"}], \"histogram\": [{\"marker\": {\"colorbar\": {\"outlinewidth\": 0, \"ticks\": \"\"}}, \"type\": \"histogram\"}], \"histogram2d\": [{\"colorbar\": {\"outlinewidth\": 0, \"ticks\": \"\"}, \"colorscale\": [[0.0, \"#0d0887\"], [0.1111111111111111, \"#46039f\"], [0.2222222222222222, \"#7201a8\"], [0.3333333333333333, \"#9c179e\"], [0.4444444444444444, \"#bd3786\"], [0.5555555555555556, \"#d8576b\"], [0.6666666666666666, \"#ed7953\"], [0.7777777777777778, \"#fb9f3a\"], [0.8888888888888888, \"#fdca26\"], [1.0, \"#f0f921\"]], \"type\": \"histogram2d\"}], \"histogram2dcontour\": [{\"colorbar\": {\"outlinewidth\": 0, \"ticks\": \"\"}, \"colorscale\": [[0.0, \"#0d0887\"], [0.1111111111111111, \"#46039f\"], [0.2222222222222222, \"#7201a8\"], [0.3333333333333333, \"#9c179e\"], [0.4444444444444444, \"#bd3786\"], [0.5555555555555556, \"#d8576b\"], [0.6666666666666666, \"#ed7953\"], [0.7777777777777778, \"#fb9f3a\"], [0.8888888888888888, \"#fdca26\"], [1.0, \"#f0f921\"]], \"type\": \"histogram2dcontour\"}], \"mesh3d\": [{\"colorbar\": {\"outlinewidth\": 0, \"ticks\": \"\"}, \"type\": \"mesh3d\"}], \"parcoords\": [{\"line\": {\"colorbar\": {\"outlinewidth\": 0, \"ticks\": \"\"}}, \"type\": \"parcoords\"}], \"pie\": [{\"automargin\": true, \"type\": \"pie\"}], \"scatter\": [{\"marker\": {\"colorbar\": {\"outlinewidth\": 0, \"ticks\": \"\"}}, \"type\": \"scatter\"}], \"scatter3d\": [{\"line\": {\"colorbar\": {\"outlinewidth\": 0, \"ticks\": \"\"}}, \"marker\": {\"colorbar\": {\"outlinewidth\": 0, \"ticks\": \"\"}}, \"type\": \"scatter3d\"}], \"scattercarpet\": [{\"marker\": {\"colorbar\": {\"outlinewidth\": 0, \"ticks\": \"\"}}, \"type\": \"scattercarpet\"}], \"scattergeo\": [{\"marker\": {\"colorbar\": {\"outlinewidth\": 0, \"ticks\": \"\"}}, \"type\": \"scattergeo\"}], \"scattergl\": [{\"marker\": {\"colorbar\": {\"outlinewidth\": 0, \"ticks\": \"\"}}, \"type\": \"scattergl\"}], \"scattermapbox\": [{\"marker\": {\"colorbar\": {\"outlinewidth\": 0, \"ticks\": \"\"}}, \"type\": \"scattermapbox\"}], \"scatterpolar\": [{\"marker\": {\"colorbar\": {\"outlinewidth\": 0, \"ticks\": \"\"}}, \"type\": \"scatterpolar\"}], \"scatterpolargl\": [{\"marker\": {\"colorbar\": {\"outlinewidth\": 0, \"ticks\": \"\"}}, \"type\": \"scatterpolargl\"}], \"scatterternary\": [{\"marker\": {\"colorbar\": {\"outlinewidth\": 0, \"ticks\": \"\"}}, \"type\": \"scatterternary\"}], \"surface\": [{\"colorbar\": {\"outlinewidth\": 0, \"ticks\": \"\"}, \"colorscale\": [[0.0, \"#0d0887\"], [0.1111111111111111, \"#46039f\"], [0.2222222222222222, \"#7201a8\"], [0.3333333333333333, \"#9c179e\"], [0.4444444444444444, \"#bd3786\"], [0.5555555555555556, \"#d8576b\"], [0.6666666666666666, \"#ed7953\"], [0.7777777777777778, \"#fb9f3a\"], [0.8888888888888888, \"#fdca26\"], [1.0, \"#f0f921\"]], \"type\": \"surface\"}], \"table\": [{\"cells\": {\"fill\": {\"color\": \"#EBF0F8\"}, \"line\": {\"color\": \"white\"}}, \"header\": {\"fill\": {\"color\": \"#C8D4E3\"}, \"line\": {\"color\": \"white\"}}, \"type\": \"table\"}]}, \"layout\": {\"annotationdefaults\": {\"arrowcolor\": \"#2a3f5f\", \"arrowhead\": 0, \"arrowwidth\": 1}, \"autotypenumbers\": \"strict\", \"coloraxis\": {\"colorbar\": {\"outlinewidth\": 0, \"ticks\": \"\"}}, \"colorscale\": {\"diverging\": [[0, \"#8e0152\"], [0.1, \"#c51b7d\"], [0.2, \"#de77ae\"], [0.3, \"#f1b6da\"], [0.4, \"#fde0ef\"], [0.5, \"#f7f7f7\"], [0.6, \"#e6f5d0\"], [0.7, \"#b8e186\"], [0.8, \"#7fbc41\"], [0.9, \"#4d9221\"], [1, \"#276419\"]], \"sequential\": [[0.0, \"#0d0887\"], [0.1111111111111111, \"#46039f\"], [0.2222222222222222, \"#7201a8\"], [0.3333333333333333, \"#9c179e\"], [0.4444444444444444, \"#bd3786\"], [0.5555555555555556, \"#d8576b\"], [0.6666666666666666, \"#ed7953\"], [0.7777777777777778, \"#fb9f3a\"], [0.8888888888888888, \"#fdca26\"], [1.0, \"#f0f921\"]], \"sequentialminus\": [[0.0, \"#0d0887\"], [0.1111111111111111, \"#46039f\"], [0.2222222222222222, \"#7201a8\"], [0.3333333333333333, \"#9c179e\"], [0.4444444444444444, \"#bd3786\"], [0.5555555555555556, \"#d8576b\"], [0.6666666666666666, \"#ed7953\"], [0.7777777777777778, \"#fb9f3a\"], [0.8888888888888888, \"#fdca26\"], [1.0, \"#f0f921\"]]}, \"colorway\": [\"#636efa\", \"#EF553B\", \"#00cc96\", \"#ab63fa\", \"#FFA15A\", \"#19d3f3\", \"#FF6692\", \"#B6E880\", \"#FF97FF\", \"#FECB52\"], \"font\": {\"color\": \"#2a3f5f\"}, \"geo\": {\"bgcolor\": \"white\", \"lakecolor\": \"white\", \"landcolor\": \"#E5ECF6\", \"showlakes\": true, \"showland\": true, \"subunitcolor\": \"white\"}, \"hoverlabel\": {\"align\": \"left\"}, \"hovermode\": \"closest\", \"mapbox\": {\"style\": \"light\"}, \"paper_bgcolor\": \"white\", \"plot_bgcolor\": \"#E5ECF6\", \"polar\": {\"angularaxis\": {\"gridcolor\": \"white\", \"linecolor\": \"white\", \"ticks\": \"\"}, \"bgcolor\": \"#E5ECF6\", \"radialaxis\": {\"gridcolor\": \"white\", \"linecolor\": \"white\", \"ticks\": \"\"}}, \"scene\": {\"xaxis\": {\"backgroundcolor\": \"#E5ECF6\", \"gridcolor\": \"white\", \"gridwidth\": 2, \"linecolor\": \"white\", \"showbackground\": true, \"ticks\": \"\", \"zerolinecolor\": \"white\"}, \"yaxis\": {\"backgroundcolor\": \"#E5ECF6\", \"gridcolor\": \"white\", \"gridwidth\": 2, \"linecolor\": \"white\", \"showbackground\": true, \"ticks\": \"\", \"zerolinecolor\": \"white\"}, \"zaxis\": {\"backgroundcolor\": \"#E5ECF6\", \"gridcolor\": \"white\", \"gridwidth\": 2, \"linecolor\": \"white\", \"showbackground\": true, \"ticks\": \"\", \"zerolinecolor\": \"white\"}}, \"shapedefaults\": {\"line\": {\"color\": \"#2a3f5f\"}}, \"ternary\": {\"aaxis\": {\"gridcolor\": \"white\", \"linecolor\": \"white\", \"ticks\": \"\"}, \"baxis\": {\"gridcolor\": \"white\", \"linecolor\": \"white\", \"ticks\": \"\"}, \"bgcolor\": \"#E5ECF6\", \"caxis\": {\"gridcolor\": \"white\", \"linecolor\": \"white\", \"ticks\": \"\"}}, \"title\": {\"x\": 0.05}, \"xaxis\": {\"automargin\": true, \"gridcolor\": \"white\", \"linecolor\": \"white\", \"ticks\": \"\", \"title\": {\"standoff\": 15}, \"zerolinecolor\": \"white\", \"zerolinewidth\": 2}, \"yaxis\": {\"automargin\": true, \"gridcolor\": \"white\", \"linecolor\": \"white\", \"ticks\": \"\", \"title\": {\"standoff\": 15}, \"zerolinecolor\": \"white\", \"zerolinewidth\": 2}}}},                        {\"responsive\": true}                    ).then(function(){\n                            \nvar gd = document.getElementById('bf35d46d-3e64-4b45-96f5-d8c9ebf06301');\nvar x = new MutationObserver(function (mutations, observer) {{\n        var display = window.getComputedStyle(gd).display;\n        if (!display || display === 'none') {{\n            console.log([gd, 'removed!']);\n            Plotly.purge(gd);\n            observer.disconnect();\n        }}\n}});\n\n// Listen for the removal of the full notebook cells\nvar notebookContainer = gd.closest('#notebook-container');\nif (notebookContainer) {{\n    x.observe(notebookContainer, {childList: true});\n}}\n\n// Listen for the clearing of the current output cell\nvar outputEl = gd.closest('.output');\nif (outputEl) {{\n    x.observe(outputEl, {childList: true});\n}}\n\n                        })                };                });            </script>        </div>"
     },
     "metadata": {},
     "output_type": "display_data"
    }
   ],
   "source": [
    "sunburst_df = df.copy()\n",
    "sunburst_df[\"kindle\"] = sunburst_df[\"kindle\"].apply({'Si': 'Ha un<br>eReader', 'No': 'Non ha un<br>eReader'}.get)\n",
    "sunburst_device = px.sunburst(sunburst_df, path=['Età', 'Lavoro', 'device', 'kindle'])\n",
    "sunburst_device.show()\n",
    "force = False\n",
    "if not os.path.isfile('./plot/sunburst_device.html') or force:\n",
    "    sunburst_device.write_html('./plot/sunburst_device.html')\n",
    "    sunburst_device.write_image('./plot/sunburst_device.png')\n",
    "sunburst_genre = px.sunburst(sunburst_df, path=['Età', 'Lavoro', 'Genere letterario preferito'])\n",
    "sunburst_genre.show()\n",
    "force = False\n",
    "if not os.path.isfile('./plot/sunburst_genre.html') or force:\n",
    "    sunburst_genre.write_html('./plot/sunburst_genre.html')\n",
    "    sunburst_genre.write_image('./plot/sunburst_genre.png')\n"
   ]
  },
  {
   "cell_type": "code",
   "execution_count": 15,
   "metadata": {},
   "outputs": [],
   "source": [
    "# -- ABSOLUTE AND RELATIVE FOR ALL QUEST PARAMETERS IN JSON -- \n",
    "\n",
    "# Count occourences\n",
    "counter = {key:dict(Counter(df[key])) for key in df}\n",
    "\n",
    "reformatQuestCount = {}\n",
    "reformatQuestCountRel = {}\n",
    "\n",
    "# Absolute frequencies for each option of each parameter\n",
    "for key, value in reformatQuest.items():\n",
    "    reformatQuestCount[key] = {label:counter[key].get(label, 0) for label in value}\n",
    "    \n",
    "# Relative frequencies for each option of each parameter \n",
    "for key, value in reformatQuestCount.items():\n",
    "    total = sum(value.values())\n",
    "    if total != 0:\n",
    "        reformatQuestCountRel[key] = {label:counter[key].get(label, 0)/total for label in value.keys()}\n",
    "    else:\n",
    "        reformatQuestCountRel[key] = {label:0 for label in value.keys()}\n",
    "\n",
    "# You can call this functions to save counts in json format on the current path\n",
    "def serialize_count():\n",
    "    serialize_json(\"./quest_count.json\", reformatQuestCount)\n",
    "    serialize_json(\"./quest_count_rel.json\", reformatQuestCount)\n",
    "    \n",
    "            \n",
    "# Eventually builds dataframe from json (according to the given parameter)        \n",
    "def to_dataframe(param, rel=None):\n",
    "    if not rel:\n",
    "        return pd.DataFrame({param: reformatQuestCount[param].keys(),\n",
    "                             'Frequenza': reformatQuestCount[param].values()})\n",
    "    else:\n",
    "        return pd.DataFrame({param: reformatQuestCountRel[param].keys(),\n",
    "                             'Frequenza': reformatQuestCountRel[param].values()})\n",
    "\n",
    "# Debugging test\n",
    "# genre = to_dataframe(\"Genere letterario preferito\")\n",
    "# plt.xticks(rotation=70)\n",
    "# plt.bar(genre[\"Genere letterario preferito\"], genre[\"Genere letterario preferito\"])\n",
    "    "
   ]
  },
  {
   "cell_type": "code",
   "execution_count": 16,
   "metadata": {},
   "outputs": [
    {
     "data": {
      "application/vnd.plotly.v1+json": {
       "config": {
        "plotlyServerURL": "https://plot.ly"
       },
       "data": [
        {
         "alignmentgroup": "True",
         "hovertemplate": "Genere letterario preferito=%{x}<br>f=%{y}<extra></extra>",
         "legendgroup": "Formazione",
         "marker": {
          "color": "#636efa"
         },
         "name": "Formazione",
         "offsetgroup": "Formazione",
         "orientation": "v",
         "showlegend": true,
         "textposition": "auto",
         "type": "bar",
         "x": [
          "Formazione"
         ],
         "xaxis": "x",
         "y": [
          11
         ],
         "yaxis": "y"
        },
        {
         "alignmentgroup": "True",
         "hovertemplate": "Genere letterario preferito=%{x}<br>f=%{y}<extra></extra>",
         "legendgroup": "Fantasy",
         "marker": {
          "color": "#EF553B"
         },
         "name": "Fantasy",
         "offsetgroup": "Fantasy",
         "orientation": "v",
         "showlegend": true,
         "textposition": "auto",
         "type": "bar",
         "x": [
          "Fantasy"
         ],
         "xaxis": "x",
         "y": [
          10
         ],
         "yaxis": "y"
        },
        {
         "alignmentgroup": "True",
         "hovertemplate": "Genere letterario preferito=%{x}<br>f=%{y}<extra></extra>",
         "legendgroup": "Giallo",
         "marker": {
          "color": "#00cc96"
         },
         "name": "Giallo",
         "offsetgroup": "Giallo",
         "orientation": "v",
         "showlegend": true,
         "textposition": "auto",
         "type": "bar",
         "x": [
          "Giallo"
         ],
         "xaxis": "x",
         "y": [
          8
         ],
         "yaxis": "y"
        },
        {
         "alignmentgroup": "True",
         "hovertemplate": "Genere letterario preferito=%{x}<br>f=%{y}<extra></extra>",
         "legendgroup": "Psicologico",
         "marker": {
          "color": "#ab63fa"
         },
         "name": "Psicologico",
         "offsetgroup": "Psicologico",
         "orientation": "v",
         "showlegend": true,
         "textposition": "auto",
         "type": "bar",
         "x": [
          "Psicologico"
         ],
         "xaxis": "x",
         "y": [
          6
         ],
         "yaxis": "y"
        },
        {
         "alignmentgroup": "True",
         "hovertemplate": "Genere letterario preferito=%{x}<br>f=%{y}<extra></extra>",
         "legendgroup": "Storico",
         "marker": {
          "color": "#FFA15A"
         },
         "name": "Storico",
         "offsetgroup": "Storico",
         "orientation": "v",
         "showlegend": true,
         "textposition": "auto",
         "type": "bar",
         "x": [
          "Storico"
         ],
         "xaxis": "x",
         "y": [
          4
         ],
         "yaxis": "y"
        },
        {
         "alignmentgroup": "True",
         "hovertemplate": "Genere letterario preferito=%{x}<br>f=%{y}<extra></extra>",
         "legendgroup": "Avventura",
         "marker": {
          "color": "#19d3f3"
         },
         "name": "Avventura",
         "offsetgroup": "Avventura",
         "orientation": "v",
         "showlegend": true,
         "textposition": "auto",
         "type": "bar",
         "x": [
          "Avventura"
         ],
         "xaxis": "x",
         "y": [
          3
         ],
         "yaxis": "y"
        },
        {
         "alignmentgroup": "True",
         "hovertemplate": "Genere letterario preferito=%{x}<br>f=%{y}<extra></extra>",
         "legendgroup": "Biografia",
         "marker": {
          "color": "#FF6692"
         },
         "name": "Biografia",
         "offsetgroup": "Biografia",
         "orientation": "v",
         "showlegend": true,
         "textposition": "auto",
         "type": "bar",
         "x": [
          "Biografia"
         ],
         "xaxis": "x",
         "y": [
          3
         ],
         "yaxis": "y"
        },
        {
         "alignmentgroup": "True",
         "hovertemplate": "Genere letterario preferito=%{x}<br>f=%{y}<extra></extra>",
         "legendgroup": "Azione/Thriller",
         "marker": {
          "color": "#B6E880"
         },
         "name": "Azione/Thriller",
         "offsetgroup": "Azione/Thriller",
         "orientation": "v",
         "showlegend": true,
         "textposition": "auto",
         "type": "bar",
         "x": [
          "Azione/Thriller"
         ],
         "xaxis": "x",
         "y": [
          2
         ],
         "yaxis": "y"
        },
        {
         "alignmentgroup": "True",
         "hovertemplate": "Genere letterario preferito=%{x}<br>f=%{y}<extra></extra>",
         "legendgroup": "Rosa",
         "marker": {
          "color": "#FF97FF"
         },
         "name": "Rosa",
         "offsetgroup": "Rosa",
         "orientation": "v",
         "showlegend": true,
         "textposition": "auto",
         "type": "bar",
         "x": [
          "Rosa"
         ],
         "xaxis": "x",
         "y": [
          2
         ],
         "yaxis": "y"
        },
        {
         "alignmentgroup": "True",
         "hovertemplate": "Genere letterario preferito=%{x}<br>f=%{y}<extra></extra>",
         "legendgroup": "Storiografia",
         "marker": {
          "color": "#FECB52"
         },
         "name": "Storiografia",
         "offsetgroup": "Storiografia",
         "orientation": "v",
         "showlegend": true,
         "textposition": "auto",
         "type": "bar",
         "x": [
          "Storiografia"
         ],
         "xaxis": "x",
         "y": [
          2
         ],
         "yaxis": "y"
        },
        {
         "alignmentgroup": "True",
         "hovertemplate": "Genere letterario preferito=%{x}<br>f=%{y}<extra></extra>",
         "legendgroup": "Sci-Fi",
         "marker": {
          "color": "#636efa"
         },
         "name": "Sci-Fi",
         "offsetgroup": "Sci-Fi",
         "orientation": "v",
         "showlegend": true,
         "textposition": "auto",
         "type": "bar",
         "x": [
          "Sci-Fi"
         ],
         "xaxis": "x",
         "y": [
          1
         ],
         "yaxis": "y"
        },
        {
         "alignmentgroup": "True",
         "hovertemplate": "Genere letterario preferito=%{x}<br>f=%{y}<extra></extra>",
         "legendgroup": "Commedia",
         "marker": {
          "color": "#EF553B"
         },
         "name": "Commedia",
         "offsetgroup": "Commedia",
         "orientation": "v",
         "showlegend": true,
         "textposition": "auto",
         "type": "bar",
         "x": [
          "Commedia"
         ],
         "xaxis": "x",
         "y": [
          1
         ],
         "yaxis": "y"
        },
        {
         "alignmentgroup": "True",
         "hovertemplate": "Genere letterario preferito=%{x}<br>f=%{y}<extra></extra>",
         "legendgroup": "Horror",
         "marker": {
          "color": "#00cc96"
         },
         "name": "Horror",
         "offsetgroup": "Horror",
         "orientation": "v",
         "showlegend": true,
         "textposition": "auto",
         "type": "bar",
         "x": [
          "Horror"
         ],
         "xaxis": "x",
         "y": [
          0
         ],
         "yaxis": "y"
        }
       ],
       "layout": {
        "barmode": "relative",
        "legend": {
         "title": {
          "text": "Genere letterario preferito"
         },
         "tracegroupgap": 0
        },
        "margin": {
         "t": 60
        },
        "template": {
         "data": {
          "bar": [
           {
            "error_x": {
             "color": "#2a3f5f"
            },
            "error_y": {
             "color": "#2a3f5f"
            },
            "marker": {
             "line": {
              "color": "#E5ECF6",
              "width": 0.5
             }
            },
            "type": "bar"
           }
          ],
          "barpolar": [
           {
            "marker": {
             "line": {
              "color": "#E5ECF6",
              "width": 0.5
             }
            },
            "type": "barpolar"
           }
          ],
          "carpet": [
           {
            "aaxis": {
             "endlinecolor": "#2a3f5f",
             "gridcolor": "white",
             "linecolor": "white",
             "minorgridcolor": "white",
             "startlinecolor": "#2a3f5f"
            },
            "baxis": {
             "endlinecolor": "#2a3f5f",
             "gridcolor": "white",
             "linecolor": "white",
             "minorgridcolor": "white",
             "startlinecolor": "#2a3f5f"
            },
            "type": "carpet"
           }
          ],
          "choropleth": [
           {
            "colorbar": {
             "outlinewidth": 0,
             "ticks": ""
            },
            "type": "choropleth"
           }
          ],
          "contour": [
           {
            "colorbar": {
             "outlinewidth": 0,
             "ticks": ""
            },
            "colorscale": [
             [
              0.0,
              "#0d0887"
             ],
             [
              0.1111111111111111,
              "#46039f"
             ],
             [
              0.2222222222222222,
              "#7201a8"
             ],
             [
              0.3333333333333333,
              "#9c179e"
             ],
             [
              0.4444444444444444,
              "#bd3786"
             ],
             [
              0.5555555555555556,
              "#d8576b"
             ],
             [
              0.6666666666666666,
              "#ed7953"
             ],
             [
              0.7777777777777778,
              "#fb9f3a"
             ],
             [
              0.8888888888888888,
              "#fdca26"
             ],
             [
              1.0,
              "#f0f921"
             ]
            ],
            "type": "contour"
           }
          ],
          "contourcarpet": [
           {
            "colorbar": {
             "outlinewidth": 0,
             "ticks": ""
            },
            "type": "contourcarpet"
           }
          ],
          "heatmap": [
           {
            "colorbar": {
             "outlinewidth": 0,
             "ticks": ""
            },
            "colorscale": [
             [
              0.0,
              "#0d0887"
             ],
             [
              0.1111111111111111,
              "#46039f"
             ],
             [
              0.2222222222222222,
              "#7201a8"
             ],
             [
              0.3333333333333333,
              "#9c179e"
             ],
             [
              0.4444444444444444,
              "#bd3786"
             ],
             [
              0.5555555555555556,
              "#d8576b"
             ],
             [
              0.6666666666666666,
              "#ed7953"
             ],
             [
              0.7777777777777778,
              "#fb9f3a"
             ],
             [
              0.8888888888888888,
              "#fdca26"
             ],
             [
              1.0,
              "#f0f921"
             ]
            ],
            "type": "heatmap"
           }
          ],
          "heatmapgl": [
           {
            "colorbar": {
             "outlinewidth": 0,
             "ticks": ""
            },
            "colorscale": [
             [
              0.0,
              "#0d0887"
             ],
             [
              0.1111111111111111,
              "#46039f"
             ],
             [
              0.2222222222222222,
              "#7201a8"
             ],
             [
              0.3333333333333333,
              "#9c179e"
             ],
             [
              0.4444444444444444,
              "#bd3786"
             ],
             [
              0.5555555555555556,
              "#d8576b"
             ],
             [
              0.6666666666666666,
              "#ed7953"
             ],
             [
              0.7777777777777778,
              "#fb9f3a"
             ],
             [
              0.8888888888888888,
              "#fdca26"
             ],
             [
              1.0,
              "#f0f921"
             ]
            ],
            "type": "heatmapgl"
           }
          ],
          "histogram": [
           {
            "marker": {
             "colorbar": {
              "outlinewidth": 0,
              "ticks": ""
             }
            },
            "type": "histogram"
           }
          ],
          "histogram2d": [
           {
            "colorbar": {
             "outlinewidth": 0,
             "ticks": ""
            },
            "colorscale": [
             [
              0.0,
              "#0d0887"
             ],
             [
              0.1111111111111111,
              "#46039f"
             ],
             [
              0.2222222222222222,
              "#7201a8"
             ],
             [
              0.3333333333333333,
              "#9c179e"
             ],
             [
              0.4444444444444444,
              "#bd3786"
             ],
             [
              0.5555555555555556,
              "#d8576b"
             ],
             [
              0.6666666666666666,
              "#ed7953"
             ],
             [
              0.7777777777777778,
              "#fb9f3a"
             ],
             [
              0.8888888888888888,
              "#fdca26"
             ],
             [
              1.0,
              "#f0f921"
             ]
            ],
            "type": "histogram2d"
           }
          ],
          "histogram2dcontour": [
           {
            "colorbar": {
             "outlinewidth": 0,
             "ticks": ""
            },
            "colorscale": [
             [
              0.0,
              "#0d0887"
             ],
             [
              0.1111111111111111,
              "#46039f"
             ],
             [
              0.2222222222222222,
              "#7201a8"
             ],
             [
              0.3333333333333333,
              "#9c179e"
             ],
             [
              0.4444444444444444,
              "#bd3786"
             ],
             [
              0.5555555555555556,
              "#d8576b"
             ],
             [
              0.6666666666666666,
              "#ed7953"
             ],
             [
              0.7777777777777778,
              "#fb9f3a"
             ],
             [
              0.8888888888888888,
              "#fdca26"
             ],
             [
              1.0,
              "#f0f921"
             ]
            ],
            "type": "histogram2dcontour"
           }
          ],
          "mesh3d": [
           {
            "colorbar": {
             "outlinewidth": 0,
             "ticks": ""
            },
            "type": "mesh3d"
           }
          ],
          "parcoords": [
           {
            "line": {
             "colorbar": {
              "outlinewidth": 0,
              "ticks": ""
             }
            },
            "type": "parcoords"
           }
          ],
          "pie": [
           {
            "automargin": true,
            "type": "pie"
           }
          ],
          "scatter": [
           {
            "marker": {
             "colorbar": {
              "outlinewidth": 0,
              "ticks": ""
             }
            },
            "type": "scatter"
           }
          ],
          "scatter3d": [
           {
            "line": {
             "colorbar": {
              "outlinewidth": 0,
              "ticks": ""
             }
            },
            "marker": {
             "colorbar": {
              "outlinewidth": 0,
              "ticks": ""
             }
            },
            "type": "scatter3d"
           }
          ],
          "scattercarpet": [
           {
            "marker": {
             "colorbar": {
              "outlinewidth": 0,
              "ticks": ""
             }
            },
            "type": "scattercarpet"
           }
          ],
          "scattergeo": [
           {
            "marker": {
             "colorbar": {
              "outlinewidth": 0,
              "ticks": ""
             }
            },
            "type": "scattergeo"
           }
          ],
          "scattergl": [
           {
            "marker": {
             "colorbar": {
              "outlinewidth": 0,
              "ticks": ""
             }
            },
            "type": "scattergl"
           }
          ],
          "scattermapbox": [
           {
            "marker": {
             "colorbar": {
              "outlinewidth": 0,
              "ticks": ""
             }
            },
            "type": "scattermapbox"
           }
          ],
          "scatterpolar": [
           {
            "marker": {
             "colorbar": {
              "outlinewidth": 0,
              "ticks": ""
             }
            },
            "type": "scatterpolar"
           }
          ],
          "scatterpolargl": [
           {
            "marker": {
             "colorbar": {
              "outlinewidth": 0,
              "ticks": ""
             }
            },
            "type": "scatterpolargl"
           }
          ],
          "scatterternary": [
           {
            "marker": {
             "colorbar": {
              "outlinewidth": 0,
              "ticks": ""
             }
            },
            "type": "scatterternary"
           }
          ],
          "surface": [
           {
            "colorbar": {
             "outlinewidth": 0,
             "ticks": ""
            },
            "colorscale": [
             [
              0.0,
              "#0d0887"
             ],
             [
              0.1111111111111111,
              "#46039f"
             ],
             [
              0.2222222222222222,
              "#7201a8"
             ],
             [
              0.3333333333333333,
              "#9c179e"
             ],
             [
              0.4444444444444444,
              "#bd3786"
             ],
             [
              0.5555555555555556,
              "#d8576b"
             ],
             [
              0.6666666666666666,
              "#ed7953"
             ],
             [
              0.7777777777777778,
              "#fb9f3a"
             ],
             [
              0.8888888888888888,
              "#fdca26"
             ],
             [
              1.0,
              "#f0f921"
             ]
            ],
            "type": "surface"
           }
          ],
          "table": [
           {
            "cells": {
             "fill": {
              "color": "#EBF0F8"
             },
             "line": {
              "color": "white"
             }
            },
            "header": {
             "fill": {
              "color": "#C8D4E3"
             },
             "line": {
              "color": "white"
             }
            },
            "type": "table"
           }
          ]
         },
         "layout": {
          "annotationdefaults": {
           "arrowcolor": "#2a3f5f",
           "arrowhead": 0,
           "arrowwidth": 1
          },
          "autotypenumbers": "strict",
          "coloraxis": {
           "colorbar": {
            "outlinewidth": 0,
            "ticks": ""
           }
          },
          "colorscale": {
           "diverging": [
            [
             0,
             "#8e0152"
            ],
            [
             0.1,
             "#c51b7d"
            ],
            [
             0.2,
             "#de77ae"
            ],
            [
             0.3,
             "#f1b6da"
            ],
            [
             0.4,
             "#fde0ef"
            ],
            [
             0.5,
             "#f7f7f7"
            ],
            [
             0.6,
             "#e6f5d0"
            ],
            [
             0.7,
             "#b8e186"
            ],
            [
             0.8,
             "#7fbc41"
            ],
            [
             0.9,
             "#4d9221"
            ],
            [
             1,
             "#276419"
            ]
           ],
           "sequential": [
            [
             0.0,
             "#0d0887"
            ],
            [
             0.1111111111111111,
             "#46039f"
            ],
            [
             0.2222222222222222,
             "#7201a8"
            ],
            [
             0.3333333333333333,
             "#9c179e"
            ],
            [
             0.4444444444444444,
             "#bd3786"
            ],
            [
             0.5555555555555556,
             "#d8576b"
            ],
            [
             0.6666666666666666,
             "#ed7953"
            ],
            [
             0.7777777777777778,
             "#fb9f3a"
            ],
            [
             0.8888888888888888,
             "#fdca26"
            ],
            [
             1.0,
             "#f0f921"
            ]
           ],
           "sequentialminus": [
            [
             0.0,
             "#0d0887"
            ],
            [
             0.1111111111111111,
             "#46039f"
            ],
            [
             0.2222222222222222,
             "#7201a8"
            ],
            [
             0.3333333333333333,
             "#9c179e"
            ],
            [
             0.4444444444444444,
             "#bd3786"
            ],
            [
             0.5555555555555556,
             "#d8576b"
            ],
            [
             0.6666666666666666,
             "#ed7953"
            ],
            [
             0.7777777777777778,
             "#fb9f3a"
            ],
            [
             0.8888888888888888,
             "#fdca26"
            ],
            [
             1.0,
             "#f0f921"
            ]
           ]
          },
          "colorway": [
           "#636efa",
           "#EF553B",
           "#00cc96",
           "#ab63fa",
           "#FFA15A",
           "#19d3f3",
           "#FF6692",
           "#B6E880",
           "#FF97FF",
           "#FECB52"
          ],
          "font": {
           "color": "#2a3f5f"
          },
          "geo": {
           "bgcolor": "white",
           "lakecolor": "white",
           "landcolor": "#E5ECF6",
           "showlakes": true,
           "showland": true,
           "subunitcolor": "white"
          },
          "hoverlabel": {
           "align": "left"
          },
          "hovermode": "closest",
          "mapbox": {
           "style": "light"
          },
          "paper_bgcolor": "white",
          "plot_bgcolor": "#E5ECF6",
          "polar": {
           "angularaxis": {
            "gridcolor": "white",
            "linecolor": "white",
            "ticks": ""
           },
           "bgcolor": "#E5ECF6",
           "radialaxis": {
            "gridcolor": "white",
            "linecolor": "white",
            "ticks": ""
           }
          },
          "scene": {
           "xaxis": {
            "backgroundcolor": "#E5ECF6",
            "gridcolor": "white",
            "gridwidth": 2,
            "linecolor": "white",
            "showbackground": true,
            "ticks": "",
            "zerolinecolor": "white"
           },
           "yaxis": {
            "backgroundcolor": "#E5ECF6",
            "gridcolor": "white",
            "gridwidth": 2,
            "linecolor": "white",
            "showbackground": true,
            "ticks": "",
            "zerolinecolor": "white"
           },
           "zaxis": {
            "backgroundcolor": "#E5ECF6",
            "gridcolor": "white",
            "gridwidth": 2,
            "linecolor": "white",
            "showbackground": true,
            "ticks": "",
            "zerolinecolor": "white"
           }
          },
          "shapedefaults": {
           "line": {
            "color": "#2a3f5f"
           }
          },
          "ternary": {
           "aaxis": {
            "gridcolor": "white",
            "linecolor": "white",
            "ticks": ""
           },
           "baxis": {
            "gridcolor": "white",
            "linecolor": "white",
            "ticks": ""
           },
           "bgcolor": "#E5ECF6",
           "caxis": {
            "gridcolor": "white",
            "linecolor": "white",
            "ticks": ""
           }
          },
          "title": {
           "x": 0.05
          },
          "xaxis": {
           "automargin": true,
           "gridcolor": "white",
           "linecolor": "white",
           "ticks": "",
           "title": {
            "standoff": 15
           },
           "zerolinecolor": "white",
           "zerolinewidth": 2
          },
          "yaxis": {
           "automargin": true,
           "gridcolor": "white",
           "linecolor": "white",
           "ticks": "",
           "title": {
            "standoff": 15
           },
           "zerolinecolor": "white",
           "zerolinewidth": 2
          }
         }
        },
        "xaxis": {
         "anchor": "y",
         "categoryarray": [
          "Formazione",
          "Fantasy",
          "Giallo",
          "Psicologico",
          "Storico",
          "Avventura",
          "Biografia",
          "Azione/Thriller",
          "Rosa",
          "Storiografia",
          "Sci-Fi",
          "Commedia",
          "Horror"
         ],
         "categoryorder": "array",
         "domain": [
          0.0,
          1.0
         ],
         "title": {
          "text": "Genere letterario preferito"
         }
        },
        "yaxis": {
         "anchor": "x",
         "domain": [
          0.0,
          1.0
         ],
         "title": {
          "text": "f"
         }
        }
       }
      },
      "text/html": "<div>                            <div id=\"156ef7ed-0129-450c-896d-960118b2af1c\" class=\"plotly-graph-div\" style=\"height:525px; width:100%;\"></div>            <script type=\"text/javascript\">                require([\"plotly\"], function(Plotly) {                    window.PLOTLYENV=window.PLOTLYENV || {};                                    if (document.getElementById(\"156ef7ed-0129-450c-896d-960118b2af1c\")) {                    Plotly.newPlot(                        \"156ef7ed-0129-450c-896d-960118b2af1c\",                        [{\"alignmentgroup\": \"True\", \"hovertemplate\": \"Genere letterario preferito=%{x}<br>f=%{y}<extra></extra>\", \"legendgroup\": \"Formazione\", \"marker\": {\"color\": \"#636efa\"}, \"name\": \"Formazione\", \"offsetgroup\": \"Formazione\", \"orientation\": \"v\", \"showlegend\": true, \"textposition\": \"auto\", \"type\": \"bar\", \"x\": [\"Formazione\"], \"xaxis\": \"x\", \"y\": [11], \"yaxis\": \"y\"}, {\"alignmentgroup\": \"True\", \"hovertemplate\": \"Genere letterario preferito=%{x}<br>f=%{y}<extra></extra>\", \"legendgroup\": \"Fantasy\", \"marker\": {\"color\": \"#EF553B\"}, \"name\": \"Fantasy\", \"offsetgroup\": \"Fantasy\", \"orientation\": \"v\", \"showlegend\": true, \"textposition\": \"auto\", \"type\": \"bar\", \"x\": [\"Fantasy\"], \"xaxis\": \"x\", \"y\": [10], \"yaxis\": \"y\"}, {\"alignmentgroup\": \"True\", \"hovertemplate\": \"Genere letterario preferito=%{x}<br>f=%{y}<extra></extra>\", \"legendgroup\": \"Giallo\", \"marker\": {\"color\": \"#00cc96\"}, \"name\": \"Giallo\", \"offsetgroup\": \"Giallo\", \"orientation\": \"v\", \"showlegend\": true, \"textposition\": \"auto\", \"type\": \"bar\", \"x\": [\"Giallo\"], \"xaxis\": \"x\", \"y\": [8], \"yaxis\": \"y\"}, {\"alignmentgroup\": \"True\", \"hovertemplate\": \"Genere letterario preferito=%{x}<br>f=%{y}<extra></extra>\", \"legendgroup\": \"Psicologico\", \"marker\": {\"color\": \"#ab63fa\"}, \"name\": \"Psicologico\", \"offsetgroup\": \"Psicologico\", \"orientation\": \"v\", \"showlegend\": true, \"textposition\": \"auto\", \"type\": \"bar\", \"x\": [\"Psicologico\"], \"xaxis\": \"x\", \"y\": [6], \"yaxis\": \"y\"}, {\"alignmentgroup\": \"True\", \"hovertemplate\": \"Genere letterario preferito=%{x}<br>f=%{y}<extra></extra>\", \"legendgroup\": \"Storico\", \"marker\": {\"color\": \"#FFA15A\"}, \"name\": \"Storico\", \"offsetgroup\": \"Storico\", \"orientation\": \"v\", \"showlegend\": true, \"textposition\": \"auto\", \"type\": \"bar\", \"x\": [\"Storico\"], \"xaxis\": \"x\", \"y\": [4], \"yaxis\": \"y\"}, {\"alignmentgroup\": \"True\", \"hovertemplate\": \"Genere letterario preferito=%{x}<br>f=%{y}<extra></extra>\", \"legendgroup\": \"Avventura\", \"marker\": {\"color\": \"#19d3f3\"}, \"name\": \"Avventura\", \"offsetgroup\": \"Avventura\", \"orientation\": \"v\", \"showlegend\": true, \"textposition\": \"auto\", \"type\": \"bar\", \"x\": [\"Avventura\"], \"xaxis\": \"x\", \"y\": [3], \"yaxis\": \"y\"}, {\"alignmentgroup\": \"True\", \"hovertemplate\": \"Genere letterario preferito=%{x}<br>f=%{y}<extra></extra>\", \"legendgroup\": \"Biografia\", \"marker\": {\"color\": \"#FF6692\"}, \"name\": \"Biografia\", \"offsetgroup\": \"Biografia\", \"orientation\": \"v\", \"showlegend\": true, \"textposition\": \"auto\", \"type\": \"bar\", \"x\": [\"Biografia\"], \"xaxis\": \"x\", \"y\": [3], \"yaxis\": \"y\"}, {\"alignmentgroup\": \"True\", \"hovertemplate\": \"Genere letterario preferito=%{x}<br>f=%{y}<extra></extra>\", \"legendgroup\": \"Azione/Thriller\", \"marker\": {\"color\": \"#B6E880\"}, \"name\": \"Azione/Thriller\", \"offsetgroup\": \"Azione/Thriller\", \"orientation\": \"v\", \"showlegend\": true, \"textposition\": \"auto\", \"type\": \"bar\", \"x\": [\"Azione/Thriller\"], \"xaxis\": \"x\", \"y\": [2], \"yaxis\": \"y\"}, {\"alignmentgroup\": \"True\", \"hovertemplate\": \"Genere letterario preferito=%{x}<br>f=%{y}<extra></extra>\", \"legendgroup\": \"Rosa\", \"marker\": {\"color\": \"#FF97FF\"}, \"name\": \"Rosa\", \"offsetgroup\": \"Rosa\", \"orientation\": \"v\", \"showlegend\": true, \"textposition\": \"auto\", \"type\": \"bar\", \"x\": [\"Rosa\"], \"xaxis\": \"x\", \"y\": [2], \"yaxis\": \"y\"}, {\"alignmentgroup\": \"True\", \"hovertemplate\": \"Genere letterario preferito=%{x}<br>f=%{y}<extra></extra>\", \"legendgroup\": \"Storiografia\", \"marker\": {\"color\": \"#FECB52\"}, \"name\": \"Storiografia\", \"offsetgroup\": \"Storiografia\", \"orientation\": \"v\", \"showlegend\": true, \"textposition\": \"auto\", \"type\": \"bar\", \"x\": [\"Storiografia\"], \"xaxis\": \"x\", \"y\": [2], \"yaxis\": \"y\"}, {\"alignmentgroup\": \"True\", \"hovertemplate\": \"Genere letterario preferito=%{x}<br>f=%{y}<extra></extra>\", \"legendgroup\": \"Sci-Fi\", \"marker\": {\"color\": \"#636efa\"}, \"name\": \"Sci-Fi\", \"offsetgroup\": \"Sci-Fi\", \"orientation\": \"v\", \"showlegend\": true, \"textposition\": \"auto\", \"type\": \"bar\", \"x\": [\"Sci-Fi\"], \"xaxis\": \"x\", \"y\": [1], \"yaxis\": \"y\"}, {\"alignmentgroup\": \"True\", \"hovertemplate\": \"Genere letterario preferito=%{x}<br>f=%{y}<extra></extra>\", \"legendgroup\": \"Commedia\", \"marker\": {\"color\": \"#EF553B\"}, \"name\": \"Commedia\", \"offsetgroup\": \"Commedia\", \"orientation\": \"v\", \"showlegend\": true, \"textposition\": \"auto\", \"type\": \"bar\", \"x\": [\"Commedia\"], \"xaxis\": \"x\", \"y\": [1], \"yaxis\": \"y\"}, {\"alignmentgroup\": \"True\", \"hovertemplate\": \"Genere letterario preferito=%{x}<br>f=%{y}<extra></extra>\", \"legendgroup\": \"Horror\", \"marker\": {\"color\": \"#00cc96\"}, \"name\": \"Horror\", \"offsetgroup\": \"Horror\", \"orientation\": \"v\", \"showlegend\": true, \"textposition\": \"auto\", \"type\": \"bar\", \"x\": [\"Horror\"], \"xaxis\": \"x\", \"y\": [0], \"yaxis\": \"y\"}],                        {\"barmode\": \"relative\", \"legend\": {\"title\": {\"text\": \"Genere letterario preferito\"}, \"tracegroupgap\": 0}, \"margin\": {\"t\": 60}, \"template\": {\"data\": {\"bar\": [{\"error_x\": {\"color\": \"#2a3f5f\"}, \"error_y\": {\"color\": \"#2a3f5f\"}, \"marker\": {\"line\": {\"color\": \"#E5ECF6\", \"width\": 0.5}}, \"type\": \"bar\"}], \"barpolar\": [{\"marker\": {\"line\": {\"color\": \"#E5ECF6\", \"width\": 0.5}}, \"type\": \"barpolar\"}], \"carpet\": [{\"aaxis\": {\"endlinecolor\": \"#2a3f5f\", \"gridcolor\": \"white\", \"linecolor\": \"white\", \"minorgridcolor\": \"white\", \"startlinecolor\": \"#2a3f5f\"}, \"baxis\": {\"endlinecolor\": \"#2a3f5f\", \"gridcolor\": \"white\", \"linecolor\": \"white\", \"minorgridcolor\": \"white\", \"startlinecolor\": \"#2a3f5f\"}, \"type\": \"carpet\"}], \"choropleth\": [{\"colorbar\": {\"outlinewidth\": 0, \"ticks\": \"\"}, \"type\": \"choropleth\"}], \"contour\": [{\"colorbar\": {\"outlinewidth\": 0, \"ticks\": \"\"}, \"colorscale\": [[0.0, \"#0d0887\"], [0.1111111111111111, \"#46039f\"], [0.2222222222222222, \"#7201a8\"], [0.3333333333333333, \"#9c179e\"], [0.4444444444444444, \"#bd3786\"], [0.5555555555555556, \"#d8576b\"], [0.6666666666666666, \"#ed7953\"], [0.7777777777777778, \"#fb9f3a\"], [0.8888888888888888, \"#fdca26\"], [1.0, \"#f0f921\"]], \"type\": \"contour\"}], \"contourcarpet\": [{\"colorbar\": {\"outlinewidth\": 0, \"ticks\": \"\"}, \"type\": \"contourcarpet\"}], \"heatmap\": [{\"colorbar\": {\"outlinewidth\": 0, \"ticks\": \"\"}, \"colorscale\": [[0.0, \"#0d0887\"], [0.1111111111111111, \"#46039f\"], [0.2222222222222222, \"#7201a8\"], [0.3333333333333333, \"#9c179e\"], [0.4444444444444444, \"#bd3786\"], [0.5555555555555556, \"#d8576b\"], [0.6666666666666666, \"#ed7953\"], [0.7777777777777778, \"#fb9f3a\"], [0.8888888888888888, \"#fdca26\"], [1.0, \"#f0f921\"]], \"type\": \"heatmap\"}], \"heatmapgl\": [{\"colorbar\": {\"outlinewidth\": 0, \"ticks\": \"\"}, \"colorscale\": [[0.0, \"#0d0887\"], [0.1111111111111111, \"#46039f\"], [0.2222222222222222, \"#7201a8\"], [0.3333333333333333, \"#9c179e\"], [0.4444444444444444, \"#bd3786\"], [0.5555555555555556, \"#d8576b\"], [0.6666666666666666, \"#ed7953\"], [0.7777777777777778, \"#fb9f3a\"], [0.8888888888888888, \"#fdca26\"], [1.0, \"#f0f921\"]], \"type\": \"heatmapgl\"}], \"histogram\": [{\"marker\": {\"colorbar\": {\"outlinewidth\": 0, \"ticks\": \"\"}}, \"type\": \"histogram\"}], \"histogram2d\": [{\"colorbar\": {\"outlinewidth\": 0, \"ticks\": \"\"}, \"colorscale\": [[0.0, \"#0d0887\"], [0.1111111111111111, \"#46039f\"], [0.2222222222222222, \"#7201a8\"], [0.3333333333333333, \"#9c179e\"], [0.4444444444444444, \"#bd3786\"], [0.5555555555555556, \"#d8576b\"], [0.6666666666666666, \"#ed7953\"], [0.7777777777777778, \"#fb9f3a\"], [0.8888888888888888, \"#fdca26\"], [1.0, \"#f0f921\"]], \"type\": \"histogram2d\"}], \"histogram2dcontour\": [{\"colorbar\": {\"outlinewidth\": 0, \"ticks\": \"\"}, \"colorscale\": [[0.0, \"#0d0887\"], [0.1111111111111111, \"#46039f\"], [0.2222222222222222, \"#7201a8\"], [0.3333333333333333, \"#9c179e\"], [0.4444444444444444, \"#bd3786\"], [0.5555555555555556, \"#d8576b\"], [0.6666666666666666, \"#ed7953\"], [0.7777777777777778, \"#fb9f3a\"], [0.8888888888888888, \"#fdca26\"], [1.0, \"#f0f921\"]], \"type\": \"histogram2dcontour\"}], \"mesh3d\": [{\"colorbar\": {\"outlinewidth\": 0, \"ticks\": \"\"}, \"type\": \"mesh3d\"}], \"parcoords\": [{\"line\": {\"colorbar\": {\"outlinewidth\": 0, \"ticks\": \"\"}}, \"type\": \"parcoords\"}], \"pie\": [{\"automargin\": true, \"type\": \"pie\"}], \"scatter\": [{\"marker\": {\"colorbar\": {\"outlinewidth\": 0, \"ticks\": \"\"}}, \"type\": \"scatter\"}], \"scatter3d\": [{\"line\": {\"colorbar\": {\"outlinewidth\": 0, \"ticks\": \"\"}}, \"marker\": {\"colorbar\": {\"outlinewidth\": 0, \"ticks\": \"\"}}, \"type\": \"scatter3d\"}], \"scattercarpet\": [{\"marker\": {\"colorbar\": {\"outlinewidth\": 0, \"ticks\": \"\"}}, \"type\": \"scattercarpet\"}], \"scattergeo\": [{\"marker\": {\"colorbar\": {\"outlinewidth\": 0, \"ticks\": \"\"}}, \"type\": \"scattergeo\"}], \"scattergl\": [{\"marker\": {\"colorbar\": {\"outlinewidth\": 0, \"ticks\": \"\"}}, \"type\": \"scattergl\"}], \"scattermapbox\": [{\"marker\": {\"colorbar\": {\"outlinewidth\": 0, \"ticks\": \"\"}}, \"type\": \"scattermapbox\"}], \"scatterpolar\": [{\"marker\": {\"colorbar\": {\"outlinewidth\": 0, \"ticks\": \"\"}}, \"type\": \"scatterpolar\"}], \"scatterpolargl\": [{\"marker\": {\"colorbar\": {\"outlinewidth\": 0, \"ticks\": \"\"}}, \"type\": \"scatterpolargl\"}], \"scatterternary\": [{\"marker\": {\"colorbar\": {\"outlinewidth\": 0, \"ticks\": \"\"}}, \"type\": \"scatterternary\"}], \"surface\": [{\"colorbar\": {\"outlinewidth\": 0, \"ticks\": \"\"}, \"colorscale\": [[0.0, \"#0d0887\"], [0.1111111111111111, \"#46039f\"], [0.2222222222222222, \"#7201a8\"], [0.3333333333333333, \"#9c179e\"], [0.4444444444444444, \"#bd3786\"], [0.5555555555555556, \"#d8576b\"], [0.6666666666666666, \"#ed7953\"], [0.7777777777777778, \"#fb9f3a\"], [0.8888888888888888, \"#fdca26\"], [1.0, \"#f0f921\"]], \"type\": \"surface\"}], \"table\": [{\"cells\": {\"fill\": {\"color\": \"#EBF0F8\"}, \"line\": {\"color\": \"white\"}}, \"header\": {\"fill\": {\"color\": \"#C8D4E3\"}, \"line\": {\"color\": \"white\"}}, \"type\": \"table\"}]}, \"layout\": {\"annotationdefaults\": {\"arrowcolor\": \"#2a3f5f\", \"arrowhead\": 0, \"arrowwidth\": 1}, \"autotypenumbers\": \"strict\", \"coloraxis\": {\"colorbar\": {\"outlinewidth\": 0, \"ticks\": \"\"}}, \"colorscale\": {\"diverging\": [[0, \"#8e0152\"], [0.1, \"#c51b7d\"], [0.2, \"#de77ae\"], [0.3, \"#f1b6da\"], [0.4, \"#fde0ef\"], [0.5, \"#f7f7f7\"], [0.6, \"#e6f5d0\"], [0.7, \"#b8e186\"], [0.8, \"#7fbc41\"], [0.9, \"#4d9221\"], [1, \"#276419\"]], \"sequential\": [[0.0, \"#0d0887\"], [0.1111111111111111, \"#46039f\"], [0.2222222222222222, \"#7201a8\"], [0.3333333333333333, \"#9c179e\"], [0.4444444444444444, \"#bd3786\"], [0.5555555555555556, \"#d8576b\"], [0.6666666666666666, \"#ed7953\"], [0.7777777777777778, \"#fb9f3a\"], [0.8888888888888888, \"#fdca26\"], [1.0, \"#f0f921\"]], \"sequentialminus\": [[0.0, \"#0d0887\"], [0.1111111111111111, \"#46039f\"], [0.2222222222222222, \"#7201a8\"], [0.3333333333333333, \"#9c179e\"], [0.4444444444444444, \"#bd3786\"], [0.5555555555555556, \"#d8576b\"], [0.6666666666666666, \"#ed7953\"], [0.7777777777777778, \"#fb9f3a\"], [0.8888888888888888, \"#fdca26\"], [1.0, \"#f0f921\"]]}, \"colorway\": [\"#636efa\", \"#EF553B\", \"#00cc96\", \"#ab63fa\", \"#FFA15A\", \"#19d3f3\", \"#FF6692\", \"#B6E880\", \"#FF97FF\", \"#FECB52\"], \"font\": {\"color\": \"#2a3f5f\"}, \"geo\": {\"bgcolor\": \"white\", \"lakecolor\": \"white\", \"landcolor\": \"#E5ECF6\", \"showlakes\": true, \"showland\": true, \"subunitcolor\": \"white\"}, \"hoverlabel\": {\"align\": \"left\"}, \"hovermode\": \"closest\", \"mapbox\": {\"style\": \"light\"}, \"paper_bgcolor\": \"white\", \"plot_bgcolor\": \"#E5ECF6\", \"polar\": {\"angularaxis\": {\"gridcolor\": \"white\", \"linecolor\": \"white\", \"ticks\": \"\"}, \"bgcolor\": \"#E5ECF6\", \"radialaxis\": {\"gridcolor\": \"white\", \"linecolor\": \"white\", \"ticks\": \"\"}}, \"scene\": {\"xaxis\": {\"backgroundcolor\": \"#E5ECF6\", \"gridcolor\": \"white\", \"gridwidth\": 2, \"linecolor\": \"white\", \"showbackground\": true, \"ticks\": \"\", \"zerolinecolor\": \"white\"}, \"yaxis\": {\"backgroundcolor\": \"#E5ECF6\", \"gridcolor\": \"white\", \"gridwidth\": 2, \"linecolor\": \"white\", \"showbackground\": true, \"ticks\": \"\", \"zerolinecolor\": \"white\"}, \"zaxis\": {\"backgroundcolor\": \"#E5ECF6\", \"gridcolor\": \"white\", \"gridwidth\": 2, \"linecolor\": \"white\", \"showbackground\": true, \"ticks\": \"\", \"zerolinecolor\": \"white\"}}, \"shapedefaults\": {\"line\": {\"color\": \"#2a3f5f\"}}, \"ternary\": {\"aaxis\": {\"gridcolor\": \"white\", \"linecolor\": \"white\", \"ticks\": \"\"}, \"baxis\": {\"gridcolor\": \"white\", \"linecolor\": \"white\", \"ticks\": \"\"}, \"bgcolor\": \"#E5ECF6\", \"caxis\": {\"gridcolor\": \"white\", \"linecolor\": \"white\", \"ticks\": \"\"}}, \"title\": {\"x\": 0.05}, \"xaxis\": {\"automargin\": true, \"gridcolor\": \"white\", \"linecolor\": \"white\", \"ticks\": \"\", \"title\": {\"standoff\": 15}, \"zerolinecolor\": \"white\", \"zerolinewidth\": 2}, \"yaxis\": {\"automargin\": true, \"gridcolor\": \"white\", \"linecolor\": \"white\", \"ticks\": \"\", \"title\": {\"standoff\": 15}, \"zerolinecolor\": \"white\", \"zerolinewidth\": 2}}}, \"xaxis\": {\"anchor\": \"y\", \"categoryarray\": [\"Formazione\", \"Fantasy\", \"Giallo\", \"Psicologico\", \"Storico\", \"Avventura\", \"Biografia\", \"Azione/Thriller\", \"Rosa\", \"Storiografia\", \"Sci-Fi\", \"Commedia\", \"Horror\"], \"categoryorder\": \"array\", \"domain\": [0.0, 1.0], \"title\": {\"text\": \"Genere letterario preferito\"}}, \"yaxis\": {\"anchor\": \"x\", \"domain\": [0.0, 1.0], \"title\": {\"text\": \"f\"}}},                        {\"responsive\": true}                    ).then(function(){\n                            \nvar gd = document.getElementById('156ef7ed-0129-450c-896d-960118b2af1c');\nvar x = new MutationObserver(function (mutations, observer) {{\n        var display = window.getComputedStyle(gd).display;\n        if (!display || display === 'none') {{\n            console.log([gd, 'removed!']);\n            Plotly.purge(gd);\n            observer.disconnect();\n        }}\n}});\n\n// Listen for the removal of the full notebook cells\nvar notebookContainer = gd.closest('#notebook-container');\nif (notebookContainer) {{\n    x.observe(notebookContainer, {childList: true});\n}}\n\n// Listen for the clearing of the current output cell\nvar outputEl = gd.closest('.output');\nif (outputEl) {{\n    x.observe(outputEl, {childList: true});\n}}\n\n                        })                };                });            </script>        </div>"
     },
     "metadata": {},
     "output_type": "display_data"
    }
   ],
   "source": [
    "# Convert the genre list into a df\n",
    "df_genre = pd.DataFrame(reformatQuest['Genere letterario preferito'], columns=['Genere letterario preferito'])\n",
    "\n",
    "# Count occurrences, transform in a df and rename\n",
    "counts = df['Genere letterario preferito']\\\n",
    "    .value_counts()\\\n",
    "    .to_frame()\\\n",
    "    .rename(columns={'Genere letterario preferito': 'f'})\n",
    "\n",
    "# Join the previous two, replace NaN with 0s and sort everything for better view\n",
    "df_genre = df_genre\\\n",
    "    .join(counts, on='Genere letterario preferito')\\\n",
    "    .replace(np.NaN, 0)\\\n",
    "    .sort_values(by='f', ascending=False)\n",
    "\n",
    "# From float to int\n",
    "df_genre['f'] = df_genre['f'].astype(int)\n",
    "\n",
    "# Plot everything\n",
    "bar_genre = px.bar(df_genre, x = 'Genere letterario preferito', y = 'f', color='Genere letterario preferito')\n",
    "bar_genre.show()\n",
    "force = False\n",
    "if not os.path.isfile('./plot/bar_genre.html') or force:\n",
    "    bar_genre.write_html('./plot/bar_genre.html')\n",
    "    bar_genre.write_image('./plot/bar_genre.png')"
   ]
  },
  {
   "cell_type": "code",
   "execution_count": 17,
   "metadata": {
    "collapsed": false,
    "jupyter": {
     "outputs_hidden": false
    },
    "pycharm": {
     "name": "#%%\n"
    }
   },
   "outputs": [
    {
     "data": {
      "application/vnd.plotly.v1+json": {
       "config": {
        "plotlyServerURL": "https://plot.ly"
       },
       "data": [
        {
         "alignmentgroup": "True",
         "hovertemplate": "Età=18-25<br>Genere letterario preferito=%{x}<br>f=%{y}<extra></extra>",
         "legendgroup": "18-25",
         "marker": {
          "color": "#636efa"
         },
         "name": "18-25",
         "offsetgroup": "18-25",
         "orientation": "v",
         "showlegend": true,
         "textposition": "auto",
         "type": "bar",
         "x": [
          "Fantasy",
          "Formazione",
          "Giallo",
          "Psicologico",
          "Avventura",
          "Biografia",
          "Storiografia",
          "Commedia",
          "Rosa",
          "Sci-Fi",
          "Azione/Thriller"
         ],
         "xaxis": "x",
         "y": [
          8,
          6,
          5,
          3,
          2,
          2,
          2,
          1,
          1,
          1,
          1
         ],
         "yaxis": "y"
        },
        {
         "alignmentgroup": "True",
         "hovertemplate": "Età=56+<br>Genere letterario preferito=%{x}<br>f=%{y}<extra></extra>",
         "legendgroup": "56+",
         "marker": {
          "color": "#EF553B"
         },
         "name": "56+",
         "offsetgroup": "56+",
         "orientation": "v",
         "showlegend": true,
         "textposition": "auto",
         "type": "bar",
         "x": [
          "Storico",
          "Formazione",
          "Fantasy"
         ],
         "xaxis": "x",
         "y": [
          3,
          1,
          1
         ],
         "yaxis": "y"
        },
        {
         "alignmentgroup": "True",
         "hovertemplate": "Età=46-55<br>Genere letterario preferito=%{x}<br>f=%{y}<extra></extra>",
         "legendgroup": "46-55",
         "marker": {
          "color": "#00cc96"
         },
         "name": "46-55",
         "offsetgroup": "46-55",
         "orientation": "v",
         "showlegend": true,
         "textposition": "auto",
         "type": "bar",
         "x": [
          "Giallo",
          "Formazione",
          "Psicologico",
          "Rosa",
          "Storico"
         ],
         "xaxis": "x",
         "y": [
          3,
          2,
          1,
          1,
          1
         ],
         "yaxis": "y"
        },
        {
         "alignmentgroup": "True",
         "hovertemplate": "Età=26-35<br>Genere letterario preferito=%{x}<br>f=%{y}<extra></extra>",
         "legendgroup": "26-35",
         "marker": {
          "color": "#ab63fa"
         },
         "name": "26-35",
         "offsetgroup": "26-35",
         "orientation": "v",
         "showlegend": true,
         "textposition": "auto",
         "type": "bar",
         "x": [
          "Psicologico",
          "Formazione",
          "Avventura",
          "Fantasy",
          "Azione/Thriller"
         ],
         "xaxis": "x",
         "y": [
          2,
          1,
          1,
          1,
          1
         ],
         "yaxis": "y"
        },
        {
         "alignmentgroup": "True",
         "hovertemplate": "Età=36-45<br>Genere letterario preferito=%{x}<br>f=%{y}<extra></extra>",
         "legendgroup": "36-45",
         "marker": {
          "color": "#FFA15A"
         },
         "name": "36-45",
         "offsetgroup": "36-45",
         "orientation": "v",
         "showlegend": true,
         "textposition": "auto",
         "type": "bar",
         "x": [
          "Formazione",
          "Biografia"
         ],
         "xaxis": "x",
         "y": [
          1,
          1
         ],
         "yaxis": "y"
        }
       ],
       "layout": {
        "barmode": "relative",
        "legend": {
         "title": {
          "text": "Età"
         },
         "tracegroupgap": 0
        },
        "margin": {
         "t": 60
        },
        "template": {
         "data": {
          "bar": [
           {
            "error_x": {
             "color": "#2a3f5f"
            },
            "error_y": {
             "color": "#2a3f5f"
            },
            "marker": {
             "line": {
              "color": "#E5ECF6",
              "width": 0.5
             }
            },
            "type": "bar"
           }
          ],
          "barpolar": [
           {
            "marker": {
             "line": {
              "color": "#E5ECF6",
              "width": 0.5
             }
            },
            "type": "barpolar"
           }
          ],
          "carpet": [
           {
            "aaxis": {
             "endlinecolor": "#2a3f5f",
             "gridcolor": "white",
             "linecolor": "white",
             "minorgridcolor": "white",
             "startlinecolor": "#2a3f5f"
            },
            "baxis": {
             "endlinecolor": "#2a3f5f",
             "gridcolor": "white",
             "linecolor": "white",
             "minorgridcolor": "white",
             "startlinecolor": "#2a3f5f"
            },
            "type": "carpet"
           }
          ],
          "choropleth": [
           {
            "colorbar": {
             "outlinewidth": 0,
             "ticks": ""
            },
            "type": "choropleth"
           }
          ],
          "contour": [
           {
            "colorbar": {
             "outlinewidth": 0,
             "ticks": ""
            },
            "colorscale": [
             [
              0.0,
              "#0d0887"
             ],
             [
              0.1111111111111111,
              "#46039f"
             ],
             [
              0.2222222222222222,
              "#7201a8"
             ],
             [
              0.3333333333333333,
              "#9c179e"
             ],
             [
              0.4444444444444444,
              "#bd3786"
             ],
             [
              0.5555555555555556,
              "#d8576b"
             ],
             [
              0.6666666666666666,
              "#ed7953"
             ],
             [
              0.7777777777777778,
              "#fb9f3a"
             ],
             [
              0.8888888888888888,
              "#fdca26"
             ],
             [
              1.0,
              "#f0f921"
             ]
            ],
            "type": "contour"
           }
          ],
          "contourcarpet": [
           {
            "colorbar": {
             "outlinewidth": 0,
             "ticks": ""
            },
            "type": "contourcarpet"
           }
          ],
          "heatmap": [
           {
            "colorbar": {
             "outlinewidth": 0,
             "ticks": ""
            },
            "colorscale": [
             [
              0.0,
              "#0d0887"
             ],
             [
              0.1111111111111111,
              "#46039f"
             ],
             [
              0.2222222222222222,
              "#7201a8"
             ],
             [
              0.3333333333333333,
              "#9c179e"
             ],
             [
              0.4444444444444444,
              "#bd3786"
             ],
             [
              0.5555555555555556,
              "#d8576b"
             ],
             [
              0.6666666666666666,
              "#ed7953"
             ],
             [
              0.7777777777777778,
              "#fb9f3a"
             ],
             [
              0.8888888888888888,
              "#fdca26"
             ],
             [
              1.0,
              "#f0f921"
             ]
            ],
            "type": "heatmap"
           }
          ],
          "heatmapgl": [
           {
            "colorbar": {
             "outlinewidth": 0,
             "ticks": ""
            },
            "colorscale": [
             [
              0.0,
              "#0d0887"
             ],
             [
              0.1111111111111111,
              "#46039f"
             ],
             [
              0.2222222222222222,
              "#7201a8"
             ],
             [
              0.3333333333333333,
              "#9c179e"
             ],
             [
              0.4444444444444444,
              "#bd3786"
             ],
             [
              0.5555555555555556,
              "#d8576b"
             ],
             [
              0.6666666666666666,
              "#ed7953"
             ],
             [
              0.7777777777777778,
              "#fb9f3a"
             ],
             [
              0.8888888888888888,
              "#fdca26"
             ],
             [
              1.0,
              "#f0f921"
             ]
            ],
            "type": "heatmapgl"
           }
          ],
          "histogram": [
           {
            "marker": {
             "colorbar": {
              "outlinewidth": 0,
              "ticks": ""
             }
            },
            "type": "histogram"
           }
          ],
          "histogram2d": [
           {
            "colorbar": {
             "outlinewidth": 0,
             "ticks": ""
            },
            "colorscale": [
             [
              0.0,
              "#0d0887"
             ],
             [
              0.1111111111111111,
              "#46039f"
             ],
             [
              0.2222222222222222,
              "#7201a8"
             ],
             [
              0.3333333333333333,
              "#9c179e"
             ],
             [
              0.4444444444444444,
              "#bd3786"
             ],
             [
              0.5555555555555556,
              "#d8576b"
             ],
             [
              0.6666666666666666,
              "#ed7953"
             ],
             [
              0.7777777777777778,
              "#fb9f3a"
             ],
             [
              0.8888888888888888,
              "#fdca26"
             ],
             [
              1.0,
              "#f0f921"
             ]
            ],
            "type": "histogram2d"
           }
          ],
          "histogram2dcontour": [
           {
            "colorbar": {
             "outlinewidth": 0,
             "ticks": ""
            },
            "colorscale": [
             [
              0.0,
              "#0d0887"
             ],
             [
              0.1111111111111111,
              "#46039f"
             ],
             [
              0.2222222222222222,
              "#7201a8"
             ],
             [
              0.3333333333333333,
              "#9c179e"
             ],
             [
              0.4444444444444444,
              "#bd3786"
             ],
             [
              0.5555555555555556,
              "#d8576b"
             ],
             [
              0.6666666666666666,
              "#ed7953"
             ],
             [
              0.7777777777777778,
              "#fb9f3a"
             ],
             [
              0.8888888888888888,
              "#fdca26"
             ],
             [
              1.0,
              "#f0f921"
             ]
            ],
            "type": "histogram2dcontour"
           }
          ],
          "mesh3d": [
           {
            "colorbar": {
             "outlinewidth": 0,
             "ticks": ""
            },
            "type": "mesh3d"
           }
          ],
          "parcoords": [
           {
            "line": {
             "colorbar": {
              "outlinewidth": 0,
              "ticks": ""
             }
            },
            "type": "parcoords"
           }
          ],
          "pie": [
           {
            "automargin": true,
            "type": "pie"
           }
          ],
          "scatter": [
           {
            "marker": {
             "colorbar": {
              "outlinewidth": 0,
              "ticks": ""
             }
            },
            "type": "scatter"
           }
          ],
          "scatter3d": [
           {
            "line": {
             "colorbar": {
              "outlinewidth": 0,
              "ticks": ""
             }
            },
            "marker": {
             "colorbar": {
              "outlinewidth": 0,
              "ticks": ""
             }
            },
            "type": "scatter3d"
           }
          ],
          "scattercarpet": [
           {
            "marker": {
             "colorbar": {
              "outlinewidth": 0,
              "ticks": ""
             }
            },
            "type": "scattercarpet"
           }
          ],
          "scattergeo": [
           {
            "marker": {
             "colorbar": {
              "outlinewidth": 0,
              "ticks": ""
             }
            },
            "type": "scattergeo"
           }
          ],
          "scattergl": [
           {
            "marker": {
             "colorbar": {
              "outlinewidth": 0,
              "ticks": ""
             }
            },
            "type": "scattergl"
           }
          ],
          "scattermapbox": [
           {
            "marker": {
             "colorbar": {
              "outlinewidth": 0,
              "ticks": ""
             }
            },
            "type": "scattermapbox"
           }
          ],
          "scatterpolar": [
           {
            "marker": {
             "colorbar": {
              "outlinewidth": 0,
              "ticks": ""
             }
            },
            "type": "scatterpolar"
           }
          ],
          "scatterpolargl": [
           {
            "marker": {
             "colorbar": {
              "outlinewidth": 0,
              "ticks": ""
             }
            },
            "type": "scatterpolargl"
           }
          ],
          "scatterternary": [
           {
            "marker": {
             "colorbar": {
              "outlinewidth": 0,
              "ticks": ""
             }
            },
            "type": "scatterternary"
           }
          ],
          "surface": [
           {
            "colorbar": {
             "outlinewidth": 0,
             "ticks": ""
            },
            "colorscale": [
             [
              0.0,
              "#0d0887"
             ],
             [
              0.1111111111111111,
              "#46039f"
             ],
             [
              0.2222222222222222,
              "#7201a8"
             ],
             [
              0.3333333333333333,
              "#9c179e"
             ],
             [
              0.4444444444444444,
              "#bd3786"
             ],
             [
              0.5555555555555556,
              "#d8576b"
             ],
             [
              0.6666666666666666,
              "#ed7953"
             ],
             [
              0.7777777777777778,
              "#fb9f3a"
             ],
             [
              0.8888888888888888,
              "#fdca26"
             ],
             [
              1.0,
              "#f0f921"
             ]
            ],
            "type": "surface"
           }
          ],
          "table": [
           {
            "cells": {
             "fill": {
              "color": "#EBF0F8"
             },
             "line": {
              "color": "white"
             }
            },
            "header": {
             "fill": {
              "color": "#C8D4E3"
             },
             "line": {
              "color": "white"
             }
            },
            "type": "table"
           }
          ]
         },
         "layout": {
          "annotationdefaults": {
           "arrowcolor": "#2a3f5f",
           "arrowhead": 0,
           "arrowwidth": 1
          },
          "autotypenumbers": "strict",
          "coloraxis": {
           "colorbar": {
            "outlinewidth": 0,
            "ticks": ""
           }
          },
          "colorscale": {
           "diverging": [
            [
             0,
             "#8e0152"
            ],
            [
             0.1,
             "#c51b7d"
            ],
            [
             0.2,
             "#de77ae"
            ],
            [
             0.3,
             "#f1b6da"
            ],
            [
             0.4,
             "#fde0ef"
            ],
            [
             0.5,
             "#f7f7f7"
            ],
            [
             0.6,
             "#e6f5d0"
            ],
            [
             0.7,
             "#b8e186"
            ],
            [
             0.8,
             "#7fbc41"
            ],
            [
             0.9,
             "#4d9221"
            ],
            [
             1,
             "#276419"
            ]
           ],
           "sequential": [
            [
             0.0,
             "#0d0887"
            ],
            [
             0.1111111111111111,
             "#46039f"
            ],
            [
             0.2222222222222222,
             "#7201a8"
            ],
            [
             0.3333333333333333,
             "#9c179e"
            ],
            [
             0.4444444444444444,
             "#bd3786"
            ],
            [
             0.5555555555555556,
             "#d8576b"
            ],
            [
             0.6666666666666666,
             "#ed7953"
            ],
            [
             0.7777777777777778,
             "#fb9f3a"
            ],
            [
             0.8888888888888888,
             "#fdca26"
            ],
            [
             1.0,
             "#f0f921"
            ]
           ],
           "sequentialminus": [
            [
             0.0,
             "#0d0887"
            ],
            [
             0.1111111111111111,
             "#46039f"
            ],
            [
             0.2222222222222222,
             "#7201a8"
            ],
            [
             0.3333333333333333,
             "#9c179e"
            ],
            [
             0.4444444444444444,
             "#bd3786"
            ],
            [
             0.5555555555555556,
             "#d8576b"
            ],
            [
             0.6666666666666666,
             "#ed7953"
            ],
            [
             0.7777777777777778,
             "#fb9f3a"
            ],
            [
             0.8888888888888888,
             "#fdca26"
            ],
            [
             1.0,
             "#f0f921"
            ]
           ]
          },
          "colorway": [
           "#636efa",
           "#EF553B",
           "#00cc96",
           "#ab63fa",
           "#FFA15A",
           "#19d3f3",
           "#FF6692",
           "#B6E880",
           "#FF97FF",
           "#FECB52"
          ],
          "font": {
           "color": "#2a3f5f"
          },
          "geo": {
           "bgcolor": "white",
           "lakecolor": "white",
           "landcolor": "#E5ECF6",
           "showlakes": true,
           "showland": true,
           "subunitcolor": "white"
          },
          "hoverlabel": {
           "align": "left"
          },
          "hovermode": "closest",
          "mapbox": {
           "style": "light"
          },
          "paper_bgcolor": "white",
          "plot_bgcolor": "#E5ECF6",
          "polar": {
           "angularaxis": {
            "gridcolor": "white",
            "linecolor": "white",
            "ticks": ""
           },
           "bgcolor": "#E5ECF6",
           "radialaxis": {
            "gridcolor": "white",
            "linecolor": "white",
            "ticks": ""
           }
          },
          "scene": {
           "xaxis": {
            "backgroundcolor": "#E5ECF6",
            "gridcolor": "white",
            "gridwidth": 2,
            "linecolor": "white",
            "showbackground": true,
            "ticks": "",
            "zerolinecolor": "white"
           },
           "yaxis": {
            "backgroundcolor": "#E5ECF6",
            "gridcolor": "white",
            "gridwidth": 2,
            "linecolor": "white",
            "showbackground": true,
            "ticks": "",
            "zerolinecolor": "white"
           },
           "zaxis": {
            "backgroundcolor": "#E5ECF6",
            "gridcolor": "white",
            "gridwidth": 2,
            "linecolor": "white",
            "showbackground": true,
            "ticks": "",
            "zerolinecolor": "white"
           }
          },
          "shapedefaults": {
           "line": {
            "color": "#2a3f5f"
           }
          },
          "ternary": {
           "aaxis": {
            "gridcolor": "white",
            "linecolor": "white",
            "ticks": ""
           },
           "baxis": {
            "gridcolor": "white",
            "linecolor": "white",
            "ticks": ""
           },
           "bgcolor": "#E5ECF6",
           "caxis": {
            "gridcolor": "white",
            "linecolor": "white",
            "ticks": ""
           }
          },
          "title": {
           "x": 0.05
          },
          "xaxis": {
           "automargin": true,
           "gridcolor": "white",
           "linecolor": "white",
           "ticks": "",
           "title": {
            "standoff": 15
           },
           "zerolinecolor": "white",
           "zerolinewidth": 2
          },
          "yaxis": {
           "automargin": true,
           "gridcolor": "white",
           "linecolor": "white",
           "ticks": "",
           "title": {
            "standoff": 15
           },
           "zerolinecolor": "white",
           "zerolinewidth": 2
          }
         }
        },
        "xaxis": {
         "anchor": "y",
         "domain": [
          0.0,
          1.0
         ],
         "title": {
          "text": "Genere letterario preferito"
         }
        },
        "yaxis": {
         "anchor": "x",
         "domain": [
          0.0,
          1.0
         ],
         "title": {
          "text": "f"
         }
        }
       }
      },
      "text/html": "<div>                            <div id=\"2a147055-8848-49d0-a471-78ab3d037c1d\" class=\"plotly-graph-div\" style=\"height:525px; width:100%;\"></div>            <script type=\"text/javascript\">                require([\"plotly\"], function(Plotly) {                    window.PLOTLYENV=window.PLOTLYENV || {};                                    if (document.getElementById(\"2a147055-8848-49d0-a471-78ab3d037c1d\")) {                    Plotly.newPlot(                        \"2a147055-8848-49d0-a471-78ab3d037c1d\",                        [{\"alignmentgroup\": \"True\", \"hovertemplate\": \"Et\\u00e0=18-25<br>Genere letterario preferito=%{x}<br>f=%{y}<extra></extra>\", \"legendgroup\": \"18-25\", \"marker\": {\"color\": \"#636efa\"}, \"name\": \"18-25\", \"offsetgroup\": \"18-25\", \"orientation\": \"v\", \"showlegend\": true, \"textposition\": \"auto\", \"type\": \"bar\", \"x\": [\"Fantasy\", \"Formazione\", \"Giallo\", \"Psicologico\", \"Avventura\", \"Biografia\", \"Storiografia\", \"Commedia\", \"Rosa\", \"Sci-Fi\", \"Azione/Thriller\"], \"xaxis\": \"x\", \"y\": [8, 6, 5, 3, 2, 2, 2, 1, 1, 1, 1], \"yaxis\": \"y\"}, {\"alignmentgroup\": \"True\", \"hovertemplate\": \"Et\\u00e0=56+<br>Genere letterario preferito=%{x}<br>f=%{y}<extra></extra>\", \"legendgroup\": \"56+\", \"marker\": {\"color\": \"#EF553B\"}, \"name\": \"56+\", \"offsetgroup\": \"56+\", \"orientation\": \"v\", \"showlegend\": true, \"textposition\": \"auto\", \"type\": \"bar\", \"x\": [\"Storico\", \"Formazione\", \"Fantasy\"], \"xaxis\": \"x\", \"y\": [3, 1, 1], \"yaxis\": \"y\"}, {\"alignmentgroup\": \"True\", \"hovertemplate\": \"Et\\u00e0=46-55<br>Genere letterario preferito=%{x}<br>f=%{y}<extra></extra>\", \"legendgroup\": \"46-55\", \"marker\": {\"color\": \"#00cc96\"}, \"name\": \"46-55\", \"offsetgroup\": \"46-55\", \"orientation\": \"v\", \"showlegend\": true, \"textposition\": \"auto\", \"type\": \"bar\", \"x\": [\"Giallo\", \"Formazione\", \"Psicologico\", \"Rosa\", \"Storico\"], \"xaxis\": \"x\", \"y\": [3, 2, 1, 1, 1], \"yaxis\": \"y\"}, {\"alignmentgroup\": \"True\", \"hovertemplate\": \"Et\\u00e0=26-35<br>Genere letterario preferito=%{x}<br>f=%{y}<extra></extra>\", \"legendgroup\": \"26-35\", \"marker\": {\"color\": \"#ab63fa\"}, \"name\": \"26-35\", \"offsetgroup\": \"26-35\", \"orientation\": \"v\", \"showlegend\": true, \"textposition\": \"auto\", \"type\": \"bar\", \"x\": [\"Psicologico\", \"Formazione\", \"Avventura\", \"Fantasy\", \"Azione/Thriller\"], \"xaxis\": \"x\", \"y\": [2, 1, 1, 1, 1], \"yaxis\": \"y\"}, {\"alignmentgroup\": \"True\", \"hovertemplate\": \"Et\\u00e0=36-45<br>Genere letterario preferito=%{x}<br>f=%{y}<extra></extra>\", \"legendgroup\": \"36-45\", \"marker\": {\"color\": \"#FFA15A\"}, \"name\": \"36-45\", \"offsetgroup\": \"36-45\", \"orientation\": \"v\", \"showlegend\": true, \"textposition\": \"auto\", \"type\": \"bar\", \"x\": [\"Formazione\", \"Biografia\"], \"xaxis\": \"x\", \"y\": [1, 1], \"yaxis\": \"y\"}],                        {\"barmode\": \"relative\", \"legend\": {\"title\": {\"text\": \"Et\\u00e0\"}, \"tracegroupgap\": 0}, \"margin\": {\"t\": 60}, \"template\": {\"data\": {\"bar\": [{\"error_x\": {\"color\": \"#2a3f5f\"}, \"error_y\": {\"color\": \"#2a3f5f\"}, \"marker\": {\"line\": {\"color\": \"#E5ECF6\", \"width\": 0.5}}, \"type\": \"bar\"}], \"barpolar\": [{\"marker\": {\"line\": {\"color\": \"#E5ECF6\", \"width\": 0.5}}, \"type\": \"barpolar\"}], \"carpet\": [{\"aaxis\": {\"endlinecolor\": \"#2a3f5f\", \"gridcolor\": \"white\", \"linecolor\": \"white\", \"minorgridcolor\": \"white\", \"startlinecolor\": \"#2a3f5f\"}, \"baxis\": {\"endlinecolor\": \"#2a3f5f\", \"gridcolor\": \"white\", \"linecolor\": \"white\", \"minorgridcolor\": \"white\", \"startlinecolor\": \"#2a3f5f\"}, \"type\": \"carpet\"}], \"choropleth\": [{\"colorbar\": {\"outlinewidth\": 0, \"ticks\": \"\"}, \"type\": \"choropleth\"}], \"contour\": [{\"colorbar\": {\"outlinewidth\": 0, \"ticks\": \"\"}, \"colorscale\": [[0.0, \"#0d0887\"], [0.1111111111111111, \"#46039f\"], [0.2222222222222222, \"#7201a8\"], [0.3333333333333333, \"#9c179e\"], [0.4444444444444444, \"#bd3786\"], [0.5555555555555556, \"#d8576b\"], [0.6666666666666666, \"#ed7953\"], [0.7777777777777778, \"#fb9f3a\"], [0.8888888888888888, \"#fdca26\"], [1.0, \"#f0f921\"]], \"type\": \"contour\"}], \"contourcarpet\": [{\"colorbar\": {\"outlinewidth\": 0, \"ticks\": \"\"}, \"type\": \"contourcarpet\"}], \"heatmap\": [{\"colorbar\": {\"outlinewidth\": 0, \"ticks\": \"\"}, \"colorscale\": [[0.0, \"#0d0887\"], [0.1111111111111111, \"#46039f\"], [0.2222222222222222, \"#7201a8\"], [0.3333333333333333, \"#9c179e\"], [0.4444444444444444, \"#bd3786\"], [0.5555555555555556, \"#d8576b\"], [0.6666666666666666, \"#ed7953\"], [0.7777777777777778, \"#fb9f3a\"], [0.8888888888888888, \"#fdca26\"], [1.0, \"#f0f921\"]], \"type\": \"heatmap\"}], \"heatmapgl\": [{\"colorbar\": {\"outlinewidth\": 0, \"ticks\": \"\"}, \"colorscale\": [[0.0, \"#0d0887\"], [0.1111111111111111, \"#46039f\"], [0.2222222222222222, \"#7201a8\"], [0.3333333333333333, \"#9c179e\"], [0.4444444444444444, \"#bd3786\"], [0.5555555555555556, \"#d8576b\"], [0.6666666666666666, \"#ed7953\"], [0.7777777777777778, \"#fb9f3a\"], [0.8888888888888888, \"#fdca26\"], [1.0, \"#f0f921\"]], \"type\": \"heatmapgl\"}], \"histogram\": [{\"marker\": {\"colorbar\": {\"outlinewidth\": 0, \"ticks\": \"\"}}, \"type\": \"histogram\"}], \"histogram2d\": [{\"colorbar\": {\"outlinewidth\": 0, \"ticks\": \"\"}, \"colorscale\": [[0.0, \"#0d0887\"], [0.1111111111111111, \"#46039f\"], [0.2222222222222222, \"#7201a8\"], [0.3333333333333333, \"#9c179e\"], [0.4444444444444444, \"#bd3786\"], [0.5555555555555556, \"#d8576b\"], [0.6666666666666666, \"#ed7953\"], [0.7777777777777778, \"#fb9f3a\"], [0.8888888888888888, \"#fdca26\"], [1.0, \"#f0f921\"]], \"type\": \"histogram2d\"}], \"histogram2dcontour\": [{\"colorbar\": {\"outlinewidth\": 0, \"ticks\": \"\"}, \"colorscale\": [[0.0, \"#0d0887\"], [0.1111111111111111, \"#46039f\"], [0.2222222222222222, \"#7201a8\"], [0.3333333333333333, \"#9c179e\"], [0.4444444444444444, \"#bd3786\"], [0.5555555555555556, \"#d8576b\"], [0.6666666666666666, \"#ed7953\"], [0.7777777777777778, \"#fb9f3a\"], [0.8888888888888888, \"#fdca26\"], [1.0, \"#f0f921\"]], \"type\": \"histogram2dcontour\"}], \"mesh3d\": [{\"colorbar\": {\"outlinewidth\": 0, \"ticks\": \"\"}, \"type\": \"mesh3d\"}], \"parcoords\": [{\"line\": {\"colorbar\": {\"outlinewidth\": 0, \"ticks\": \"\"}}, \"type\": \"parcoords\"}], \"pie\": [{\"automargin\": true, \"type\": \"pie\"}], \"scatter\": [{\"marker\": {\"colorbar\": {\"outlinewidth\": 0, \"ticks\": \"\"}}, \"type\": \"scatter\"}], \"scatter3d\": [{\"line\": {\"colorbar\": {\"outlinewidth\": 0, \"ticks\": \"\"}}, \"marker\": {\"colorbar\": {\"outlinewidth\": 0, \"ticks\": \"\"}}, \"type\": \"scatter3d\"}], \"scattercarpet\": [{\"marker\": {\"colorbar\": {\"outlinewidth\": 0, \"ticks\": \"\"}}, \"type\": \"scattercarpet\"}], \"scattergeo\": [{\"marker\": {\"colorbar\": {\"outlinewidth\": 0, \"ticks\": \"\"}}, \"type\": \"scattergeo\"}], \"scattergl\": [{\"marker\": {\"colorbar\": {\"outlinewidth\": 0, \"ticks\": \"\"}}, \"type\": \"scattergl\"}], \"scattermapbox\": [{\"marker\": {\"colorbar\": {\"outlinewidth\": 0, \"ticks\": \"\"}}, \"type\": \"scattermapbox\"}], \"scatterpolar\": [{\"marker\": {\"colorbar\": {\"outlinewidth\": 0, \"ticks\": \"\"}}, \"type\": \"scatterpolar\"}], \"scatterpolargl\": [{\"marker\": {\"colorbar\": {\"outlinewidth\": 0, \"ticks\": \"\"}}, \"type\": \"scatterpolargl\"}], \"scatterternary\": [{\"marker\": {\"colorbar\": {\"outlinewidth\": 0, \"ticks\": \"\"}}, \"type\": \"scatterternary\"}], \"surface\": [{\"colorbar\": {\"outlinewidth\": 0, \"ticks\": \"\"}, \"colorscale\": [[0.0, \"#0d0887\"], [0.1111111111111111, \"#46039f\"], [0.2222222222222222, \"#7201a8\"], [0.3333333333333333, \"#9c179e\"], [0.4444444444444444, \"#bd3786\"], [0.5555555555555556, \"#d8576b\"], [0.6666666666666666, \"#ed7953\"], [0.7777777777777778, \"#fb9f3a\"], [0.8888888888888888, \"#fdca26\"], [1.0, \"#f0f921\"]], \"type\": \"surface\"}], \"table\": [{\"cells\": {\"fill\": {\"color\": \"#EBF0F8\"}, \"line\": {\"color\": \"white\"}}, \"header\": {\"fill\": {\"color\": \"#C8D4E3\"}, \"line\": {\"color\": \"white\"}}, \"type\": \"table\"}]}, \"layout\": {\"annotationdefaults\": {\"arrowcolor\": \"#2a3f5f\", \"arrowhead\": 0, \"arrowwidth\": 1}, \"autotypenumbers\": \"strict\", \"coloraxis\": {\"colorbar\": {\"outlinewidth\": 0, \"ticks\": \"\"}}, \"colorscale\": {\"diverging\": [[0, \"#8e0152\"], [0.1, \"#c51b7d\"], [0.2, \"#de77ae\"], [0.3, \"#f1b6da\"], [0.4, \"#fde0ef\"], [0.5, \"#f7f7f7\"], [0.6, \"#e6f5d0\"], [0.7, \"#b8e186\"], [0.8, \"#7fbc41\"], [0.9, \"#4d9221\"], [1, \"#276419\"]], \"sequential\": [[0.0, \"#0d0887\"], [0.1111111111111111, \"#46039f\"], [0.2222222222222222, \"#7201a8\"], [0.3333333333333333, \"#9c179e\"], [0.4444444444444444, \"#bd3786\"], [0.5555555555555556, \"#d8576b\"], [0.6666666666666666, \"#ed7953\"], [0.7777777777777778, \"#fb9f3a\"], [0.8888888888888888, \"#fdca26\"], [1.0, \"#f0f921\"]], \"sequentialminus\": [[0.0, \"#0d0887\"], [0.1111111111111111, \"#46039f\"], [0.2222222222222222, \"#7201a8\"], [0.3333333333333333, \"#9c179e\"], [0.4444444444444444, \"#bd3786\"], [0.5555555555555556, \"#d8576b\"], [0.6666666666666666, \"#ed7953\"], [0.7777777777777778, \"#fb9f3a\"], [0.8888888888888888, \"#fdca26\"], [1.0, \"#f0f921\"]]}, \"colorway\": [\"#636efa\", \"#EF553B\", \"#00cc96\", \"#ab63fa\", \"#FFA15A\", \"#19d3f3\", \"#FF6692\", \"#B6E880\", \"#FF97FF\", \"#FECB52\"], \"font\": {\"color\": \"#2a3f5f\"}, \"geo\": {\"bgcolor\": \"white\", \"lakecolor\": \"white\", \"landcolor\": \"#E5ECF6\", \"showlakes\": true, \"showland\": true, \"subunitcolor\": \"white\"}, \"hoverlabel\": {\"align\": \"left\"}, \"hovermode\": \"closest\", \"mapbox\": {\"style\": \"light\"}, \"paper_bgcolor\": \"white\", \"plot_bgcolor\": \"#E5ECF6\", \"polar\": {\"angularaxis\": {\"gridcolor\": \"white\", \"linecolor\": \"white\", \"ticks\": \"\"}, \"bgcolor\": \"#E5ECF6\", \"radialaxis\": {\"gridcolor\": \"white\", \"linecolor\": \"white\", \"ticks\": \"\"}}, \"scene\": {\"xaxis\": {\"backgroundcolor\": \"#E5ECF6\", \"gridcolor\": \"white\", \"gridwidth\": 2, \"linecolor\": \"white\", \"showbackground\": true, \"ticks\": \"\", \"zerolinecolor\": \"white\"}, \"yaxis\": {\"backgroundcolor\": \"#E5ECF6\", \"gridcolor\": \"white\", \"gridwidth\": 2, \"linecolor\": \"white\", \"showbackground\": true, \"ticks\": \"\", \"zerolinecolor\": \"white\"}, \"zaxis\": {\"backgroundcolor\": \"#E5ECF6\", \"gridcolor\": \"white\", \"gridwidth\": 2, \"linecolor\": \"white\", \"showbackground\": true, \"ticks\": \"\", \"zerolinecolor\": \"white\"}}, \"shapedefaults\": {\"line\": {\"color\": \"#2a3f5f\"}}, \"ternary\": {\"aaxis\": {\"gridcolor\": \"white\", \"linecolor\": \"white\", \"ticks\": \"\"}, \"baxis\": {\"gridcolor\": \"white\", \"linecolor\": \"white\", \"ticks\": \"\"}, \"bgcolor\": \"#E5ECF6\", \"caxis\": {\"gridcolor\": \"white\", \"linecolor\": \"white\", \"ticks\": \"\"}}, \"title\": {\"x\": 0.05}, \"xaxis\": {\"automargin\": true, \"gridcolor\": \"white\", \"linecolor\": \"white\", \"ticks\": \"\", \"title\": {\"standoff\": 15}, \"zerolinecolor\": \"white\", \"zerolinewidth\": 2}, \"yaxis\": {\"automargin\": true, \"gridcolor\": \"white\", \"linecolor\": \"white\", \"ticks\": \"\", \"title\": {\"standoff\": 15}, \"zerolinecolor\": \"white\", \"zerolinewidth\": 2}}}, \"xaxis\": {\"anchor\": \"y\", \"domain\": [0.0, 1.0], \"title\": {\"text\": \"Genere letterario preferito\"}}, \"yaxis\": {\"anchor\": \"x\", \"domain\": [0.0, 1.0], \"title\": {\"text\": \"f\"}}},                        {\"responsive\": true}                    ).then(function(){\n                            \nvar gd = document.getElementById('2a147055-8848-49d0-a471-78ab3d037c1d');\nvar x = new MutationObserver(function (mutations, observer) {{\n        var display = window.getComputedStyle(gd).display;\n        if (!display || display === 'none') {{\n            console.log([gd, 'removed!']);\n            Plotly.purge(gd);\n            observer.disconnect();\n        }}\n}});\n\n// Listen for the removal of the full notebook cells\nvar notebookContainer = gd.closest('#notebook-container');\nif (notebookContainer) {{\n    x.observe(notebookContainer, {childList: true});\n}}\n\n// Listen for the clearing of the current output cell\nvar outputEl = gd.closest('.output');\nif (outputEl) {{\n    x.observe(outputEl, {childList: true});\n}}\n\n                        })                };                });            </script>        </div>"
     },
     "metadata": {},
     "output_type": "display_data"
    }
   ],
   "source": [
    "# Plot based on genre and age\n",
    "df_genre_age = df\\\n",
    "    .groupby(by=['Genere letterario preferito', 'Età'])\\\n",
    "    .count()[['Lavoro']]\\\n",
    "    .rename(columns={'Lavoro': 'f'})\\\n",
    "    .reset_index()\\\n",
    "    .sort_values(by=['f'], ascending=False)\n",
    "\n",
    "bar_genre_age = px.bar(df_genre_age, x = 'Genere letterario preferito', y = 'f', color='Età')\n",
    "bar_genre_age.show()\n",
    "force = False\n",
    "if not os.path.isfile('./plot/bar_genre_age.html') or force:\n",
    "    bar_genre_age.write_html('./plot/bar_genre_age.html')\n",
    "    bar_genre_age.write_image('./plot/bar_genre_age.png')"
   ]
  },
  {
   "cell_type": "code",
   "execution_count": 18,
   "metadata": {},
   "outputs": [
    {
     "name": "stdout",
     "output_type": "stream",
     "text": [
      "Data read from path: ../Data/ACHTQ/comment_try_1.json\n",
      "Data read from path: ../Data/AGGBZ/comment_try_1.json\n",
      "Data read from path: ../Data/ATCOU/comment_try_1.json\n",
      "Data read from path: ../Data/AVOZM/comment_try_1.json\n",
      "Data read from path: ../Data/AZGIQ/comment_try_1.json\n",
      "Data read from path: ../Data/BGLMR/comment_try_1.json\n",
      "Data read from path: ../Data/BOJHZ/comment_try_1.json\n",
      "Data read from path: ../Data/CFRLM/comment_try_1.json\n",
      "Data read from path: ../Data/DJTWC/comment_try_1.json\n",
      "Data read from path: ../Data/DVRAN/comment_try_1.json\n",
      "Data read from path: ../Data/EOTDA/comment_try_1.json\n",
      "Data read from path: ../Data/EUOBG/comment_try_1.json\n",
      "Data read from path: ../Data/EVDDT/comment_try_1.json\n",
      "Data read from path: ../Data/FLXYV/comment_try_1.json\n",
      "Data read from path: ../Data/GLCUF/comment_try_1.json\n",
      "Data read from path: ../Data/HBIRW/comment_try_1.json\n",
      "Data read from path: ../Data/HDLGN/comment_try_1.json\n",
      "Data read from path: ../Data/HEWCH/comment_try_1.json\n",
      "Data read from path: ../Data/HIFZC/comment_try_1.json\n",
      "Data read from path: ../Data/HQWLU/comment_try_1.json\n",
      "Data read from path: ../Data/IMHHT/comment_try_1.json\n",
      "Data read from path: ../Data/ITCXH/comment_try_1.json\n",
      "Data read from path: ../Data/JHEEH/comment_try_1.json\n",
      "Data read from path: ../Data/JQJWV/comment_try_1.json\n",
      "Data read from path: ../Data/KAHOD/comment_try_1.json\n",
      "Data read from path: ../Data/KDOFG/comment_try_1.json\n",
      "Data read from path: ../Data/LPXEB/comment_try_1.json\n",
      "Data read from path: ../Data/LZAEJ/comment_try_1.json\n",
      "Data read from path: ../Data/LZZBM/comment_try_1.json\n",
      "Data read from path: ../Data/MLENI/comment_try_1.json\n",
      "Data read from path: ../Data/PHEHT/comment_try_1.json\n",
      "Data read from path: ../Data/QCICO/comment_try_1.json\n",
      "Data read from path: ../Data/QLZQD/comment_try_1.json\n",
      "Data read from path: ../Data/QMJTN/comment_try_1.json\n",
      "Data read from path: ../Data/QOGPV/comment_try_1.json\n",
      "Data read from path: ../Data/RQURW/comment_try_1.json\n",
      "Data read from path: ../Data/RYYES/comment_try_1.json\n",
      "Data read from path: ../Data/SARZI/comment_try_1.json\n",
      "Data read from path: ../Data/SEYYG/comment_try_1.json\n",
      "Data read from path: ../Data/THRZI/comment_try_1.json\n",
      "Data read from path: ../Data/UPVVU/comment_try_1.json\n",
      "Data read from path: ../Data/UXDAQ/comment_try_1.json\n",
      "Data read from path: ../Data/VKFXZ/comment_try_1.json\n",
      "Data read from path: ../Data/VXCGS/comment_try_1.json\n",
      "Data read from path: ../Data/WXDMK/comment_try_1.json\n",
      "Data read from path: ../Data/XCEGP/comment_try_1.json\n",
      "Data read from path: ../Data/ZLAXX/comment_try_1.json\n",
      "Data read from path: ../Data/ZRXSP/comment_try_1.json\n",
      "Data serialized to path: comment_summary.json\n"
     ]
    },
    {
     "data": {
      "text/plain": "{'ACHTQ': 'La parte della giustificazione è troppo lunga. Obbligare ad inserire minimo 10 parole mi ha quasi fatto passar la voglia di fare questo questionario. ',\n 'AGGBZ': \"Mi ha fatto piacere partecipare. \\nSpero di esservi stata d'aiuto nel vostro progetto universitario. \\n\",\n 'CFRLM': 'Grazie',\n 'EOTDA': 'Spero di essere stato utile',\n 'EVDDT': 'Alla grandine, bel lavoro',\n 'HBIRW': 'Va bene così',\n 'HDLGN': 'Dal telefono quando passo da un libro all’altro preferirei ricaricasse la pagina dall’inizio senza costringermi a scorrere in alto.',\n 'IMHHT': 'Organizzazione ottima anche nella versione per telefono',\n 'ITCXH': 'Ciao!! ',\n 'KAHOD': 'Grazie.',\n 'RYYES': \"sono contento di essere stato utile per un'attività che servirà per la formazione di giovani studenti  \",\n 'SARZI': 'Devo ancora capire il senso di qst test... ',\n 'THRZI': 'Tutto perfetto! Davvero complimenti ',\n 'ZLAXX': 'Il test è strutturato molto bene, non modificherei nulla'}"
     },
     "execution_count": 18,
     "metadata": {},
     "output_type": "execute_result"
    }
   ],
   "source": [
    "commentDict = {}\n",
    "for workerDir in os.scandir('../Data/'):\n",
    "    if os.path.isfile(f'{workerDir.path}/comment_try_1.json'):\n",
    "        comment = read_json(f'{workerDir.path}/comment_try_1.json')\n",
    "        if comment['comment'] != '':\n",
    "            commentDict[workerDir.name] = comment['comment']\n",
    "serialize_json('comment_summary.json', commentDict)\n",
    "commentDict\n"
   ]
  }
 ],
 "metadata": {
  "kernelspec": {
   "display_name": "Python 3",
   "language": "python",
   "name": "python3"
  },
  "language_info": {
   "codemirror_mode": {
    "name": "ipython",
    "version": 3
   },
   "file_extension": ".py",
   "mimetype": "text/x-python",
   "name": "python",
   "nbconvert_exporter": "python",
   "pygments_lexer": "ipython3",
   "version": "3.9.1"
  }
 },
 "nbformat": 4,
 "nbformat_minor": 4
}