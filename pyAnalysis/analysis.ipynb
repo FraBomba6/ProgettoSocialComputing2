{
 "cells": [
  {
   "cell_type": "code",
   "execution_count": 2,
   "metadata": {},
   "outputs": [
    {
     "output_type": "stream",
     "name": "stdout",
     "text": [
      "Modules imported!\n"
     ]
    }
   ],
   "source": [
    "import pandas as pd\n",
    "import plotly.express as px\n",
    "import plotly.graph_objects as go\n",
    "from collections import Counter\n",
    "import matplotlib.pyplot as plt\n",
    "import numpy as np\n",
    "import json\n",
    "import os\n",
    "print(\"Modules imported!\")"
   ]
  },
  {
   "cell_type": "code",
   "execution_count": 3,
   "metadata": {
    "collapsed": false,
    "jupyter": {
     "outputs_hidden": false
    },
    "pycharm": {
     "name": "#%%\n"
    }
   },
   "outputs": [],
   "source": [
    "def read_json(file_path):\n",
    "    if os.path.exists(file_path):\n",
    "        with open(file_path, \"r\", encoding=\"utf8\") as file:\n",
    "            data = json.load(file)\n",
    "        print(f\"Data read from path: {file_path}\")\n",
    "        return data\n",
    "    else:\n",
    "        print(f\"No data found at path: {file_path}\")\n",
    "        return {}\n",
    "\n",
    "def serialize_json(filename, data):\n",
    "    with open(filename, \"w\", encoding=\"utf8\") as f:\n",
    "        json.dump(data, f, ensure_ascii=False, indent=4)\n",
    "        print(f\"Data serialized to path: {filename}\")"
   ]
  },
  {
   "cell_type": "code",
   "execution_count": 4,
   "metadata": {
    "collapsed": false,
    "jupyter": {
     "outputs_hidden": false
    },
    "pycharm": {
     "name": "#%%\n"
    }
   },
   "outputs": [],
   "source": [
    "# Data correction: there was a bug in the given framework causing timestamps in data_try_{n}.json to be wrong\n",
    "\n",
    "# for workerDir in os.scandir('../Data/'):\n",
    "#     data_try = read_json(workerDir.path + \"/data_try_1.json\")\n",
    "#     for workerJson in os.scandir(workerDir.path):\n",
    "#         if workerJson.name.startswith('quest') or workerJson.name.startswith('doc'):\n",
    "#             sourceJson = read_json(workerJson.path)\n",
    "#             if workerJson.name.startswith('quest'):\n",
    "#                 data_try['timestamps_end'][0][0] = sourceJson['timestamps_end'][0]\n",
    "#                 data_try['timestamps_elapsed'][0][0] = sourceJson['timestamps_elapsed']\n",
    "#             else:\n",
    "#                 workerJson_split = workerJson.name.split('_')\n",
    "#                 docIndex = int(workerJson_split[1])\n",
    "#                 docTry = int(workerJson_split[5])\n",
    "#                 data_try['timestamps_end'][docIndex][docTry - 1] = sourceJson['timestamps_end'][docTry - 1]\n",
    "#                 data_try['timestamps_elapsed'][docIndex][docTry - 1] = sourceJson['timestamps_elapsed']\n",
    "#     serialize_json(workerDir.path + \"/data_try_1.json\", data_try)"
   ]
  },
  {
   "cell_type": "code",
   "execution_count": 5,
   "metadata": {
    "collapsed": false,
    "jupyter": {
     "outputs_hidden": false
    },
    "pycharm": {
     "name": "#%%\n"
    }
   },
   "outputs": [
    {
     "output_type": "stream",
     "name": "stdout",
     "text": [
      "Data read from path: ../Data/ZRXSP/task_data.json\nData read from path: ../Data/ZRXSP/data_try_1.json\nData read from path: ../Data/AGGBZ/task_data.json\nData read from path: ../Data/AGGBZ/data_try_1.json\nData read from path: ../Data/LZAEJ/task_data.json\nData read from path: ../Data/LZAEJ/data_try_1.json\nData read from path: ../Data/DUMDJ/task_data.json\nData read from path: ../Data/DUMDJ/data_try_1.json\nData read from path: ../Data/ZLAXX/task_data.json\nData read from path: ../Data/ZLAXX/data_try_1.json\nData read from path: ../Data/HQWLU/task_data.json\nData read from path: ../Data/HQWLU/data_try_1.json\nData read from path: ../Data/BOJHZ/task_data.json\nData read from path: ../Data/BOJHZ/data_try_1.json\nData read from path: ../Data/QMJTN/task_data.json\nData read from path: ../Data/QMJTN/data_try_1.json\nData read from path: ../Data/EUOBG/task_data.json\nData read from path: ../Data/EUOBG/data_try_1.json\nData read from path: ../Data/JHEEH/task_data.json\nData read from path: ../Data/JHEEH/data_try_1.json\nData read from path: ../Data/EVDDT/task_data.json\nData read from path: ../Data/EVDDT/data_try_1.json\nData read from path: ../Data/RYYES/task_data.json\nData read from path: ../Data/RYYES/data_try_1.json\nData read from path: ../Data/HEWCH/task_data.json\nData read from path: ../Data/HEWCH/data_try_1.json\nData read from path: ../Data/SEYYG/task_data.json\nData read from path: ../Data/SEYYG/data_try_1.json\nData read from path: ../Data/VXCGS/task_data.json\nData read from path: ../Data/VXCGS/data_try_1.json\nData read from path: ../Data/UPVVU/task_data.json\nData read from path: ../Data/UPVVU/data_try_1.json\nData read from path: ../Data/CFRLM/task_data.json\nData read from path: ../Data/CFRLM/data_try_1.json\nData read from path: ../Data/DJTWC/task_data.json\nData read from path: ../Data/DJTWC/data_try_1.json\nData read from path: ../Data/SARZI/task_data.json\nData read from path: ../Data/SARZI/data_try_1.json\nData read from path: ../Data/THRZI/task_data.json\nData read from path: ../Data/THRZI/data_try_1.json\nData read from path: ../Data/DVRAN/task_data.json\nData read from path: ../Data/DVRAN/data_try_1.json\nData read from path: ../Data/QOGPV/task_data.json\nData read from path: ../Data/QOGPV/data_try_1.json\nData read from path: ../Data/EOTDA/task_data.json\nData read from path: ../Data/EOTDA/data_try_1.json\nData read from path: ../Data/FLXYV/task_data.json\nData read from path: ../Data/FLXYV/data_try_1.json\nData read from path: ../Data/IMHHT/task_data.json\nData read from path: ../Data/IMHHT/data_try_1.json\nData read from path: ../Data/VTWTE/task_data.json\nData read from path: ../Data/VTWTE/data_try_1.json\nData read from path: ../Data/LJSZZ/task_data.json\nData read from path: ../Data/LJSZZ/data_try_1.json\nData read from path: ../Data/VKFXZ/task_data.json\nData read from path: ../Data/VKFXZ/data_try_1.json\nData read from path: ../Data/PPWSU/task_data.json\nData read from path: ../Data/PPWSU/data_try_1.json\nData read from path: ../Data/GLCUF/task_data.json\nData read from path: ../Data/GLCUF/data_try_1.json\nData read from path: ../Data/QCICO/task_data.json\nData read from path: ../Data/QCICO/data_try_1.json\nData read from path: ../Data/MLENI/task_data.json\nData read from path: ../Data/MLENI/data_try_1.json\nData read from path: ../Data/ITCXH/task_data.json\nData read from path: ../Data/ITCXH/data_try_1.json\nData read from path: ../Data/AZGIQ/task_data.json\nData read from path: ../Data/AZGIQ/data_try_1.json\nData read from path: ../Data/XCEGP/task_data.json\nData read from path: ../Data/XCEGP/data_try_1.json\nData read from path: ../Data/HBIRW/task_data.json\nData read from path: ../Data/HBIRW/data_try_1.json\nData read from path: ../Data/LZZBM/task_data.json\nData read from path: ../Data/LZZBM/data_try_1.json\nData read from path: ../Data/HIFZC/task_data.json\nData read from path: ../Data/HIFZC/data_try_1.json\nData read from path: ../Data/VNPSK/task_data.json\nData read from path: ../Data/VNPSK/data_try_1.json\nData read from path: ../Data/PHEHT/task_data.json\nData read from path: ../Data/PHEHT/data_try_1.json\nData read from path: ../Data/ATCOU/task_data.json\nData read from path: ../Data/ATCOU/data_try_1.json\nData read from path: ../Data/ACHTQ/task_data.json\nData read from path: ../Data/ACHTQ/data_try_1.json\nData read from path: ../Data/JQJWV/task_data.json\nData read from path: ../Data/JQJWV/data_try_1.json\nData read from path: ../Data/WXDMK/task_data.json\nData read from path: ../Data/WXDMK/data_try_1.json\nData read from path: ../Data/KAHOD/task_data.json\nData read from path: ../Data/KAHOD/data_try_1.json\nData read from path: ../Data/RQURW/task_data.json\nData read from path: ../Data/RQURW/data_try_1.json\nData read from path: ../Data/BGLMR/task_data.json\nData read from path: ../Data/BGLMR/data_try_1.json\nData read from path: ../Data/AVOZM/task_data.json\nData read from path: ../Data/AVOZM/data_try_1.json\nData read from path: ../Data/HDLGN/task_data.json\nData read from path: ../Data/HDLGN/data_try_1.json\nData read from path: ../Data/QLZQD/task_data.json\nData read from path: ../Data/QLZQD/data_try_1.json\nData read from path: ../Data/KDOFG/task_data.json\nData read from path: ../Data/KDOFG/data_try_1.json\nData read from path: ../Data/UXDAQ/task_data.json\nData read from path: ../Data/UXDAQ/data_try_1.json\nData read from path: ../Data/LPXEB/task_data.json\nData read from path: ../Data/LPXEB/data_try_1.json\n"
     ]
    },
    {
     "output_type": "execute_result",
     "data": {
      "text/plain": [
       "      Età        Lavoro Genere letterario preferito kindle    Importanza  \\\n",
       "0   36-45    Dipendente                   Biografia     No        Scarsa   \n",
       "1   46-55    Freelancer                  Formazione     No      Discreta   \n",
       "2   18-25      Studente                        Rosa     Si  Fondamentale   \n",
       "3   18-25      Studente                 Psicologico     Si  Fondamentale   \n",
       "4   18-25      Studente                      Giallo     Si      Discreta   \n",
       "5   18-25      Studente                      Giallo     Si      Discreta   \n",
       "6   18-25      Studente                   Biografia     No  Fondamentale   \n",
       "7   18-25      Studente                    Commedia     No  Fondamentale   \n",
       "8   18-25      Studente                      Sci-Fi     Si        Scarsa   \n",
       "9   18-25      Studente                   Avventura     No  Fondamentale   \n",
       "10  18-25      Studente                     Fantasy     No        Scarsa   \n",
       "11    56+    Pensionato                     Storico     No      Discreta   \n",
       "12  26-35    Dipendente             Azione/Thriller     No      Discreta   \n",
       "13  26-35    Freelancer                   Avventura     No      Discreta   \n",
       "14  18-25      Studente                  Formazione     No         Nulla   \n",
       "15  18-25      Studente                 Psicologico     No        Scarsa   \n",
       "16  18-25      Studente                     Fantasy     Si      Discreta   \n",
       "17  18-25      Studente                     Fantasy     Si      Discreta   \n",
       "18    56+    Pensionato                  Formazione     Si        Scarsa   \n",
       "19  18-25      Studente                  Formazione     Si  Fondamentale   \n",
       "20  46-55   Disoccupato                      Giallo     No        Scarsa   \n",
       "21  26-35    Dipendente                     Fantasy     No        Scarsa   \n",
       "22  18-25      Studente                      Giallo     Si      Discreta   \n",
       "23  46-55    Dipendente                      Giallo     No        Scarsa   \n",
       "24  18-25      Studente                     Fantasy     No  Fondamentale   \n",
       "25  18-25      Studente                   Avventura     No  Fondamentale   \n",
       "26  18-25      Studente                  Formazione     No        Scarsa   \n",
       "27  18-25      Studente                  Formazione     No        Scarsa   \n",
       "28  46-55  Imprenditore                 Psicologico     No        Scarsa   \n",
       "29  26-35   Disoccupato                  Formazione     Si      Discreta   \n",
       "30  18-25      Studente                 Psicologico     No        Scarsa   \n",
       "31  18-25      Studente                Storiografia     No        Scarsa   \n",
       "32    56+  Imprenditore                     Fantasy     No         Nulla   \n",
       "33  46-55  Imprenditore                        Rosa     No      Discreta   \n",
       "34  26-35    Dipendente                 Psicologico     No      Discreta   \n",
       "35  36-45    Dipendente                  Formazione     No      Discreta   \n",
       "36  18-25      Studente             Azione/Thriller     No        Scarsa   \n",
       "37  46-55    Dipendente                     Storico     Si        Scarsa   \n",
       "38  46-55    Pensionato                      Giallo     No        Scarsa   \n",
       "39  18-25    Dipendente                     Fantasy     Si        Scarsa   \n",
       "40  18-25      Studente                Storiografia     No      Discreta   \n",
       "41  26-35  Imprenditore                 Psicologico     No        Scarsa   \n",
       "42  18-25      Studente                     Fantasy     Si      Discreta   \n",
       "43  18-25      Studente                      Giallo     Si        Scarsa   \n",
       "44  18-25      Studente                      Giallo     No        Scarsa   \n",
       "45  18-25      Studente                     Fantasy     Si      Discreta   \n",
       "46  18-25      Studente                  Formazione     No  Fondamentale   \n",
       "47  18-25      Studente                     Fantasy     No        Scarsa   \n",
       "48    56+    Pensionato                     Storico     Si        Scarsa   \n",
       "49  18-25      Studente                   Biografia     No        Scarsa   \n",
       "50  18-25      Studente                  Formazione     Si      Discreta   \n",
       "51  46-55    Freelancer                  Formazione     Si      Discreta   \n",
       "52    56+    Dipendente                     Storico     No      Discreta   \n",
       "\n",
       "   Quanti libri   device  \n",
       "0           3-5      Mac  \n",
       "1           3-5  Windows  \n",
       "2             0   iPhone  \n",
       "3           11+  Android  \n",
       "4           1-2  Android  \n",
       "5          6-10  Windows  \n",
       "6          6-10  Windows  \n",
       "7          6-10   iPhone  \n",
       "8           1-2    Linux  \n",
       "9          6-10  Android  \n",
       "10          1-2  Android  \n",
       "11          3-5  Windows  \n",
       "12         6-10  Android  \n",
       "13          11+  Windows  \n",
       "14          1-2  Android  \n",
       "15          1-2   iPhone  \n",
       "16          1-2  Android  \n",
       "17            0  Windows  \n",
       "18          3-5  Android  \n",
       "19          1-2  Android  \n",
       "20          1-2  Android  \n",
       "21            0   iPhone  \n",
       "22          1-2      Mac  \n",
       "23          1-2  Android  \n",
       "24          1-2   iPhone  \n",
       "25          1-2  Windows  \n",
       "26          1-2  Android  \n",
       "27          3-5   iPhone  \n",
       "28          1-2  Android  \n",
       "29          11+  Android  \n",
       "30          1-2  Windows  \n",
       "31          1-2  Android  \n",
       "32            0  Android  \n",
       "33         6-10  Android  \n",
       "34          3-5  Android  \n",
       "35          3-5  Windows  \n",
       "36          3-5   iPhone  \n",
       "37          1-2  Android  \n",
       "38          3-5  Android  \n",
       "39          1-2   iPhone  \n",
       "40          3-5  Android  \n",
       "41         6-10  Android  \n",
       "42         6-10  Android  \n",
       "43          1-2  Android  \n",
       "44          11+  Android  \n",
       "45          11+  Android  \n",
       "46            0   iPhone  \n",
       "47          1-2      Mac  \n",
       "48          3-5   iPhone  \n",
       "49          1-2   iPhone  \n",
       "50         6-10   iPhone  \n",
       "51          3-5  Windows  \n",
       "52         6-10   iPhone  "
      ],
      "text/html": "<div>\n<style scoped>\n    .dataframe tbody tr th:only-of-type {\n        vertical-align: middle;\n    }\n\n    .dataframe tbody tr th {\n        vertical-align: top;\n    }\n\n    .dataframe thead th {\n        text-align: right;\n    }\n</style>\n<table border=\"1\" class=\"dataframe\">\n  <thead>\n    <tr style=\"text-align: right;\">\n      <th></th>\n      <th>Età</th>\n      <th>Lavoro</th>\n      <th>Genere letterario preferito</th>\n      <th>kindle</th>\n      <th>Importanza</th>\n      <th>Quanti libri</th>\n      <th>device</th>\n    </tr>\n  </thead>\n  <tbody>\n    <tr>\n      <th>0</th>\n      <td>36-45</td>\n      <td>Dipendente</td>\n      <td>Biografia</td>\n      <td>No</td>\n      <td>Scarsa</td>\n      <td>3-5</td>\n      <td>Mac</td>\n    </tr>\n    <tr>\n      <th>1</th>\n      <td>46-55</td>\n      <td>Freelancer</td>\n      <td>Formazione</td>\n      <td>No</td>\n      <td>Discreta</td>\n      <td>3-5</td>\n      <td>Windows</td>\n    </tr>\n    <tr>\n      <th>2</th>\n      <td>18-25</td>\n      <td>Studente</td>\n      <td>Rosa</td>\n      <td>Si</td>\n      <td>Fondamentale</td>\n      <td>0</td>\n      <td>iPhone</td>\n    </tr>\n    <tr>\n      <th>3</th>\n      <td>18-25</td>\n      <td>Studente</td>\n      <td>Psicologico</td>\n      <td>Si</td>\n      <td>Fondamentale</td>\n      <td>11+</td>\n      <td>Android</td>\n    </tr>\n    <tr>\n      <th>4</th>\n      <td>18-25</td>\n      <td>Studente</td>\n      <td>Giallo</td>\n      <td>Si</td>\n      <td>Discreta</td>\n      <td>1-2</td>\n      <td>Android</td>\n    </tr>\n    <tr>\n      <th>5</th>\n      <td>18-25</td>\n      <td>Studente</td>\n      <td>Giallo</td>\n      <td>Si</td>\n      <td>Discreta</td>\n      <td>6-10</td>\n      <td>Windows</td>\n    </tr>\n    <tr>\n      <th>6</th>\n      <td>18-25</td>\n      <td>Studente</td>\n      <td>Biografia</td>\n      <td>No</td>\n      <td>Fondamentale</td>\n      <td>6-10</td>\n      <td>Windows</td>\n    </tr>\n    <tr>\n      <th>7</th>\n      <td>18-25</td>\n      <td>Studente</td>\n      <td>Commedia</td>\n      <td>No</td>\n      <td>Fondamentale</td>\n      <td>6-10</td>\n      <td>iPhone</td>\n    </tr>\n    <tr>\n      <th>8</th>\n      <td>18-25</td>\n      <td>Studente</td>\n      <td>Sci-Fi</td>\n      <td>Si</td>\n      <td>Scarsa</td>\n      <td>1-2</td>\n      <td>Linux</td>\n    </tr>\n    <tr>\n      <th>9</th>\n      <td>18-25</td>\n      <td>Studente</td>\n      <td>Avventura</td>\n      <td>No</td>\n      <td>Fondamentale</td>\n      <td>6-10</td>\n      <td>Android</td>\n    </tr>\n    <tr>\n      <th>10</th>\n      <td>18-25</td>\n      <td>Studente</td>\n      <td>Fantasy</td>\n      <td>No</td>\n      <td>Scarsa</td>\n      <td>1-2</td>\n      <td>Android</td>\n    </tr>\n    <tr>\n      <th>11</th>\n      <td>56+</td>\n      <td>Pensionato</td>\n      <td>Storico</td>\n      <td>No</td>\n      <td>Discreta</td>\n      <td>3-5</td>\n      <td>Windows</td>\n    </tr>\n    <tr>\n      <th>12</th>\n      <td>26-35</td>\n      <td>Dipendente</td>\n      <td>Azione/Thriller</td>\n      <td>No</td>\n      <td>Discreta</td>\n      <td>6-10</td>\n      <td>Android</td>\n    </tr>\n    <tr>\n      <th>13</th>\n      <td>26-35</td>\n      <td>Freelancer</td>\n      <td>Avventura</td>\n      <td>No</td>\n      <td>Discreta</td>\n      <td>11+</td>\n      <td>Windows</td>\n    </tr>\n    <tr>\n      <th>14</th>\n      <td>18-25</td>\n      <td>Studente</td>\n      <td>Formazione</td>\n      <td>No</td>\n      <td>Nulla</td>\n      <td>1-2</td>\n      <td>Android</td>\n    </tr>\n    <tr>\n      <th>15</th>\n      <td>18-25</td>\n      <td>Studente</td>\n      <td>Psicologico</td>\n      <td>No</td>\n      <td>Scarsa</td>\n      <td>1-2</td>\n      <td>iPhone</td>\n    </tr>\n    <tr>\n      <th>16</th>\n      <td>18-25</td>\n      <td>Studente</td>\n      <td>Fantasy</td>\n      <td>Si</td>\n      <td>Discreta</td>\n      <td>1-2</td>\n      <td>Android</td>\n    </tr>\n    <tr>\n      <th>17</th>\n      <td>18-25</td>\n      <td>Studente</td>\n      <td>Fantasy</td>\n      <td>Si</td>\n      <td>Discreta</td>\n      <td>0</td>\n      <td>Windows</td>\n    </tr>\n    <tr>\n      <th>18</th>\n      <td>56+</td>\n      <td>Pensionato</td>\n      <td>Formazione</td>\n      <td>Si</td>\n      <td>Scarsa</td>\n      <td>3-5</td>\n      <td>Android</td>\n    </tr>\n    <tr>\n      <th>19</th>\n      <td>18-25</td>\n      <td>Studente</td>\n      <td>Formazione</td>\n      <td>Si</td>\n      <td>Fondamentale</td>\n      <td>1-2</td>\n      <td>Android</td>\n    </tr>\n    <tr>\n      <th>20</th>\n      <td>46-55</td>\n      <td>Disoccupato</td>\n      <td>Giallo</td>\n      <td>No</td>\n      <td>Scarsa</td>\n      <td>1-2</td>\n      <td>Android</td>\n    </tr>\n    <tr>\n      <th>21</th>\n      <td>26-35</td>\n      <td>Dipendente</td>\n      <td>Fantasy</td>\n      <td>No</td>\n      <td>Scarsa</td>\n      <td>0</td>\n      <td>iPhone</td>\n    </tr>\n    <tr>\n      <th>22</th>\n      <td>18-25</td>\n      <td>Studente</td>\n      <td>Giallo</td>\n      <td>Si</td>\n      <td>Discreta</td>\n      <td>1-2</td>\n      <td>Mac</td>\n    </tr>\n    <tr>\n      <th>23</th>\n      <td>46-55</td>\n      <td>Dipendente</td>\n      <td>Giallo</td>\n      <td>No</td>\n      <td>Scarsa</td>\n      <td>1-2</td>\n      <td>Android</td>\n    </tr>\n    <tr>\n      <th>24</th>\n      <td>18-25</td>\n      <td>Studente</td>\n      <td>Fantasy</td>\n      <td>No</td>\n      <td>Fondamentale</td>\n      <td>1-2</td>\n      <td>iPhone</td>\n    </tr>\n    <tr>\n      <th>25</th>\n      <td>18-25</td>\n      <td>Studente</td>\n      <td>Avventura</td>\n      <td>No</td>\n      <td>Fondamentale</td>\n      <td>1-2</td>\n      <td>Windows</td>\n    </tr>\n    <tr>\n      <th>26</th>\n      <td>18-25</td>\n      <td>Studente</td>\n      <td>Formazione</td>\n      <td>No</td>\n      <td>Scarsa</td>\n      <td>1-2</td>\n      <td>Android</td>\n    </tr>\n    <tr>\n      <th>27</th>\n      <td>18-25</td>\n      <td>Studente</td>\n      <td>Formazione</td>\n      <td>No</td>\n      <td>Scarsa</td>\n      <td>3-5</td>\n      <td>iPhone</td>\n    </tr>\n    <tr>\n      <th>28</th>\n      <td>46-55</td>\n      <td>Imprenditore</td>\n      <td>Psicologico</td>\n      <td>No</td>\n      <td>Scarsa</td>\n      <td>1-2</td>\n      <td>Android</td>\n    </tr>\n    <tr>\n      <th>29</th>\n      <td>26-35</td>\n      <td>Disoccupato</td>\n      <td>Formazione</td>\n      <td>Si</td>\n      <td>Discreta</td>\n      <td>11+</td>\n      <td>Android</td>\n    </tr>\n    <tr>\n      <th>30</th>\n      <td>18-25</td>\n      <td>Studente</td>\n      <td>Psicologico</td>\n      <td>No</td>\n      <td>Scarsa</td>\n      <td>1-2</td>\n      <td>Windows</td>\n    </tr>\n    <tr>\n      <th>31</th>\n      <td>18-25</td>\n      <td>Studente</td>\n      <td>Storiografia</td>\n      <td>No</td>\n      <td>Scarsa</td>\n      <td>1-2</td>\n      <td>Android</td>\n    </tr>\n    <tr>\n      <th>32</th>\n      <td>56+</td>\n      <td>Imprenditore</td>\n      <td>Fantasy</td>\n      <td>No</td>\n      <td>Nulla</td>\n      <td>0</td>\n      <td>Android</td>\n    </tr>\n    <tr>\n      <th>33</th>\n      <td>46-55</td>\n      <td>Imprenditore</td>\n      <td>Rosa</td>\n      <td>No</td>\n      <td>Discreta</td>\n      <td>6-10</td>\n      <td>Android</td>\n    </tr>\n    <tr>\n      <th>34</th>\n      <td>26-35</td>\n      <td>Dipendente</td>\n      <td>Psicologico</td>\n      <td>No</td>\n      <td>Discreta</td>\n      <td>3-5</td>\n      <td>Android</td>\n    </tr>\n    <tr>\n      <th>35</th>\n      <td>36-45</td>\n      <td>Dipendente</td>\n      <td>Formazione</td>\n      <td>No</td>\n      <td>Discreta</td>\n      <td>3-5</td>\n      <td>Windows</td>\n    </tr>\n    <tr>\n      <th>36</th>\n      <td>18-25</td>\n      <td>Studente</td>\n      <td>Azione/Thriller</td>\n      <td>No</td>\n      <td>Scarsa</td>\n      <td>3-5</td>\n      <td>iPhone</td>\n    </tr>\n    <tr>\n      <th>37</th>\n      <td>46-55</td>\n      <td>Dipendente</td>\n      <td>Storico</td>\n      <td>Si</td>\n      <td>Scarsa</td>\n      <td>1-2</td>\n      <td>Android</td>\n    </tr>\n    <tr>\n      <th>38</th>\n      <td>46-55</td>\n      <td>Pensionato</td>\n      <td>Giallo</td>\n      <td>No</td>\n      <td>Scarsa</td>\n      <td>3-5</td>\n      <td>Android</td>\n    </tr>\n    <tr>\n      <th>39</th>\n      <td>18-25</td>\n      <td>Dipendente</td>\n      <td>Fantasy</td>\n      <td>Si</td>\n      <td>Scarsa</td>\n      <td>1-2</td>\n      <td>iPhone</td>\n    </tr>\n    <tr>\n      <th>40</th>\n      <td>18-25</td>\n      <td>Studente</td>\n      <td>Storiografia</td>\n      <td>No</td>\n      <td>Discreta</td>\n      <td>3-5</td>\n      <td>Android</td>\n    </tr>\n    <tr>\n      <th>41</th>\n      <td>26-35</td>\n      <td>Imprenditore</td>\n      <td>Psicologico</td>\n      <td>No</td>\n      <td>Scarsa</td>\n      <td>6-10</td>\n      <td>Android</td>\n    </tr>\n    <tr>\n      <th>42</th>\n      <td>18-25</td>\n      <td>Studente</td>\n      <td>Fantasy</td>\n      <td>Si</td>\n      <td>Discreta</td>\n      <td>6-10</td>\n      <td>Android</td>\n    </tr>\n    <tr>\n      <th>43</th>\n      <td>18-25</td>\n      <td>Studente</td>\n      <td>Giallo</td>\n      <td>Si</td>\n      <td>Scarsa</td>\n      <td>1-2</td>\n      <td>Android</td>\n    </tr>\n    <tr>\n      <th>44</th>\n      <td>18-25</td>\n      <td>Studente</td>\n      <td>Giallo</td>\n      <td>No</td>\n      <td>Scarsa</td>\n      <td>11+</td>\n      <td>Android</td>\n    </tr>\n    <tr>\n      <th>45</th>\n      <td>18-25</td>\n      <td>Studente</td>\n      <td>Fantasy</td>\n      <td>Si</td>\n      <td>Discreta</td>\n      <td>11+</td>\n      <td>Android</td>\n    </tr>\n    <tr>\n      <th>46</th>\n      <td>18-25</td>\n      <td>Studente</td>\n      <td>Formazione</td>\n      <td>No</td>\n      <td>Fondamentale</td>\n      <td>0</td>\n      <td>iPhone</td>\n    </tr>\n    <tr>\n      <th>47</th>\n      <td>18-25</td>\n      <td>Studente</td>\n      <td>Fantasy</td>\n      <td>No</td>\n      <td>Scarsa</td>\n      <td>1-2</td>\n      <td>Mac</td>\n    </tr>\n    <tr>\n      <th>48</th>\n      <td>56+</td>\n      <td>Pensionato</td>\n      <td>Storico</td>\n      <td>Si</td>\n      <td>Scarsa</td>\n      <td>3-5</td>\n      <td>iPhone</td>\n    </tr>\n    <tr>\n      <th>49</th>\n      <td>18-25</td>\n      <td>Studente</td>\n      <td>Biografia</td>\n      <td>No</td>\n      <td>Scarsa</td>\n      <td>1-2</td>\n      <td>iPhone</td>\n    </tr>\n    <tr>\n      <th>50</th>\n      <td>18-25</td>\n      <td>Studente</td>\n      <td>Formazione</td>\n      <td>Si</td>\n      <td>Discreta</td>\n      <td>6-10</td>\n      <td>iPhone</td>\n    </tr>\n    <tr>\n      <th>51</th>\n      <td>46-55</td>\n      <td>Freelancer</td>\n      <td>Formazione</td>\n      <td>Si</td>\n      <td>Discreta</td>\n      <td>3-5</td>\n      <td>Windows</td>\n    </tr>\n    <tr>\n      <th>52</th>\n      <td>56+</td>\n      <td>Dipendente</td>\n      <td>Storico</td>\n      <td>No</td>\n      <td>Discreta</td>\n      <td>6-10</td>\n      <td>iPhone</td>\n    </tr>\n  </tbody>\n</table>\n</div>"
     },
     "metadata": {},
     "execution_count": 5
    }
   ],
   "source": [
    "# Worker analysis\n",
    "workerInfoList = []\n",
    "for workerDir in os.scandir('../Data/'):\n",
    "    task_data = read_json(workerDir.path + \"/task_data.json\")\n",
    "    data_try = read_json(workerDir.path + \"/data_try_1.json\")\n",
    "    questionnaire = task_data['questionnaires'][0]['questions']\n",
    "    reformatQuest = {}\n",
    "    for question in questionnaire:\n",
    "        reformatQuest[question['name']] = question['answers']\n",
    "    device = task_data[\"worker\"]['ngxDeviceDetectorProperties'][\"device\"]\n",
    "    if device == 'Unknown':\n",
    "        device = task_data[\"worker\"]['ngxDeviceDetectorProperties'][\"os\"]\n",
    "    workerInfo = {}\n",
    "    for key, value in data_try['questionnaires_answers'][0].items():\n",
    "        workerInfo[key] = reformatQuest[key][int(value)]\n",
    "    workerInfo['device'] = device\n",
    "    workerInfoList.append(workerInfo)\n",
    "\n",
    "df = pd.DataFrame.from_dict(workerInfoList)\n",
    "df"
   ]
  },
  {
   "cell_type": "code",
   "execution_count": 6,
   "metadata": {
    "collapsed": false,
    "jupyter": {
     "outputs_hidden": false
    },
    "pycharm": {
     "name": "#%%\n"
    }
   },
   "outputs": [
    {
     "output_type": "display_data",
     "data": {
      "application/vnd.plotly.v1+json": {
       "config": {
        "plotlyServerURL": "https://plot.ly"
       },
       "data": [
        {
         "branchvalues": "total",
         "domain": {
          "x": [
           0,
           1
          ],
          "y": [
           0,
           1
          ]
         },
         "hovertemplate": "labels=%{label}<br>count=%{value}<br>parent=%{parent}<br>id=%{id}<extra></extra>",
         "ids": [
          "46-55/Dipendente/Android/Ha un<br>eReader",
          "26-35/Disoccupato/Android/Ha un<br>eReader",
          "56+/Pensionato/Android/Ha un<br>eReader",
          "18-25/Studente/Android/Ha un<br>eReader",
          "18-25/Studente/Linux/Ha un<br>eReader",
          "18-25/Studente/Mac/Ha un<br>eReader",
          "46-55/Freelancer/Windows/Ha un<br>eReader",
          "18-25/Studente/Windows/Ha un<br>eReader",
          "18-25/Dipendente/iPhone/Ha un<br>eReader",
          "56+/Pensionato/iPhone/Ha un<br>eReader",
          "18-25/Studente/iPhone/Ha un<br>eReader",
          "26-35/Dipendente/Android/Non ha un<br>eReader",
          "46-55/Dipendente/Android/Non ha un<br>eReader",
          "46-55/Disoccupato/Android/Non ha un<br>eReader",
          "26-35/Imprenditore/Android/Non ha un<br>eReader",
          "46-55/Imprenditore/Android/Non ha un<br>eReader",
          "56+/Imprenditore/Android/Non ha un<br>eReader",
          "46-55/Pensionato/Android/Non ha un<br>eReader",
          "18-25/Studente/Android/Non ha un<br>eReader",
          "36-45/Dipendente/Mac/Non ha un<br>eReader",
          "18-25/Studente/Mac/Non ha un<br>eReader",
          "36-45/Dipendente/Windows/Non ha un<br>eReader",
          "26-35/Freelancer/Windows/Non ha un<br>eReader",
          "46-55/Freelancer/Windows/Non ha un<br>eReader",
          "56+/Pensionato/Windows/Non ha un<br>eReader",
          "18-25/Studente/Windows/Non ha un<br>eReader",
          "26-35/Dipendente/iPhone/Non ha un<br>eReader",
          "56+/Dipendente/iPhone/Non ha un<br>eReader",
          "18-25/Studente/iPhone/Non ha un<br>eReader",
          "26-35/Dipendente/Android",
          "46-55/Dipendente/Android",
          "26-35/Disoccupato/Android",
          "46-55/Disoccupato/Android",
          "26-35/Imprenditore/Android",
          "46-55/Imprenditore/Android",
          "56+/Imprenditore/Android",
          "46-55/Pensionato/Android",
          "56+/Pensionato/Android",
          "18-25/Studente/Android",
          "18-25/Studente/Linux",
          "36-45/Dipendente/Mac",
          "18-25/Studente/Mac",
          "36-45/Dipendente/Windows",
          "26-35/Freelancer/Windows",
          "46-55/Freelancer/Windows",
          "56+/Pensionato/Windows",
          "18-25/Studente/Windows",
          "18-25/Dipendente/iPhone",
          "26-35/Dipendente/iPhone",
          "56+/Dipendente/iPhone",
          "56+/Pensionato/iPhone",
          "18-25/Studente/iPhone",
          "18-25/Dipendente",
          "26-35/Dipendente",
          "36-45/Dipendente",
          "46-55/Dipendente",
          "56+/Dipendente",
          "26-35/Disoccupato",
          "46-55/Disoccupato",
          "26-35/Freelancer",
          "46-55/Freelancer",
          "26-35/Imprenditore",
          "46-55/Imprenditore",
          "56+/Imprenditore",
          "46-55/Pensionato",
          "56+/Pensionato",
          "18-25/Studente",
          "18-25",
          "26-35",
          "36-45",
          "46-55",
          "56+"
         ],
         "labels": [
          "Ha un<br>eReader",
          "Ha un<br>eReader",
          "Ha un<br>eReader",
          "Ha un<br>eReader",
          "Ha un<br>eReader",
          "Ha un<br>eReader",
          "Ha un<br>eReader",
          "Ha un<br>eReader",
          "Ha un<br>eReader",
          "Ha un<br>eReader",
          "Ha un<br>eReader",
          "Non ha un<br>eReader",
          "Non ha un<br>eReader",
          "Non ha un<br>eReader",
          "Non ha un<br>eReader",
          "Non ha un<br>eReader",
          "Non ha un<br>eReader",
          "Non ha un<br>eReader",
          "Non ha un<br>eReader",
          "Non ha un<br>eReader",
          "Non ha un<br>eReader",
          "Non ha un<br>eReader",
          "Non ha un<br>eReader",
          "Non ha un<br>eReader",
          "Non ha un<br>eReader",
          "Non ha un<br>eReader",
          "Non ha un<br>eReader",
          "Non ha un<br>eReader",
          "Non ha un<br>eReader",
          "Android",
          "Android",
          "Android",
          "Android",
          "Android",
          "Android",
          "Android",
          "Android",
          "Android",
          "Android",
          "Linux",
          "Mac",
          "Mac",
          "Windows",
          "Windows",
          "Windows",
          "Windows",
          "Windows",
          "iPhone",
          "iPhone",
          "iPhone",
          "iPhone",
          "iPhone",
          "Dipendente",
          "Dipendente",
          "Dipendente",
          "Dipendente",
          "Dipendente",
          "Disoccupato",
          "Disoccupato",
          "Freelancer",
          "Freelancer",
          "Imprenditore",
          "Imprenditore",
          "Imprenditore",
          "Pensionato",
          "Pensionato",
          "Studente",
          "18-25",
          "26-35",
          "36-45",
          "46-55",
          "56+"
         ],
         "name": "",
         "parents": [
          "46-55/Dipendente/Android",
          "26-35/Disoccupato/Android",
          "56+/Pensionato/Android",
          "18-25/Studente/Android",
          "18-25/Studente/Linux",
          "18-25/Studente/Mac",
          "46-55/Freelancer/Windows",
          "18-25/Studente/Windows",
          "18-25/Dipendente/iPhone",
          "56+/Pensionato/iPhone",
          "18-25/Studente/iPhone",
          "26-35/Dipendente/Android",
          "46-55/Dipendente/Android",
          "46-55/Disoccupato/Android",
          "26-35/Imprenditore/Android",
          "46-55/Imprenditore/Android",
          "56+/Imprenditore/Android",
          "46-55/Pensionato/Android",
          "18-25/Studente/Android",
          "36-45/Dipendente/Mac",
          "18-25/Studente/Mac",
          "36-45/Dipendente/Windows",
          "26-35/Freelancer/Windows",
          "46-55/Freelancer/Windows",
          "56+/Pensionato/Windows",
          "18-25/Studente/Windows",
          "26-35/Dipendente/iPhone",
          "56+/Dipendente/iPhone",
          "18-25/Studente/iPhone",
          "26-35/Dipendente",
          "46-55/Dipendente",
          "26-35/Disoccupato",
          "46-55/Disoccupato",
          "26-35/Imprenditore",
          "46-55/Imprenditore",
          "56+/Imprenditore",
          "46-55/Pensionato",
          "56+/Pensionato",
          "18-25/Studente",
          "18-25/Studente",
          "36-45/Dipendente",
          "18-25/Studente",
          "36-45/Dipendente",
          "26-35/Freelancer",
          "46-55/Freelancer",
          "56+/Pensionato",
          "18-25/Studente",
          "18-25/Dipendente",
          "26-35/Dipendente",
          "56+/Dipendente",
          "56+/Pensionato",
          "18-25/Studente",
          "18-25",
          "26-35",
          "36-45",
          "46-55",
          "56+",
          "26-35",
          "46-55",
          "26-35",
          "46-55",
          "26-35",
          "46-55",
          "56+",
          "46-55",
          "56+",
          "18-25",
          "",
          "",
          "",
          "",
          ""
         ],
         "type": "sunburst",
         "values": [
          1,
          1,
          1,
          7,
          1,
          1,
          1,
          2,
          1,
          1,
          2,
          2,
          1,
          1,
          1,
          2,
          1,
          1,
          7,
          1,
          1,
          1,
          1,
          1,
          1,
          3,
          1,
          1,
          7,
          2,
          2,
          1,
          1,
          1,
          2,
          1,
          1,
          1,
          14,
          1,
          1,
          2,
          1,
          1,
          2,
          1,
          5,
          1,
          1,
          1,
          1,
          9,
          1,
          3,
          2,
          2,
          1,
          1,
          1,
          1,
          2,
          1,
          2,
          1,
          1,
          3,
          31,
          32,
          6,
          2,
          8,
          5
         ]
        }
       ],
       "layout": {
        "legend": {
         "tracegroupgap": 0
        },
        "margin": {
         "t": 60
        },
        "template": {
         "data": {
          "bar": [
           {
            "error_x": {
             "color": "#2a3f5f"
            },
            "error_y": {
             "color": "#2a3f5f"
            },
            "marker": {
             "line": {
              "color": "#E5ECF6",
              "width": 0.5
             }
            },
            "type": "bar"
           }
          ],
          "barpolar": [
           {
            "marker": {
             "line": {
              "color": "#E5ECF6",
              "width": 0.5
             }
            },
            "type": "barpolar"
           }
          ],
          "carpet": [
           {
            "aaxis": {
             "endlinecolor": "#2a3f5f",
             "gridcolor": "white",
             "linecolor": "white",
             "minorgridcolor": "white",
             "startlinecolor": "#2a3f5f"
            },
            "baxis": {
             "endlinecolor": "#2a3f5f",
             "gridcolor": "white",
             "linecolor": "white",
             "minorgridcolor": "white",
             "startlinecolor": "#2a3f5f"
            },
            "type": "carpet"
           }
          ],
          "choropleth": [
           {
            "colorbar": {
             "outlinewidth": 0,
             "ticks": ""
            },
            "type": "choropleth"
           }
          ],
          "contour": [
           {
            "colorbar": {
             "outlinewidth": 0,
             "ticks": ""
            },
            "colorscale": [
             [
              0,
              "#0d0887"
             ],
             [
              0.1111111111111111,
              "#46039f"
             ],
             [
              0.2222222222222222,
              "#7201a8"
             ],
             [
              0.3333333333333333,
              "#9c179e"
             ],
             [
              0.4444444444444444,
              "#bd3786"
             ],
             [
              0.5555555555555556,
              "#d8576b"
             ],
             [
              0.6666666666666666,
              "#ed7953"
             ],
             [
              0.7777777777777778,
              "#fb9f3a"
             ],
             [
              0.8888888888888888,
              "#fdca26"
             ],
             [
              1,
              "#f0f921"
             ]
            ],
            "type": "contour"
           }
          ],
          "contourcarpet": [
           {
            "colorbar": {
             "outlinewidth": 0,
             "ticks": ""
            },
            "type": "contourcarpet"
           }
          ],
          "heatmap": [
           {
            "colorbar": {
             "outlinewidth": 0,
             "ticks": ""
            },
            "colorscale": [
             [
              0,
              "#0d0887"
             ],
             [
              0.1111111111111111,
              "#46039f"
             ],
             [
              0.2222222222222222,
              "#7201a8"
             ],
             [
              0.3333333333333333,
              "#9c179e"
             ],
             [
              0.4444444444444444,
              "#bd3786"
             ],
             [
              0.5555555555555556,
              "#d8576b"
             ],
             [
              0.6666666666666666,
              "#ed7953"
             ],
             [
              0.7777777777777778,
              "#fb9f3a"
             ],
             [
              0.8888888888888888,
              "#fdca26"
             ],
             [
              1,
              "#f0f921"
             ]
            ],
            "type": "heatmap"
           }
          ],
          "heatmapgl": [
           {
            "colorbar": {
             "outlinewidth": 0,
             "ticks": ""
            },
            "colorscale": [
             [
              0,
              "#0d0887"
             ],
             [
              0.1111111111111111,
              "#46039f"
             ],
             [
              0.2222222222222222,
              "#7201a8"
             ],
             [
              0.3333333333333333,
              "#9c179e"
             ],
             [
              0.4444444444444444,
              "#bd3786"
             ],
             [
              0.5555555555555556,
              "#d8576b"
             ],
             [
              0.6666666666666666,
              "#ed7953"
             ],
             [
              0.7777777777777778,
              "#fb9f3a"
             ],
             [
              0.8888888888888888,
              "#fdca26"
             ],
             [
              1,
              "#f0f921"
             ]
            ],
            "type": "heatmapgl"
           }
          ],
          "histogram": [
           {
            "marker": {
             "colorbar": {
              "outlinewidth": 0,
              "ticks": ""
             }
            },
            "type": "histogram"
           }
          ],
          "histogram2d": [
           {
            "colorbar": {
             "outlinewidth": 0,
             "ticks": ""
            },
            "colorscale": [
             [
              0,
              "#0d0887"
             ],
             [
              0.1111111111111111,
              "#46039f"
             ],
             [
              0.2222222222222222,
              "#7201a8"
             ],
             [
              0.3333333333333333,
              "#9c179e"
             ],
             [
              0.4444444444444444,
              "#bd3786"
             ],
             [
              0.5555555555555556,
              "#d8576b"
             ],
             [
              0.6666666666666666,
              "#ed7953"
             ],
             [
              0.7777777777777778,
              "#fb9f3a"
             ],
             [
              0.8888888888888888,
              "#fdca26"
             ],
             [
              1,
              "#f0f921"
             ]
            ],
            "type": "histogram2d"
           }
          ],
          "histogram2dcontour": [
           {
            "colorbar": {
             "outlinewidth": 0,
             "ticks": ""
            },
            "colorscale": [
             [
              0,
              "#0d0887"
             ],
             [
              0.1111111111111111,
              "#46039f"
             ],
             [
              0.2222222222222222,
              "#7201a8"
             ],
             [
              0.3333333333333333,
              "#9c179e"
             ],
             [
              0.4444444444444444,
              "#bd3786"
             ],
             [
              0.5555555555555556,
              "#d8576b"
             ],
             [
              0.6666666666666666,
              "#ed7953"
             ],
             [
              0.7777777777777778,
              "#fb9f3a"
             ],
             [
              0.8888888888888888,
              "#fdca26"
             ],
             [
              1,
              "#f0f921"
             ]
            ],
            "type": "histogram2dcontour"
           }
          ],
          "mesh3d": [
           {
            "colorbar": {
             "outlinewidth": 0,
             "ticks": ""
            },
            "type": "mesh3d"
           }
          ],
          "parcoords": [
           {
            "line": {
             "colorbar": {
              "outlinewidth": 0,
              "ticks": ""
             }
            },
            "type": "parcoords"
           }
          ],
          "pie": [
           {
            "automargin": true,
            "type": "pie"
           }
          ],
          "scatter": [
           {
            "marker": {
             "colorbar": {
              "outlinewidth": 0,
              "ticks": ""
             }
            },
            "type": "scatter"
           }
          ],
          "scatter3d": [
           {
            "line": {
             "colorbar": {
              "outlinewidth": 0,
              "ticks": ""
             }
            },
            "marker": {
             "colorbar": {
              "outlinewidth": 0,
              "ticks": ""
             }
            },
            "type": "scatter3d"
           }
          ],
          "scattercarpet": [
           {
            "marker": {
             "colorbar": {
              "outlinewidth": 0,
              "ticks": ""
             }
            },
            "type": "scattercarpet"
           }
          ],
          "scattergeo": [
           {
            "marker": {
             "colorbar": {
              "outlinewidth": 0,
              "ticks": ""
             }
            },
            "type": "scattergeo"
           }
          ],
          "scattergl": [
           {
            "marker": {
             "colorbar": {
              "outlinewidth": 0,
              "ticks": ""
             }
            },
            "type": "scattergl"
           }
          ],
          "scattermapbox": [
           {
            "marker": {
             "colorbar": {
              "outlinewidth": 0,
              "ticks": ""
             }
            },
            "type": "scattermapbox"
           }
          ],
          "scatterpolar": [
           {
            "marker": {
             "colorbar": {
              "outlinewidth": 0,
              "ticks": ""
             }
            },
            "type": "scatterpolar"
           }
          ],
          "scatterpolargl": [
           {
            "marker": {
             "colorbar": {
              "outlinewidth": 0,
              "ticks": ""
             }
            },
            "type": "scatterpolargl"
           }
          ],
          "scatterternary": [
           {
            "marker": {
             "colorbar": {
              "outlinewidth": 0,
              "ticks": ""
             }
            },
            "type": "scatterternary"
           }
          ],
          "surface": [
           {
            "colorbar": {
             "outlinewidth": 0,
             "ticks": ""
            },
            "colorscale": [
             [
              0,
              "#0d0887"
             ],
             [
              0.1111111111111111,
              "#46039f"
             ],
             [
              0.2222222222222222,
              "#7201a8"
             ],
             [
              0.3333333333333333,
              "#9c179e"
             ],
             [
              0.4444444444444444,
              "#bd3786"
             ],
             [
              0.5555555555555556,
              "#d8576b"
             ],
             [
              0.6666666666666666,
              "#ed7953"
             ],
             [
              0.7777777777777778,
              "#fb9f3a"
             ],
             [
              0.8888888888888888,
              "#fdca26"
             ],
             [
              1,
              "#f0f921"
             ]
            ],
            "type": "surface"
           }
          ],
          "table": [
           {
            "cells": {
             "fill": {
              "color": "#EBF0F8"
             },
             "line": {
              "color": "white"
             }
            },
            "header": {
             "fill": {
              "color": "#C8D4E3"
             },
             "line": {
              "color": "white"
             }
            },
            "type": "table"
           }
          ]
         },
         "layout": {
          "annotationdefaults": {
           "arrowcolor": "#2a3f5f",
           "arrowhead": 0,
           "arrowwidth": 1
          },
          "autotypenumbers": "strict",
          "coloraxis": {
           "colorbar": {
            "outlinewidth": 0,
            "ticks": ""
           }
          },
          "colorscale": {
           "diverging": [
            [
             0,
             "#8e0152"
            ],
            [
             0.1,
             "#c51b7d"
            ],
            [
             0.2,
             "#de77ae"
            ],
            [
             0.3,
             "#f1b6da"
            ],
            [
             0.4,
             "#fde0ef"
            ],
            [
             0.5,
             "#f7f7f7"
            ],
            [
             0.6,
             "#e6f5d0"
            ],
            [
             0.7,
             "#b8e186"
            ],
            [
             0.8,
             "#7fbc41"
            ],
            [
             0.9,
             "#4d9221"
            ],
            [
             1,
             "#276419"
            ]
           ],
           "sequential": [
            [
             0,
             "#0d0887"
            ],
            [
             0.1111111111111111,
             "#46039f"
            ],
            [
             0.2222222222222222,
             "#7201a8"
            ],
            [
             0.3333333333333333,
             "#9c179e"
            ],
            [
             0.4444444444444444,
             "#bd3786"
            ],
            [
             0.5555555555555556,
             "#d8576b"
            ],
            [
             0.6666666666666666,
             "#ed7953"
            ],
            [
             0.7777777777777778,
             "#fb9f3a"
            ],
            [
             0.8888888888888888,
             "#fdca26"
            ],
            [
             1,
             "#f0f921"
            ]
           ],
           "sequentialminus": [
            [
             0,
             "#0d0887"
            ],
            [
             0.1111111111111111,
             "#46039f"
            ],
            [
             0.2222222222222222,
             "#7201a8"
            ],
            [
             0.3333333333333333,
             "#9c179e"
            ],
            [
             0.4444444444444444,
             "#bd3786"
            ],
            [
             0.5555555555555556,
             "#d8576b"
            ],
            [
             0.6666666666666666,
             "#ed7953"
            ],
            [
             0.7777777777777778,
             "#fb9f3a"
            ],
            [
             0.8888888888888888,
             "#fdca26"
            ],
            [
             1,
             "#f0f921"
            ]
           ]
          },
          "colorway": [
           "#636efa",
           "#EF553B",
           "#00cc96",
           "#ab63fa",
           "#FFA15A",
           "#19d3f3",
           "#FF6692",
           "#B6E880",
           "#FF97FF",
           "#FECB52"
          ],
          "font": {
           "color": "#2a3f5f"
          },
          "geo": {
           "bgcolor": "white",
           "lakecolor": "white",
           "landcolor": "#E5ECF6",
           "showlakes": true,
           "showland": true,
           "subunitcolor": "white"
          },
          "hoverlabel": {
           "align": "left"
          },
          "hovermode": "closest",
          "mapbox": {
           "style": "light"
          },
          "paper_bgcolor": "white",
          "plot_bgcolor": "#E5ECF6",
          "polar": {
           "angularaxis": {
            "gridcolor": "white",
            "linecolor": "white",
            "ticks": ""
           },
           "bgcolor": "#E5ECF6",
           "radialaxis": {
            "gridcolor": "white",
            "linecolor": "white",
            "ticks": ""
           }
          },
          "scene": {
           "xaxis": {
            "backgroundcolor": "#E5ECF6",
            "gridcolor": "white",
            "gridwidth": 2,
            "linecolor": "white",
            "showbackground": true,
            "ticks": "",
            "zerolinecolor": "white"
           },
           "yaxis": {
            "backgroundcolor": "#E5ECF6",
            "gridcolor": "white",
            "gridwidth": 2,
            "linecolor": "white",
            "showbackground": true,
            "ticks": "",
            "zerolinecolor": "white"
           },
           "zaxis": {
            "backgroundcolor": "#E5ECF6",
            "gridcolor": "white",
            "gridwidth": 2,
            "linecolor": "white",
            "showbackground": true,
            "ticks": "",
            "zerolinecolor": "white"
           }
          },
          "shapedefaults": {
           "line": {
            "color": "#2a3f5f"
           }
          },
          "ternary": {
           "aaxis": {
            "gridcolor": "white",
            "linecolor": "white",
            "ticks": ""
           },
           "baxis": {
            "gridcolor": "white",
            "linecolor": "white",
            "ticks": ""
           },
           "bgcolor": "#E5ECF6",
           "caxis": {
            "gridcolor": "white",
            "linecolor": "white",
            "ticks": ""
           }
          },
          "title": {
           "x": 0.05
          },
          "xaxis": {
           "automargin": true,
           "gridcolor": "white",
           "linecolor": "white",
           "ticks": "",
           "title": {
            "standoff": 15
           },
           "zerolinecolor": "white",
           "zerolinewidth": 2
          },
          "yaxis": {
           "automargin": true,
           "gridcolor": "white",
           "linecolor": "white",
           "ticks": "",
           "title": {
            "standoff": 15
           },
           "zerolinecolor": "white",
           "zerolinewidth": 2
          }
         }
        }
       }
      }
     },
     "metadata": {}
    },
    {
     "output_type": "display_data",
     "data": {
      "application/vnd.plotly.v1+json": {
       "config": {
        "plotlyServerURL": "https://plot.ly"
       },
       "data": [
        {
         "branchvalues": "total",
         "domain": {
          "x": [
           0,
           1
          ],
          "y": [
           0,
           1
          ]
         },
         "hovertemplate": "labels=%{label}<br>count=%{value}<br>parent=%{parent}<br>id=%{id}<extra></extra>",
         "ids": [
          "26-35/Freelancer/Avventura",
          "18-25/Studente/Avventura",
          "26-35/Dipendente/Azione/Thriller",
          "18-25/Studente/Azione/Thriller",
          "36-45/Dipendente/Biografia",
          "18-25/Studente/Biografia",
          "18-25/Studente/Commedia",
          "18-25/Dipendente/Fantasy",
          "26-35/Dipendente/Fantasy",
          "56+/Imprenditore/Fantasy",
          "18-25/Studente/Fantasy",
          "36-45/Dipendente/Formazione",
          "26-35/Disoccupato/Formazione",
          "46-55/Freelancer/Formazione",
          "56+/Pensionato/Formazione",
          "18-25/Studente/Formazione",
          "46-55/Dipendente/Giallo",
          "46-55/Disoccupato/Giallo",
          "46-55/Pensionato/Giallo",
          "18-25/Studente/Giallo",
          "26-35/Dipendente/Psicologico",
          "26-35/Imprenditore/Psicologico",
          "46-55/Imprenditore/Psicologico",
          "18-25/Studente/Psicologico",
          "46-55/Imprenditore/Rosa",
          "18-25/Studente/Rosa",
          "18-25/Studente/Sci-Fi",
          "46-55/Dipendente/Storico",
          "56+/Dipendente/Storico",
          "56+/Pensionato/Storico",
          "18-25/Studente/Storiografia",
          "18-25/Dipendente",
          "26-35/Dipendente",
          "36-45/Dipendente",
          "46-55/Dipendente",
          "56+/Dipendente",
          "26-35/Disoccupato",
          "46-55/Disoccupato",
          "26-35/Freelancer",
          "46-55/Freelancer",
          "26-35/Imprenditore",
          "46-55/Imprenditore",
          "56+/Imprenditore",
          "46-55/Pensionato",
          "56+/Pensionato",
          "18-25/Studente",
          "18-25",
          "26-35",
          "36-45",
          "46-55",
          "56+"
         ],
         "labels": [
          "Avventura",
          "Avventura",
          "Azione/Thriller",
          "Azione/Thriller",
          "Biografia",
          "Biografia",
          "Commedia",
          "Fantasy",
          "Fantasy",
          "Fantasy",
          "Fantasy",
          "Formazione",
          "Formazione",
          "Formazione",
          "Formazione",
          "Formazione",
          "Giallo",
          "Giallo",
          "Giallo",
          "Giallo",
          "Psicologico",
          "Psicologico",
          "Psicologico",
          "Psicologico",
          "Rosa",
          "Rosa",
          "Sci-Fi",
          "Storico",
          "Storico",
          "Storico",
          "Storiografia",
          "Dipendente",
          "Dipendente",
          "Dipendente",
          "Dipendente",
          "Dipendente",
          "Disoccupato",
          "Disoccupato",
          "Freelancer",
          "Freelancer",
          "Imprenditore",
          "Imprenditore",
          "Imprenditore",
          "Pensionato",
          "Pensionato",
          "Studente",
          "18-25",
          "26-35",
          "36-45",
          "46-55",
          "56+"
         ],
         "name": "",
         "parents": [
          "26-35/Freelancer",
          "18-25/Studente",
          "26-35/Dipendente",
          "18-25/Studente",
          "36-45/Dipendente",
          "18-25/Studente",
          "18-25/Studente",
          "18-25/Dipendente",
          "26-35/Dipendente",
          "56+/Imprenditore",
          "18-25/Studente",
          "36-45/Dipendente",
          "26-35/Disoccupato",
          "46-55/Freelancer",
          "56+/Pensionato",
          "18-25/Studente",
          "46-55/Dipendente",
          "46-55/Disoccupato",
          "46-55/Pensionato",
          "18-25/Studente",
          "26-35/Dipendente",
          "26-35/Imprenditore",
          "46-55/Imprenditore",
          "18-25/Studente",
          "46-55/Imprenditore",
          "18-25/Studente",
          "18-25/Studente",
          "46-55/Dipendente",
          "56+/Dipendente",
          "56+/Pensionato",
          "18-25/Studente",
          "18-25",
          "26-35",
          "36-45",
          "46-55",
          "56+",
          "26-35",
          "46-55",
          "26-35",
          "46-55",
          "26-35",
          "46-55",
          "56+",
          "46-55",
          "56+",
          "18-25",
          "",
          "",
          "",
          "",
          ""
         ],
         "type": "sunburst",
         "values": [
          1,
          2,
          1,
          1,
          1,
          2,
          1,
          1,
          1,
          1,
          7,
          1,
          1,
          2,
          1,
          6,
          1,
          1,
          1,
          5,
          1,
          1,
          1,
          3,
          1,
          1,
          1,
          1,
          1,
          2,
          2,
          1,
          3,
          2,
          2,
          1,
          1,
          1,
          1,
          2,
          1,
          2,
          1,
          1,
          3,
          31,
          32,
          6,
          2,
          8,
          5
         ]
        }
       ],
       "layout": {
        "legend": {
         "tracegroupgap": 0
        },
        "margin": {
         "t": 60
        },
        "template": {
         "data": {
          "bar": [
           {
            "error_x": {
             "color": "#2a3f5f"
            },
            "error_y": {
             "color": "#2a3f5f"
            },
            "marker": {
             "line": {
              "color": "#E5ECF6",
              "width": 0.5
             }
            },
            "type": "bar"
           }
          ],
          "barpolar": [
           {
            "marker": {
             "line": {
              "color": "#E5ECF6",
              "width": 0.5
             }
            },
            "type": "barpolar"
           }
          ],
          "carpet": [
           {
            "aaxis": {
             "endlinecolor": "#2a3f5f",
             "gridcolor": "white",
             "linecolor": "white",
             "minorgridcolor": "white",
             "startlinecolor": "#2a3f5f"
            },
            "baxis": {
             "endlinecolor": "#2a3f5f",
             "gridcolor": "white",
             "linecolor": "white",
             "minorgridcolor": "white",
             "startlinecolor": "#2a3f5f"
            },
            "type": "carpet"
           }
          ],
          "choropleth": [
           {
            "colorbar": {
             "outlinewidth": 0,
             "ticks": ""
            },
            "type": "choropleth"
           }
          ],
          "contour": [
           {
            "colorbar": {
             "outlinewidth": 0,
             "ticks": ""
            },
            "colorscale": [
             [
              0,
              "#0d0887"
             ],
             [
              0.1111111111111111,
              "#46039f"
             ],
             [
              0.2222222222222222,
              "#7201a8"
             ],
             [
              0.3333333333333333,
              "#9c179e"
             ],
             [
              0.4444444444444444,
              "#bd3786"
             ],
             [
              0.5555555555555556,
              "#d8576b"
             ],
             [
              0.6666666666666666,
              "#ed7953"
             ],
             [
              0.7777777777777778,
              "#fb9f3a"
             ],
             [
              0.8888888888888888,
              "#fdca26"
             ],
             [
              1,
              "#f0f921"
             ]
            ],
            "type": "contour"
           }
          ],
          "contourcarpet": [
           {
            "colorbar": {
             "outlinewidth": 0,
             "ticks": ""
            },
            "type": "contourcarpet"
           }
          ],
          "heatmap": [
           {
            "colorbar": {
             "outlinewidth": 0,
             "ticks": ""
            },
            "colorscale": [
             [
              0,
              "#0d0887"
             ],
             [
              0.1111111111111111,
              "#46039f"
             ],
             [
              0.2222222222222222,
              "#7201a8"
             ],
             [
              0.3333333333333333,
              "#9c179e"
             ],
             [
              0.4444444444444444,
              "#bd3786"
             ],
             [
              0.5555555555555556,
              "#d8576b"
             ],
             [
              0.6666666666666666,
              "#ed7953"
             ],
             [
              0.7777777777777778,
              "#fb9f3a"
             ],
             [
              0.8888888888888888,
              "#fdca26"
             ],
             [
              1,
              "#f0f921"
             ]
            ],
            "type": "heatmap"
           }
          ],
          "heatmapgl": [
           {
            "colorbar": {
             "outlinewidth": 0,
             "ticks": ""
            },
            "colorscale": [
             [
              0,
              "#0d0887"
             ],
             [
              0.1111111111111111,
              "#46039f"
             ],
             [
              0.2222222222222222,
              "#7201a8"
             ],
             [
              0.3333333333333333,
              "#9c179e"
             ],
             [
              0.4444444444444444,
              "#bd3786"
             ],
             [
              0.5555555555555556,
              "#d8576b"
             ],
             [
              0.6666666666666666,
              "#ed7953"
             ],
             [
              0.7777777777777778,
              "#fb9f3a"
             ],
             [
              0.8888888888888888,
              "#fdca26"
             ],
             [
              1,
              "#f0f921"
             ]
            ],
            "type": "heatmapgl"
           }
          ],
          "histogram": [
           {
            "marker": {
             "colorbar": {
              "outlinewidth": 0,
              "ticks": ""
             }
            },
            "type": "histogram"
           }
          ],
          "histogram2d": [
           {
            "colorbar": {
             "outlinewidth": 0,
             "ticks": ""
            },
            "colorscale": [
             [
              0,
              "#0d0887"
             ],
             [
              0.1111111111111111,
              "#46039f"
             ],
             [
              0.2222222222222222,
              "#7201a8"
             ],
             [
              0.3333333333333333,
              "#9c179e"
             ],
             [
              0.4444444444444444,
              "#bd3786"
             ],
             [
              0.5555555555555556,
              "#d8576b"
             ],
             [
              0.6666666666666666,
              "#ed7953"
             ],
             [
              0.7777777777777778,
              "#fb9f3a"
             ],
             [
              0.8888888888888888,
              "#fdca26"
             ],
             [
              1,
              "#f0f921"
             ]
            ],
            "type": "histogram2d"
           }
          ],
          "histogram2dcontour": [
           {
            "colorbar": {
             "outlinewidth": 0,
             "ticks": ""
            },
            "colorscale": [
             [
              0,
              "#0d0887"
             ],
             [
              0.1111111111111111,
              "#46039f"
             ],
             [
              0.2222222222222222,
              "#7201a8"
             ],
             [
              0.3333333333333333,
              "#9c179e"
             ],
             [
              0.4444444444444444,
              "#bd3786"
             ],
             [
              0.5555555555555556,
              "#d8576b"
             ],
             [
              0.6666666666666666,
              "#ed7953"
             ],
             [
              0.7777777777777778,
              "#fb9f3a"
             ],
             [
              0.8888888888888888,
              "#fdca26"
             ],
             [
              1,
              "#f0f921"
             ]
            ],
            "type": "histogram2dcontour"
           }
          ],
          "mesh3d": [
           {
            "colorbar": {
             "outlinewidth": 0,
             "ticks": ""
            },
            "type": "mesh3d"
           }
          ],
          "parcoords": [
           {
            "line": {
             "colorbar": {
              "outlinewidth": 0,
              "ticks": ""
             }
            },
            "type": "parcoords"
           }
          ],
          "pie": [
           {
            "automargin": true,
            "type": "pie"
           }
          ],
          "scatter": [
           {
            "marker": {
             "colorbar": {
              "outlinewidth": 0,
              "ticks": ""
             }
            },
            "type": "scatter"
           }
          ],
          "scatter3d": [
           {
            "line": {
             "colorbar": {
              "outlinewidth": 0,
              "ticks": ""
             }
            },
            "marker": {
             "colorbar": {
              "outlinewidth": 0,
              "ticks": ""
             }
            },
            "type": "scatter3d"
           }
          ],
          "scattercarpet": [
           {
            "marker": {
             "colorbar": {
              "outlinewidth": 0,
              "ticks": ""
             }
            },
            "type": "scattercarpet"
           }
          ],
          "scattergeo": [
           {
            "marker": {
             "colorbar": {
              "outlinewidth": 0,
              "ticks": ""
             }
            },
            "type": "scattergeo"
           }
          ],
          "scattergl": [
           {
            "marker": {
             "colorbar": {
              "outlinewidth": 0,
              "ticks": ""
             }
            },
            "type": "scattergl"
           }
          ],
          "scattermapbox": [
           {
            "marker": {
             "colorbar": {
              "outlinewidth": 0,
              "ticks": ""
             }
            },
            "type": "scattermapbox"
           }
          ],
          "scatterpolar": [
           {
            "marker": {
             "colorbar": {
              "outlinewidth": 0,
              "ticks": ""
             }
            },
            "type": "scatterpolar"
           }
          ],
          "scatterpolargl": [
           {
            "marker": {
             "colorbar": {
              "outlinewidth": 0,
              "ticks": ""
             }
            },
            "type": "scatterpolargl"
           }
          ],
          "scatterternary": [
           {
            "marker": {
             "colorbar": {
              "outlinewidth": 0,
              "ticks": ""
             }
            },
            "type": "scatterternary"
           }
          ],
          "surface": [
           {
            "colorbar": {
             "outlinewidth": 0,
             "ticks": ""
            },
            "colorscale": [
             [
              0,
              "#0d0887"
             ],
             [
              0.1111111111111111,
              "#46039f"
             ],
             [
              0.2222222222222222,
              "#7201a8"
             ],
             [
              0.3333333333333333,
              "#9c179e"
             ],
             [
              0.4444444444444444,
              "#bd3786"
             ],
             [
              0.5555555555555556,
              "#d8576b"
             ],
             [
              0.6666666666666666,
              "#ed7953"
             ],
             [
              0.7777777777777778,
              "#fb9f3a"
             ],
             [
              0.8888888888888888,
              "#fdca26"
             ],
             [
              1,
              "#f0f921"
             ]
            ],
            "type": "surface"
           }
          ],
          "table": [
           {
            "cells": {
             "fill": {
              "color": "#EBF0F8"
             },
             "line": {
              "color": "white"
             }
            },
            "header": {
             "fill": {
              "color": "#C8D4E3"
             },
             "line": {
              "color": "white"
             }
            },
            "type": "table"
           }
          ]
         },
         "layout": {
          "annotationdefaults": {
           "arrowcolor": "#2a3f5f",
           "arrowhead": 0,
           "arrowwidth": 1
          },
          "autotypenumbers": "strict",
          "coloraxis": {
           "colorbar": {
            "outlinewidth": 0,
            "ticks": ""
           }
          },
          "colorscale": {
           "diverging": [
            [
             0,
             "#8e0152"
            ],
            [
             0.1,
             "#c51b7d"
            ],
            [
             0.2,
             "#de77ae"
            ],
            [
             0.3,
             "#f1b6da"
            ],
            [
             0.4,
             "#fde0ef"
            ],
            [
             0.5,
             "#f7f7f7"
            ],
            [
             0.6,
             "#e6f5d0"
            ],
            [
             0.7,
             "#b8e186"
            ],
            [
             0.8,
             "#7fbc41"
            ],
            [
             0.9,
             "#4d9221"
            ],
            [
             1,
             "#276419"
            ]
           ],
           "sequential": [
            [
             0,
             "#0d0887"
            ],
            [
             0.1111111111111111,
             "#46039f"
            ],
            [
             0.2222222222222222,
             "#7201a8"
            ],
            [
             0.3333333333333333,
             "#9c179e"
            ],
            [
             0.4444444444444444,
             "#bd3786"
            ],
            [
             0.5555555555555556,
             "#d8576b"
            ],
            [
             0.6666666666666666,
             "#ed7953"
            ],
            [
             0.7777777777777778,
             "#fb9f3a"
            ],
            [
             0.8888888888888888,
             "#fdca26"
            ],
            [
             1,
             "#f0f921"
            ]
           ],
           "sequentialminus": [
            [
             0,
             "#0d0887"
            ],
            [
             0.1111111111111111,
             "#46039f"
            ],
            [
             0.2222222222222222,
             "#7201a8"
            ],
            [
             0.3333333333333333,
             "#9c179e"
            ],
            [
             0.4444444444444444,
             "#bd3786"
            ],
            [
             0.5555555555555556,
             "#d8576b"
            ],
            [
             0.6666666666666666,
             "#ed7953"
            ],
            [
             0.7777777777777778,
             "#fb9f3a"
            ],
            [
             0.8888888888888888,
             "#fdca26"
            ],
            [
             1,
             "#f0f921"
            ]
           ]
          },
          "colorway": [
           "#636efa",
           "#EF553B",
           "#00cc96",
           "#ab63fa",
           "#FFA15A",
           "#19d3f3",
           "#FF6692",
           "#B6E880",
           "#FF97FF",
           "#FECB52"
          ],
          "font": {
           "color": "#2a3f5f"
          },
          "geo": {
           "bgcolor": "white",
           "lakecolor": "white",
           "landcolor": "#E5ECF6",
           "showlakes": true,
           "showland": true,
           "subunitcolor": "white"
          },
          "hoverlabel": {
           "align": "left"
          },
          "hovermode": "closest",
          "mapbox": {
           "style": "light"
          },
          "paper_bgcolor": "white",
          "plot_bgcolor": "#E5ECF6",
          "polar": {
           "angularaxis": {
            "gridcolor": "white",
            "linecolor": "white",
            "ticks": ""
           },
           "bgcolor": "#E5ECF6",
           "radialaxis": {
            "gridcolor": "white",
            "linecolor": "white",
            "ticks": ""
           }
          },
          "scene": {
           "xaxis": {
            "backgroundcolor": "#E5ECF6",
            "gridcolor": "white",
            "gridwidth": 2,
            "linecolor": "white",
            "showbackground": true,
            "ticks": "",
            "zerolinecolor": "white"
           },
           "yaxis": {
            "backgroundcolor": "#E5ECF6",
            "gridcolor": "white",
            "gridwidth": 2,
            "linecolor": "white",
            "showbackground": true,
            "ticks": "",
            "zerolinecolor": "white"
           },
           "zaxis": {
            "backgroundcolor": "#E5ECF6",
            "gridcolor": "white",
            "gridwidth": 2,
            "linecolor": "white",
            "showbackground": true,
            "ticks": "",
            "zerolinecolor": "white"
           }
          },
          "shapedefaults": {
           "line": {
            "color": "#2a3f5f"
           }
          },
          "ternary": {
           "aaxis": {
            "gridcolor": "white",
            "linecolor": "white",
            "ticks": ""
           },
           "baxis": {
            "gridcolor": "white",
            "linecolor": "white",
            "ticks": ""
           },
           "bgcolor": "#E5ECF6",
           "caxis": {
            "gridcolor": "white",
            "linecolor": "white",
            "ticks": ""
           }
          },
          "title": {
           "x": 0.05
          },
          "xaxis": {
           "automargin": true,
           "gridcolor": "white",
           "linecolor": "white",
           "ticks": "",
           "title": {
            "standoff": 15
           },
           "zerolinecolor": "white",
           "zerolinewidth": 2
          },
          "yaxis": {
           "automargin": true,
           "gridcolor": "white",
           "linecolor": "white",
           "ticks": "",
           "title": {
            "standoff": 15
           },
           "zerolinecolor": "white",
           "zerolinewidth": 2
          }
         }
        }
       }
      }
     },
     "metadata": {}
    }
   ],
   "source": [
    "sunburst_df = df.copy()\n",
    "sunburst_df[\"kindle\"] = sunburst_df[\"kindle\"].apply({'Si': 'Ha un<br>eReader', 'No': 'Non ha un<br>eReader'}.get)\n",
    "sunburst_device = px.sunburst(sunburst_df, path=['Età', 'Lavoro', 'device', 'kindle'])\n",
    "sunburst_device.show()\n",
    "force = False\n",
    "if not os.path.isfile('./plot/sunburst_device.html') or force:\n",
    "    sunburst_device.write_html('./plot/sunburst_device.html')\n",
    "    sunburst_device.write_image('./plot/sunburst_device.png')\n",
    "sunburst_genre = px.sunburst(sunburst_df, path=['Età', 'Lavoro', 'Genere letterario preferito'])\n",
    "sunburst_genre.show()\n",
    "force = False\n",
    "if not os.path.isfile('./plot/sunburst_genre.html') or force:\n",
    "    sunburst_genre.write_html('./plot/sunburst_genre.html')\n",
    "    sunburst_genre.write_image('./plot/sunburst_genre.png')\n"
   ]
  },
  {
   "cell_type": "code",
   "execution_count": 7,
   "metadata": {},
   "outputs": [],
   "source": [
    "# -- ABSOLUTE AND RELATIVE FOR ALL QUEST PARAMETERS IN JSON -- \n",
    "\n",
    "# Count occourences\n",
    "counter = {key:dict(Counter(df[key])) for key in df}\n",
    "\n",
    "reformatQuestCount = {}\n",
    "reformatQuestCountRel = {}\n",
    "\n",
    "# Absolute frequencies for each option of each parameter\n",
    "for key, value in reformatQuest.items():\n",
    "    reformatQuestCount[key] = {label:counter[key].get(label, 0) for label in value}\n",
    "    \n",
    "# Relative frequencies for each option of each parameter \n",
    "for key, value in reformatQuestCount.items():\n",
    "    total = sum(value.values())\n",
    "    if total != 0:\n",
    "        reformatQuestCountRel[key] = {label:counter[key].get(label, 0)/total for label in value.keys()}\n",
    "    else:\n",
    "        reformatQuestCountRel[key] = {label:0 for label in value.keys()}\n",
    "\n",
    "# You can call this functions to save counts in json format on the current path\n",
    "def serialize_count():\n",
    "    serialize_json(\"./quest_count.json\", reformatQuestCount)\n",
    "    serialize_json(\"./quest_count_rel.json\", reformatQuestCount)\n",
    "    \n",
    "            \n",
    "# Eventually builds dataframe from json (according to the given parameter)        \n",
    "def to_dataframe(param, rel=None):\n",
    "    if not rel:\n",
    "        return pd.DataFrame({param: reformatQuestCount[param].keys(),\n",
    "                             'Frequenza': reformatQuestCount[param].values()})\n",
    "    else:\n",
    "        return pd.DataFrame({param: reformatQuestCountRel[param].keys(),\n",
    "                             'Frequenza': reformatQuestCountRel[param].values()})\n",
    "\n",
    "# Debugging test\n",
    "# genre = to_dataframe(\"Genere letterario preferito\")\n",
    "# plt.xticks(rotation=70)\n",
    "# plt.bar(genre[\"Genere letterario preferito\"], genre[\"Genere letterario preferito\"])\n",
    "    "
   ]
  },
  {
   "cell_type": "code",
   "execution_count": 79,
   "metadata": {},
   "outputs": [],
   "source": [
    "def get_freq(df, column):\n",
    "    out_df = df\\\n",
    "        .groupby(by=column)\\\n",
    "        .count()[['device']]\\\n",
    "        .reset_index()\\\n",
    "        .rename(columns={'device':'f'})\\\n",
    "        .sort_values(by=['f'], ascending=False)\n",
    "\n",
    "    return out_df\n",
    "\n",
    "def to_relative_freq(df, column='f'):\n",
    "    total_amount = df['f'].sum()\n",
    "    df['f'] = df['f'] / total_amount\n",
    "    \n",
    "    return df\n",
    "\n",
    "def save_plot(figure, name, force=False):\n",
    "    if not os.path.isfile(f'./plot/{name}.html') or force:\n",
    "        hist_age.write_html(f'./plot/{name}.html')\n",
    "        hist_age.write_image(f'./plot/{name}.png')"
   ]
  },
  {
   "cell_type": "code",
   "execution_count": 80,
   "metadata": {},
   "outputs": [
    {
     "output_type": "display_data",
     "data": {
      "application/vnd.plotly.v1+json": {
       "config": {
        "plotlyServerURL": "https://plot.ly"
       },
       "data": [
        {
         "alignmentgroup": "True",
         "hovertemplate": "Genere letterario preferito=%{x}<br>Frequenza=%{y}<extra></extra>",
         "legendgroup": "Formazione",
         "marker": {
          "color": "#636efa"
         },
         "name": "Formazione",
         "offsetgroup": "Formazione",
         "orientation": "v",
         "showlegend": true,
         "textposition": "auto",
         "type": "bar",
         "x": [
          "Formazione"
         ],
         "xaxis": "x",
         "y": [
          0.20754716981132076
         ],
         "yaxis": "y"
        },
        {
         "alignmentgroup": "True",
         "hovertemplate": "Genere letterario preferito=%{x}<br>Frequenza=%{y}<extra></extra>",
         "legendgroup": "Fantasy",
         "marker": {
          "color": "#EF553B"
         },
         "name": "Fantasy",
         "offsetgroup": "Fantasy",
         "orientation": "v",
         "showlegend": true,
         "textposition": "auto",
         "type": "bar",
         "x": [
          "Fantasy"
         ],
         "xaxis": "x",
         "y": [
          0.18867924528301888
         ],
         "yaxis": "y"
        },
        {
         "alignmentgroup": "True",
         "hovertemplate": "Genere letterario preferito=%{x}<br>Frequenza=%{y}<extra></extra>",
         "legendgroup": "Giallo",
         "marker": {
          "color": "#00cc96"
         },
         "name": "Giallo",
         "offsetgroup": "Giallo",
         "orientation": "v",
         "showlegend": true,
         "textposition": "auto",
         "type": "bar",
         "x": [
          "Giallo"
         ],
         "xaxis": "x",
         "y": [
          0.1509433962264151
         ],
         "yaxis": "y"
        },
        {
         "alignmentgroup": "True",
         "hovertemplate": "Genere letterario preferito=%{x}<br>Frequenza=%{y}<extra></extra>",
         "legendgroup": "Psicologico",
         "marker": {
          "color": "#ab63fa"
         },
         "name": "Psicologico",
         "offsetgroup": "Psicologico",
         "orientation": "v",
         "showlegend": true,
         "textposition": "auto",
         "type": "bar",
         "x": [
          "Psicologico"
         ],
         "xaxis": "x",
         "y": [
          0.11320754716981132
         ],
         "yaxis": "y"
        },
        {
         "alignmentgroup": "True",
         "hovertemplate": "Genere letterario preferito=%{x}<br>Frequenza=%{y}<extra></extra>",
         "legendgroup": "Storico",
         "marker": {
          "color": "#FFA15A"
         },
         "name": "Storico",
         "offsetgroup": "Storico",
         "orientation": "v",
         "showlegend": true,
         "textposition": "auto",
         "type": "bar",
         "x": [
          "Storico"
         ],
         "xaxis": "x",
         "y": [
          0.07547169811320754
         ],
         "yaxis": "y"
        },
        {
         "alignmentgroup": "True",
         "hovertemplate": "Genere letterario preferito=%{x}<br>Frequenza=%{y}<extra></extra>",
         "legendgroup": "Avventura",
         "marker": {
          "color": "#19d3f3"
         },
         "name": "Avventura",
         "offsetgroup": "Avventura",
         "orientation": "v",
         "showlegend": true,
         "textposition": "auto",
         "type": "bar",
         "x": [
          "Avventura"
         ],
         "xaxis": "x",
         "y": [
          0.05660377358490566
         ],
         "yaxis": "y"
        },
        {
         "alignmentgroup": "True",
         "hovertemplate": "Genere letterario preferito=%{x}<br>Frequenza=%{y}<extra></extra>",
         "legendgroup": "Biografia",
         "marker": {
          "color": "#FF6692"
         },
         "name": "Biografia",
         "offsetgroup": "Biografia",
         "orientation": "v",
         "showlegend": true,
         "textposition": "auto",
         "type": "bar",
         "x": [
          "Biografia"
         ],
         "xaxis": "x",
         "y": [
          0.05660377358490566
         ],
         "yaxis": "y"
        },
        {
         "alignmentgroup": "True",
         "hovertemplate": "Genere letterario preferito=%{x}<br>Frequenza=%{y}<extra></extra>",
         "legendgroup": "Azione/Thriller",
         "marker": {
          "color": "#B6E880"
         },
         "name": "Azione/Thriller",
         "offsetgroup": "Azione/Thriller",
         "orientation": "v",
         "showlegend": true,
         "textposition": "auto",
         "type": "bar",
         "x": [
          "Azione/Thriller"
         ],
         "xaxis": "x",
         "y": [
          0.03773584905660377
         ],
         "yaxis": "y"
        },
        {
         "alignmentgroup": "True",
         "hovertemplate": "Genere letterario preferito=%{x}<br>Frequenza=%{y}<extra></extra>",
         "legendgroup": "Rosa",
         "marker": {
          "color": "#FF97FF"
         },
         "name": "Rosa",
         "offsetgroup": "Rosa",
         "orientation": "v",
         "showlegend": true,
         "textposition": "auto",
         "type": "bar",
         "x": [
          "Rosa"
         ],
         "xaxis": "x",
         "y": [
          0.03773584905660377
         ],
         "yaxis": "y"
        },
        {
         "alignmentgroup": "True",
         "hovertemplate": "Genere letterario preferito=%{x}<br>Frequenza=%{y}<extra></extra>",
         "legendgroup": "Storiografia",
         "marker": {
          "color": "#FECB52"
         },
         "name": "Storiografia",
         "offsetgroup": "Storiografia",
         "orientation": "v",
         "showlegend": true,
         "textposition": "auto",
         "type": "bar",
         "x": [
          "Storiografia"
         ],
         "xaxis": "x",
         "y": [
          0.03773584905660377
         ],
         "yaxis": "y"
        },
        {
         "alignmentgroup": "True",
         "hovertemplate": "Genere letterario preferito=%{x}<br>Frequenza=%{y}<extra></extra>",
         "legendgroup": "Sci-Fi",
         "marker": {
          "color": "#636efa"
         },
         "name": "Sci-Fi",
         "offsetgroup": "Sci-Fi",
         "orientation": "v",
         "showlegend": true,
         "textposition": "auto",
         "type": "bar",
         "x": [
          "Sci-Fi"
         ],
         "xaxis": "x",
         "y": [
          0.018867924528301886
         ],
         "yaxis": "y"
        },
        {
         "alignmentgroup": "True",
         "hovertemplate": "Genere letterario preferito=%{x}<br>Frequenza=%{y}<extra></extra>",
         "legendgroup": "Commedia",
         "marker": {
          "color": "#EF553B"
         },
         "name": "Commedia",
         "offsetgroup": "Commedia",
         "orientation": "v",
         "showlegend": true,
         "textposition": "auto",
         "type": "bar",
         "x": [
          "Commedia"
         ],
         "xaxis": "x",
         "y": [
          0.018867924528301886
         ],
         "yaxis": "y"
        },
        {
         "alignmentgroup": "True",
         "hovertemplate": "Genere letterario preferito=%{x}<br>Frequenza=%{y}<extra></extra>",
         "legendgroup": "Horror",
         "marker": {
          "color": "#00cc96"
         },
         "name": "Horror",
         "offsetgroup": "Horror",
         "orientation": "v",
         "showlegend": true,
         "textposition": "auto",
         "type": "bar",
         "x": [
          "Horror"
         ],
         "xaxis": "x",
         "y": [
          0
         ],
         "yaxis": "y"
        }
       ],
       "layout": {
        "barmode": "relative",
        "legend": {
         "title": {
          "text": "Genere letterario preferito"
         },
         "tracegroupgap": 0
        },
        "margin": {
         "t": 60
        },
        "template": {
         "data": {
          "bar": [
           {
            "error_x": {
             "color": "#2a3f5f"
            },
            "error_y": {
             "color": "#2a3f5f"
            },
            "marker": {
             "line": {
              "color": "#E5ECF6",
              "width": 0.5
             }
            },
            "type": "bar"
           }
          ],
          "barpolar": [
           {
            "marker": {
             "line": {
              "color": "#E5ECF6",
              "width": 0.5
             }
            },
            "type": "barpolar"
           }
          ],
          "carpet": [
           {
            "aaxis": {
             "endlinecolor": "#2a3f5f",
             "gridcolor": "white",
             "linecolor": "white",
             "minorgridcolor": "white",
             "startlinecolor": "#2a3f5f"
            },
            "baxis": {
             "endlinecolor": "#2a3f5f",
             "gridcolor": "white",
             "linecolor": "white",
             "minorgridcolor": "white",
             "startlinecolor": "#2a3f5f"
            },
            "type": "carpet"
           }
          ],
          "choropleth": [
           {
            "colorbar": {
             "outlinewidth": 0,
             "ticks": ""
            },
            "type": "choropleth"
           }
          ],
          "contour": [
           {
            "colorbar": {
             "outlinewidth": 0,
             "ticks": ""
            },
            "colorscale": [
             [
              0,
              "#0d0887"
             ],
             [
              0.1111111111111111,
              "#46039f"
             ],
             [
              0.2222222222222222,
              "#7201a8"
             ],
             [
              0.3333333333333333,
              "#9c179e"
             ],
             [
              0.4444444444444444,
              "#bd3786"
             ],
             [
              0.5555555555555556,
              "#d8576b"
             ],
             [
              0.6666666666666666,
              "#ed7953"
             ],
             [
              0.7777777777777778,
              "#fb9f3a"
             ],
             [
              0.8888888888888888,
              "#fdca26"
             ],
             [
              1,
              "#f0f921"
             ]
            ],
            "type": "contour"
           }
          ],
          "contourcarpet": [
           {
            "colorbar": {
             "outlinewidth": 0,
             "ticks": ""
            },
            "type": "contourcarpet"
           }
          ],
          "heatmap": [
           {
            "colorbar": {
             "outlinewidth": 0,
             "ticks": ""
            },
            "colorscale": [
             [
              0,
              "#0d0887"
             ],
             [
              0.1111111111111111,
              "#46039f"
             ],
             [
              0.2222222222222222,
              "#7201a8"
             ],
             [
              0.3333333333333333,
              "#9c179e"
             ],
             [
              0.4444444444444444,
              "#bd3786"
             ],
             [
              0.5555555555555556,
              "#d8576b"
             ],
             [
              0.6666666666666666,
              "#ed7953"
             ],
             [
              0.7777777777777778,
              "#fb9f3a"
             ],
             [
              0.8888888888888888,
              "#fdca26"
             ],
             [
              1,
              "#f0f921"
             ]
            ],
            "type": "heatmap"
           }
          ],
          "heatmapgl": [
           {
            "colorbar": {
             "outlinewidth": 0,
             "ticks": ""
            },
            "colorscale": [
             [
              0,
              "#0d0887"
             ],
             [
              0.1111111111111111,
              "#46039f"
             ],
             [
              0.2222222222222222,
              "#7201a8"
             ],
             [
              0.3333333333333333,
              "#9c179e"
             ],
             [
              0.4444444444444444,
              "#bd3786"
             ],
             [
              0.5555555555555556,
              "#d8576b"
             ],
             [
              0.6666666666666666,
              "#ed7953"
             ],
             [
              0.7777777777777778,
              "#fb9f3a"
             ],
             [
              0.8888888888888888,
              "#fdca26"
             ],
             [
              1,
              "#f0f921"
             ]
            ],
            "type": "heatmapgl"
           }
          ],
          "histogram": [
           {
            "marker": {
             "colorbar": {
              "outlinewidth": 0,
              "ticks": ""
             }
            },
            "type": "histogram"
           }
          ],
          "histogram2d": [
           {
            "colorbar": {
             "outlinewidth": 0,
             "ticks": ""
            },
            "colorscale": [
             [
              0,
              "#0d0887"
             ],
             [
              0.1111111111111111,
              "#46039f"
             ],
             [
              0.2222222222222222,
              "#7201a8"
             ],
             [
              0.3333333333333333,
              "#9c179e"
             ],
             [
              0.4444444444444444,
              "#bd3786"
             ],
             [
              0.5555555555555556,
              "#d8576b"
             ],
             [
              0.6666666666666666,
              "#ed7953"
             ],
             [
              0.7777777777777778,
              "#fb9f3a"
             ],
             [
              0.8888888888888888,
              "#fdca26"
             ],
             [
              1,
              "#f0f921"
             ]
            ],
            "type": "histogram2d"
           }
          ],
          "histogram2dcontour": [
           {
            "colorbar": {
             "outlinewidth": 0,
             "ticks": ""
            },
            "colorscale": [
             [
              0,
              "#0d0887"
             ],
             [
              0.1111111111111111,
              "#46039f"
             ],
             [
              0.2222222222222222,
              "#7201a8"
             ],
             [
              0.3333333333333333,
              "#9c179e"
             ],
             [
              0.4444444444444444,
              "#bd3786"
             ],
             [
              0.5555555555555556,
              "#d8576b"
             ],
             [
              0.6666666666666666,
              "#ed7953"
             ],
             [
              0.7777777777777778,
              "#fb9f3a"
             ],
             [
              0.8888888888888888,
              "#fdca26"
             ],
             [
              1,
              "#f0f921"
             ]
            ],
            "type": "histogram2dcontour"
           }
          ],
          "mesh3d": [
           {
            "colorbar": {
             "outlinewidth": 0,
             "ticks": ""
            },
            "type": "mesh3d"
           }
          ],
          "parcoords": [
           {
            "line": {
             "colorbar": {
              "outlinewidth": 0,
              "ticks": ""
             }
            },
            "type": "parcoords"
           }
          ],
          "pie": [
           {
            "automargin": true,
            "type": "pie"
           }
          ],
          "scatter": [
           {
            "marker": {
             "colorbar": {
              "outlinewidth": 0,
              "ticks": ""
             }
            },
            "type": "scatter"
           }
          ],
          "scatter3d": [
           {
            "line": {
             "colorbar": {
              "outlinewidth": 0,
              "ticks": ""
             }
            },
            "marker": {
             "colorbar": {
              "outlinewidth": 0,
              "ticks": ""
             }
            },
            "type": "scatter3d"
           }
          ],
          "scattercarpet": [
           {
            "marker": {
             "colorbar": {
              "outlinewidth": 0,
              "ticks": ""
             }
            },
            "type": "scattercarpet"
           }
          ],
          "scattergeo": [
           {
            "marker": {
             "colorbar": {
              "outlinewidth": 0,
              "ticks": ""
             }
            },
            "type": "scattergeo"
           }
          ],
          "scattergl": [
           {
            "marker": {
             "colorbar": {
              "outlinewidth": 0,
              "ticks": ""
             }
            },
            "type": "scattergl"
           }
          ],
          "scattermapbox": [
           {
            "marker": {
             "colorbar": {
              "outlinewidth": 0,
              "ticks": ""
             }
            },
            "type": "scattermapbox"
           }
          ],
          "scatterpolar": [
           {
            "marker": {
             "colorbar": {
              "outlinewidth": 0,
              "ticks": ""
             }
            },
            "type": "scatterpolar"
           }
          ],
          "scatterpolargl": [
           {
            "marker": {
             "colorbar": {
              "outlinewidth": 0,
              "ticks": ""
             }
            },
            "type": "scatterpolargl"
           }
          ],
          "scatterternary": [
           {
            "marker": {
             "colorbar": {
              "outlinewidth": 0,
              "ticks": ""
             }
            },
            "type": "scatterternary"
           }
          ],
          "surface": [
           {
            "colorbar": {
             "outlinewidth": 0,
             "ticks": ""
            },
            "colorscale": [
             [
              0,
              "#0d0887"
             ],
             [
              0.1111111111111111,
              "#46039f"
             ],
             [
              0.2222222222222222,
              "#7201a8"
             ],
             [
              0.3333333333333333,
              "#9c179e"
             ],
             [
              0.4444444444444444,
              "#bd3786"
             ],
             [
              0.5555555555555556,
              "#d8576b"
             ],
             [
              0.6666666666666666,
              "#ed7953"
             ],
             [
              0.7777777777777778,
              "#fb9f3a"
             ],
             [
              0.8888888888888888,
              "#fdca26"
             ],
             [
              1,
              "#f0f921"
             ]
            ],
            "type": "surface"
           }
          ],
          "table": [
           {
            "cells": {
             "fill": {
              "color": "#EBF0F8"
             },
             "line": {
              "color": "white"
             }
            },
            "header": {
             "fill": {
              "color": "#C8D4E3"
             },
             "line": {
              "color": "white"
             }
            },
            "type": "table"
           }
          ]
         },
         "layout": {
          "annotationdefaults": {
           "arrowcolor": "#2a3f5f",
           "arrowhead": 0,
           "arrowwidth": 1
          },
          "autotypenumbers": "strict",
          "coloraxis": {
           "colorbar": {
            "outlinewidth": 0,
            "ticks": ""
           }
          },
          "colorscale": {
           "diverging": [
            [
             0,
             "#8e0152"
            ],
            [
             0.1,
             "#c51b7d"
            ],
            [
             0.2,
             "#de77ae"
            ],
            [
             0.3,
             "#f1b6da"
            ],
            [
             0.4,
             "#fde0ef"
            ],
            [
             0.5,
             "#f7f7f7"
            ],
            [
             0.6,
             "#e6f5d0"
            ],
            [
             0.7,
             "#b8e186"
            ],
            [
             0.8,
             "#7fbc41"
            ],
            [
             0.9,
             "#4d9221"
            ],
            [
             1,
             "#276419"
            ]
           ],
           "sequential": [
            [
             0,
             "#0d0887"
            ],
            [
             0.1111111111111111,
             "#46039f"
            ],
            [
             0.2222222222222222,
             "#7201a8"
            ],
            [
             0.3333333333333333,
             "#9c179e"
            ],
            [
             0.4444444444444444,
             "#bd3786"
            ],
            [
             0.5555555555555556,
             "#d8576b"
            ],
            [
             0.6666666666666666,
             "#ed7953"
            ],
            [
             0.7777777777777778,
             "#fb9f3a"
            ],
            [
             0.8888888888888888,
             "#fdca26"
            ],
            [
             1,
             "#f0f921"
            ]
           ],
           "sequentialminus": [
            [
             0,
             "#0d0887"
            ],
            [
             0.1111111111111111,
             "#46039f"
            ],
            [
             0.2222222222222222,
             "#7201a8"
            ],
            [
             0.3333333333333333,
             "#9c179e"
            ],
            [
             0.4444444444444444,
             "#bd3786"
            ],
            [
             0.5555555555555556,
             "#d8576b"
            ],
            [
             0.6666666666666666,
             "#ed7953"
            ],
            [
             0.7777777777777778,
             "#fb9f3a"
            ],
            [
             0.8888888888888888,
             "#fdca26"
            ],
            [
             1,
             "#f0f921"
            ]
           ]
          },
          "colorway": [
           "#636efa",
           "#EF553B",
           "#00cc96",
           "#ab63fa",
           "#FFA15A",
           "#19d3f3",
           "#FF6692",
           "#B6E880",
           "#FF97FF",
           "#FECB52"
          ],
          "font": {
           "color": "#2a3f5f"
          },
          "geo": {
           "bgcolor": "white",
           "lakecolor": "white",
           "landcolor": "#E5ECF6",
           "showlakes": true,
           "showland": true,
           "subunitcolor": "white"
          },
          "hoverlabel": {
           "align": "left"
          },
          "hovermode": "closest",
          "mapbox": {
           "style": "light"
          },
          "paper_bgcolor": "white",
          "plot_bgcolor": "#E5ECF6",
          "polar": {
           "angularaxis": {
            "gridcolor": "white",
            "linecolor": "white",
            "ticks": ""
           },
           "bgcolor": "#E5ECF6",
           "radialaxis": {
            "gridcolor": "white",
            "linecolor": "white",
            "ticks": ""
           }
          },
          "scene": {
           "xaxis": {
            "backgroundcolor": "#E5ECF6",
            "gridcolor": "white",
            "gridwidth": 2,
            "linecolor": "white",
            "showbackground": true,
            "ticks": "",
            "zerolinecolor": "white"
           },
           "yaxis": {
            "backgroundcolor": "#E5ECF6",
            "gridcolor": "white",
            "gridwidth": 2,
            "linecolor": "white",
            "showbackground": true,
            "ticks": "",
            "zerolinecolor": "white"
           },
           "zaxis": {
            "backgroundcolor": "#E5ECF6",
            "gridcolor": "white",
            "gridwidth": 2,
            "linecolor": "white",
            "showbackground": true,
            "ticks": "",
            "zerolinecolor": "white"
           }
          },
          "shapedefaults": {
           "line": {
            "color": "#2a3f5f"
           }
          },
          "ternary": {
           "aaxis": {
            "gridcolor": "white",
            "linecolor": "white",
            "ticks": ""
           },
           "baxis": {
            "gridcolor": "white",
            "linecolor": "white",
            "ticks": ""
           },
           "bgcolor": "#E5ECF6",
           "caxis": {
            "gridcolor": "white",
            "linecolor": "white",
            "ticks": ""
           }
          },
          "title": {
           "x": 0.05
          },
          "xaxis": {
           "automargin": true,
           "gridcolor": "white",
           "linecolor": "white",
           "ticks": "",
           "title": {
            "standoff": 15
           },
           "zerolinecolor": "white",
           "zerolinewidth": 2
          },
          "yaxis": {
           "automargin": true,
           "gridcolor": "white",
           "linecolor": "white",
           "ticks": "",
           "title": {
            "standoff": 15
           },
           "zerolinecolor": "white",
           "zerolinewidth": 2
          }
         }
        },
        "xaxis": {
         "anchor": "y",
         "categoryarray": [
          "Formazione",
          "Fantasy",
          "Giallo",
          "Psicologico",
          "Storico",
          "Avventura",
          "Biografia",
          "Azione/Thriller",
          "Rosa",
          "Storiografia",
          "Sci-Fi",
          "Commedia",
          "Horror"
         ],
         "categoryorder": "array",
         "domain": [
          0,
          1
         ],
         "title": {
          "text": "Genere letterario preferito"
         }
        },
        "yaxis": {
         "anchor": "x",
         "domain": [
          0,
          1
         ],
         "tickformat": "%",
         "title": {
          "text": "Frequenza"
         }
        }
       }
      }
     },
     "metadata": {}
    }
   ],
   "source": [
    "# Convert the genre list into a df\n",
    "df_genre = pd.DataFrame(reformatQuest['Genere letterario preferito'], columns=['Genere letterario preferito'])\n",
    "\n",
    "# Count occurrences, transform in a df and rename\n",
    "counts = df['Genere letterario preferito']\\\n",
    "    .value_counts()\\\n",
    "    .to_frame()\\\n",
    "    .rename(columns={'Genere letterario preferito': 'f'})\n",
    "\n",
    "# Join the previous two, replace NaN with 0s and sort everything for better view\n",
    "df_genre = df_genre\\\n",
    "    .join(counts, on='Genere letterario preferito')\\\n",
    "    .replace(np.NaN, 0)\\\n",
    "    .sort_values(by='f', ascending=False)\n",
    "\n",
    "# From float to int\n",
    "df_genre['f'] = df_genre['f'].astype(int)\n",
    "\n",
    "# Relative freq\n",
    "total_amount = df_genre['f'].sum()\n",
    "df_genre['f'] = df_genre['f'] / total_amount\n",
    "\n",
    "# Plot everything\n",
    "bar_genre = px.bar(df_genre, x = 'Genere letterario preferito', y = 'f', labels={'f': 'Frequenza'}, color='Genere letterario preferito')\n",
    "\n",
    "# Add % sign to the ticks\n",
    "bar_genre.update_layout(yaxis_tickformat = '%')\n",
    "bar_genre.show()\n",
    "save_plot(bar_genre, 'bar_genre')"
   ]
  },
  {
   "cell_type": "code",
   "execution_count": 81,
   "metadata": {
    "collapsed": false,
    "jupyter": {
     "outputs_hidden": false
    },
    "pycharm": {
     "name": "#%%\n"
    }
   },
   "outputs": [
    {
     "output_type": "display_data",
     "data": {
      "application/vnd.plotly.v1+json": {
       "config": {
        "plotlyServerURL": "https://plot.ly"
       },
       "data": [
        {
         "alignmentgroup": "True",
         "hovertemplate": "Età=18-25<br>Genere letterario preferito=%{x}<br>Frequenza=%{y}<extra></extra>",
         "legendgroup": "18-25",
         "marker": {
          "color": "#636efa"
         },
         "name": "18-25",
         "offsetgroup": "18-25",
         "orientation": "v",
         "showlegend": true,
         "textposition": "auto",
         "type": "bar",
         "x": [
          "Fantasy",
          "Formazione",
          "Giallo",
          "Psicologico",
          "Avventura",
          "Biografia",
          "Storiografia",
          "Commedia",
          "Rosa",
          "Sci-Fi",
          "Azione/Thriller"
         ],
         "xaxis": "x",
         "y": [
          0.1509433962264151,
          0.11320754716981132,
          0.09433962264150944,
          0.05660377358490566,
          0.03773584905660377,
          0.03773584905660377,
          0.03773584905660377,
          0.018867924528301886,
          0.018867924528301886,
          0.018867924528301886,
          0.018867924528301886
         ],
         "yaxis": "y"
        },
        {
         "alignmentgroup": "True",
         "hovertemplate": "Età=56+<br>Genere letterario preferito=%{x}<br>Frequenza=%{y}<extra></extra>",
         "legendgroup": "56+",
         "marker": {
          "color": "#EF553B"
         },
         "name": "56+",
         "offsetgroup": "56+",
         "orientation": "v",
         "showlegend": true,
         "textposition": "auto",
         "type": "bar",
         "x": [
          "Storico",
          "Formazione",
          "Fantasy"
         ],
         "xaxis": "x",
         "y": [
          0.05660377358490566,
          0.018867924528301886,
          0.018867924528301886
         ],
         "yaxis": "y"
        },
        {
         "alignmentgroup": "True",
         "hovertemplate": "Età=46-55<br>Genere letterario preferito=%{x}<br>Frequenza=%{y}<extra></extra>",
         "legendgroup": "46-55",
         "marker": {
          "color": "#00cc96"
         },
         "name": "46-55",
         "offsetgroup": "46-55",
         "orientation": "v",
         "showlegend": true,
         "textposition": "auto",
         "type": "bar",
         "x": [
          "Giallo",
          "Formazione",
          "Psicologico",
          "Rosa",
          "Storico"
         ],
         "xaxis": "x",
         "y": [
          0.05660377358490566,
          0.03773584905660377,
          0.018867924528301886,
          0.018867924528301886,
          0.018867924528301886
         ],
         "yaxis": "y"
        },
        {
         "alignmentgroup": "True",
         "hovertemplate": "Età=26-35<br>Genere letterario preferito=%{x}<br>Frequenza=%{y}<extra></extra>",
         "legendgroup": "26-35",
         "marker": {
          "color": "#ab63fa"
         },
         "name": "26-35",
         "offsetgroup": "26-35",
         "orientation": "v",
         "showlegend": true,
         "textposition": "auto",
         "type": "bar",
         "x": [
          "Psicologico",
          "Formazione",
          "Avventura",
          "Fantasy",
          "Azione/Thriller"
         ],
         "xaxis": "x",
         "y": [
          0.03773584905660377,
          0.018867924528301886,
          0.018867924528301886,
          0.018867924528301886,
          0.018867924528301886
         ],
         "yaxis": "y"
        },
        {
         "alignmentgroup": "True",
         "hovertemplate": "Età=36-45<br>Genere letterario preferito=%{x}<br>Frequenza=%{y}<extra></extra>",
         "legendgroup": "36-45",
         "marker": {
          "color": "#FFA15A"
         },
         "name": "36-45",
         "offsetgroup": "36-45",
         "orientation": "v",
         "showlegend": true,
         "textposition": "auto",
         "type": "bar",
         "x": [
          "Formazione",
          "Biografia"
         ],
         "xaxis": "x",
         "y": [
          0.018867924528301886,
          0.018867924528301886
         ],
         "yaxis": "y"
        }
       ],
       "layout": {
        "barmode": "relative",
        "legend": {
         "title": {
          "text": "Età"
         },
         "tracegroupgap": 0
        },
        "margin": {
         "t": 60
        },
        "template": {
         "data": {
          "bar": [
           {
            "error_x": {
             "color": "#2a3f5f"
            },
            "error_y": {
             "color": "#2a3f5f"
            },
            "marker": {
             "line": {
              "color": "#E5ECF6",
              "width": 0.5
             }
            },
            "type": "bar"
           }
          ],
          "barpolar": [
           {
            "marker": {
             "line": {
              "color": "#E5ECF6",
              "width": 0.5
             }
            },
            "type": "barpolar"
           }
          ],
          "carpet": [
           {
            "aaxis": {
             "endlinecolor": "#2a3f5f",
             "gridcolor": "white",
             "linecolor": "white",
             "minorgridcolor": "white",
             "startlinecolor": "#2a3f5f"
            },
            "baxis": {
             "endlinecolor": "#2a3f5f",
             "gridcolor": "white",
             "linecolor": "white",
             "minorgridcolor": "white",
             "startlinecolor": "#2a3f5f"
            },
            "type": "carpet"
           }
          ],
          "choropleth": [
           {
            "colorbar": {
             "outlinewidth": 0,
             "ticks": ""
            },
            "type": "choropleth"
           }
          ],
          "contour": [
           {
            "colorbar": {
             "outlinewidth": 0,
             "ticks": ""
            },
            "colorscale": [
             [
              0,
              "#0d0887"
             ],
             [
              0.1111111111111111,
              "#46039f"
             ],
             [
              0.2222222222222222,
              "#7201a8"
             ],
             [
              0.3333333333333333,
              "#9c179e"
             ],
             [
              0.4444444444444444,
              "#bd3786"
             ],
             [
              0.5555555555555556,
              "#d8576b"
             ],
             [
              0.6666666666666666,
              "#ed7953"
             ],
             [
              0.7777777777777778,
              "#fb9f3a"
             ],
             [
              0.8888888888888888,
              "#fdca26"
             ],
             [
              1,
              "#f0f921"
             ]
            ],
            "type": "contour"
           }
          ],
          "contourcarpet": [
           {
            "colorbar": {
             "outlinewidth": 0,
             "ticks": ""
            },
            "type": "contourcarpet"
           }
          ],
          "heatmap": [
           {
            "colorbar": {
             "outlinewidth": 0,
             "ticks": ""
            },
            "colorscale": [
             [
              0,
              "#0d0887"
             ],
             [
              0.1111111111111111,
              "#46039f"
             ],
             [
              0.2222222222222222,
              "#7201a8"
             ],
             [
              0.3333333333333333,
              "#9c179e"
             ],
             [
              0.4444444444444444,
              "#bd3786"
             ],
             [
              0.5555555555555556,
              "#d8576b"
             ],
             [
              0.6666666666666666,
              "#ed7953"
             ],
             [
              0.7777777777777778,
              "#fb9f3a"
             ],
             [
              0.8888888888888888,
              "#fdca26"
             ],
             [
              1,
              "#f0f921"
             ]
            ],
            "type": "heatmap"
           }
          ],
          "heatmapgl": [
           {
            "colorbar": {
             "outlinewidth": 0,
             "ticks": ""
            },
            "colorscale": [
             [
              0,
              "#0d0887"
             ],
             [
              0.1111111111111111,
              "#46039f"
             ],
             [
              0.2222222222222222,
              "#7201a8"
             ],
             [
              0.3333333333333333,
              "#9c179e"
             ],
             [
              0.4444444444444444,
              "#bd3786"
             ],
             [
              0.5555555555555556,
              "#d8576b"
             ],
             [
              0.6666666666666666,
              "#ed7953"
             ],
             [
              0.7777777777777778,
              "#fb9f3a"
             ],
             [
              0.8888888888888888,
              "#fdca26"
             ],
             [
              1,
              "#f0f921"
             ]
            ],
            "type": "heatmapgl"
           }
          ],
          "histogram": [
           {
            "marker": {
             "colorbar": {
              "outlinewidth": 0,
              "ticks": ""
             }
            },
            "type": "histogram"
           }
          ],
          "histogram2d": [
           {
            "colorbar": {
             "outlinewidth": 0,
             "ticks": ""
            },
            "colorscale": [
             [
              0,
              "#0d0887"
             ],
             [
              0.1111111111111111,
              "#46039f"
             ],
             [
              0.2222222222222222,
              "#7201a8"
             ],
             [
              0.3333333333333333,
              "#9c179e"
             ],
             [
              0.4444444444444444,
              "#bd3786"
             ],
             [
              0.5555555555555556,
              "#d8576b"
             ],
             [
              0.6666666666666666,
              "#ed7953"
             ],
             [
              0.7777777777777778,
              "#fb9f3a"
             ],
             [
              0.8888888888888888,
              "#fdca26"
             ],
             [
              1,
              "#f0f921"
             ]
            ],
            "type": "histogram2d"
           }
          ],
          "histogram2dcontour": [
           {
            "colorbar": {
             "outlinewidth": 0,
             "ticks": ""
            },
            "colorscale": [
             [
              0,
              "#0d0887"
             ],
             [
              0.1111111111111111,
              "#46039f"
             ],
             [
              0.2222222222222222,
              "#7201a8"
             ],
             [
              0.3333333333333333,
              "#9c179e"
             ],
             [
              0.4444444444444444,
              "#bd3786"
             ],
             [
              0.5555555555555556,
              "#d8576b"
             ],
             [
              0.6666666666666666,
              "#ed7953"
             ],
             [
              0.7777777777777778,
              "#fb9f3a"
             ],
             [
              0.8888888888888888,
              "#fdca26"
             ],
             [
              1,
              "#f0f921"
             ]
            ],
            "type": "histogram2dcontour"
           }
          ],
          "mesh3d": [
           {
            "colorbar": {
             "outlinewidth": 0,
             "ticks": ""
            },
            "type": "mesh3d"
           }
          ],
          "parcoords": [
           {
            "line": {
             "colorbar": {
              "outlinewidth": 0,
              "ticks": ""
             }
            },
            "type": "parcoords"
           }
          ],
          "pie": [
           {
            "automargin": true,
            "type": "pie"
           }
          ],
          "scatter": [
           {
            "marker": {
             "colorbar": {
              "outlinewidth": 0,
              "ticks": ""
             }
            },
            "type": "scatter"
           }
          ],
          "scatter3d": [
           {
            "line": {
             "colorbar": {
              "outlinewidth": 0,
              "ticks": ""
             }
            },
            "marker": {
             "colorbar": {
              "outlinewidth": 0,
              "ticks": ""
             }
            },
            "type": "scatter3d"
           }
          ],
          "scattercarpet": [
           {
            "marker": {
             "colorbar": {
              "outlinewidth": 0,
              "ticks": ""
             }
            },
            "type": "scattercarpet"
           }
          ],
          "scattergeo": [
           {
            "marker": {
             "colorbar": {
              "outlinewidth": 0,
              "ticks": ""
             }
            },
            "type": "scattergeo"
           }
          ],
          "scattergl": [
           {
            "marker": {
             "colorbar": {
              "outlinewidth": 0,
              "ticks": ""
             }
            },
            "type": "scattergl"
           }
          ],
          "scattermapbox": [
           {
            "marker": {
             "colorbar": {
              "outlinewidth": 0,
              "ticks": ""
             }
            },
            "type": "scattermapbox"
           }
          ],
          "scatterpolar": [
           {
            "marker": {
             "colorbar": {
              "outlinewidth": 0,
              "ticks": ""
             }
            },
            "type": "scatterpolar"
           }
          ],
          "scatterpolargl": [
           {
            "marker": {
             "colorbar": {
              "outlinewidth": 0,
              "ticks": ""
             }
            },
            "type": "scatterpolargl"
           }
          ],
          "scatterternary": [
           {
            "marker": {
             "colorbar": {
              "outlinewidth": 0,
              "ticks": ""
             }
            },
            "type": "scatterternary"
           }
          ],
          "surface": [
           {
            "colorbar": {
             "outlinewidth": 0,
             "ticks": ""
            },
            "colorscale": [
             [
              0,
              "#0d0887"
             ],
             [
              0.1111111111111111,
              "#46039f"
             ],
             [
              0.2222222222222222,
              "#7201a8"
             ],
             [
              0.3333333333333333,
              "#9c179e"
             ],
             [
              0.4444444444444444,
              "#bd3786"
             ],
             [
              0.5555555555555556,
              "#d8576b"
             ],
             [
              0.6666666666666666,
              "#ed7953"
             ],
             [
              0.7777777777777778,
              "#fb9f3a"
             ],
             [
              0.8888888888888888,
              "#fdca26"
             ],
             [
              1,
              "#f0f921"
             ]
            ],
            "type": "surface"
           }
          ],
          "table": [
           {
            "cells": {
             "fill": {
              "color": "#EBF0F8"
             },
             "line": {
              "color": "white"
             }
            },
            "header": {
             "fill": {
              "color": "#C8D4E3"
             },
             "line": {
              "color": "white"
             }
            },
            "type": "table"
           }
          ]
         },
         "layout": {
          "annotationdefaults": {
           "arrowcolor": "#2a3f5f",
           "arrowhead": 0,
           "arrowwidth": 1
          },
          "autotypenumbers": "strict",
          "coloraxis": {
           "colorbar": {
            "outlinewidth": 0,
            "ticks": ""
           }
          },
          "colorscale": {
           "diverging": [
            [
             0,
             "#8e0152"
            ],
            [
             0.1,
             "#c51b7d"
            ],
            [
             0.2,
             "#de77ae"
            ],
            [
             0.3,
             "#f1b6da"
            ],
            [
             0.4,
             "#fde0ef"
            ],
            [
             0.5,
             "#f7f7f7"
            ],
            [
             0.6,
             "#e6f5d0"
            ],
            [
             0.7,
             "#b8e186"
            ],
            [
             0.8,
             "#7fbc41"
            ],
            [
             0.9,
             "#4d9221"
            ],
            [
             1,
             "#276419"
            ]
           ],
           "sequential": [
            [
             0,
             "#0d0887"
            ],
            [
             0.1111111111111111,
             "#46039f"
            ],
            [
             0.2222222222222222,
             "#7201a8"
            ],
            [
             0.3333333333333333,
             "#9c179e"
            ],
            [
             0.4444444444444444,
             "#bd3786"
            ],
            [
             0.5555555555555556,
             "#d8576b"
            ],
            [
             0.6666666666666666,
             "#ed7953"
            ],
            [
             0.7777777777777778,
             "#fb9f3a"
            ],
            [
             0.8888888888888888,
             "#fdca26"
            ],
            [
             1,
             "#f0f921"
            ]
           ],
           "sequentialminus": [
            [
             0,
             "#0d0887"
            ],
            [
             0.1111111111111111,
             "#46039f"
            ],
            [
             0.2222222222222222,
             "#7201a8"
            ],
            [
             0.3333333333333333,
             "#9c179e"
            ],
            [
             0.4444444444444444,
             "#bd3786"
            ],
            [
             0.5555555555555556,
             "#d8576b"
            ],
            [
             0.6666666666666666,
             "#ed7953"
            ],
            [
             0.7777777777777778,
             "#fb9f3a"
            ],
            [
             0.8888888888888888,
             "#fdca26"
            ],
            [
             1,
             "#f0f921"
            ]
           ]
          },
          "colorway": [
           "#636efa",
           "#EF553B",
           "#00cc96",
           "#ab63fa",
           "#FFA15A",
           "#19d3f3",
           "#FF6692",
           "#B6E880",
           "#FF97FF",
           "#FECB52"
          ],
          "font": {
           "color": "#2a3f5f"
          },
          "geo": {
           "bgcolor": "white",
           "lakecolor": "white",
           "landcolor": "#E5ECF6",
           "showlakes": true,
           "showland": true,
           "subunitcolor": "white"
          },
          "hoverlabel": {
           "align": "left"
          },
          "hovermode": "closest",
          "mapbox": {
           "style": "light"
          },
          "paper_bgcolor": "white",
          "plot_bgcolor": "#E5ECF6",
          "polar": {
           "angularaxis": {
            "gridcolor": "white",
            "linecolor": "white",
            "ticks": ""
           },
           "bgcolor": "#E5ECF6",
           "radialaxis": {
            "gridcolor": "white",
            "linecolor": "white",
            "ticks": ""
           }
          },
          "scene": {
           "xaxis": {
            "backgroundcolor": "#E5ECF6",
            "gridcolor": "white",
            "gridwidth": 2,
            "linecolor": "white",
            "showbackground": true,
            "ticks": "",
            "zerolinecolor": "white"
           },
           "yaxis": {
            "backgroundcolor": "#E5ECF6",
            "gridcolor": "white",
            "gridwidth": 2,
            "linecolor": "white",
            "showbackground": true,
            "ticks": "",
            "zerolinecolor": "white"
           },
           "zaxis": {
            "backgroundcolor": "#E5ECF6",
            "gridcolor": "white",
            "gridwidth": 2,
            "linecolor": "white",
            "showbackground": true,
            "ticks": "",
            "zerolinecolor": "white"
           }
          },
          "shapedefaults": {
           "line": {
            "color": "#2a3f5f"
           }
          },
          "ternary": {
           "aaxis": {
            "gridcolor": "white",
            "linecolor": "white",
            "ticks": ""
           },
           "baxis": {
            "gridcolor": "white",
            "linecolor": "white",
            "ticks": ""
           },
           "bgcolor": "#E5ECF6",
           "caxis": {
            "gridcolor": "white",
            "linecolor": "white",
            "ticks": ""
           }
          },
          "title": {
           "x": 0.05
          },
          "xaxis": {
           "automargin": true,
           "gridcolor": "white",
           "linecolor": "white",
           "ticks": "",
           "title": {
            "standoff": 15
           },
           "zerolinecolor": "white",
           "zerolinewidth": 2
          },
          "yaxis": {
           "automargin": true,
           "gridcolor": "white",
           "linecolor": "white",
           "ticks": "",
           "title": {
            "standoff": 15
           },
           "zerolinecolor": "white",
           "zerolinewidth": 2
          }
         }
        },
        "xaxis": {
         "anchor": "y",
         "domain": [
          0,
          1
         ],
         "title": {
          "text": "Genere letterario preferito"
         }
        },
        "yaxis": {
         "anchor": "x",
         "domain": [
          0,
          1
         ],
         "tickformat": "%",
         "title": {
          "text": "Frequenza"
         }
        }
       }
      }
     },
     "metadata": {}
    }
   ],
   "source": [
    "# Plot based on genre and age\n",
    "df_genre_age = get_freq(df, ['Genere letterario preferito', 'Età'])\n",
    "\n",
    "# Relative freq\n",
    "df_genre_age = to_relative_freq(df_genre_age)\n",
    "\n",
    "bar_genre_age = px.bar(df_genre_age, x = 'Genere letterario preferito', labels = {'f': 'Frequenza'}, y = 'f', color='Età')\n",
    "\n",
    "# Add % sign to the ticks\n",
    "bar_genre_age.update_layout(yaxis_tickformat = '%')\n",
    "\n",
    "bar_genre_age.show()\n",
    "save_plot(bar_genre_age, 'bar_genre_age')"
   ]
  },
  {
   "cell_type": "code",
   "execution_count": 82,
   "metadata": {},
   "outputs": [
    {
     "output_type": "display_data",
     "data": {
      "application/vnd.plotly.v1+json": {
       "config": {
        "plotlyServerURL": "https://plot.ly"
       },
       "data": [
        {
         "alignmentgroup": "True",
         "bingroup": "x",
         "histnorm": "probability",
         "hovertemplate": "variable=0<br>Età=%{x}<br>count=%{y}<extra></extra>",
         "legendgroup": "0",
         "marker": {
          "color": "#636efa"
         },
         "name": "0",
         "offsetgroup": "0",
         "orientation": "v",
         "showlegend": true,
         "type": "histogram",
         "x": [
          36,
          46,
          18,
          18,
          18,
          18,
          18,
          18,
          18,
          18,
          18,
          56,
          26,
          26,
          18,
          18,
          18,
          18,
          56,
          18,
          46,
          26,
          18,
          46,
          18,
          18,
          18,
          18,
          46,
          26,
          18,
          18,
          56,
          46,
          26,
          36,
          18,
          46,
          46,
          18,
          18,
          26,
          18,
          18,
          18,
          18,
          18,
          18,
          56,
          18,
          18,
          46,
          56
         ],
         "xaxis": "x",
         "xbins": {
          "end": 80,
          "size": 10,
          "start": 16
         },
         "yaxis": "y"
        }
       ],
       "layout": {
        "barmode": "relative",
        "legend": {
         "title": {
          "text": "variable"
         },
         "tracegroupgap": 0
        },
        "margin": {
         "t": 60
        },
        "showlegend": false,
        "template": {
         "data": {
          "bar": [
           {
            "error_x": {
             "color": "#2a3f5f"
            },
            "error_y": {
             "color": "#2a3f5f"
            },
            "marker": {
             "line": {
              "color": "#E5ECF6",
              "width": 0.5
             }
            },
            "type": "bar"
           }
          ],
          "barpolar": [
           {
            "marker": {
             "line": {
              "color": "#E5ECF6",
              "width": 0.5
             }
            },
            "type": "barpolar"
           }
          ],
          "carpet": [
           {
            "aaxis": {
             "endlinecolor": "#2a3f5f",
             "gridcolor": "white",
             "linecolor": "white",
             "minorgridcolor": "white",
             "startlinecolor": "#2a3f5f"
            },
            "baxis": {
             "endlinecolor": "#2a3f5f",
             "gridcolor": "white",
             "linecolor": "white",
             "minorgridcolor": "white",
             "startlinecolor": "#2a3f5f"
            },
            "type": "carpet"
           }
          ],
          "choropleth": [
           {
            "colorbar": {
             "outlinewidth": 0,
             "ticks": ""
            },
            "type": "choropleth"
           }
          ],
          "contour": [
           {
            "colorbar": {
             "outlinewidth": 0,
             "ticks": ""
            },
            "colorscale": [
             [
              0,
              "#0d0887"
             ],
             [
              0.1111111111111111,
              "#46039f"
             ],
             [
              0.2222222222222222,
              "#7201a8"
             ],
             [
              0.3333333333333333,
              "#9c179e"
             ],
             [
              0.4444444444444444,
              "#bd3786"
             ],
             [
              0.5555555555555556,
              "#d8576b"
             ],
             [
              0.6666666666666666,
              "#ed7953"
             ],
             [
              0.7777777777777778,
              "#fb9f3a"
             ],
             [
              0.8888888888888888,
              "#fdca26"
             ],
             [
              1,
              "#f0f921"
             ]
            ],
            "type": "contour"
           }
          ],
          "contourcarpet": [
           {
            "colorbar": {
             "outlinewidth": 0,
             "ticks": ""
            },
            "type": "contourcarpet"
           }
          ],
          "heatmap": [
           {
            "colorbar": {
             "outlinewidth": 0,
             "ticks": ""
            },
            "colorscale": [
             [
              0,
              "#0d0887"
             ],
             [
              0.1111111111111111,
              "#46039f"
             ],
             [
              0.2222222222222222,
              "#7201a8"
             ],
             [
              0.3333333333333333,
              "#9c179e"
             ],
             [
              0.4444444444444444,
              "#bd3786"
             ],
             [
              0.5555555555555556,
              "#d8576b"
             ],
             [
              0.6666666666666666,
              "#ed7953"
             ],
             [
              0.7777777777777778,
              "#fb9f3a"
             ],
             [
              0.8888888888888888,
              "#fdca26"
             ],
             [
              1,
              "#f0f921"
             ]
            ],
            "type": "heatmap"
           }
          ],
          "heatmapgl": [
           {
            "colorbar": {
             "outlinewidth": 0,
             "ticks": ""
            },
            "colorscale": [
             [
              0,
              "#0d0887"
             ],
             [
              0.1111111111111111,
              "#46039f"
             ],
             [
              0.2222222222222222,
              "#7201a8"
             ],
             [
              0.3333333333333333,
              "#9c179e"
             ],
             [
              0.4444444444444444,
              "#bd3786"
             ],
             [
              0.5555555555555556,
              "#d8576b"
             ],
             [
              0.6666666666666666,
              "#ed7953"
             ],
             [
              0.7777777777777778,
              "#fb9f3a"
             ],
             [
              0.8888888888888888,
              "#fdca26"
             ],
             [
              1,
              "#f0f921"
             ]
            ],
            "type": "heatmapgl"
           }
          ],
          "histogram": [
           {
            "marker": {
             "colorbar": {
              "outlinewidth": 0,
              "ticks": ""
             }
            },
            "type": "histogram"
           }
          ],
          "histogram2d": [
           {
            "colorbar": {
             "outlinewidth": 0,
             "ticks": ""
            },
            "colorscale": [
             [
              0,
              "#0d0887"
             ],
             [
              0.1111111111111111,
              "#46039f"
             ],
             [
              0.2222222222222222,
              "#7201a8"
             ],
             [
              0.3333333333333333,
              "#9c179e"
             ],
             [
              0.4444444444444444,
              "#bd3786"
             ],
             [
              0.5555555555555556,
              "#d8576b"
             ],
             [
              0.6666666666666666,
              "#ed7953"
             ],
             [
              0.7777777777777778,
              "#fb9f3a"
             ],
             [
              0.8888888888888888,
              "#fdca26"
             ],
             [
              1,
              "#f0f921"
             ]
            ],
            "type": "histogram2d"
           }
          ],
          "histogram2dcontour": [
           {
            "colorbar": {
             "outlinewidth": 0,
             "ticks": ""
            },
            "colorscale": [
             [
              0,
              "#0d0887"
             ],
             [
              0.1111111111111111,
              "#46039f"
             ],
             [
              0.2222222222222222,
              "#7201a8"
             ],
             [
              0.3333333333333333,
              "#9c179e"
             ],
             [
              0.4444444444444444,
              "#bd3786"
             ],
             [
              0.5555555555555556,
              "#d8576b"
             ],
             [
              0.6666666666666666,
              "#ed7953"
             ],
             [
              0.7777777777777778,
              "#fb9f3a"
             ],
             [
              0.8888888888888888,
              "#fdca26"
             ],
             [
              1,
              "#f0f921"
             ]
            ],
            "type": "histogram2dcontour"
           }
          ],
          "mesh3d": [
           {
            "colorbar": {
             "outlinewidth": 0,
             "ticks": ""
            },
            "type": "mesh3d"
           }
          ],
          "parcoords": [
           {
            "line": {
             "colorbar": {
              "outlinewidth": 0,
              "ticks": ""
             }
            },
            "type": "parcoords"
           }
          ],
          "pie": [
           {
            "automargin": true,
            "type": "pie"
           }
          ],
          "scatter": [
           {
            "marker": {
             "colorbar": {
              "outlinewidth": 0,
              "ticks": ""
             }
            },
            "type": "scatter"
           }
          ],
          "scatter3d": [
           {
            "line": {
             "colorbar": {
              "outlinewidth": 0,
              "ticks": ""
             }
            },
            "marker": {
             "colorbar": {
              "outlinewidth": 0,
              "ticks": ""
             }
            },
            "type": "scatter3d"
           }
          ],
          "scattercarpet": [
           {
            "marker": {
             "colorbar": {
              "outlinewidth": 0,
              "ticks": ""
             }
            },
            "type": "scattercarpet"
           }
          ],
          "scattergeo": [
           {
            "marker": {
             "colorbar": {
              "outlinewidth": 0,
              "ticks": ""
             }
            },
            "type": "scattergeo"
           }
          ],
          "scattergl": [
           {
            "marker": {
             "colorbar": {
              "outlinewidth": 0,
              "ticks": ""
             }
            },
            "type": "scattergl"
           }
          ],
          "scattermapbox": [
           {
            "marker": {
             "colorbar": {
              "outlinewidth": 0,
              "ticks": ""
             }
            },
            "type": "scattermapbox"
           }
          ],
          "scatterpolar": [
           {
            "marker": {
             "colorbar": {
              "outlinewidth": 0,
              "ticks": ""
             }
            },
            "type": "scatterpolar"
           }
          ],
          "scatterpolargl": [
           {
            "marker": {
             "colorbar": {
              "outlinewidth": 0,
              "ticks": ""
             }
            },
            "type": "scatterpolargl"
           }
          ],
          "scatterternary": [
           {
            "marker": {
             "colorbar": {
              "outlinewidth": 0,
              "ticks": ""
             }
            },
            "type": "scatterternary"
           }
          ],
          "surface": [
           {
            "colorbar": {
             "outlinewidth": 0,
             "ticks": ""
            },
            "colorscale": [
             [
              0,
              "#0d0887"
             ],
             [
              0.1111111111111111,
              "#46039f"
             ],
             [
              0.2222222222222222,
              "#7201a8"
             ],
             [
              0.3333333333333333,
              "#9c179e"
             ],
             [
              0.4444444444444444,
              "#bd3786"
             ],
             [
              0.5555555555555556,
              "#d8576b"
             ],
             [
              0.6666666666666666,
              "#ed7953"
             ],
             [
              0.7777777777777778,
              "#fb9f3a"
             ],
             [
              0.8888888888888888,
              "#fdca26"
             ],
             [
              1,
              "#f0f921"
             ]
            ],
            "type": "surface"
           }
          ],
          "table": [
           {
            "cells": {
             "fill": {
              "color": "#EBF0F8"
             },
             "line": {
              "color": "white"
             }
            },
            "header": {
             "fill": {
              "color": "#C8D4E3"
             },
             "line": {
              "color": "white"
             }
            },
            "type": "table"
           }
          ]
         },
         "layout": {
          "annotationdefaults": {
           "arrowcolor": "#2a3f5f",
           "arrowhead": 0,
           "arrowwidth": 1
          },
          "autotypenumbers": "strict",
          "coloraxis": {
           "colorbar": {
            "outlinewidth": 0,
            "ticks": ""
           }
          },
          "colorscale": {
           "diverging": [
            [
             0,
             "#8e0152"
            ],
            [
             0.1,
             "#c51b7d"
            ],
            [
             0.2,
             "#de77ae"
            ],
            [
             0.3,
             "#f1b6da"
            ],
            [
             0.4,
             "#fde0ef"
            ],
            [
             0.5,
             "#f7f7f7"
            ],
            [
             0.6,
             "#e6f5d0"
            ],
            [
             0.7,
             "#b8e186"
            ],
            [
             0.8,
             "#7fbc41"
            ],
            [
             0.9,
             "#4d9221"
            ],
            [
             1,
             "#276419"
            ]
           ],
           "sequential": [
            [
             0,
             "#0d0887"
            ],
            [
             0.1111111111111111,
             "#46039f"
            ],
            [
             0.2222222222222222,
             "#7201a8"
            ],
            [
             0.3333333333333333,
             "#9c179e"
            ],
            [
             0.4444444444444444,
             "#bd3786"
            ],
            [
             0.5555555555555556,
             "#d8576b"
            ],
            [
             0.6666666666666666,
             "#ed7953"
            ],
            [
             0.7777777777777778,
             "#fb9f3a"
            ],
            [
             0.8888888888888888,
             "#fdca26"
            ],
            [
             1,
             "#f0f921"
            ]
           ],
           "sequentialminus": [
            [
             0,
             "#0d0887"
            ],
            [
             0.1111111111111111,
             "#46039f"
            ],
            [
             0.2222222222222222,
             "#7201a8"
            ],
            [
             0.3333333333333333,
             "#9c179e"
            ],
            [
             0.4444444444444444,
             "#bd3786"
            ],
            [
             0.5555555555555556,
             "#d8576b"
            ],
            [
             0.6666666666666666,
             "#ed7953"
            ],
            [
             0.7777777777777778,
             "#fb9f3a"
            ],
            [
             0.8888888888888888,
             "#fdca26"
            ],
            [
             1,
             "#f0f921"
            ]
           ]
          },
          "colorway": [
           "#636efa",
           "#EF553B",
           "#00cc96",
           "#ab63fa",
           "#FFA15A",
           "#19d3f3",
           "#FF6692",
           "#B6E880",
           "#FF97FF",
           "#FECB52"
          ],
          "font": {
           "color": "#2a3f5f"
          },
          "geo": {
           "bgcolor": "white",
           "lakecolor": "white",
           "landcolor": "#E5ECF6",
           "showlakes": true,
           "showland": true,
           "subunitcolor": "white"
          },
          "hoverlabel": {
           "align": "left"
          },
          "hovermode": "closest",
          "mapbox": {
           "style": "light"
          },
          "paper_bgcolor": "white",
          "plot_bgcolor": "#E5ECF6",
          "polar": {
           "angularaxis": {
            "gridcolor": "white",
            "linecolor": "white",
            "ticks": ""
           },
           "bgcolor": "#E5ECF6",
           "radialaxis": {
            "gridcolor": "white",
            "linecolor": "white",
            "ticks": ""
           }
          },
          "scene": {
           "xaxis": {
            "backgroundcolor": "#E5ECF6",
            "gridcolor": "white",
            "gridwidth": 2,
            "linecolor": "white",
            "showbackground": true,
            "ticks": "",
            "zerolinecolor": "white"
           },
           "yaxis": {
            "backgroundcolor": "#E5ECF6",
            "gridcolor": "white",
            "gridwidth": 2,
            "linecolor": "white",
            "showbackground": true,
            "ticks": "",
            "zerolinecolor": "white"
           },
           "zaxis": {
            "backgroundcolor": "#E5ECF6",
            "gridcolor": "white",
            "gridwidth": 2,
            "linecolor": "white",
            "showbackground": true,
            "ticks": "",
            "zerolinecolor": "white"
           }
          },
          "shapedefaults": {
           "line": {
            "color": "#2a3f5f"
           }
          },
          "ternary": {
           "aaxis": {
            "gridcolor": "white",
            "linecolor": "white",
            "ticks": ""
           },
           "baxis": {
            "gridcolor": "white",
            "linecolor": "white",
            "ticks": ""
           },
           "bgcolor": "#E5ECF6",
           "caxis": {
            "gridcolor": "white",
            "linecolor": "white",
            "ticks": ""
           }
          },
          "title": {
           "x": 0.05
          },
          "xaxis": {
           "automargin": true,
           "gridcolor": "white",
           "linecolor": "white",
           "ticks": "",
           "title": {
            "standoff": 15
           },
           "zerolinecolor": "white",
           "zerolinewidth": 2
          },
          "yaxis": {
           "automargin": true,
           "gridcolor": "white",
           "linecolor": "white",
           "ticks": "",
           "title": {
            "standoff": 15
           },
           "zerolinecolor": "white",
           "zerolinewidth": 2
          }
         }
        },
        "xaxis": {
         "anchor": "y",
         "domain": [
          0,
          1
         ],
         "range": [
          18,
          66
         ],
         "title": {
          "text": "Età"
         }
        },
        "yaxis": {
         "anchor": "x",
         "domain": [
          0,
          1
         ],
         "title": {
          "text": "Frequenza"
         }
        }
       }
      }
     },
     "metadata": {}
    }
   ],
   "source": [
    "# Create dataframe\n",
    "df_age = df[['Età']]\n",
    "\n",
    "# Normalize ages to create a \n",
    "age_normalized = []\n",
    "for _, row in df_age.iterrows():\n",
    "    key = row['Età']\n",
    "    if key == '18-25':\n",
    "        age_normalized.append(18)\n",
    "    elif key == '26-35':\n",
    "        age_normalized.append(26)\n",
    "    elif key == '36-45':\n",
    "        age_normalized.append(36)\n",
    "    elif key == '46-55':\n",
    "        age_normalized.append(46)\n",
    "    else:\n",
    "        age_normalized.append(56)\n",
    "\n",
    "df_age_normalized = pd.DataFrame(age_normalized)\n",
    "\n",
    "# plt.hist(df_age_normalized, bins=[18,26,36,46,56,100], density=True)\n",
    "hist_age = px.histogram(df_age_normalized, histnorm='probability', range_x=[18,66], labels={'value':'Età'})\n",
    "\n",
    "hist_age.update_traces(\n",
    "    xbins=dict( # bins used for histogram\n",
    "        start=16,\n",
    "        end=80,\n",
    "        size=10\n",
    "    )\n",
    ")\n",
    "\n",
    "hist_age.update_layout(\n",
    "    showlegend=False,\n",
    "    yaxis_title='Frequenza'\n",
    ")\n",
    "\n",
    "hist_age.show()\n",
    "\n",
    "save_plot(hist_age, 'hist_age')"
   ]
  },
  {
   "cell_type": "code",
   "execution_count": 71,
   "metadata": {},
   "outputs": [],
   "source": []
  },
  {
   "source": [
    "# Kindle\n",
    "\n",
    "df_kindle = get_freq(df, 'kindle')\n",
    "\n",
    "# Relative freq\n",
    "df_kindle = to_relative_freq(df_kindle)\n",
    "\n",
    "bar_kindle = px.bar(df_kindle, x='kindle', y='f', color='kindle', labels={'kindle': 'Possessori di kindle', 'f': 'Frequenza'})\n",
    "\n",
    "bar_kindle.update_layout(\n",
    "    showlegend=False\n",
    ")\n",
    "\n",
    "bar_kindle.show()\n",
    "\n",
    "save_plot(bar_kindle, 'bar_kindle')"
   ],
   "cell_type": "code",
   "metadata": {},
   "execution_count": 83,
   "outputs": [
    {
     "output_type": "display_data",
     "data": {
      "application/vnd.plotly.v1+json": {
       "config": {
        "plotlyServerURL": "https://plot.ly"
       },
       "data": [
        {
         "alignmentgroup": "True",
         "hovertemplate": "Possessori di kindle=%{x}<br>Frequenza=%{y}<extra></extra>",
         "legendgroup": "No",
         "marker": {
          "color": "#636efa"
         },
         "name": "No",
         "offsetgroup": "No",
         "orientation": "v",
         "showlegend": true,
         "textposition": "auto",
         "type": "bar",
         "x": [
          "No"
         ],
         "xaxis": "x",
         "y": [
          0.6415094339622641
         ],
         "yaxis": "y"
        },
        {
         "alignmentgroup": "True",
         "hovertemplate": "Possessori di kindle=%{x}<br>Frequenza=%{y}<extra></extra>",
         "legendgroup": "Si",
         "marker": {
          "color": "#EF553B"
         },
         "name": "Si",
         "offsetgroup": "Si",
         "orientation": "v",
         "showlegend": true,
         "textposition": "auto",
         "type": "bar",
         "x": [
          "Si"
         ],
         "xaxis": "x",
         "y": [
          0.3584905660377358
         ],
         "yaxis": "y"
        }
       ],
       "layout": {
        "barmode": "relative",
        "legend": {
         "title": {
          "text": "Possessori di kindle"
         },
         "tracegroupgap": 0
        },
        "margin": {
         "t": 60
        },
        "showlegend": false,
        "template": {
         "data": {
          "bar": [
           {
            "error_x": {
             "color": "#2a3f5f"
            },
            "error_y": {
             "color": "#2a3f5f"
            },
            "marker": {
             "line": {
              "color": "#E5ECF6",
              "width": 0.5
             }
            },
            "type": "bar"
           }
          ],
          "barpolar": [
           {
            "marker": {
             "line": {
              "color": "#E5ECF6",
              "width": 0.5
             }
            },
            "type": "barpolar"
           }
          ],
          "carpet": [
           {
            "aaxis": {
             "endlinecolor": "#2a3f5f",
             "gridcolor": "white",
             "linecolor": "white",
             "minorgridcolor": "white",
             "startlinecolor": "#2a3f5f"
            },
            "baxis": {
             "endlinecolor": "#2a3f5f",
             "gridcolor": "white",
             "linecolor": "white",
             "minorgridcolor": "white",
             "startlinecolor": "#2a3f5f"
            },
            "type": "carpet"
           }
          ],
          "choropleth": [
           {
            "colorbar": {
             "outlinewidth": 0,
             "ticks": ""
            },
            "type": "choropleth"
           }
          ],
          "contour": [
           {
            "colorbar": {
             "outlinewidth": 0,
             "ticks": ""
            },
            "colorscale": [
             [
              0,
              "#0d0887"
             ],
             [
              0.1111111111111111,
              "#46039f"
             ],
             [
              0.2222222222222222,
              "#7201a8"
             ],
             [
              0.3333333333333333,
              "#9c179e"
             ],
             [
              0.4444444444444444,
              "#bd3786"
             ],
             [
              0.5555555555555556,
              "#d8576b"
             ],
             [
              0.6666666666666666,
              "#ed7953"
             ],
             [
              0.7777777777777778,
              "#fb9f3a"
             ],
             [
              0.8888888888888888,
              "#fdca26"
             ],
             [
              1,
              "#f0f921"
             ]
            ],
            "type": "contour"
           }
          ],
          "contourcarpet": [
           {
            "colorbar": {
             "outlinewidth": 0,
             "ticks": ""
            },
            "type": "contourcarpet"
           }
          ],
          "heatmap": [
           {
            "colorbar": {
             "outlinewidth": 0,
             "ticks": ""
            },
            "colorscale": [
             [
              0,
              "#0d0887"
             ],
             [
              0.1111111111111111,
              "#46039f"
             ],
             [
              0.2222222222222222,
              "#7201a8"
             ],
             [
              0.3333333333333333,
              "#9c179e"
             ],
             [
              0.4444444444444444,
              "#bd3786"
             ],
             [
              0.5555555555555556,
              "#d8576b"
             ],
             [
              0.6666666666666666,
              "#ed7953"
             ],
             [
              0.7777777777777778,
              "#fb9f3a"
             ],
             [
              0.8888888888888888,
              "#fdca26"
             ],
             [
              1,
              "#f0f921"
             ]
            ],
            "type": "heatmap"
           }
          ],
          "heatmapgl": [
           {
            "colorbar": {
             "outlinewidth": 0,
             "ticks": ""
            },
            "colorscale": [
             [
              0,
              "#0d0887"
             ],
             [
              0.1111111111111111,
              "#46039f"
             ],
             [
              0.2222222222222222,
              "#7201a8"
             ],
             [
              0.3333333333333333,
              "#9c179e"
             ],
             [
              0.4444444444444444,
              "#bd3786"
             ],
             [
              0.5555555555555556,
              "#d8576b"
             ],
             [
              0.6666666666666666,
              "#ed7953"
             ],
             [
              0.7777777777777778,
              "#fb9f3a"
             ],
             [
              0.8888888888888888,
              "#fdca26"
             ],
             [
              1,
              "#f0f921"
             ]
            ],
            "type": "heatmapgl"
           }
          ],
          "histogram": [
           {
            "marker": {
             "colorbar": {
              "outlinewidth": 0,
              "ticks": ""
             }
            },
            "type": "histogram"
           }
          ],
          "histogram2d": [
           {
            "colorbar": {
             "outlinewidth": 0,
             "ticks": ""
            },
            "colorscale": [
             [
              0,
              "#0d0887"
             ],
             [
              0.1111111111111111,
              "#46039f"
             ],
             [
              0.2222222222222222,
              "#7201a8"
             ],
             [
              0.3333333333333333,
              "#9c179e"
             ],
             [
              0.4444444444444444,
              "#bd3786"
             ],
             [
              0.5555555555555556,
              "#d8576b"
             ],
             [
              0.6666666666666666,
              "#ed7953"
             ],
             [
              0.7777777777777778,
              "#fb9f3a"
             ],
             [
              0.8888888888888888,
              "#fdca26"
             ],
             [
              1,
              "#f0f921"
             ]
            ],
            "type": "histogram2d"
           }
          ],
          "histogram2dcontour": [
           {
            "colorbar": {
             "outlinewidth": 0,
             "ticks": ""
            },
            "colorscale": [
             [
              0,
              "#0d0887"
             ],
             [
              0.1111111111111111,
              "#46039f"
             ],
             [
              0.2222222222222222,
              "#7201a8"
             ],
             [
              0.3333333333333333,
              "#9c179e"
             ],
             [
              0.4444444444444444,
              "#bd3786"
             ],
             [
              0.5555555555555556,
              "#d8576b"
             ],
             [
              0.6666666666666666,
              "#ed7953"
             ],
             [
              0.7777777777777778,
              "#fb9f3a"
             ],
             [
              0.8888888888888888,
              "#fdca26"
             ],
             [
              1,
              "#f0f921"
             ]
            ],
            "type": "histogram2dcontour"
           }
          ],
          "mesh3d": [
           {
            "colorbar": {
             "outlinewidth": 0,
             "ticks": ""
            },
            "type": "mesh3d"
           }
          ],
          "parcoords": [
           {
            "line": {
             "colorbar": {
              "outlinewidth": 0,
              "ticks": ""
             }
            },
            "type": "parcoords"
           }
          ],
          "pie": [
           {
            "automargin": true,
            "type": "pie"
           }
          ],
          "scatter": [
           {
            "marker": {
             "colorbar": {
              "outlinewidth": 0,
              "ticks": ""
             }
            },
            "type": "scatter"
           }
          ],
          "scatter3d": [
           {
            "line": {
             "colorbar": {
              "outlinewidth": 0,
              "ticks": ""
             }
            },
            "marker": {
             "colorbar": {
              "outlinewidth": 0,
              "ticks": ""
             }
            },
            "type": "scatter3d"
           }
          ],
          "scattercarpet": [
           {
            "marker": {
             "colorbar": {
              "outlinewidth": 0,
              "ticks": ""
             }
            },
            "type": "scattercarpet"
           }
          ],
          "scattergeo": [
           {
            "marker": {
             "colorbar": {
              "outlinewidth": 0,
              "ticks": ""
             }
            },
            "type": "scattergeo"
           }
          ],
          "scattergl": [
           {
            "marker": {
             "colorbar": {
              "outlinewidth": 0,
              "ticks": ""
             }
            },
            "type": "scattergl"
           }
          ],
          "scattermapbox": [
           {
            "marker": {
             "colorbar": {
              "outlinewidth": 0,
              "ticks": ""
             }
            },
            "type": "scattermapbox"
           }
          ],
          "scatterpolar": [
           {
            "marker": {
             "colorbar": {
              "outlinewidth": 0,
              "ticks": ""
             }
            },
            "type": "scatterpolar"
           }
          ],
          "scatterpolargl": [
           {
            "marker": {
             "colorbar": {
              "outlinewidth": 0,
              "ticks": ""
             }
            },
            "type": "scatterpolargl"
           }
          ],
          "scatterternary": [
           {
            "marker": {
             "colorbar": {
              "outlinewidth": 0,
              "ticks": ""
             }
            },
            "type": "scatterternary"
           }
          ],
          "surface": [
           {
            "colorbar": {
             "outlinewidth": 0,
             "ticks": ""
            },
            "colorscale": [
             [
              0,
              "#0d0887"
             ],
             [
              0.1111111111111111,
              "#46039f"
             ],
             [
              0.2222222222222222,
              "#7201a8"
             ],
             [
              0.3333333333333333,
              "#9c179e"
             ],
             [
              0.4444444444444444,
              "#bd3786"
             ],
             [
              0.5555555555555556,
              "#d8576b"
             ],
             [
              0.6666666666666666,
              "#ed7953"
             ],
             [
              0.7777777777777778,
              "#fb9f3a"
             ],
             [
              0.8888888888888888,
              "#fdca26"
             ],
             [
              1,
              "#f0f921"
             ]
            ],
            "type": "surface"
           }
          ],
          "table": [
           {
            "cells": {
             "fill": {
              "color": "#EBF0F8"
             },
             "line": {
              "color": "white"
             }
            },
            "header": {
             "fill": {
              "color": "#C8D4E3"
             },
             "line": {
              "color": "white"
             }
            },
            "type": "table"
           }
          ]
         },
         "layout": {
          "annotationdefaults": {
           "arrowcolor": "#2a3f5f",
           "arrowhead": 0,
           "arrowwidth": 1
          },
          "autotypenumbers": "strict",
          "coloraxis": {
           "colorbar": {
            "outlinewidth": 0,
            "ticks": ""
           }
          },
          "colorscale": {
           "diverging": [
            [
             0,
             "#8e0152"
            ],
            [
             0.1,
             "#c51b7d"
            ],
            [
             0.2,
             "#de77ae"
            ],
            [
             0.3,
             "#f1b6da"
            ],
            [
             0.4,
             "#fde0ef"
            ],
            [
             0.5,
             "#f7f7f7"
            ],
            [
             0.6,
             "#e6f5d0"
            ],
            [
             0.7,
             "#b8e186"
            ],
            [
             0.8,
             "#7fbc41"
            ],
            [
             0.9,
             "#4d9221"
            ],
            [
             1,
             "#276419"
            ]
           ],
           "sequential": [
            [
             0,
             "#0d0887"
            ],
            [
             0.1111111111111111,
             "#46039f"
            ],
            [
             0.2222222222222222,
             "#7201a8"
            ],
            [
             0.3333333333333333,
             "#9c179e"
            ],
            [
             0.4444444444444444,
             "#bd3786"
            ],
            [
             0.5555555555555556,
             "#d8576b"
            ],
            [
             0.6666666666666666,
             "#ed7953"
            ],
            [
             0.7777777777777778,
             "#fb9f3a"
            ],
            [
             0.8888888888888888,
             "#fdca26"
            ],
            [
             1,
             "#f0f921"
            ]
           ],
           "sequentialminus": [
            [
             0,
             "#0d0887"
            ],
            [
             0.1111111111111111,
             "#46039f"
            ],
            [
             0.2222222222222222,
             "#7201a8"
            ],
            [
             0.3333333333333333,
             "#9c179e"
            ],
            [
             0.4444444444444444,
             "#bd3786"
            ],
            [
             0.5555555555555556,
             "#d8576b"
            ],
            [
             0.6666666666666666,
             "#ed7953"
            ],
            [
             0.7777777777777778,
             "#fb9f3a"
            ],
            [
             0.8888888888888888,
             "#fdca26"
            ],
            [
             1,
             "#f0f921"
            ]
           ]
          },
          "colorway": [
           "#636efa",
           "#EF553B",
           "#00cc96",
           "#ab63fa",
           "#FFA15A",
           "#19d3f3",
           "#FF6692",
           "#B6E880",
           "#FF97FF",
           "#FECB52"
          ],
          "font": {
           "color": "#2a3f5f"
          },
          "geo": {
           "bgcolor": "white",
           "lakecolor": "white",
           "landcolor": "#E5ECF6",
           "showlakes": true,
           "showland": true,
           "subunitcolor": "white"
          },
          "hoverlabel": {
           "align": "left"
          },
          "hovermode": "closest",
          "mapbox": {
           "style": "light"
          },
          "paper_bgcolor": "white",
          "plot_bgcolor": "#E5ECF6",
          "polar": {
           "angularaxis": {
            "gridcolor": "white",
            "linecolor": "white",
            "ticks": ""
           },
           "bgcolor": "#E5ECF6",
           "radialaxis": {
            "gridcolor": "white",
            "linecolor": "white",
            "ticks": ""
           }
          },
          "scene": {
           "xaxis": {
            "backgroundcolor": "#E5ECF6",
            "gridcolor": "white",
            "gridwidth": 2,
            "linecolor": "white",
            "showbackground": true,
            "ticks": "",
            "zerolinecolor": "white"
           },
           "yaxis": {
            "backgroundcolor": "#E5ECF6",
            "gridcolor": "white",
            "gridwidth": 2,
            "linecolor": "white",
            "showbackground": true,
            "ticks": "",
            "zerolinecolor": "white"
           },
           "zaxis": {
            "backgroundcolor": "#E5ECF6",
            "gridcolor": "white",
            "gridwidth": 2,
            "linecolor": "white",
            "showbackground": true,
            "ticks": "",
            "zerolinecolor": "white"
           }
          },
          "shapedefaults": {
           "line": {
            "color": "#2a3f5f"
           }
          },
          "ternary": {
           "aaxis": {
            "gridcolor": "white",
            "linecolor": "white",
            "ticks": ""
           },
           "baxis": {
            "gridcolor": "white",
            "linecolor": "white",
            "ticks": ""
           },
           "bgcolor": "#E5ECF6",
           "caxis": {
            "gridcolor": "white",
            "linecolor": "white",
            "ticks": ""
           }
          },
          "title": {
           "x": 0.05
          },
          "xaxis": {
           "automargin": true,
           "gridcolor": "white",
           "linecolor": "white",
           "ticks": "",
           "title": {
            "standoff": 15
           },
           "zerolinecolor": "white",
           "zerolinewidth": 2
          },
          "yaxis": {
           "automargin": true,
           "gridcolor": "white",
           "linecolor": "white",
           "ticks": "",
           "title": {
            "standoff": 15
           },
           "zerolinecolor": "white",
           "zerolinewidth": 2
          }
         }
        },
        "xaxis": {
         "anchor": "y",
         "categoryarray": [
          "No",
          "Si"
         ],
         "categoryorder": "array",
         "domain": [
          0,
          1
         ],
         "title": {
          "text": "Possessori di kindle"
         }
        },
        "yaxis": {
         "anchor": "x",
         "domain": [
          0,
          1
         ],
         "title": {
          "text": "Frequenza"
         }
        }
       }
      }
     },
     "metadata": {}
    }
   ]
  },
  {
   "cell_type": "code",
   "execution_count": 103,
   "metadata": {},
   "outputs": [
    {
     "output_type": "display_data",
     "data": {
      "application/vnd.plotly.v1+json": {
       "config": {
        "plotlyServerURL": "https://plot.ly"
       },
       "data": [
        {
         "alignmentgroup": "True",
         "hovertemplate": "Importanza=%{x}<br>Frequenza=%{y}<extra></extra>",
         "legendgroup": "Nulla",
         "marker": {
          "color": "#636efa"
         },
         "name": "Nulla",
         "offsetgroup": "Nulla",
         "orientation": "v",
         "showlegend": true,
         "textposition": "auto",
         "type": "bar",
         "x": [
          "Nulla"
         ],
         "xaxis": "x",
         "y": [
          0.03773584905660377
         ],
         "yaxis": "y"
        },
        {
         "alignmentgroup": "True",
         "hovertemplate": "Importanza=%{x}<br>Frequenza=%{y}<extra></extra>",
         "legendgroup": "Scarsa",
         "marker": {
          "color": "#EF553B"
         },
         "name": "Scarsa",
         "offsetgroup": "Scarsa",
         "orientation": "v",
         "showlegend": true,
         "textposition": "auto",
         "type": "bar",
         "x": [
          "Scarsa"
         ],
         "xaxis": "x",
         "y": [
          0.4339622641509434
         ],
         "yaxis": "y"
        },
        {
         "alignmentgroup": "True",
         "hovertemplate": "Importanza=%{x}<br>Frequenza=%{y}<extra></extra>",
         "legendgroup": "Discreta",
         "marker": {
          "color": "#00cc96"
         },
         "name": "Discreta",
         "offsetgroup": "Discreta",
         "orientation": "v",
         "showlegend": true,
         "textposition": "auto",
         "type": "bar",
         "x": [
          "Discreta"
         ],
         "xaxis": "x",
         "y": [
          0.3584905660377358
         ],
         "yaxis": "y"
        },
        {
         "alignmentgroup": "True",
         "hovertemplate": "Importanza=%{x}<br>Frequenza=%{y}<extra></extra>",
         "legendgroup": "Fondamentale",
         "marker": {
          "color": "#ab63fa"
         },
         "name": "Fondamentale",
         "offsetgroup": "Fondamentale",
         "orientation": "v",
         "showlegend": true,
         "textposition": "auto",
         "type": "bar",
         "x": [
          "Fondamentale"
         ],
         "xaxis": "x",
         "y": [
          0.16981132075471697
         ],
         "yaxis": "y"
        }
       ],
       "layout": {
        "barmode": "relative",
        "legend": {
         "title": {
          "text": "Importanza"
         },
         "tracegroupgap": 0
        },
        "margin": {
         "t": 60
        },
        "showlegend": false,
        "template": {
         "data": {
          "bar": [
           {
            "error_x": {
             "color": "#2a3f5f"
            },
            "error_y": {
             "color": "#2a3f5f"
            },
            "marker": {
             "line": {
              "color": "#E5ECF6",
              "width": 0.5
             }
            },
            "type": "bar"
           }
          ],
          "barpolar": [
           {
            "marker": {
             "line": {
              "color": "#E5ECF6",
              "width": 0.5
             }
            },
            "type": "barpolar"
           }
          ],
          "carpet": [
           {
            "aaxis": {
             "endlinecolor": "#2a3f5f",
             "gridcolor": "white",
             "linecolor": "white",
             "minorgridcolor": "white",
             "startlinecolor": "#2a3f5f"
            },
            "baxis": {
             "endlinecolor": "#2a3f5f",
             "gridcolor": "white",
             "linecolor": "white",
             "minorgridcolor": "white",
             "startlinecolor": "#2a3f5f"
            },
            "type": "carpet"
           }
          ],
          "choropleth": [
           {
            "colorbar": {
             "outlinewidth": 0,
             "ticks": ""
            },
            "type": "choropleth"
           }
          ],
          "contour": [
           {
            "colorbar": {
             "outlinewidth": 0,
             "ticks": ""
            },
            "colorscale": [
             [
              0,
              "#0d0887"
             ],
             [
              0.1111111111111111,
              "#46039f"
             ],
             [
              0.2222222222222222,
              "#7201a8"
             ],
             [
              0.3333333333333333,
              "#9c179e"
             ],
             [
              0.4444444444444444,
              "#bd3786"
             ],
             [
              0.5555555555555556,
              "#d8576b"
             ],
             [
              0.6666666666666666,
              "#ed7953"
             ],
             [
              0.7777777777777778,
              "#fb9f3a"
             ],
             [
              0.8888888888888888,
              "#fdca26"
             ],
             [
              1,
              "#f0f921"
             ]
            ],
            "type": "contour"
           }
          ],
          "contourcarpet": [
           {
            "colorbar": {
             "outlinewidth": 0,
             "ticks": ""
            },
            "type": "contourcarpet"
           }
          ],
          "heatmap": [
           {
            "colorbar": {
             "outlinewidth": 0,
             "ticks": ""
            },
            "colorscale": [
             [
              0,
              "#0d0887"
             ],
             [
              0.1111111111111111,
              "#46039f"
             ],
             [
              0.2222222222222222,
              "#7201a8"
             ],
             [
              0.3333333333333333,
              "#9c179e"
             ],
             [
              0.4444444444444444,
              "#bd3786"
             ],
             [
              0.5555555555555556,
              "#d8576b"
             ],
             [
              0.6666666666666666,
              "#ed7953"
             ],
             [
              0.7777777777777778,
              "#fb9f3a"
             ],
             [
              0.8888888888888888,
              "#fdca26"
             ],
             [
              1,
              "#f0f921"
             ]
            ],
            "type": "heatmap"
           }
          ],
          "heatmapgl": [
           {
            "colorbar": {
             "outlinewidth": 0,
             "ticks": ""
            },
            "colorscale": [
             [
              0,
              "#0d0887"
             ],
             [
              0.1111111111111111,
              "#46039f"
             ],
             [
              0.2222222222222222,
              "#7201a8"
             ],
             [
              0.3333333333333333,
              "#9c179e"
             ],
             [
              0.4444444444444444,
              "#bd3786"
             ],
             [
              0.5555555555555556,
              "#d8576b"
             ],
             [
              0.6666666666666666,
              "#ed7953"
             ],
             [
              0.7777777777777778,
              "#fb9f3a"
             ],
             [
              0.8888888888888888,
              "#fdca26"
             ],
             [
              1,
              "#f0f921"
             ]
            ],
            "type": "heatmapgl"
           }
          ],
          "histogram": [
           {
            "marker": {
             "colorbar": {
              "outlinewidth": 0,
              "ticks": ""
             }
            },
            "type": "histogram"
           }
          ],
          "histogram2d": [
           {
            "colorbar": {
             "outlinewidth": 0,
             "ticks": ""
            },
            "colorscale": [
             [
              0,
              "#0d0887"
             ],
             [
              0.1111111111111111,
              "#46039f"
             ],
             [
              0.2222222222222222,
              "#7201a8"
             ],
             [
              0.3333333333333333,
              "#9c179e"
             ],
             [
              0.4444444444444444,
              "#bd3786"
             ],
             [
              0.5555555555555556,
              "#d8576b"
             ],
             [
              0.6666666666666666,
              "#ed7953"
             ],
             [
              0.7777777777777778,
              "#fb9f3a"
             ],
             [
              0.8888888888888888,
              "#fdca26"
             ],
             [
              1,
              "#f0f921"
             ]
            ],
            "type": "histogram2d"
           }
          ],
          "histogram2dcontour": [
           {
            "colorbar": {
             "outlinewidth": 0,
             "ticks": ""
            },
            "colorscale": [
             [
              0,
              "#0d0887"
             ],
             [
              0.1111111111111111,
              "#46039f"
             ],
             [
              0.2222222222222222,
              "#7201a8"
             ],
             [
              0.3333333333333333,
              "#9c179e"
             ],
             [
              0.4444444444444444,
              "#bd3786"
             ],
             [
              0.5555555555555556,
              "#d8576b"
             ],
             [
              0.6666666666666666,
              "#ed7953"
             ],
             [
              0.7777777777777778,
              "#fb9f3a"
             ],
             [
              0.8888888888888888,
              "#fdca26"
             ],
             [
              1,
              "#f0f921"
             ]
            ],
            "type": "histogram2dcontour"
           }
          ],
          "mesh3d": [
           {
            "colorbar": {
             "outlinewidth": 0,
             "ticks": ""
            },
            "type": "mesh3d"
           }
          ],
          "parcoords": [
           {
            "line": {
             "colorbar": {
              "outlinewidth": 0,
              "ticks": ""
             }
            },
            "type": "parcoords"
           }
          ],
          "pie": [
           {
            "automargin": true,
            "type": "pie"
           }
          ],
          "scatter": [
           {
            "marker": {
             "colorbar": {
              "outlinewidth": 0,
              "ticks": ""
             }
            },
            "type": "scatter"
           }
          ],
          "scatter3d": [
           {
            "line": {
             "colorbar": {
              "outlinewidth": 0,
              "ticks": ""
             }
            },
            "marker": {
             "colorbar": {
              "outlinewidth": 0,
              "ticks": ""
             }
            },
            "type": "scatter3d"
           }
          ],
          "scattercarpet": [
           {
            "marker": {
             "colorbar": {
              "outlinewidth": 0,
              "ticks": ""
             }
            },
            "type": "scattercarpet"
           }
          ],
          "scattergeo": [
           {
            "marker": {
             "colorbar": {
              "outlinewidth": 0,
              "ticks": ""
             }
            },
            "type": "scattergeo"
           }
          ],
          "scattergl": [
           {
            "marker": {
             "colorbar": {
              "outlinewidth": 0,
              "ticks": ""
             }
            },
            "type": "scattergl"
           }
          ],
          "scattermapbox": [
           {
            "marker": {
             "colorbar": {
              "outlinewidth": 0,
              "ticks": ""
             }
            },
            "type": "scattermapbox"
           }
          ],
          "scatterpolar": [
           {
            "marker": {
             "colorbar": {
              "outlinewidth": 0,
              "ticks": ""
             }
            },
            "type": "scatterpolar"
           }
          ],
          "scatterpolargl": [
           {
            "marker": {
             "colorbar": {
              "outlinewidth": 0,
              "ticks": ""
             }
            },
            "type": "scatterpolargl"
           }
          ],
          "scatterternary": [
           {
            "marker": {
             "colorbar": {
              "outlinewidth": 0,
              "ticks": ""
             }
            },
            "type": "scatterternary"
           }
          ],
          "surface": [
           {
            "colorbar": {
             "outlinewidth": 0,
             "ticks": ""
            },
            "colorscale": [
             [
              0,
              "#0d0887"
             ],
             [
              0.1111111111111111,
              "#46039f"
             ],
             [
              0.2222222222222222,
              "#7201a8"
             ],
             [
              0.3333333333333333,
              "#9c179e"
             ],
             [
              0.4444444444444444,
              "#bd3786"
             ],
             [
              0.5555555555555556,
              "#d8576b"
             ],
             [
              0.6666666666666666,
              "#ed7953"
             ],
             [
              0.7777777777777778,
              "#fb9f3a"
             ],
             [
              0.8888888888888888,
              "#fdca26"
             ],
             [
              1,
              "#f0f921"
             ]
            ],
            "type": "surface"
           }
          ],
          "table": [
           {
            "cells": {
             "fill": {
              "color": "#EBF0F8"
             },
             "line": {
              "color": "white"
             }
            },
            "header": {
             "fill": {
              "color": "#C8D4E3"
             },
             "line": {
              "color": "white"
             }
            },
            "type": "table"
           }
          ]
         },
         "layout": {
          "annotationdefaults": {
           "arrowcolor": "#2a3f5f",
           "arrowhead": 0,
           "arrowwidth": 1
          },
          "autotypenumbers": "strict",
          "coloraxis": {
           "colorbar": {
            "outlinewidth": 0,
            "ticks": ""
           }
          },
          "colorscale": {
           "diverging": [
            [
             0,
             "#8e0152"
            ],
            [
             0.1,
             "#c51b7d"
            ],
            [
             0.2,
             "#de77ae"
            ],
            [
             0.3,
             "#f1b6da"
            ],
            [
             0.4,
             "#fde0ef"
            ],
            [
             0.5,
             "#f7f7f7"
            ],
            [
             0.6,
             "#e6f5d0"
            ],
            [
             0.7,
             "#b8e186"
            ],
            [
             0.8,
             "#7fbc41"
            ],
            [
             0.9,
             "#4d9221"
            ],
            [
             1,
             "#276419"
            ]
           ],
           "sequential": [
            [
             0,
             "#0d0887"
            ],
            [
             0.1111111111111111,
             "#46039f"
            ],
            [
             0.2222222222222222,
             "#7201a8"
            ],
            [
             0.3333333333333333,
             "#9c179e"
            ],
            [
             0.4444444444444444,
             "#bd3786"
            ],
            [
             0.5555555555555556,
             "#d8576b"
            ],
            [
             0.6666666666666666,
             "#ed7953"
            ],
            [
             0.7777777777777778,
             "#fb9f3a"
            ],
            [
             0.8888888888888888,
             "#fdca26"
            ],
            [
             1,
             "#f0f921"
            ]
           ],
           "sequentialminus": [
            [
             0,
             "#0d0887"
            ],
            [
             0.1111111111111111,
             "#46039f"
            ],
            [
             0.2222222222222222,
             "#7201a8"
            ],
            [
             0.3333333333333333,
             "#9c179e"
            ],
            [
             0.4444444444444444,
             "#bd3786"
            ],
            [
             0.5555555555555556,
             "#d8576b"
            ],
            [
             0.6666666666666666,
             "#ed7953"
            ],
            [
             0.7777777777777778,
             "#fb9f3a"
            ],
            [
             0.8888888888888888,
             "#fdca26"
            ],
            [
             1,
             "#f0f921"
            ]
           ]
          },
          "colorway": [
           "#636efa",
           "#EF553B",
           "#00cc96",
           "#ab63fa",
           "#FFA15A",
           "#19d3f3",
           "#FF6692",
           "#B6E880",
           "#FF97FF",
           "#FECB52"
          ],
          "font": {
           "color": "#2a3f5f"
          },
          "geo": {
           "bgcolor": "white",
           "lakecolor": "white",
           "landcolor": "#E5ECF6",
           "showlakes": true,
           "showland": true,
           "subunitcolor": "white"
          },
          "hoverlabel": {
           "align": "left"
          },
          "hovermode": "closest",
          "mapbox": {
           "style": "light"
          },
          "paper_bgcolor": "white",
          "plot_bgcolor": "#E5ECF6",
          "polar": {
           "angularaxis": {
            "gridcolor": "white",
            "linecolor": "white",
            "ticks": ""
           },
           "bgcolor": "#E5ECF6",
           "radialaxis": {
            "gridcolor": "white",
            "linecolor": "white",
            "ticks": ""
           }
          },
          "scene": {
           "xaxis": {
            "backgroundcolor": "#E5ECF6",
            "gridcolor": "white",
            "gridwidth": 2,
            "linecolor": "white",
            "showbackground": true,
            "ticks": "",
            "zerolinecolor": "white"
           },
           "yaxis": {
            "backgroundcolor": "#E5ECF6",
            "gridcolor": "white",
            "gridwidth": 2,
            "linecolor": "white",
            "showbackground": true,
            "ticks": "",
            "zerolinecolor": "white"
           },
           "zaxis": {
            "backgroundcolor": "#E5ECF6",
            "gridcolor": "white",
            "gridwidth": 2,
            "linecolor": "white",
            "showbackground": true,
            "ticks": "",
            "zerolinecolor": "white"
           }
          },
          "shapedefaults": {
           "line": {
            "color": "#2a3f5f"
           }
          },
          "ternary": {
           "aaxis": {
            "gridcolor": "white",
            "linecolor": "white",
            "ticks": ""
           },
           "baxis": {
            "gridcolor": "white",
            "linecolor": "white",
            "ticks": ""
           },
           "bgcolor": "#E5ECF6",
           "caxis": {
            "gridcolor": "white",
            "linecolor": "white",
            "ticks": ""
           }
          },
          "title": {
           "x": 0.05
          },
          "xaxis": {
           "automargin": true,
           "gridcolor": "white",
           "linecolor": "white",
           "ticks": "",
           "title": {
            "standoff": 15
           },
           "zerolinecolor": "white",
           "zerolinewidth": 2
          },
          "yaxis": {
           "automargin": true,
           "gridcolor": "white",
           "linecolor": "white",
           "ticks": "",
           "title": {
            "standoff": 15
           },
           "zerolinecolor": "white",
           "zerolinewidth": 2
          }
         }
        },
        "xaxis": {
         "anchor": "y",
         "categoryarray": [
          "Nulla",
          "Scarsa",
          "Discreta",
          "Fondamentale"
         ],
         "categoryorder": "array",
         "domain": [
          0,
          1
         ],
         "title": {
          "text": "Importanza"
         }
        },
        "yaxis": {
         "anchor": "x",
         "domain": [
          0,
          1
         ],
         "title": {
          "text": "Frequenza"
         }
        }
       }
      }
     },
     "metadata": {}
    }
   ],
   "source": [
    "# Importanza della lettura\n",
    "df_reading = get_freq(df, 'Importanza')\n",
    "\n",
    "# Sort based on Likert scale\n",
    "df_reading = df_reading.reindex([2,3,0,1])\n",
    "\n",
    "# Relative freq\n",
    "df_reading = to_relative_freq(df_reading)\n",
    "\n",
    "bar_reading = px.bar(df_reading, x='Importanza', y='f', color='Importanza', labels={'Importanza': 'Importanza della lettura', 'f': 'Frequenza'})\n",
    "\n",
    "bar_reading.update_layout(\n",
    "    showlegend=False\n",
    ")\n",
    "\n",
    "bar_reading.show()\n",
    "\n",
    "save_plot(bar_reading, 'bar_reading')"
   ]
  },
  {
   "cell_type": "code",
   "execution_count": 119,
   "metadata": {},
   "outputs": [
    {
     "output_type": "display_data",
     "data": {
      "application/vnd.plotly.v1+json": {
       "config": {
        "plotlyServerURL": "https://plot.ly"
       },
       "data": [
        {
         "alignmentgroup": "True",
         "hovertemplate": "Numero di libri letti in un anno=%{x}<br>Frequenza=%{y}<extra></extra>",
         "legendgroup": "Nessuno",
         "marker": {
          "color": "#636efa"
         },
         "name": "Nessuno",
         "offsetgroup": "Nessuno",
         "orientation": "v",
         "showlegend": true,
         "textposition": "auto",
         "type": "bar",
         "x": [
          "Nessuno"
         ],
         "xaxis": "x",
         "y": [
          0.09433962264150944
         ],
         "yaxis": "y"
        },
        {
         "alignmentgroup": "True",
         "hovertemplate": "Numero di libri letti in un anno=%{x}<br>Frequenza=%{y}<extra></extra>",
         "legendgroup": "1-2",
         "marker": {
          "color": "#EF553B"
         },
         "name": "1-2",
         "offsetgroup": "1-2",
         "orientation": "v",
         "showlegend": true,
         "textposition": "auto",
         "type": "bar",
         "x": [
          "1-2"
         ],
         "xaxis": "x",
         "y": [
          0.39622641509433965
         ],
         "yaxis": "y"
        },
        {
         "alignmentgroup": "True",
         "hovertemplate": "Numero di libri letti in un anno=%{x}<br>Frequenza=%{y}<extra></extra>",
         "legendgroup": "3-5",
         "marker": {
          "color": "#00cc96"
         },
         "name": "3-5",
         "offsetgroup": "3-5",
         "orientation": "v",
         "showlegend": true,
         "textposition": "auto",
         "type": "bar",
         "x": [
          "3-5"
         ],
         "xaxis": "x",
         "y": [
          0.22641509433962265
         ],
         "yaxis": "y"
        },
        {
         "alignmentgroup": "True",
         "hovertemplate": "Numero di libri letti in un anno=%{x}<br>Frequenza=%{y}<extra></extra>",
         "legendgroup": "6-10",
         "marker": {
          "color": "#ab63fa"
         },
         "name": "6-10",
         "offsetgroup": "6-10",
         "orientation": "v",
         "showlegend": true,
         "textposition": "auto",
         "type": "bar",
         "x": [
          "6-10"
         ],
         "xaxis": "x",
         "y": [
          0.18867924528301888
         ],
         "yaxis": "y"
        },
        {
         "alignmentgroup": "True",
         "hovertemplate": "Numero di libri letti in un anno=%{x}<br>Frequenza=%{y}<extra></extra>",
         "legendgroup": "11+",
         "marker": {
          "color": "#FFA15A"
         },
         "name": "11+",
         "offsetgroup": "11+",
         "orientation": "v",
         "showlegend": true,
         "textposition": "auto",
         "type": "bar",
         "x": [
          "11+"
         ],
         "xaxis": "x",
         "y": [
          0.09433962264150944
         ],
         "yaxis": "y"
        }
       ],
       "layout": {
        "barmode": "relative",
        "legend": {
         "title": {
          "text": "Numero di libri letti in un anno"
         },
         "tracegroupgap": 0
        },
        "margin": {
         "t": 60
        },
        "showlegend": false,
        "template": {
         "data": {
          "bar": [
           {
            "error_x": {
             "color": "#2a3f5f"
            },
            "error_y": {
             "color": "#2a3f5f"
            },
            "marker": {
             "line": {
              "color": "#E5ECF6",
              "width": 0.5
             }
            },
            "type": "bar"
           }
          ],
          "barpolar": [
           {
            "marker": {
             "line": {
              "color": "#E5ECF6",
              "width": 0.5
             }
            },
            "type": "barpolar"
           }
          ],
          "carpet": [
           {
            "aaxis": {
             "endlinecolor": "#2a3f5f",
             "gridcolor": "white",
             "linecolor": "white",
             "minorgridcolor": "white",
             "startlinecolor": "#2a3f5f"
            },
            "baxis": {
             "endlinecolor": "#2a3f5f",
             "gridcolor": "white",
             "linecolor": "white",
             "minorgridcolor": "white",
             "startlinecolor": "#2a3f5f"
            },
            "type": "carpet"
           }
          ],
          "choropleth": [
           {
            "colorbar": {
             "outlinewidth": 0,
             "ticks": ""
            },
            "type": "choropleth"
           }
          ],
          "contour": [
           {
            "colorbar": {
             "outlinewidth": 0,
             "ticks": ""
            },
            "colorscale": [
             [
              0,
              "#0d0887"
             ],
             [
              0.1111111111111111,
              "#46039f"
             ],
             [
              0.2222222222222222,
              "#7201a8"
             ],
             [
              0.3333333333333333,
              "#9c179e"
             ],
             [
              0.4444444444444444,
              "#bd3786"
             ],
             [
              0.5555555555555556,
              "#d8576b"
             ],
             [
              0.6666666666666666,
              "#ed7953"
             ],
             [
              0.7777777777777778,
              "#fb9f3a"
             ],
             [
              0.8888888888888888,
              "#fdca26"
             ],
             [
              1,
              "#f0f921"
             ]
            ],
            "type": "contour"
           }
          ],
          "contourcarpet": [
           {
            "colorbar": {
             "outlinewidth": 0,
             "ticks": ""
            },
            "type": "contourcarpet"
           }
          ],
          "heatmap": [
           {
            "colorbar": {
             "outlinewidth": 0,
             "ticks": ""
            },
            "colorscale": [
             [
              0,
              "#0d0887"
             ],
             [
              0.1111111111111111,
              "#46039f"
             ],
             [
              0.2222222222222222,
              "#7201a8"
             ],
             [
              0.3333333333333333,
              "#9c179e"
             ],
             [
              0.4444444444444444,
              "#bd3786"
             ],
             [
              0.5555555555555556,
              "#d8576b"
             ],
             [
              0.6666666666666666,
              "#ed7953"
             ],
             [
              0.7777777777777778,
              "#fb9f3a"
             ],
             [
              0.8888888888888888,
              "#fdca26"
             ],
             [
              1,
              "#f0f921"
             ]
            ],
            "type": "heatmap"
           }
          ],
          "heatmapgl": [
           {
            "colorbar": {
             "outlinewidth": 0,
             "ticks": ""
            },
            "colorscale": [
             [
              0,
              "#0d0887"
             ],
             [
              0.1111111111111111,
              "#46039f"
             ],
             [
              0.2222222222222222,
              "#7201a8"
             ],
             [
              0.3333333333333333,
              "#9c179e"
             ],
             [
              0.4444444444444444,
              "#bd3786"
             ],
             [
              0.5555555555555556,
              "#d8576b"
             ],
             [
              0.6666666666666666,
              "#ed7953"
             ],
             [
              0.7777777777777778,
              "#fb9f3a"
             ],
             [
              0.8888888888888888,
              "#fdca26"
             ],
             [
              1,
              "#f0f921"
             ]
            ],
            "type": "heatmapgl"
           }
          ],
          "histogram": [
           {
            "marker": {
             "colorbar": {
              "outlinewidth": 0,
              "ticks": ""
             }
            },
            "type": "histogram"
           }
          ],
          "histogram2d": [
           {
            "colorbar": {
             "outlinewidth": 0,
             "ticks": ""
            },
            "colorscale": [
             [
              0,
              "#0d0887"
             ],
             [
              0.1111111111111111,
              "#46039f"
             ],
             [
              0.2222222222222222,
              "#7201a8"
             ],
             [
              0.3333333333333333,
              "#9c179e"
             ],
             [
              0.4444444444444444,
              "#bd3786"
             ],
             [
              0.5555555555555556,
              "#d8576b"
             ],
             [
              0.6666666666666666,
              "#ed7953"
             ],
             [
              0.7777777777777778,
              "#fb9f3a"
             ],
             [
              0.8888888888888888,
              "#fdca26"
             ],
             [
              1,
              "#f0f921"
             ]
            ],
            "type": "histogram2d"
           }
          ],
          "histogram2dcontour": [
           {
            "colorbar": {
             "outlinewidth": 0,
             "ticks": ""
            },
            "colorscale": [
             [
              0,
              "#0d0887"
             ],
             [
              0.1111111111111111,
              "#46039f"
             ],
             [
              0.2222222222222222,
              "#7201a8"
             ],
             [
              0.3333333333333333,
              "#9c179e"
             ],
             [
              0.4444444444444444,
              "#bd3786"
             ],
             [
              0.5555555555555556,
              "#d8576b"
             ],
             [
              0.6666666666666666,
              "#ed7953"
             ],
             [
              0.7777777777777778,
              "#fb9f3a"
             ],
             [
              0.8888888888888888,
              "#fdca26"
             ],
             [
              1,
              "#f0f921"
             ]
            ],
            "type": "histogram2dcontour"
           }
          ],
          "mesh3d": [
           {
            "colorbar": {
             "outlinewidth": 0,
             "ticks": ""
            },
            "type": "mesh3d"
           }
          ],
          "parcoords": [
           {
            "line": {
             "colorbar": {
              "outlinewidth": 0,
              "ticks": ""
             }
            },
            "type": "parcoords"
           }
          ],
          "pie": [
           {
            "automargin": true,
            "type": "pie"
           }
          ],
          "scatter": [
           {
            "marker": {
             "colorbar": {
              "outlinewidth": 0,
              "ticks": ""
             }
            },
            "type": "scatter"
           }
          ],
          "scatter3d": [
           {
            "line": {
             "colorbar": {
              "outlinewidth": 0,
              "ticks": ""
             }
            },
            "marker": {
             "colorbar": {
              "outlinewidth": 0,
              "ticks": ""
             }
            },
            "type": "scatter3d"
           }
          ],
          "scattercarpet": [
           {
            "marker": {
             "colorbar": {
              "outlinewidth": 0,
              "ticks": ""
             }
            },
            "type": "scattercarpet"
           }
          ],
          "scattergeo": [
           {
            "marker": {
             "colorbar": {
              "outlinewidth": 0,
              "ticks": ""
             }
            },
            "type": "scattergeo"
           }
          ],
          "scattergl": [
           {
            "marker": {
             "colorbar": {
              "outlinewidth": 0,
              "ticks": ""
             }
            },
            "type": "scattergl"
           }
          ],
          "scattermapbox": [
           {
            "marker": {
             "colorbar": {
              "outlinewidth": 0,
              "ticks": ""
             }
            },
            "type": "scattermapbox"
           }
          ],
          "scatterpolar": [
           {
            "marker": {
             "colorbar": {
              "outlinewidth": 0,
              "ticks": ""
             }
            },
            "type": "scatterpolar"
           }
          ],
          "scatterpolargl": [
           {
            "marker": {
             "colorbar": {
              "outlinewidth": 0,
              "ticks": ""
             }
            },
            "type": "scatterpolargl"
           }
          ],
          "scatterternary": [
           {
            "marker": {
             "colorbar": {
              "outlinewidth": 0,
              "ticks": ""
             }
            },
            "type": "scatterternary"
           }
          ],
          "surface": [
           {
            "colorbar": {
             "outlinewidth": 0,
             "ticks": ""
            },
            "colorscale": [
             [
              0,
              "#0d0887"
             ],
             [
              0.1111111111111111,
              "#46039f"
             ],
             [
              0.2222222222222222,
              "#7201a8"
             ],
             [
              0.3333333333333333,
              "#9c179e"
             ],
             [
              0.4444444444444444,
              "#bd3786"
             ],
             [
              0.5555555555555556,
              "#d8576b"
             ],
             [
              0.6666666666666666,
              "#ed7953"
             ],
             [
              0.7777777777777778,
              "#fb9f3a"
             ],
             [
              0.8888888888888888,
              "#fdca26"
             ],
             [
              1,
              "#f0f921"
             ]
            ],
            "type": "surface"
           }
          ],
          "table": [
           {
            "cells": {
             "fill": {
              "color": "#EBF0F8"
             },
             "line": {
              "color": "white"
             }
            },
            "header": {
             "fill": {
              "color": "#C8D4E3"
             },
             "line": {
              "color": "white"
             }
            },
            "type": "table"
           }
          ]
         },
         "layout": {
          "annotationdefaults": {
           "arrowcolor": "#2a3f5f",
           "arrowhead": 0,
           "arrowwidth": 1
          },
          "autotypenumbers": "strict",
          "coloraxis": {
           "colorbar": {
            "outlinewidth": 0,
            "ticks": ""
           }
          },
          "colorscale": {
           "diverging": [
            [
             0,
             "#8e0152"
            ],
            [
             0.1,
             "#c51b7d"
            ],
            [
             0.2,
             "#de77ae"
            ],
            [
             0.3,
             "#f1b6da"
            ],
            [
             0.4,
             "#fde0ef"
            ],
            [
             0.5,
             "#f7f7f7"
            ],
            [
             0.6,
             "#e6f5d0"
            ],
            [
             0.7,
             "#b8e186"
            ],
            [
             0.8,
             "#7fbc41"
            ],
            [
             0.9,
             "#4d9221"
            ],
            [
             1,
             "#276419"
            ]
           ],
           "sequential": [
            [
             0,
             "#0d0887"
            ],
            [
             0.1111111111111111,
             "#46039f"
            ],
            [
             0.2222222222222222,
             "#7201a8"
            ],
            [
             0.3333333333333333,
             "#9c179e"
            ],
            [
             0.4444444444444444,
             "#bd3786"
            ],
            [
             0.5555555555555556,
             "#d8576b"
            ],
            [
             0.6666666666666666,
             "#ed7953"
            ],
            [
             0.7777777777777778,
             "#fb9f3a"
            ],
            [
             0.8888888888888888,
             "#fdca26"
            ],
            [
             1,
             "#f0f921"
            ]
           ],
           "sequentialminus": [
            [
             0,
             "#0d0887"
            ],
            [
             0.1111111111111111,
             "#46039f"
            ],
            [
             0.2222222222222222,
             "#7201a8"
            ],
            [
             0.3333333333333333,
             "#9c179e"
            ],
            [
             0.4444444444444444,
             "#bd3786"
            ],
            [
             0.5555555555555556,
             "#d8576b"
            ],
            [
             0.6666666666666666,
             "#ed7953"
            ],
            [
             0.7777777777777778,
             "#fb9f3a"
            ],
            [
             0.8888888888888888,
             "#fdca26"
            ],
            [
             1,
             "#f0f921"
            ]
           ]
          },
          "colorway": [
           "#636efa",
           "#EF553B",
           "#00cc96",
           "#ab63fa",
           "#FFA15A",
           "#19d3f3",
           "#FF6692",
           "#B6E880",
           "#FF97FF",
           "#FECB52"
          ],
          "font": {
           "color": "#2a3f5f"
          },
          "geo": {
           "bgcolor": "white",
           "lakecolor": "white",
           "landcolor": "#E5ECF6",
           "showlakes": true,
           "showland": true,
           "subunitcolor": "white"
          },
          "hoverlabel": {
           "align": "left"
          },
          "hovermode": "closest",
          "mapbox": {
           "style": "light"
          },
          "paper_bgcolor": "white",
          "plot_bgcolor": "#E5ECF6",
          "polar": {
           "angularaxis": {
            "gridcolor": "white",
            "linecolor": "white",
            "ticks": ""
           },
           "bgcolor": "#E5ECF6",
           "radialaxis": {
            "gridcolor": "white",
            "linecolor": "white",
            "ticks": ""
           }
          },
          "scene": {
           "xaxis": {
            "backgroundcolor": "#E5ECF6",
            "gridcolor": "white",
            "gridwidth": 2,
            "linecolor": "white",
            "showbackground": true,
            "ticks": "",
            "zerolinecolor": "white"
           },
           "yaxis": {
            "backgroundcolor": "#E5ECF6",
            "gridcolor": "white",
            "gridwidth": 2,
            "linecolor": "white",
            "showbackground": true,
            "ticks": "",
            "zerolinecolor": "white"
           },
           "zaxis": {
            "backgroundcolor": "#E5ECF6",
            "gridcolor": "white",
            "gridwidth": 2,
            "linecolor": "white",
            "showbackground": true,
            "ticks": "",
            "zerolinecolor": "white"
           }
          },
          "shapedefaults": {
           "line": {
            "color": "#2a3f5f"
           }
          },
          "ternary": {
           "aaxis": {
            "gridcolor": "white",
            "linecolor": "white",
            "ticks": ""
           },
           "baxis": {
            "gridcolor": "white",
            "linecolor": "white",
            "ticks": ""
           },
           "bgcolor": "#E5ECF6",
           "caxis": {
            "gridcolor": "white",
            "linecolor": "white",
            "ticks": ""
           }
          },
          "title": {
           "x": 0.05
          },
          "xaxis": {
           "automargin": true,
           "gridcolor": "white",
           "linecolor": "white",
           "ticks": "",
           "title": {
            "standoff": 15
           },
           "zerolinecolor": "white",
           "zerolinewidth": 2
          },
          "yaxis": {
           "automargin": true,
           "gridcolor": "white",
           "linecolor": "white",
           "ticks": "",
           "title": {
            "standoff": 15
           },
           "zerolinecolor": "white",
           "zerolinewidth": 2
          }
         }
        },
        "xaxis": {
         "anchor": "y",
         "categoryarray": [
          "Nessuno",
          "1-2",
          "3-5",
          "6-10",
          "11+"
         ],
         "categoryorder": "array",
         "domain": [
          0,
          1
         ],
         "title": {
          "text": "Numero di libri letti in un anno"
         }
        },
        "yaxis": {
         "anchor": "x",
         "domain": [
          0,
          1
         ],
         "title": {
          "text": "Frequenza"
         }
        }
       }
      }
     },
     "metadata": {}
    }
   ],
   "source": [
    "# Number of books read per year\n",
    "df_books_read = get_freq(df, 'Quanti libri')\n",
    "\n",
    "# Sort based on Likert scale\n",
    "df_books_read = df_books_read.reindex([0,1,3,4,2])\n",
    "\n",
    "# Relative freq\n",
    "df_books_read = to_relative_freq(df_books_read)\n",
    "\n",
    "# Address the plotly bug which ignores the dtype\n",
    "df_books_read['Quanti libri'][0] = 'Nessuno'\n",
    "\n",
    "bar_books_read = px.bar(df_books_read, x='Quanti libri', y='f', color='Quanti libri', labels={'Quanti libri': 'Numero di libri letti in un anno', 'f': 'Frequenza'})\n",
    "\n",
    "bar_books_read.update_layout(\n",
    "    showlegend=False\n",
    ")\n",
    "\n",
    "bar_books_read.show()\n",
    "\n",
    "save_plot(bar_reading, 'bar_reading')"
   ]
  },
  {
   "cell_type": "code",
   "execution_count": 55,
   "metadata": {},
   "outputs": [
    {
     "output_type": "stream",
     "name": "stdout",
     "text": [
      "Data read from path: ../Data/ZRXSP/comment_try_1.json\nData read from path: ../Data/AGGBZ/comment_try_1.json\nData read from path: ../Data/LZAEJ/comment_try_1.json\nData read from path: ../Data/ZLAXX/comment_try_1.json\nData read from path: ../Data/HQWLU/comment_try_1.json\nData read from path: ../Data/BOJHZ/comment_try_1.json\nData read from path: ../Data/QMJTN/comment_try_1.json\nData read from path: ../Data/EUOBG/comment_try_1.json\nData read from path: ../Data/JHEEH/comment_try_1.json\nData read from path: ../Data/EVDDT/comment_try_1.json\nData read from path: ../Data/RYYES/comment_try_1.json\nData read from path: ../Data/HEWCH/comment_try_1.json\nData read from path: ../Data/SEYYG/comment_try_1.json\nData read from path: ../Data/VXCGS/comment_try_1.json\nData read from path: ../Data/UPVVU/comment_try_1.json\nData read from path: ../Data/CFRLM/comment_try_1.json\nData read from path: ../Data/DJTWC/comment_try_1.json\nData read from path: ../Data/SARZI/comment_try_1.json\nData read from path: ../Data/THRZI/comment_try_1.json\nData read from path: ../Data/DVRAN/comment_try_1.json\nData read from path: ../Data/QOGPV/comment_try_1.json\nData read from path: ../Data/EOTDA/comment_try_1.json\nData read from path: ../Data/FLXYV/comment_try_1.json\nData read from path: ../Data/IMHHT/comment_try_1.json\nData read from path: ../Data/VKFXZ/comment_try_1.json\nData read from path: ../Data/GLCUF/comment_try_1.json\nData read from path: ../Data/QCICO/comment_try_1.json\nData read from path: ../Data/MLENI/comment_try_1.json\nData read from path: ../Data/ITCXH/comment_try_1.json\nData read from path: ../Data/AZGIQ/comment_try_1.json\nData read from path: ../Data/XCEGP/comment_try_1.json\nData read from path: ../Data/HBIRW/comment_try_1.json\nData read from path: ../Data/LZZBM/comment_try_1.json\nData read from path: ../Data/HIFZC/comment_try_1.json\nData read from path: ../Data/PHEHT/comment_try_1.json\nData read from path: ../Data/ATCOU/comment_try_1.json\nData read from path: ../Data/ACHTQ/comment_try_1.json\nData read from path: ../Data/JQJWV/comment_try_1.json\nData read from path: ../Data/WXDMK/comment_try_1.json\nData read from path: ../Data/KAHOD/comment_try_1.json\nData read from path: ../Data/RQURW/comment_try_1.json\nData read from path: ../Data/BGLMR/comment_try_1.json\nData read from path: ../Data/AVOZM/comment_try_1.json\nData read from path: ../Data/HDLGN/comment_try_1.json\nData read from path: ../Data/QLZQD/comment_try_1.json\nData read from path: ../Data/KDOFG/comment_try_1.json\nData read from path: ../Data/UXDAQ/comment_try_1.json\nData read from path: ../Data/LPXEB/comment_try_1.json\nData serialized to path: comment_summary.json\n"
     ]
    },
    {
     "output_type": "execute_result",
     "data": {
      "text/plain": [
       "{'AGGBZ': \"Mi ha fatto piacere partecipare. \\nSpero di esservi stata d'aiuto nel vostro progetto universitario. \\n\",\n",
       " 'ZLAXX': 'Il test è strutturato molto bene, non modificherei nulla',\n",
       " 'EVDDT': 'Alla grandine, bel lavoro',\n",
       " 'RYYES': \"sono contento di essere stato utile per un'attività che servirà per la formazione di giovani studenti  \",\n",
       " 'CFRLM': 'Grazie',\n",
       " 'SARZI': 'Devo ancora capire il senso di qst test... ',\n",
       " 'THRZI': 'Tutto perfetto! Davvero complimenti ',\n",
       " 'EOTDA': 'Spero di essere stato utile',\n",
       " 'IMHHT': 'Organizzazione ottima anche nella versione per telefono',\n",
       " 'ITCXH': 'Ciao!! ',\n",
       " 'HBIRW': 'Va bene così',\n",
       " 'ACHTQ': 'La parte della giustificazione è troppo lunga. Obbligare ad inserire minimo 10 parole mi ha quasi fatto passar la voglia di fare questo questionario. ',\n",
       " 'KAHOD': 'Grazie.',\n",
       " 'HDLGN': 'Dal telefono quando passo da un libro all’altro preferirei ricaricasse la pagina dall’inizio senza costringermi a scorrere in alto.'}"
      ]
     },
     "metadata": {},
     "execution_count": 55
    }
   ],
   "source": [
    "commentDict = {}\n",
    "for workerDir in os.scandir('../Data/'):\n",
    "    if os.path.isfile(f'{workerDir.path}/comment_try_1.json'):\n",
    "        comment = read_json(f'{workerDir.path}/comment_try_1.json')\n",
    "        if comment['comment'] != '':\n",
    "            commentDict[workerDir.name] = comment['comment']\n",
    "serialize_json('comment_summary.json', commentDict)\n",
    "commentDict\n"
   ]
  }
 ],
 "metadata": {
  "kernelspec": {
   "display_name": "Python 3",
   "language": "python",
   "name": "python3"
  },
  "language_info": {
   "codemirror_mode": {
    "name": "ipython",
    "version": 3
   },
   "file_extension": ".py",
   "mimetype": "text/x-python",
   "name": "python",
   "nbconvert_exporter": "python",
   "pygments_lexer": "ipython3",
   "version": "3.9.1-final"
  }
 },
 "nbformat": 4,
 "nbformat_minor": 4
}